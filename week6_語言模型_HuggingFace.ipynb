{
  "cells": [
    {
      "cell_type": "markdown",
      "metadata": {
        "id": "view-in-github",
        "colab_type": "text"
      },
      "source": [
        "<a href=\"https://colab.research.google.com/github/B10956048/113_Finance/blob/main/week6_%E8%AA%9E%E8%A8%80%E6%A8%A1%E5%9E%8B_HuggingFace.ipynb\" target=\"_parent\"><img src=\"https://colab.research.google.com/assets/colab-badge.svg\" alt=\"Open In Colab\"/></a>"
      ]
    },
    {
      "cell_type": "markdown",
      "metadata": {
        "id": "UwcN41PQf73W"
      },
      "source": [
        "# <b>Hugging Face</b>\n",
        "Hugging Face 網址：https://huggingface.co/\n",
        "\n",
        "Hugging Face 是 AI 領域的開放平台，像 GitHub 一樣託管並分享 AI 模型與資料集。也收錄了很多來自頂尖研究的模型，涵蓋 NLP、計算機視覺、語音處理等領域。使用者可以在 Hub 上存取、分享、微調模型，加速 AI 的合作與創新。"
      ]
    },
    {
      "cell_type": "code",
      "execution_count": null,
      "metadata": {
        "colab": {
          "base_uri": "https://localhost:8080/"
        },
        "id": "Pfwn6jilq0ro",
        "outputId": "9128ea78-bfc5-4e8f-c9ce-e16ae4289b2a"
      },
      "outputs": [
        {
          "output_type": "stream",
          "name": "stdout",
          "text": [
            "Requirement already satisfied: datasets in /usr/local/lib/python3.12/dist-packages (4.0.0)\n",
            "Requirement already satisfied: filelock in /usr/local/lib/python3.12/dist-packages (from datasets) (3.20.0)\n",
            "Requirement already satisfied: numpy>=1.17 in /usr/local/lib/python3.12/dist-packages (from datasets) (2.0.2)\n",
            "Requirement already satisfied: pyarrow>=15.0.0 in /usr/local/lib/python3.12/dist-packages (from datasets) (18.1.0)\n",
            "Requirement already satisfied: dill<0.3.9,>=0.3.0 in /usr/local/lib/python3.12/dist-packages (from datasets) (0.3.8)\n",
            "Requirement already satisfied: pandas in /usr/local/lib/python3.12/dist-packages (from datasets) (2.2.2)\n",
            "Requirement already satisfied: requests>=2.32.2 in /usr/local/lib/python3.12/dist-packages (from datasets) (2.32.4)\n",
            "Requirement already satisfied: tqdm>=4.66.3 in /usr/local/lib/python3.12/dist-packages (from datasets) (4.67.1)\n",
            "Requirement already satisfied: xxhash in /usr/local/lib/python3.12/dist-packages (from datasets) (3.6.0)\n",
            "Requirement already satisfied: multiprocess<0.70.17 in /usr/local/lib/python3.12/dist-packages (from datasets) (0.70.16)\n",
            "Requirement already satisfied: fsspec<=2025.3.0,>=2023.1.0 in /usr/local/lib/python3.12/dist-packages (from fsspec[http]<=2025.3.0,>=2023.1.0->datasets) (2025.3.0)\n",
            "Requirement already satisfied: huggingface-hub>=0.24.0 in /usr/local/lib/python3.12/dist-packages (from datasets) (0.36.0)\n",
            "Requirement already satisfied: packaging in /usr/local/lib/python3.12/dist-packages (from datasets) (25.0)\n",
            "Requirement already satisfied: pyyaml>=5.1 in /usr/local/lib/python3.12/dist-packages (from datasets) (6.0.3)\n",
            "Requirement already satisfied: aiohttp!=4.0.0a0,!=4.0.0a1 in /usr/local/lib/python3.12/dist-packages (from fsspec[http]<=2025.3.0,>=2023.1.0->datasets) (3.13.1)\n",
            "Requirement already satisfied: typing-extensions>=3.7.4.3 in /usr/local/lib/python3.12/dist-packages (from huggingface-hub>=0.24.0->datasets) (4.15.0)\n",
            "Requirement already satisfied: hf-xet<2.0.0,>=1.1.3 in /usr/local/lib/python3.12/dist-packages (from huggingface-hub>=0.24.0->datasets) (1.2.0)\n",
            "Requirement already satisfied: charset_normalizer<4,>=2 in /usr/local/lib/python3.12/dist-packages (from requests>=2.32.2->datasets) (3.4.4)\n",
            "Requirement already satisfied: idna<4,>=2.5 in /usr/local/lib/python3.12/dist-packages (from requests>=2.32.2->datasets) (3.11)\n",
            "Requirement already satisfied: urllib3<3,>=1.21.1 in /usr/local/lib/python3.12/dist-packages (from requests>=2.32.2->datasets) (2.5.0)\n",
            "Requirement already satisfied: certifi>=2017.4.17 in /usr/local/lib/python3.12/dist-packages (from requests>=2.32.2->datasets) (2025.10.5)\n",
            "Requirement already satisfied: python-dateutil>=2.8.2 in /usr/local/lib/python3.12/dist-packages (from pandas->datasets) (2.9.0.post0)\n",
            "Requirement already satisfied: pytz>=2020.1 in /usr/local/lib/python3.12/dist-packages (from pandas->datasets) (2025.2)\n",
            "Requirement already satisfied: tzdata>=2022.7 in /usr/local/lib/python3.12/dist-packages (from pandas->datasets) (2025.2)\n",
            "Requirement already satisfied: aiohappyeyeballs>=2.5.0 in /usr/local/lib/python3.12/dist-packages (from aiohttp!=4.0.0a0,!=4.0.0a1->fsspec[http]<=2025.3.0,>=2023.1.0->datasets) (2.6.1)\n",
            "Requirement already satisfied: aiosignal>=1.4.0 in /usr/local/lib/python3.12/dist-packages (from aiohttp!=4.0.0a0,!=4.0.0a1->fsspec[http]<=2025.3.0,>=2023.1.0->datasets) (1.4.0)\n",
            "Requirement already satisfied: attrs>=17.3.0 in /usr/local/lib/python3.12/dist-packages (from aiohttp!=4.0.0a0,!=4.0.0a1->fsspec[http]<=2025.3.0,>=2023.1.0->datasets) (25.4.0)\n",
            "Requirement already satisfied: frozenlist>=1.1.1 in /usr/local/lib/python3.12/dist-packages (from aiohttp!=4.0.0a0,!=4.0.0a1->fsspec[http]<=2025.3.0,>=2023.1.0->datasets) (1.8.0)\n",
            "Requirement already satisfied: multidict<7.0,>=4.5 in /usr/local/lib/python3.12/dist-packages (from aiohttp!=4.0.0a0,!=4.0.0a1->fsspec[http]<=2025.3.0,>=2023.1.0->datasets) (6.7.0)\n",
            "Requirement already satisfied: propcache>=0.2.0 in /usr/local/lib/python3.12/dist-packages (from aiohttp!=4.0.0a0,!=4.0.0a1->fsspec[http]<=2025.3.0,>=2023.1.0->datasets) (0.4.1)\n",
            "Requirement already satisfied: yarl<2.0,>=1.17.0 in /usr/local/lib/python3.12/dist-packages (from aiohttp!=4.0.0a0,!=4.0.0a1->fsspec[http]<=2025.3.0,>=2023.1.0->datasets) (1.22.0)\n",
            "Requirement already satisfied: six>=1.5 in /usr/local/lib/python3.12/dist-packages (from python-dateutil>=2.8.2->pandas->datasets) (1.17.0)\n"
          ]
        }
      ],
      "source": [
        "\"\"\"\n",
        "- datasets 是 Hugging Face 提供的資料集載入工具\n",
        "- 它整合了數千個公開資料集，包含 NLP、CV、Audio 等領域\n",
        "- 提供統一的介面來下載、處理和使用資料集\n",
        "- 支援快取機制，避免重複下載\n",
        "\"\"\"\n",
        "!pip install datasets"
      ]
    },
    {
      "cell_type": "markdown",
      "metadata": {
        "id": "pbAzKp4WM4O9"
      },
      "source": [
        "### <b>資料前處理</b>\n"
      ]
    },
    {
      "cell_type": "code",
      "execution_count": null,
      "metadata": {
        "colab": {
          "base_uri": "https://localhost:8080/",
          "height": 680,
          "referenced_widgets": [
            "f982b4d68d6c425693bf8e9f980f6ce8",
            "ebd23c6fd0e244feaa31a1afd1f0c363",
            "e736cdac29bc4537a479078b5466fb3c",
            "0ae0072fd57d44acbe58e76a7e983481",
            "6f9e56ee057e407592aa697a6f318730",
            "7ef5cb2169ed4db09781848b849f47eb",
            "51b1faa40303428986f24264cf068827",
            "2363fc2cdcdd438293bda0c31da3bb7f",
            "0bacb3619d4645bdb238e8878f137e0f",
            "20799885e1b14717ac3e6ccc9b9ad0c0",
            "fdd825d91b1e41819882fa5412e260bc",
            "1e419e37cb644a5e8cfa59ab4d5a1a05",
            "c5685724791e44af9cd4e2fbb19caaaf",
            "452474f457d24b2e856c8777afc05b37",
            "f7398a04c7834807a4d0cfa1b07caf7c",
            "7eec8668606e4843a81f2a7559871627",
            "07df6c5fccfc4b3eb957e5b9c2bcc9ce",
            "f7563d1142854ddb9f868d49cbc1b125",
            "238eb18b208b4e85b6a9868e1d73e8b7",
            "65385794df324646a3830c90c3114a79",
            "6d5c4a2ae774458fbfb9698f04a42e45",
            "9166a5d361d748e3801767e7890fb38c",
            "34eead3f7e684241adb19045d14ca21c",
            "5ca16f0996024a4f99180f032bd1945e",
            "237069b8c9c04a67a07090997b2726c2",
            "1369e7e7d0eb46f4b219904db49e76ef",
            "c4a3be6ddfc5449fa658b0f5f4d3df25",
            "1cab3d96addb49a78232257557152183",
            "3d2b33f2845b4d42a200bee5fb064d82",
            "1430d243a9a54d619322692d8bc01148",
            "720e696f6da44a57a1b7fc9431e3fdcb",
            "4835871507f04791852b170c507e0375",
            "87d0a6e82a134871af5077b0fdeec07d",
            "c3918095d30c475e960bcb57bce00fff",
            "90e662c0e93e4fd08c032df06ffa7f53",
            "f3784731c1fb41ebbb6358ccf5032e6d",
            "512cacb573194cdca4c1b1d734f34847",
            "a3d1b8791a2c4cc4907322e944e9ccb6",
            "71f9c660fd1b4379b17369f3c8bed0e4",
            "3484f45339b54dd797ca3221feac470b",
            "3cb38efec75343f387dfb7fc031b3349",
            "8691a430489a44c6bfabe5ff101f8cc0",
            "0ace7d3cb2be4fc1bc397bce7a7f6124",
            "fa9c63fb7eda45909b985cae0cb019ec",
            "0cdb46b5d415433bb4ecd2c8b8a42d5e",
            "436142833be044f7a29d070d4749b71d",
            "d4c58d40e548411dbdf8ed647febc20b",
            "32b60115b61c48e1bca0e84a4b22d732",
            "8ae340cd93c34343960552259bd1bb83",
            "752cb91fb3c74a0bbd674e25444775ed",
            "6da5640302854b84b57d05df6efa48f8",
            "42a47bae4e624c5598a1684da7f769e8",
            "5180c726df6345fa92299be970be0dbf",
            "b1bf105833a34c5fb03c738c0885aed9",
            "b744f45cc2c64af2a4860b83883999ac",
            "79e3156123e8409ebcbe55a6558ca035",
            "79cb359c650d433a9c41195cb1cf4978",
            "b8e35a5085564c5da34b86b742021eb0",
            "93da4b71634d433ba8fbcfef9710b21b",
            "04c1eb1f03f442b2ba7b3af0c392ba4f",
            "8a8e6b5c77584876a435fcba7482b1b4",
            "f2482004dd214507922d373b8fe77a3e",
            "c7b30f0064864feca541c338e465d7e2",
            "bb6ac8d4dcb54093a0e5ab5a1a9fe92f",
            "8660b0af203c4d16877c544f18d234cf",
            "3ad761daccc849438d11102a37df7d76"
          ]
        },
        "id": "KpamGxqud9SG",
        "outputId": "5b1a5abc-83bd-43c4-d40e-c130cf419ef7"
      },
      "outputs": [
        {
          "output_type": "stream",
          "name": "stderr",
          "text": [
            "/usr/local/lib/python3.12/dist-packages/huggingface_hub/utils/_auth.py:94: UserWarning: \n",
            "The secret `HF_TOKEN` does not exist in your Colab secrets.\n",
            "To authenticate with the Hugging Face Hub, create a token in your settings tab (https://huggingface.co/settings/tokens), set it as secret in your Google Colab and restart your session.\n",
            "You will be able to reuse this secret in all of your notebooks.\n",
            "Please note that authentication is recommended but still optional to access public models or datasets.\n",
            "  warnings.warn(\n"
          ]
        },
        {
          "output_type": "display_data",
          "data": {
            "text/plain": [
              "README.md: 0.00B [00:00, ?B/s]"
            ]
          },
          "metadata": {}
        },
        {
          "output_type": "display_data",
          "data": {
            "text/plain": [
              "dataset_infos.json:   0%|          | 0.00/800 [00:00<?, ?B/s]"
            ]
          },
          "metadata": {}
        },
        {
          "output_type": "display_data",
          "data": {
            "text/plain": [
              "data/train-00000-of-00001.parquet:   0%|          | 0.00/327k [00:00<?, ?B/s]"
            ]
          },
          "metadata": {}
        },
        {
          "output_type": "display_data",
          "data": {
            "text/plain": [
              "data/test-00000-of-00001.parquet:   0%|          | 0.00/80.9k [00:00<?, ?B/s]"
            ]
          },
          "metadata": {}
        },
        {
          "output_type": "display_data",
          "data": {
            "text/plain": [
              "Generating train split:   0%|          | 0/3877 [00:00<?, ? examples/s]"
            ]
          },
          "metadata": {}
        },
        {
          "output_type": "display_data",
          "data": {
            "text/plain": [
              "Generating test split:   0%|          | 0/969 [00:00<?, ? examples/s]"
            ]
          },
          "metadata": {}
        },
        {
          "output_type": "stream",
          "name": "stdout",
          "text": [
            "DatasetDict({\n",
            "    train: Dataset({\n",
            "        features: ['sentence', 'label'],\n",
            "        num_rows: 3877\n",
            "    })\n",
            "    test: Dataset({\n",
            "        features: ['sentence', 'label'],\n",
            "        num_rows: 969\n",
            "    })\n",
            "})\n",
            "訓練集： Dataset({\n",
            "    features: ['sentence', 'label'],\n",
            "    num_rows: 3877\n",
            "})\n",
            "測試集： Dataset({\n",
            "    features: ['sentence', 'label'],\n",
            "    num_rows: 969\n",
            "})\n",
            "訓練集欄位： ['sentence', 'label']\n",
            "測試集欄位： ['sentence', 'label']\n"
          ]
        }
      ],
      "source": [
        "from datasets import load_dataset\n",
        "\n",
        "\"\"\"\n",
        "為什麼選擇 auditor_sentiment 資料集？\n",
        "1. 金融領域專業性：專門針對財務報告和審計意見設計\n",
        "2. 標籤品質：由金融專家標註，確保情緒分類的準確性\n",
        "3. 真實場景：模擬實際金融分析師的工作情境\n",
        "4. 三分類問題：Negative(負面)、Neutral(中性)、Positive(正面)\n",
        "\n",
        "這個資料集適合用來訓練金融新聞情緒分析模型，\n",
        "\"\"\"\n",
        "\n",
        "# 使用已轉換好的版本\n",
        "dataset = load_dataset(\n",
        "    \"FinanceInc/auditor_sentiment\",  # 這是轉換後的版本\n",
        "    #split=\"train\"\n",
        ")\n",
        "\n",
        "print(dataset)\n",
        "\n",
        "print(\"訓練集：\", dataset['train'])\n",
        "print(\"測試集：\", dataset['test'])\n",
        "\n",
        "# 查看資料集的欄位名稱與類型\n",
        "print(\"訓練集欄位：\", dataset[\"train\"].column_names)\n",
        "print(\"測試集欄位：\", dataset[\"test\"].column_names)"
      ]
    },
    {
      "cell_type": "code",
      "execution_count": null,
      "metadata": {
        "colab": {
          "base_uri": "https://localhost:8080/"
        },
        "id": "Ld1BVr6Vrwc9",
        "outputId": "d1c92f4f-11ef-4138-cd30-8eb8f360dc5e"
      },
      "outputs": [
        {
          "output_type": "stream",
          "name": "stdout",
          "text": [
            "\n",
            "訓練集前5筆：\n",
            "{'sentence': [\"Altia 's operating profit jumped to EUR 47 million from EUR 6.6 million .\", 'The agreement was signed with Biohit Healthcare Ltd , the UK-based subsidiary of Biohit Oyj , a Finnish public company which develops , manufactures and markets liquid handling products and diagnostic test systems .', 'Kesko pursues a strategy of healthy , focused growth concentrating on sales and services to consumer-customers .', 'Vaisala , headquartered in Helsinki in Finland , develops and manufactures electronic measurement systems for meteorology , environmental sciences , traffic and industry .', 'Also , a six-year historic analysis is provided for these markets .'], 'label': [2, 2, 2, 1, 1]}\n",
            "\n",
            "測試集前5筆：\n",
            "{'sentence': [\"TeliaSonera TLSN said the offer is in line with its strategy to increase its ownership in core business holdings and would strengthen Eesti Telekom 's offering to its customers .\", 'STORA ENSO , NORSKE SKOG , M-REAL , UPM-KYMMENE Credit Suisse First Boston ( CFSB ) raised the fair value for shares in four of the largest Nordic forestry groups .', \"Clothing retail chain Sepp+ñl+ñ 's sales increased by 8 % to EUR 155.2 mn , and operating profit rose to EUR 31.1 mn from EUR 17.1 mn in 2004 .\", 'Lifetree was founded in 2000 , and its revenues have risen on an average by 40 % with margins in late 30s .', \"Nordea Group 's operating profit increased in 2010 by 18 percent year-on-year to 3.64 billion euros and total revenue by 3 percent to 9.33 billion euros .\"], 'label': [2, 2, 2, 2, 2]}\n",
            "\n",
            "資料集的 keys： dict_keys(['train', 'test'])\n"
          ]
        }
      ],
      "source": [
        "# 查看訓練集中前幾筆數據\n",
        "print(\"\\n訓練集前5筆：\")\n",
        "print(dataset[\"train\"][:5])\n",
        "\n",
        "# 查看測試集中前幾筆數據\n",
        "print(\"\\n測試集前5筆：\")\n",
        "print(dataset[\"test\"][:5])\n",
        "\n",
        "# 查看資料集中有哪些 Keys\n",
        "print(\"\\n資料集的 keys：\", dataset.keys())"
      ]
    },
    {
      "cell_type": "code",
      "execution_count": null,
      "metadata": {
        "colab": {
          "base_uri": "https://localhost:8080/"
        },
        "id": "6Zor1u19sN7H",
        "outputId": "638ff19c-a444-42a5-eda2-cb76a089d5f5"
      },
      "outputs": [
        {
          "output_type": "stream",
          "name": "stdout",
          "text": [
            "\n",
            "訓練集標籤分佈： Counter({1: 2320, 2: 1077, 0: 480})\n",
            "測試集標籤分佈： Counter({1: 559, 2: 286, 0: 124})\n"
          ]
        }
      ],
      "source": [
        "from collections import Counter # 計算列表中每個元素的出現次數\n",
        "\n",
        "\"\"\"\n",
        "為什麼要分析標籤分佈？\n",
        "1. 檢查類別不平衡(Class Imbalance)問題\n",
        "   - 如果某類別樣本過少，模型可能學不好該類別\n",
        "   - 可能需要使用過採樣(oversampling)或欠採樣(undersampling)\n",
        "\n",
        "2. 了解資料特性\n",
        "   - 金融文本中，中性(Neutral)通常佔多數\n",
        "   - 正面和負面情緒相對較少\n",
        "\n",
        "3. 決定評估指標\n",
        "   - 如果類別不平衡嚴重，準確率(Accuracy)可能不適合\n",
        "   - 應該使用 F1-score、Precision、Recall 等指標\n",
        "\"\"\"\n",
        "# label_map = {0: \"Negative\", 1: \"Neutral\", 2: \"Positive\"}\n",
        "# 計算訓練集標籤出現次數\n",
        "label_counts_train = Counter(dataset[\"train\"][\"label\"])\n",
        "print(\"\\n訓練集標籤分佈：\", label_counts_train)\n",
        "\n",
        "# 計算測試集標籤出現次數\n",
        "label_counts_test = Counter(dataset[\"test\"][\"label\"])\n",
        "print(\"測試集標籤分佈：\", label_counts_test)"
      ]
    },
    {
      "cell_type": "code",
      "execution_count": null,
      "metadata": {
        "colab": {
          "base_uri": "https://localhost:8080/"
        },
        "id": "1JdIzMmysUOf",
        "outputId": "413b040a-5aba-4393-a70c-6c5f5e0528a8"
      },
      "outputs": [
        {
          "output_type": "stream",
          "name": "stdout",
          "text": [
            "\n",
            "訓練集前5筆：\n",
            "                                            sentence  label\n",
            "0  Altia 's operating profit jumped to EUR 47 mil...      2\n",
            "1  The agreement was signed with Biohit Healthcar...      2\n",
            "2  Kesko pursues a strategy of healthy , focused ...      2\n",
            "3  Vaisala , headquartered in Helsinki in Finland...      1\n",
            "4  Also , a six-year historic analysis is provide...      1\n",
            "\n",
            "測試集前5筆：\n",
            "                                            sentence  label\n",
            "0  TeliaSonera TLSN said the offer is in line wit...      2\n",
            "1  STORA ENSO , NORSKE SKOG , M-REAL , UPM-KYMMEN...      2\n",
            "2  Clothing retail chain Sepp+ñl+ñ 's sales incre...      2\n",
            "3  Lifetree was founded in 2000 , and its revenue...      2\n",
            "4  Nordea Group 's operating profit increased in ...      2\n"
          ]
        }
      ],
      "source": [
        "import pandas as pd  # 結構化資料處理套件\n",
        "\n",
        "\"\"\"\n",
        "為什麼要轉換成 DataFrame？\n",
        "1. 更直觀的資料檢視：表格形式更容易閱讀和理解\n",
        "2. 豐富的資料處理功能：pandas 提供大量資料清洗工具\n",
        "3. 方便進行統計分析：可以快速計算統計量\n",
        "4. 易於視覺化：可以搭配 matplotlib、seaborn 繪圖\n",
        "\"\"\"\n",
        "\n",
        "# 轉換為 DataFrame\n",
        "df_train = pd.DataFrame(dataset[\"train\"])\n",
        "df_test = pd.DataFrame(dataset[\"test\"])\n",
        "\n",
        "print(\"\\n訓練集前5筆：\")\n",
        "print(df_train.head())\n",
        "\n",
        "print(\"\\n測試集前5筆：\")\n",
        "print(df_test.head())"
      ]
    },
    {
      "cell_type": "code",
      "execution_count": null,
      "metadata": {
        "colab": {
          "base_uri": "https://localhost:8080/"
        },
        "id": "JuqLq2Kqs1Dk",
        "outputId": "4e28a239-d41f-4d33-eb87-73ab42b27963"
      },
      "outputs": [
        {
          "output_type": "stream",
          "name": "stdout",
          "text": [
            "\n",
            "訓練集空值： sentence    0\n",
            "label       0\n",
            "dtype: int64\n",
            "測試集空值： sentence    0\n",
            "label       0\n",
            "dtype: int64\n",
            "\n",
            "訓練集大小： (3872, 2)\n",
            "測試集大小： (969, 2)\n"
          ]
        }
      ],
      "source": [
        "\"\"\"\n",
        "為什麼要檢查空值和重複值？\n",
        "1. 空值(Null values)問題\n",
        "   - 空值會導致模型訓練失敗或產生錯誤\n",
        "   - 需要決定是刪除還是填補(imputation)\n",
        "\n",
        "2. 重複值(Duplicates)問題\n",
        "   - 重複的句子會讓模型過度擬合該樣本\n",
        "   - 影響模型的泛化能力\n",
        "   - 可能導致評估指標不準確\n",
        "\"\"\"\n",
        "# 檢查空值\n",
        "print(\"\\n訓練集空值：\", df_train.isnull().sum())\n",
        "print(\"測試集空值：\", df_test.isnull().sum())\n",
        "\n",
        "# 刪除重複值（如果有的話）\n",
        "df_train.drop_duplicates(subset=[\"sentence\"], inplace=True)\n",
        "df_test.drop_duplicates(subset=[\"sentence\"], inplace=True)\n",
        "\n",
        "print(\"\\n訓練集大小：\", df_train.shape)\n",
        "print(\"測試集大小：\", df_test.shape)"
      ]
    },
    {
      "cell_type": "code",
      "execution_count": null,
      "metadata": {
        "colab": {
          "base_uri": "https://localhost:8080/"
        },
        "id": "m2WaN3BrsYOF",
        "outputId": "f7cb896b-b1bb-454c-beb8-75048e0ea409"
      },
      "outputs": [
        {
          "output_type": "stream",
          "name": "stdout",
          "text": [
            "\n",
            "資料集劃分：\n",
            "訓練集大小：3101\n",
            "驗證集大小：776 （從訓練集切出，用於訓練過程中的評估）\n",
            "測試集大小：969 （保留到最後才使用，避免資訊洩漏）\n"
          ]
        }
      ],
      "source": [
        "train_val_split = dataset[\"train\"].train_test_split(test_size=0.2, seed=42)\n",
        "train_dataset = train_val_split[\"train\"]\n",
        "val_dataset = train_val_split[\"test\"]\n",
        "test_dataset = dataset[\"test\"]\n",
        "print(\"\\n資料集劃分：\")\n",
        "print(f\"訓練集大小：{len(train_dataset)}\")\n",
        "print(f\"驗證集大小：{len(val_dataset)} （從訓練集切出，用於訓練過程中的評估）\")\n",
        "print(f\"測試集大小：{len(test_dataset)} （保留到最後才使用，避免資訊洩漏）\")"
      ]
    },
    {
      "cell_type": "code",
      "execution_count": null,
      "metadata": {
        "colab": {
          "base_uri": "https://localhost:8080/",
          "height": 276,
          "referenced_widgets": [
            "4a03e941fe9743c49e32ad72acece309",
            "975eb81fed92433693a72df544d3af0a",
            "c17586924d8f46bcbc14ac3b44ebf866",
            "6e9a033e53f846f1aad300024b8e874b",
            "23682b10f9f2422d80decb0b52c75e6e",
            "707f64e2f5ff401083e773a36df51e71",
            "4561b6c5469c449a80b972d828c736a9",
            "3e9beff69f654986a795660412af956d",
            "ae6a0c63af9e4f23b4fc0ea64d1aad67",
            "13b3615ba3654bf1b1dc59ed87548f4c",
            "389ce13b20e64f47980c16181d56a99f",
            "a937711e59b9420a95efaf2cfebc9263",
            "909bc67cf6a44dba8acbc653535a8d46",
            "514c3f9432f44f7d9bec346455a20511",
            "8c1e0a1a7deb40fea7bdcbbb558fe4f5",
            "46e6a59ce1a246a1823fd531efc5860c",
            "498fa534db234c53b1355a8289bbd699",
            "a987b8cad13b4bfb98b92fa1a24f7f11",
            "9a4ba6c3b9704930991c99c5d96b94b0",
            "38688de450a54ac8a45cee8bd1b62790",
            "cf16315add514de79fd3c7d8072bcb8e",
            "c1c57a67dd064c709ea3e704a0ec2ab7",
            "136ce811418a4ddd97d69f312a53877d",
            "a54ebe0cb5874680bda2a8b6cc945f86",
            "f7d1a1af702c4e6bbdee9187ccddc735",
            "aa3c4c15ad1348b780c0adb228cbc33b",
            "8b1443be2dd3451abcdd5f694ee6a8b3",
            "f361898e10124549a350e1974b4f2789",
            "0557a9324ff34e26886cca1cd34a00cc",
            "9902b80dc2fe40ad99d6471e1b700156",
            "31a5370bef3d41cc90edd445a1bf07c2",
            "4220e892bb1147338ac3d868319e747e",
            "30e5e60bc8134bbc8035fce6efe5af04",
            "e137add5af8b4415a86977e5387d6753",
            "88d47fa2f0ff4208a5ff4b825893d598",
            "1ab0dbe7d7e04dc78c633d4b53791083",
            "43905821e8424a359e7abf7f81b160c1",
            "68fc5a23cb0c48fa8b5f1c8ae23f3398",
            "148c4902cf144f13ad33167c7fec7fc2",
            "e89dc51cfb6b424fa2976005b6506d70",
            "7c93b99dec534ba6b2cf11920cfc0c41",
            "51920697cbe040b0b5d590828f884f37",
            "caf0f6d48e42461198af615914b9adca",
            "31109bbbfb2e4b2f823f4dc13c32c6a7",
            "a35c0a37b11446898d3684f563089161",
            "1ee92b0231be45f68f2c3aed11d23cef",
            "a3299b03ad584363aaf77bfbc4afd836",
            "2790ab1be36b4a468ca90ac343f8a2b6",
            "0db3773f29f74265b7e79294f9b6243c",
            "81f32bafa30a4f8eae03eb40d70bc420",
            "05e6479da1054ca2b7f409b2efc81c9d",
            "c8bbee6c83ae434dacfff2b56a9f592f",
            "e10d68181a7744a1934f6dca602858ab",
            "42517bc6510b42aa8b9ed55a30af24f0",
            "847edc792a354efb9f647e5c388d76bd",
            "7de8e75908a54bed99173a9037e2aeca",
            "c1c000361c144220b32a0b47f640759d",
            "bc08e97a6996488589748dd7d9b5dbb7",
            "57d6becd972e46d2ae63ae96aca3e8af",
            "a5d8cac6a27b44819b5f4b0e2077dae2",
            "4f4caaf46ab64a5595d1c2ce75d61dbd",
            "3f38943485c64850a31bd9d4725298e3",
            "b42567bb3ca0486dbbf028fc6ff9b651",
            "42d5edae57af416091e4f96789491cdc",
            "461ea9246664495d84090f6a2cf975ea",
            "45bdb57598e3430996a883e1f217806e",
            "df46075996994b44aad3e8d9d1965da9",
            "0dccdcc38c074ecc8fc1a2a88becc027",
            "e71f318715254d1cb89156a377694b9d",
            "f60653c98a684110bca0070156808b71",
            "f2cb804177c2429799c2210258a5333d",
            "502c47c2c98e49008cfcf6553c5c336b",
            "7c9352c69d5144c28d515117a6722eeb",
            "1aba4c504bff49b3b9ff2d595ca6ec82",
            "b3c9fd10db4a4435b9e7f351a585be4e",
            "e215c66c5c134b9abedc1c8cbbb4515d",
            "f0d5c824f57f44c2990be198a30f8f70"
          ]
        },
        "id": "yt-UA3uXsrD4",
        "outputId": "ddc9c096-f5e6-40e0-842f-d018330c19a6"
      },
      "outputs": [
        {
          "output_type": "stream",
          "name": "stdout",
          "text": [
            "\n",
            "使用的模型：bert-base-uncased\n"
          ]
        },
        {
          "output_type": "display_data",
          "data": {
            "text/plain": [
              "tokenizer_config.json:   0%|          | 0.00/48.0 [00:00<?, ?B/s]"
            ]
          },
          "metadata": {}
        },
        {
          "output_type": "display_data",
          "data": {
            "text/plain": [
              "config.json:   0%|          | 0.00/570 [00:00<?, ?B/s]"
            ]
          },
          "metadata": {}
        },
        {
          "output_type": "display_data",
          "data": {
            "text/plain": [
              "vocab.txt:   0%|          | 0.00/232k [00:00<?, ?B/s]"
            ]
          },
          "metadata": {}
        },
        {
          "output_type": "display_data",
          "data": {
            "text/plain": [
              "tokenizer.json:   0%|          | 0.00/466k [00:00<?, ?B/s]"
            ]
          },
          "metadata": {}
        },
        {
          "output_type": "display_data",
          "data": {
            "text/plain": [
              "Map:   0%|          | 0/3101 [00:00<?, ? examples/s]"
            ]
          },
          "metadata": {}
        },
        {
          "output_type": "display_data",
          "data": {
            "text/plain": [
              "Map:   0%|          | 0/776 [00:00<?, ? examples/s]"
            ]
          },
          "metadata": {}
        },
        {
          "output_type": "display_data",
          "data": {
            "text/plain": [
              "Map:   0%|          | 0/969 [00:00<?, ? examples/s]"
            ]
          },
          "metadata": {}
        }
      ],
      "source": [
        "from transformers import AutoTokenizer  # AutoTokenizer 可以根據指定的模型名稱，自動選擇和載入與該模型相匹配的分詞器\n",
        "\n",
        "\n",
        "\"\"\"\n",
        "=============================================================================\n",
        "【作業 1：模型選擇】\n",
        "=============================================================================\n",
        "\n",
        "什麼是 Tokenizer？\n",
        "- 將文本轉換成模型可以理解的數字序列\n",
        "- 不同模型有不同的 tokenization 策略\n",
        "- BERT 使用 WordPiece，將詞切成子詞單元\n",
        "\n",
        "可選模型比較：\n",
        "\n",
        "1. bert-base-uncased (預設)\n",
        "   優點：經典模型，效果穩定，社群資源豐富\n",
        "   缺點：模型較大(110M參數)，訓練速度較慢\n",
        "   適用：標準 NLP 任務，對效果要求高\n",
        "\n",
        "2. distilbert-base-uncased\n",
        "   優點：BERT 的蒸餾版本，速度快 60%，模型小 40%\n",
        "   缺點：準確率略低於 BERT (約 2-3%)\n",
        "   適用：計算資源有限，需要快速迭代\n",
        "\n",
        "3. roberta-base\n",
        "   優點：改進的 BERT，通常效果更好\n",
        "   缺點：訓練時間稍長\n",
        "   適用：追求更高準確率\n",
        "\n",
        "4. albert-base-v2\n",
        "   優點：參數共享技術，模型很小但效果不錯\n",
        "   缺點：推理速度較慢\n",
        "   適用：記憶體受限的場景\n",
        "\n",
        "5. ProsusAI/finbert\n",
        "   優點：專門在金融文本上預訓練，理解金融術語\n",
        "   缺點：資料集較小，可能過擬合\n",
        "   適用：金融領域專業任務（最推薦！）\n",
        "\n",
        "6. bert-base-chinese\n",
        "   優點：支援中文\n",
        "   缺點：英文效果不佳\n",
        "   適用：中文金融文本分析\n",
        "\n",
        "評估面向：\n",
        "✓ 訓練時間\n",
        "✓ 驗證集 F1-score\n",
        "✓ 測試集 F1-score\n",
        "✓ 模型大小\n",
        "✓ 推理速度\n",
        "\"\"\"\n",
        "# 使用BERT Tokenizer 進行Tokenization(分詞)\n",
        "model_name = \"bert-base-uncased\"  # 請修改這裡！\n",
        "\n",
        "print(f\"\\n使用的模型：{model_name}\")\n",
        "# ============================================================================\n",
        "\n",
        "\"\"\"\n",
        "為什麼要使用 AutoTokenizer？\n",
        "- 自動根據模型名稱載入對應的 tokenizer\n",
        "- 確保 tokenization 策略與模型匹配\n",
        "- 避免手動管理不同模型的 tokenizer\n",
        "\"\"\"\n",
        "from transformers import AutoTokenizer  # AutoTokenizer 可以根據指定的模型名稱，自動選擇和載入與該模型相匹配的分詞器\n",
        "\n",
        "# 使用指定的 Tokenizer 進行 Tokenization(分詞)\n",
        "tokenizer = AutoTokenizer.from_pretrained(model_name)\n",
        "\n",
        "\n",
        "\"\"\"\n",
        "Tokenization 的關鍵參數：\n",
        "\n",
        "1. padding=\"max_length\"\n",
        "   - 將所有句子補齊到相同長度\n",
        "   - 原因：深度學習模型要求批次(batch)內的輸入長度一致\n",
        "   - 較短的句子會用 [PAD] token 填充\n",
        "\n",
        "2. truncation=True\n",
        "   - 截斷超過最大長度的句子\n",
        "   - BERT 的最大長度通常是 512 tokens\n",
        "   - 避免超長句子導致記憶體不足\n",
        "\n",
        "3. return_tensors=\"pt\" (後面會用到)\n",
        "   - 返回 PyTorch tensor 格式\n",
        "   - 可以直接輸入模型進行運算\n",
        "\"\"\"\n",
        "\n",
        "# 定義 Tokenize 函數，用於將句子轉換為 Token\n",
        "def tokenize_function(example):\n",
        "    # 使用 tokenizer 將每個句子進行分詞\n",
        "    # 設定 padding=\"max_length\" 確保所有句子補齊至固定長度\n",
        "    # 設定 truncation=True 以截斷超過最大長度的句子\n",
        "    return tokenizer(example[\"sentence\"], padding=\"max_length\", truncation=True)\n",
        "\"\"\"\n",
        "Tokenization 結果說明：\n",
        "\n",
        "input_ids：\n",
        "- 將文字轉換成數字 ID\n",
        "- 例如：[101, 2043, 2003, 1996, ...]\n",
        "- 101 是 [CLS] token，表示句子開始\n",
        "- 102 是 [SEP] token，表示句子結束\n",
        "\n",
        "attention_mask：\n",
        "- 標記哪些位置是真實 token (1)，哪些是 padding (0)\n",
        "- 讓模型知道應該關注哪些部分\n",
        "\n",
        "token_type_ids：\n",
        "- 區分不同句子（在句子對任務中使用）\n",
        "- 在單句分類中全部為 0\n",
        "\"\"\"\n",
        "# 對訓練集、驗證集和測試集進行 Tokenize\n",
        "tokenized_train = train_dataset.map(tokenize_function, batched=True)\n",
        "tokenized_val = val_dataset.map(tokenize_function, batched=True)\n",
        "tokenized_test = test_dataset.map(tokenize_function, batched=True)"
      ]
    },
    {
      "cell_type": "code",
      "execution_count": null,
      "metadata": {
        "colab": {
          "base_uri": "https://localhost:8080/"
        },
        "id": "1UHvNcRfrrjt",
        "outputId": "fdf1cdb1-fe28-4ccc-d48a-45dec4150b95"
      },
      "outputs": [
        {
          "output_type": "stream",
          "name": "stdout",
          "text": [
            "\n",
            "Tokenized 訓練集第一筆：\n",
            "{'sentence': [\"The financial impact is estimated to be some 1.5 MEUR annual improvement in the division 's result , starting from fiscal year 2007 .\"], 'label': [2], 'input_ids': [[101, 1996, 3361, 4254, 2003, 4358, 2000, 2022, 2070, 1015, 1012, 1019, 2033, 3126, 3296, 7620, 1999, 1996, 2407, 1005, 1055, 2765, 1010, 3225, 2013, 10807, 2095, 2289, 1012, 102, 0, 0, 0, 0, 0, 0, 0, 0, 0, 0, 0, 0, 0, 0, 0, 0, 0, 0, 0, 0, 0, 0, 0, 0, 0, 0, 0, 0, 0, 0, 0, 0, 0, 0, 0, 0, 0, 0, 0, 0, 0, 0, 0, 0, 0, 0, 0, 0, 0, 0, 0, 0, 0, 0, 0, 0, 0, 0, 0, 0, 0, 0, 0, 0, 0, 0, 0, 0, 0, 0, 0, 0, 0, 0, 0, 0, 0, 0, 0, 0, 0, 0, 0, 0, 0, 0, 0, 0, 0, 0, 0, 0, 0, 0, 0, 0, 0, 0, 0, 0, 0, 0, 0, 0, 0, 0, 0, 0, 0, 0, 0, 0, 0, 0, 0, 0, 0, 0, 0, 0, 0, 0, 0, 0, 0, 0, 0, 0, 0, 0, 0, 0, 0, 0, 0, 0, 0, 0, 0, 0, 0, 0, 0, 0, 0, 0, 0, 0, 0, 0, 0, 0, 0, 0, 0, 0, 0, 0, 0, 0, 0, 0, 0, 0, 0, 0, 0, 0, 0, 0, 0, 0, 0, 0, 0, 0, 0, 0, 0, 0, 0, 0, 0, 0, 0, 0, 0, 0, 0, 0, 0, 0, 0, 0, 0, 0, 0, 0, 0, 0, 0, 0, 0, 0, 0, 0, 0, 0, 0, 0, 0, 0, 0, 0, 0, 0, 0, 0, 0, 0, 0, 0, 0, 0, 0, 0, 0, 0, 0, 0, 0, 0, 0, 0, 0, 0, 0, 0, 0, 0, 0, 0, 0, 0, 0, 0, 0, 0, 0, 0, 0, 0, 0, 0, 0, 0, 0, 0, 0, 0, 0, 0, 0, 0, 0, 0, 0, 0, 0, 0, 0, 0, 0, 0, 0, 0, 0, 0, 0, 0, 0, 0, 0, 0, 0, 0, 0, 0, 0, 0, 0, 0, 0, 0, 0, 0, 0, 0, 0, 0, 0, 0, 0, 0, 0, 0, 0, 0, 0, 0, 0, 0, 0, 0, 0, 0, 0, 0, 0, 0, 0, 0, 0, 0, 0, 0, 0, 0, 0, 0, 0, 0, 0, 0, 0, 0, 0, 0, 0, 0, 0, 0, 0, 0, 0, 0, 0, 0, 0, 0, 0, 0, 0, 0, 0, 0, 0, 0, 0, 0, 0, 0, 0, 0, 0, 0, 0, 0, 0, 0, 0, 0, 0, 0, 0, 0, 0, 0, 0, 0, 0, 0, 0, 0, 0, 0, 0, 0, 0, 0, 0, 0, 0, 0, 0, 0, 0, 0, 0, 0, 0, 0, 0, 0, 0, 0, 0, 0, 0, 0, 0, 0, 0, 0, 0, 0, 0, 0, 0, 0, 0, 0, 0, 0, 0, 0, 0, 0, 0, 0, 0, 0, 0, 0, 0, 0, 0, 0, 0, 0, 0, 0, 0, 0, 0, 0, 0, 0, 0, 0, 0, 0, 0, 0, 0, 0, 0, 0, 0, 0, 0, 0, 0, 0, 0, 0, 0, 0, 0, 0, 0, 0, 0, 0, 0, 0, 0, 0, 0, 0, 0, 0]], 'token_type_ids': [[0, 0, 0, 0, 0, 0, 0, 0, 0, 0, 0, 0, 0, 0, 0, 0, 0, 0, 0, 0, 0, 0, 0, 0, 0, 0, 0, 0, 0, 0, 0, 0, 0, 0, 0, 0, 0, 0, 0, 0, 0, 0, 0, 0, 0, 0, 0, 0, 0, 0, 0, 0, 0, 0, 0, 0, 0, 0, 0, 0, 0, 0, 0, 0, 0, 0, 0, 0, 0, 0, 0, 0, 0, 0, 0, 0, 0, 0, 0, 0, 0, 0, 0, 0, 0, 0, 0, 0, 0, 0, 0, 0, 0, 0, 0, 0, 0, 0, 0, 0, 0, 0, 0, 0, 0, 0, 0, 0, 0, 0, 0, 0, 0, 0, 0, 0, 0, 0, 0, 0, 0, 0, 0, 0, 0, 0, 0, 0, 0, 0, 0, 0, 0, 0, 0, 0, 0, 0, 0, 0, 0, 0, 0, 0, 0, 0, 0, 0, 0, 0, 0, 0, 0, 0, 0, 0, 0, 0, 0, 0, 0, 0, 0, 0, 0, 0, 0, 0, 0, 0, 0, 0, 0, 0, 0, 0, 0, 0, 0, 0, 0, 0, 0, 0, 0, 0, 0, 0, 0, 0, 0, 0, 0, 0, 0, 0, 0, 0, 0, 0, 0, 0, 0, 0, 0, 0, 0, 0, 0, 0, 0, 0, 0, 0, 0, 0, 0, 0, 0, 0, 0, 0, 0, 0, 0, 0, 0, 0, 0, 0, 0, 0, 0, 0, 0, 0, 0, 0, 0, 0, 0, 0, 0, 0, 0, 0, 0, 0, 0, 0, 0, 0, 0, 0, 0, 0, 0, 0, 0, 0, 0, 0, 0, 0, 0, 0, 0, 0, 0, 0, 0, 0, 0, 0, 0, 0, 0, 0, 0, 0, 0, 0, 0, 0, 0, 0, 0, 0, 0, 0, 0, 0, 0, 0, 0, 0, 0, 0, 0, 0, 0, 0, 0, 0, 0, 0, 0, 0, 0, 0, 0, 0, 0, 0, 0, 0, 0, 0, 0, 0, 0, 0, 0, 0, 0, 0, 0, 0, 0, 0, 0, 0, 0, 0, 0, 0, 0, 0, 0, 0, 0, 0, 0, 0, 0, 0, 0, 0, 0, 0, 0, 0, 0, 0, 0, 0, 0, 0, 0, 0, 0, 0, 0, 0, 0, 0, 0, 0, 0, 0, 0, 0, 0, 0, 0, 0, 0, 0, 0, 0, 0, 0, 0, 0, 0, 0, 0, 0, 0, 0, 0, 0, 0, 0, 0, 0, 0, 0, 0, 0, 0, 0, 0, 0, 0, 0, 0, 0, 0, 0, 0, 0, 0, 0, 0, 0, 0, 0, 0, 0, 0, 0, 0, 0, 0, 0, 0, 0, 0, 0, 0, 0, 0, 0, 0, 0, 0, 0, 0, 0, 0, 0, 0, 0, 0, 0, 0, 0, 0, 0, 0, 0, 0, 0, 0, 0, 0, 0, 0, 0, 0, 0, 0, 0, 0, 0, 0, 0, 0, 0, 0, 0, 0, 0, 0, 0, 0, 0, 0, 0, 0, 0, 0, 0, 0, 0, 0, 0, 0, 0, 0, 0, 0, 0, 0, 0, 0, 0, 0, 0, 0, 0, 0, 0, 0, 0, 0, 0, 0, 0, 0, 0]], 'attention_mask': [[1, 1, 1, 1, 1, 1, 1, 1, 1, 1, 1, 1, 1, 1, 1, 1, 1, 1, 1, 1, 1, 1, 1, 1, 1, 1, 1, 1, 1, 1, 0, 0, 0, 0, 0, 0, 0, 0, 0, 0, 0, 0, 0, 0, 0, 0, 0, 0, 0, 0, 0, 0, 0, 0, 0, 0, 0, 0, 0, 0, 0, 0, 0, 0, 0, 0, 0, 0, 0, 0, 0, 0, 0, 0, 0, 0, 0, 0, 0, 0, 0, 0, 0, 0, 0, 0, 0, 0, 0, 0, 0, 0, 0, 0, 0, 0, 0, 0, 0, 0, 0, 0, 0, 0, 0, 0, 0, 0, 0, 0, 0, 0, 0, 0, 0, 0, 0, 0, 0, 0, 0, 0, 0, 0, 0, 0, 0, 0, 0, 0, 0, 0, 0, 0, 0, 0, 0, 0, 0, 0, 0, 0, 0, 0, 0, 0, 0, 0, 0, 0, 0, 0, 0, 0, 0, 0, 0, 0, 0, 0, 0, 0, 0, 0, 0, 0, 0, 0, 0, 0, 0, 0, 0, 0, 0, 0, 0, 0, 0, 0, 0, 0, 0, 0, 0, 0, 0, 0, 0, 0, 0, 0, 0, 0, 0, 0, 0, 0, 0, 0, 0, 0, 0, 0, 0, 0, 0, 0, 0, 0, 0, 0, 0, 0, 0, 0, 0, 0, 0, 0, 0, 0, 0, 0, 0, 0, 0, 0, 0, 0, 0, 0, 0, 0, 0, 0, 0, 0, 0, 0, 0, 0, 0, 0, 0, 0, 0, 0, 0, 0, 0, 0, 0, 0, 0, 0, 0, 0, 0, 0, 0, 0, 0, 0, 0, 0, 0, 0, 0, 0, 0, 0, 0, 0, 0, 0, 0, 0, 0, 0, 0, 0, 0, 0, 0, 0, 0, 0, 0, 0, 0, 0, 0, 0, 0, 0, 0, 0, 0, 0, 0, 0, 0, 0, 0, 0, 0, 0, 0, 0, 0, 0, 0, 0, 0, 0, 0, 0, 0, 0, 0, 0, 0, 0, 0, 0, 0, 0, 0, 0, 0, 0, 0, 0, 0, 0, 0, 0, 0, 0, 0, 0, 0, 0, 0, 0, 0, 0, 0, 0, 0, 0, 0, 0, 0, 0, 0, 0, 0, 0, 0, 0, 0, 0, 0, 0, 0, 0, 0, 0, 0, 0, 0, 0, 0, 0, 0, 0, 0, 0, 0, 0, 0, 0, 0, 0, 0, 0, 0, 0, 0, 0, 0, 0, 0, 0, 0, 0, 0, 0, 0, 0, 0, 0, 0, 0, 0, 0, 0, 0, 0, 0, 0, 0, 0, 0, 0, 0, 0, 0, 0, 0, 0, 0, 0, 0, 0, 0, 0, 0, 0, 0, 0, 0, 0, 0, 0, 0, 0, 0, 0, 0, 0, 0, 0, 0, 0, 0, 0, 0, 0, 0, 0, 0, 0, 0, 0, 0, 0, 0, 0, 0, 0, 0, 0, 0, 0, 0, 0, 0, 0, 0, 0, 0, 0, 0, 0, 0, 0, 0, 0, 0, 0, 0, 0, 0, 0, 0, 0, 0, 0, 0, 0, 0, 0, 0, 0, 0, 0, 0, 0, 0, 0, 0, 0, 0, 0, 0, 0, 0, 0, 0]]}\n",
            "\n",
            "Tokenized 驗證集第一筆：\n",
            "{'sentence': [\"We have also cut our price projections for paper and packaging , '' an analyst with Goldman Sachs said on a note on Monday .\"], 'label': [0], 'input_ids': [[101, 2057, 2031, 2036, 3013, 2256, 3976, 21796, 2005, 3259, 1998, 14793, 1010, 1005, 1005, 2019, 12941, 2007, 17765, 22818, 2056, 2006, 1037, 3602, 2006, 6928, 1012, 102, 0, 0, 0, 0, 0, 0, 0, 0, 0, 0, 0, 0, 0, 0, 0, 0, 0, 0, 0, 0, 0, 0, 0, 0, 0, 0, 0, 0, 0, 0, 0, 0, 0, 0, 0, 0, 0, 0, 0, 0, 0, 0, 0, 0, 0, 0, 0, 0, 0, 0, 0, 0, 0, 0, 0, 0, 0, 0, 0, 0, 0, 0, 0, 0, 0, 0, 0, 0, 0, 0, 0, 0, 0, 0, 0, 0, 0, 0, 0, 0, 0, 0, 0, 0, 0, 0, 0, 0, 0, 0, 0, 0, 0, 0, 0, 0, 0, 0, 0, 0, 0, 0, 0, 0, 0, 0, 0, 0, 0, 0, 0, 0, 0, 0, 0, 0, 0, 0, 0, 0, 0, 0, 0, 0, 0, 0, 0, 0, 0, 0, 0, 0, 0, 0, 0, 0, 0, 0, 0, 0, 0, 0, 0, 0, 0, 0, 0, 0, 0, 0, 0, 0, 0, 0, 0, 0, 0, 0, 0, 0, 0, 0, 0, 0, 0, 0, 0, 0, 0, 0, 0, 0, 0, 0, 0, 0, 0, 0, 0, 0, 0, 0, 0, 0, 0, 0, 0, 0, 0, 0, 0, 0, 0, 0, 0, 0, 0, 0, 0, 0, 0, 0, 0, 0, 0, 0, 0, 0, 0, 0, 0, 0, 0, 0, 0, 0, 0, 0, 0, 0, 0, 0, 0, 0, 0, 0, 0, 0, 0, 0, 0, 0, 0, 0, 0, 0, 0, 0, 0, 0, 0, 0, 0, 0, 0, 0, 0, 0, 0, 0, 0, 0, 0, 0, 0, 0, 0, 0, 0, 0, 0, 0, 0, 0, 0, 0, 0, 0, 0, 0, 0, 0, 0, 0, 0, 0, 0, 0, 0, 0, 0, 0, 0, 0, 0, 0, 0, 0, 0, 0, 0, 0, 0, 0, 0, 0, 0, 0, 0, 0, 0, 0, 0, 0, 0, 0, 0, 0, 0, 0, 0, 0, 0, 0, 0, 0, 0, 0, 0, 0, 0, 0, 0, 0, 0, 0, 0, 0, 0, 0, 0, 0, 0, 0, 0, 0, 0, 0, 0, 0, 0, 0, 0, 0, 0, 0, 0, 0, 0, 0, 0, 0, 0, 0, 0, 0, 0, 0, 0, 0, 0, 0, 0, 0, 0, 0, 0, 0, 0, 0, 0, 0, 0, 0, 0, 0, 0, 0, 0, 0, 0, 0, 0, 0, 0, 0, 0, 0, 0, 0, 0, 0, 0, 0, 0, 0, 0, 0, 0, 0, 0, 0, 0, 0, 0, 0, 0, 0, 0, 0, 0, 0, 0, 0, 0, 0, 0, 0, 0, 0, 0, 0, 0, 0, 0, 0, 0, 0, 0, 0, 0, 0, 0, 0, 0, 0, 0, 0, 0, 0, 0, 0, 0, 0, 0, 0, 0, 0, 0, 0, 0, 0, 0, 0, 0, 0, 0, 0, 0, 0, 0, 0, 0, 0, 0, 0, 0, 0, 0, 0, 0, 0, 0, 0, 0, 0, 0, 0, 0, 0, 0, 0, 0, 0]], 'token_type_ids': [[0, 0, 0, 0, 0, 0, 0, 0, 0, 0, 0, 0, 0, 0, 0, 0, 0, 0, 0, 0, 0, 0, 0, 0, 0, 0, 0, 0, 0, 0, 0, 0, 0, 0, 0, 0, 0, 0, 0, 0, 0, 0, 0, 0, 0, 0, 0, 0, 0, 0, 0, 0, 0, 0, 0, 0, 0, 0, 0, 0, 0, 0, 0, 0, 0, 0, 0, 0, 0, 0, 0, 0, 0, 0, 0, 0, 0, 0, 0, 0, 0, 0, 0, 0, 0, 0, 0, 0, 0, 0, 0, 0, 0, 0, 0, 0, 0, 0, 0, 0, 0, 0, 0, 0, 0, 0, 0, 0, 0, 0, 0, 0, 0, 0, 0, 0, 0, 0, 0, 0, 0, 0, 0, 0, 0, 0, 0, 0, 0, 0, 0, 0, 0, 0, 0, 0, 0, 0, 0, 0, 0, 0, 0, 0, 0, 0, 0, 0, 0, 0, 0, 0, 0, 0, 0, 0, 0, 0, 0, 0, 0, 0, 0, 0, 0, 0, 0, 0, 0, 0, 0, 0, 0, 0, 0, 0, 0, 0, 0, 0, 0, 0, 0, 0, 0, 0, 0, 0, 0, 0, 0, 0, 0, 0, 0, 0, 0, 0, 0, 0, 0, 0, 0, 0, 0, 0, 0, 0, 0, 0, 0, 0, 0, 0, 0, 0, 0, 0, 0, 0, 0, 0, 0, 0, 0, 0, 0, 0, 0, 0, 0, 0, 0, 0, 0, 0, 0, 0, 0, 0, 0, 0, 0, 0, 0, 0, 0, 0, 0, 0, 0, 0, 0, 0, 0, 0, 0, 0, 0, 0, 0, 0, 0, 0, 0, 0, 0, 0, 0, 0, 0, 0, 0, 0, 0, 0, 0, 0, 0, 0, 0, 0, 0, 0, 0, 0, 0, 0, 0, 0, 0, 0, 0, 0, 0, 0, 0, 0, 0, 0, 0, 0, 0, 0, 0, 0, 0, 0, 0, 0, 0, 0, 0, 0, 0, 0, 0, 0, 0, 0, 0, 0, 0, 0, 0, 0, 0, 0, 0, 0, 0, 0, 0, 0, 0, 0, 0, 0, 0, 0, 0, 0, 0, 0, 0, 0, 0, 0, 0, 0, 0, 0, 0, 0, 0, 0, 0, 0, 0, 0, 0, 0, 0, 0, 0, 0, 0, 0, 0, 0, 0, 0, 0, 0, 0, 0, 0, 0, 0, 0, 0, 0, 0, 0, 0, 0, 0, 0, 0, 0, 0, 0, 0, 0, 0, 0, 0, 0, 0, 0, 0, 0, 0, 0, 0, 0, 0, 0, 0, 0, 0, 0, 0, 0, 0, 0, 0, 0, 0, 0, 0, 0, 0, 0, 0, 0, 0, 0, 0, 0, 0, 0, 0, 0, 0, 0, 0, 0, 0, 0, 0, 0, 0, 0, 0, 0, 0, 0, 0, 0, 0, 0, 0, 0, 0, 0, 0, 0, 0, 0, 0, 0, 0, 0, 0, 0, 0, 0, 0, 0, 0, 0, 0, 0, 0, 0, 0, 0, 0, 0, 0, 0, 0, 0, 0, 0, 0, 0, 0, 0, 0, 0, 0, 0, 0, 0, 0, 0, 0, 0, 0, 0, 0, 0, 0, 0, 0, 0, 0, 0, 0, 0]], 'attention_mask': [[1, 1, 1, 1, 1, 1, 1, 1, 1, 1, 1, 1, 1, 1, 1, 1, 1, 1, 1, 1, 1, 1, 1, 1, 1, 1, 1, 1, 0, 0, 0, 0, 0, 0, 0, 0, 0, 0, 0, 0, 0, 0, 0, 0, 0, 0, 0, 0, 0, 0, 0, 0, 0, 0, 0, 0, 0, 0, 0, 0, 0, 0, 0, 0, 0, 0, 0, 0, 0, 0, 0, 0, 0, 0, 0, 0, 0, 0, 0, 0, 0, 0, 0, 0, 0, 0, 0, 0, 0, 0, 0, 0, 0, 0, 0, 0, 0, 0, 0, 0, 0, 0, 0, 0, 0, 0, 0, 0, 0, 0, 0, 0, 0, 0, 0, 0, 0, 0, 0, 0, 0, 0, 0, 0, 0, 0, 0, 0, 0, 0, 0, 0, 0, 0, 0, 0, 0, 0, 0, 0, 0, 0, 0, 0, 0, 0, 0, 0, 0, 0, 0, 0, 0, 0, 0, 0, 0, 0, 0, 0, 0, 0, 0, 0, 0, 0, 0, 0, 0, 0, 0, 0, 0, 0, 0, 0, 0, 0, 0, 0, 0, 0, 0, 0, 0, 0, 0, 0, 0, 0, 0, 0, 0, 0, 0, 0, 0, 0, 0, 0, 0, 0, 0, 0, 0, 0, 0, 0, 0, 0, 0, 0, 0, 0, 0, 0, 0, 0, 0, 0, 0, 0, 0, 0, 0, 0, 0, 0, 0, 0, 0, 0, 0, 0, 0, 0, 0, 0, 0, 0, 0, 0, 0, 0, 0, 0, 0, 0, 0, 0, 0, 0, 0, 0, 0, 0, 0, 0, 0, 0, 0, 0, 0, 0, 0, 0, 0, 0, 0, 0, 0, 0, 0, 0, 0, 0, 0, 0, 0, 0, 0, 0, 0, 0, 0, 0, 0, 0, 0, 0, 0, 0, 0, 0, 0, 0, 0, 0, 0, 0, 0, 0, 0, 0, 0, 0, 0, 0, 0, 0, 0, 0, 0, 0, 0, 0, 0, 0, 0, 0, 0, 0, 0, 0, 0, 0, 0, 0, 0, 0, 0, 0, 0, 0, 0, 0, 0, 0, 0, 0, 0, 0, 0, 0, 0, 0, 0, 0, 0, 0, 0, 0, 0, 0, 0, 0, 0, 0, 0, 0, 0, 0, 0, 0, 0, 0, 0, 0, 0, 0, 0, 0, 0, 0, 0, 0, 0, 0, 0, 0, 0, 0, 0, 0, 0, 0, 0, 0, 0, 0, 0, 0, 0, 0, 0, 0, 0, 0, 0, 0, 0, 0, 0, 0, 0, 0, 0, 0, 0, 0, 0, 0, 0, 0, 0, 0, 0, 0, 0, 0, 0, 0, 0, 0, 0, 0, 0, 0, 0, 0, 0, 0, 0, 0, 0, 0, 0, 0, 0, 0, 0, 0, 0, 0, 0, 0, 0, 0, 0, 0, 0, 0, 0, 0, 0, 0, 0, 0, 0, 0, 0, 0, 0, 0, 0, 0, 0, 0, 0, 0, 0, 0, 0, 0, 0, 0, 0, 0, 0, 0, 0, 0, 0, 0, 0, 0, 0, 0, 0, 0, 0, 0, 0, 0, 0, 0, 0, 0, 0, 0, 0, 0, 0, 0, 0, 0, 0, 0, 0, 0, 0, 0]]}\n",
            "\n",
            "Tokenized 測試集第一筆：\n",
            "{'sentence': [\"TeliaSonera TLSN said the offer is in line with its strategy to increase its ownership in core business holdings and would strengthen Eesti Telekom 's offering to its customers .\"], 'label': [2], 'input_ids': [[101, 10093, 7951, 5643, 2527, 1056, 4877, 2078, 2056, 1996, 3749, 2003, 1999, 2240, 2007, 2049, 5656, 2000, 3623, 2049, 6095, 1999, 4563, 2449, 9583, 1998, 2052, 12919, 25212, 16643, 10093, 5937, 5358, 1005, 1055, 5378, 2000, 2049, 6304, 1012, 102, 0, 0, 0, 0, 0, 0, 0, 0, 0, 0, 0, 0, 0, 0, 0, 0, 0, 0, 0, 0, 0, 0, 0, 0, 0, 0, 0, 0, 0, 0, 0, 0, 0, 0, 0, 0, 0, 0, 0, 0, 0, 0, 0, 0, 0, 0, 0, 0, 0, 0, 0, 0, 0, 0, 0, 0, 0, 0, 0, 0, 0, 0, 0, 0, 0, 0, 0, 0, 0, 0, 0, 0, 0, 0, 0, 0, 0, 0, 0, 0, 0, 0, 0, 0, 0, 0, 0, 0, 0, 0, 0, 0, 0, 0, 0, 0, 0, 0, 0, 0, 0, 0, 0, 0, 0, 0, 0, 0, 0, 0, 0, 0, 0, 0, 0, 0, 0, 0, 0, 0, 0, 0, 0, 0, 0, 0, 0, 0, 0, 0, 0, 0, 0, 0, 0, 0, 0, 0, 0, 0, 0, 0, 0, 0, 0, 0, 0, 0, 0, 0, 0, 0, 0, 0, 0, 0, 0, 0, 0, 0, 0, 0, 0, 0, 0, 0, 0, 0, 0, 0, 0, 0, 0, 0, 0, 0, 0, 0, 0, 0, 0, 0, 0, 0, 0, 0, 0, 0, 0, 0, 0, 0, 0, 0, 0, 0, 0, 0, 0, 0, 0, 0, 0, 0, 0, 0, 0, 0, 0, 0, 0, 0, 0, 0, 0, 0, 0, 0, 0, 0, 0, 0, 0, 0, 0, 0, 0, 0, 0, 0, 0, 0, 0, 0, 0, 0, 0, 0, 0, 0, 0, 0, 0, 0, 0, 0, 0, 0, 0, 0, 0, 0, 0, 0, 0, 0, 0, 0, 0, 0, 0, 0, 0, 0, 0, 0, 0, 0, 0, 0, 0, 0, 0, 0, 0, 0, 0, 0, 0, 0, 0, 0, 0, 0, 0, 0, 0, 0, 0, 0, 0, 0, 0, 0, 0, 0, 0, 0, 0, 0, 0, 0, 0, 0, 0, 0, 0, 0, 0, 0, 0, 0, 0, 0, 0, 0, 0, 0, 0, 0, 0, 0, 0, 0, 0, 0, 0, 0, 0, 0, 0, 0, 0, 0, 0, 0, 0, 0, 0, 0, 0, 0, 0, 0, 0, 0, 0, 0, 0, 0, 0, 0, 0, 0, 0, 0, 0, 0, 0, 0, 0, 0, 0, 0, 0, 0, 0, 0, 0, 0, 0, 0, 0, 0, 0, 0, 0, 0, 0, 0, 0, 0, 0, 0, 0, 0, 0, 0, 0, 0, 0, 0, 0, 0, 0, 0, 0, 0, 0, 0, 0, 0, 0, 0, 0, 0, 0, 0, 0, 0, 0, 0, 0, 0, 0, 0, 0, 0, 0, 0, 0, 0, 0, 0, 0, 0, 0, 0, 0, 0, 0, 0, 0, 0, 0, 0, 0, 0, 0, 0, 0, 0, 0, 0, 0, 0, 0, 0, 0, 0, 0, 0, 0, 0, 0, 0, 0, 0, 0, 0, 0, 0, 0, 0, 0, 0, 0, 0, 0, 0, 0]], 'token_type_ids': [[0, 0, 0, 0, 0, 0, 0, 0, 0, 0, 0, 0, 0, 0, 0, 0, 0, 0, 0, 0, 0, 0, 0, 0, 0, 0, 0, 0, 0, 0, 0, 0, 0, 0, 0, 0, 0, 0, 0, 0, 0, 0, 0, 0, 0, 0, 0, 0, 0, 0, 0, 0, 0, 0, 0, 0, 0, 0, 0, 0, 0, 0, 0, 0, 0, 0, 0, 0, 0, 0, 0, 0, 0, 0, 0, 0, 0, 0, 0, 0, 0, 0, 0, 0, 0, 0, 0, 0, 0, 0, 0, 0, 0, 0, 0, 0, 0, 0, 0, 0, 0, 0, 0, 0, 0, 0, 0, 0, 0, 0, 0, 0, 0, 0, 0, 0, 0, 0, 0, 0, 0, 0, 0, 0, 0, 0, 0, 0, 0, 0, 0, 0, 0, 0, 0, 0, 0, 0, 0, 0, 0, 0, 0, 0, 0, 0, 0, 0, 0, 0, 0, 0, 0, 0, 0, 0, 0, 0, 0, 0, 0, 0, 0, 0, 0, 0, 0, 0, 0, 0, 0, 0, 0, 0, 0, 0, 0, 0, 0, 0, 0, 0, 0, 0, 0, 0, 0, 0, 0, 0, 0, 0, 0, 0, 0, 0, 0, 0, 0, 0, 0, 0, 0, 0, 0, 0, 0, 0, 0, 0, 0, 0, 0, 0, 0, 0, 0, 0, 0, 0, 0, 0, 0, 0, 0, 0, 0, 0, 0, 0, 0, 0, 0, 0, 0, 0, 0, 0, 0, 0, 0, 0, 0, 0, 0, 0, 0, 0, 0, 0, 0, 0, 0, 0, 0, 0, 0, 0, 0, 0, 0, 0, 0, 0, 0, 0, 0, 0, 0, 0, 0, 0, 0, 0, 0, 0, 0, 0, 0, 0, 0, 0, 0, 0, 0, 0, 0, 0, 0, 0, 0, 0, 0, 0, 0, 0, 0, 0, 0, 0, 0, 0, 0, 0, 0, 0, 0, 0, 0, 0, 0, 0, 0, 0, 0, 0, 0, 0, 0, 0, 0, 0, 0, 0, 0, 0, 0, 0, 0, 0, 0, 0, 0, 0, 0, 0, 0, 0, 0, 0, 0, 0, 0, 0, 0, 0, 0, 0, 0, 0, 0, 0, 0, 0, 0, 0, 0, 0, 0, 0, 0, 0, 0, 0, 0, 0, 0, 0, 0, 0, 0, 0, 0, 0, 0, 0, 0, 0, 0, 0, 0, 0, 0, 0, 0, 0, 0, 0, 0, 0, 0, 0, 0, 0, 0, 0, 0, 0, 0, 0, 0, 0, 0, 0, 0, 0, 0, 0, 0, 0, 0, 0, 0, 0, 0, 0, 0, 0, 0, 0, 0, 0, 0, 0, 0, 0, 0, 0, 0, 0, 0, 0, 0, 0, 0, 0, 0, 0, 0, 0, 0, 0, 0, 0, 0, 0, 0, 0, 0, 0, 0, 0, 0, 0, 0, 0, 0, 0, 0, 0, 0, 0, 0, 0, 0, 0, 0, 0, 0, 0, 0, 0, 0, 0, 0, 0, 0, 0, 0, 0, 0, 0, 0, 0, 0, 0, 0, 0, 0, 0, 0, 0, 0, 0, 0, 0, 0, 0, 0, 0, 0, 0, 0, 0, 0, 0, 0, 0, 0, 0, 0, 0]], 'attention_mask': [[1, 1, 1, 1, 1, 1, 1, 1, 1, 1, 1, 1, 1, 1, 1, 1, 1, 1, 1, 1, 1, 1, 1, 1, 1, 1, 1, 1, 1, 1, 1, 1, 1, 1, 1, 1, 1, 1, 1, 1, 1, 0, 0, 0, 0, 0, 0, 0, 0, 0, 0, 0, 0, 0, 0, 0, 0, 0, 0, 0, 0, 0, 0, 0, 0, 0, 0, 0, 0, 0, 0, 0, 0, 0, 0, 0, 0, 0, 0, 0, 0, 0, 0, 0, 0, 0, 0, 0, 0, 0, 0, 0, 0, 0, 0, 0, 0, 0, 0, 0, 0, 0, 0, 0, 0, 0, 0, 0, 0, 0, 0, 0, 0, 0, 0, 0, 0, 0, 0, 0, 0, 0, 0, 0, 0, 0, 0, 0, 0, 0, 0, 0, 0, 0, 0, 0, 0, 0, 0, 0, 0, 0, 0, 0, 0, 0, 0, 0, 0, 0, 0, 0, 0, 0, 0, 0, 0, 0, 0, 0, 0, 0, 0, 0, 0, 0, 0, 0, 0, 0, 0, 0, 0, 0, 0, 0, 0, 0, 0, 0, 0, 0, 0, 0, 0, 0, 0, 0, 0, 0, 0, 0, 0, 0, 0, 0, 0, 0, 0, 0, 0, 0, 0, 0, 0, 0, 0, 0, 0, 0, 0, 0, 0, 0, 0, 0, 0, 0, 0, 0, 0, 0, 0, 0, 0, 0, 0, 0, 0, 0, 0, 0, 0, 0, 0, 0, 0, 0, 0, 0, 0, 0, 0, 0, 0, 0, 0, 0, 0, 0, 0, 0, 0, 0, 0, 0, 0, 0, 0, 0, 0, 0, 0, 0, 0, 0, 0, 0, 0, 0, 0, 0, 0, 0, 0, 0, 0, 0, 0, 0, 0, 0, 0, 0, 0, 0, 0, 0, 0, 0, 0, 0, 0, 0, 0, 0, 0, 0, 0, 0, 0, 0, 0, 0, 0, 0, 0, 0, 0, 0, 0, 0, 0, 0, 0, 0, 0, 0, 0, 0, 0, 0, 0, 0, 0, 0, 0, 0, 0, 0, 0, 0, 0, 0, 0, 0, 0, 0, 0, 0, 0, 0, 0, 0, 0, 0, 0, 0, 0, 0, 0, 0, 0, 0, 0, 0, 0, 0, 0, 0, 0, 0, 0, 0, 0, 0, 0, 0, 0, 0, 0, 0, 0, 0, 0, 0, 0, 0, 0, 0, 0, 0, 0, 0, 0, 0, 0, 0, 0, 0, 0, 0, 0, 0, 0, 0, 0, 0, 0, 0, 0, 0, 0, 0, 0, 0, 0, 0, 0, 0, 0, 0, 0, 0, 0, 0, 0, 0, 0, 0, 0, 0, 0, 0, 0, 0, 0, 0, 0, 0, 0, 0, 0, 0, 0, 0, 0, 0, 0, 0, 0, 0, 0, 0, 0, 0, 0, 0, 0, 0, 0, 0, 0, 0, 0, 0, 0, 0, 0, 0, 0, 0, 0, 0, 0, 0, 0, 0, 0, 0, 0, 0, 0, 0, 0, 0, 0, 0, 0, 0, 0, 0, 0, 0, 0, 0, 0, 0, 0, 0, 0, 0, 0, 0, 0, 0, 0, 0, 0, 0, 0, 0, 0, 0, 0, 0, 0, 0, 0, 0, 0, 0]]}\n",
            "\n",
            "訓練集特徵： {'sentence': Value('string'), 'label': Value('int64'), 'input_ids': List(Value('int32')), 'token_type_ids': List(Value('int8')), 'attention_mask': List(Value('int8'))}\n",
            "驗證集特徵： {'sentence': Value('string'), 'label': Value('int64'), 'input_ids': List(Value('int32')), 'token_type_ids': List(Value('int8')), 'attention_mask': List(Value('int8'))}\n",
            "測試集特徵： {'sentence': Value('string'), 'label': Value('int64'), 'input_ids': List(Value('int32')), 'token_type_ids': List(Value('int8')), 'attention_mask': List(Value('int8'))}\n"
          ]
        }
      ],
      "source": [
        "# 查看 Tokenized 資料\n",
        "print(\"\\nTokenized 訓練集第一筆：\")\n",
        "print(tokenized_train[:1])\n",
        "\n",
        "print(\"\\nTokenized 驗證集第一筆：\")\n",
        "print(tokenized_val[:1])\n",
        "\n",
        "print(\"\\nTokenized 測試集第一筆：\")\n",
        "print(tokenized_test[:1])\n",
        "# 確認 tokenized_datasets 是否包含需要的欄位\n",
        "print(\"\\n訓練集特徵：\", tokenized_train.features)\n",
        "print(\"驗證集特徵：\", tokenized_val.features)\n",
        "print(\"測試集特徵：\", tokenized_test.features)"
      ]
    },
    {
      "cell_type": "markdown",
      "metadata": {
        "id": "1B6hjgeKNCOY"
      },
      "source": [
        "### <b>建立模型</b>"
      ]
    },
    {
      "cell_type": "code",
      "execution_count": null,
      "metadata": {
        "colab": {
          "base_uri": "https://localhost:8080/"
        },
        "id": "CrZKiuOAARK0",
        "outputId": "1bb19686-ee90-4b32-da17-a8704ec425d8"
      },
      "outputs": [
        {
          "output_type": "execute_result",
          "data": {
            "text/plain": [
              "device(type='cuda')"
            ]
          },
          "metadata": {},
          "execution_count": 10
        }
      ],
      "source": [
        "import torch  # 深度學習框架\n",
        "\"\"\"\n",
        "為什麼要檢查 GPU？\n",
        "- GPU 的平行運算能力遠超 CPU（通常快 10-100 倍）\n",
        "- 深度學習涉及大量矩陣運算，適合 GPU 加速\n",
        "- 如果有 GPU 可用，應該優先使用\n",
        "\n",
        "CUDA 是什麼？\n",
        "- NVIDIA 的平行運算平台\n",
        "- PyTorch 透過 CUDA 調用 GPU\n",
        "- torch.cuda.is_available() 檢查是否有可用的 GPU\n",
        "\"\"\"\n",
        "# 如果有GPU就用GPU，沒有GPU用CPU\n",
        "device = torch.device(\"cuda\" if torch.cuda.is_available() else \"cpu\")\n",
        "device"
      ]
    },
    {
      "cell_type": "code",
      "execution_count": null,
      "metadata": {
        "colab": {
          "base_uri": "https://localhost:8080/",
          "height": 885,
          "referenced_widgets": [
            "adf30169caad40bda91b4e5bea464d07",
            "c077e1435dd14474b21bb1958ad275e0",
            "284544d7ea794d0ba880b13d4ae774af",
            "51bda23b40734e15a258744083e14501",
            "dcccbc8fcea74a46ab0bb7bd717db415",
            "aea33b9126534ffeaec411e076114868",
            "04422c71befe40fca7fe626270cf48bb",
            "c3ea798242f446ab9562e065970d8ba9",
            "005dc6de699648d69bcf210089a4408c",
            "2fb08ca5370644c7a90bb62347162049",
            "4b48eb2dd80c49d39c04966818012832"
          ]
        },
        "id": "1tHKgx_jtRkK",
        "outputId": "27713de6-ac67-4765-91b0-8226cf49dd7f"
      },
      "outputs": [
        {
          "output_type": "display_data",
          "data": {
            "text/plain": [
              "model.safetensors:   0%|          | 0.00/440M [00:00<?, ?B/s]"
            ]
          },
          "metadata": {}
        },
        {
          "output_type": "stream",
          "name": "stderr",
          "text": [
            "Some weights of BertForSequenceClassification were not initialized from the model checkpoint at bert-base-uncased and are newly initialized: ['classifier.bias', 'classifier.weight']\n",
            "You should probably TRAIN this model on a down-stream task to be able to use it for predictions and inference.\n"
          ]
        },
        {
          "output_type": "execute_result",
          "data": {
            "text/plain": [
              "BertForSequenceClassification(\n",
              "  (bert): BertModel(\n",
              "    (embeddings): BertEmbeddings(\n",
              "      (word_embeddings): Embedding(30522, 768, padding_idx=0)\n",
              "      (position_embeddings): Embedding(512, 768)\n",
              "      (token_type_embeddings): Embedding(2, 768)\n",
              "      (LayerNorm): LayerNorm((768,), eps=1e-12, elementwise_affine=True)\n",
              "      (dropout): Dropout(p=0.1, inplace=False)\n",
              "    )\n",
              "    (encoder): BertEncoder(\n",
              "      (layer): ModuleList(\n",
              "        (0-11): 12 x BertLayer(\n",
              "          (attention): BertAttention(\n",
              "            (self): BertSdpaSelfAttention(\n",
              "              (query): Linear(in_features=768, out_features=768, bias=True)\n",
              "              (key): Linear(in_features=768, out_features=768, bias=True)\n",
              "              (value): Linear(in_features=768, out_features=768, bias=True)\n",
              "              (dropout): Dropout(p=0.1, inplace=False)\n",
              "            )\n",
              "            (output): BertSelfOutput(\n",
              "              (dense): Linear(in_features=768, out_features=768, bias=True)\n",
              "              (LayerNorm): LayerNorm((768,), eps=1e-12, elementwise_affine=True)\n",
              "              (dropout): Dropout(p=0.1, inplace=False)\n",
              "            )\n",
              "          )\n",
              "          (intermediate): BertIntermediate(\n",
              "            (dense): Linear(in_features=768, out_features=3072, bias=True)\n",
              "            (intermediate_act_fn): GELUActivation()\n",
              "          )\n",
              "          (output): BertOutput(\n",
              "            (dense): Linear(in_features=3072, out_features=768, bias=True)\n",
              "            (LayerNorm): LayerNorm((768,), eps=1e-12, elementwise_affine=True)\n",
              "            (dropout): Dropout(p=0.1, inplace=False)\n",
              "          )\n",
              "        )\n",
              "      )\n",
              "    )\n",
              "    (pooler): BertPooler(\n",
              "      (dense): Linear(in_features=768, out_features=768, bias=True)\n",
              "      (activation): Tanh()\n",
              "    )\n",
              "  )\n",
              "  (dropout): Dropout(p=0.1, inplace=False)\n",
              "  (classifier): Linear(in_features=768, out_features=3, bias=True)\n",
              ")"
            ]
          },
          "metadata": {},
          "execution_count": 11
        }
      ],
      "source": [
        "from transformers import AutoModelForSequenceClassification  # 序列分類模型\n",
        "\"\"\"\n",
        "什麼是遷移學習(Transfer Learning)？\n",
        "\n",
        "1. 預訓練(Pre-training)階段\n",
        "   - 在大規模文本語料上預訓練\n",
        "   - 學習通用的語言理解能力\n",
        "   - BERT 在 BookCorpus 和 Wikipedia 上訓練\n",
        "\n",
        "2. 微調(Fine-tuning)階段\n",
        "   - 在特定任務上微調模型\n",
        "   - 只需要較少的標註資料\n",
        "   - 適應特定領域（如金融文本）\n",
        "\n",
        "為什麼設定 num_labels=3？\n",
        "- 我們的任務是三分類：Negative, Neutral, Positive\n",
        "- 模型最後會輸出 3 個分數(logits)\n",
        "- 透過 softmax 轉換成機率分佈\n",
        "\n",
        "model.to(device) 的作用？\n",
        "- 將模型參數移動到 GPU 上\n",
        "- 確保模型和輸入資料在同一個裝置\n",
        "\"\"\"\n",
        "\n",
        "# 載入模型（使用作業區域 1 選擇的模型）\n",
        "model = AutoModelForSequenceClassification.from_pretrained(model_name, num_labels=3)\n",
        "model.to(device)  # 將模型移到對應裝置"
      ]
    },
    {
      "cell_type": "code",
      "execution_count": null,
      "metadata": {
        "id": "eWoT1FbOtURf"
      },
      "outputs": [],
      "source": [
        "from transformers import TrainingArguments  # 包裝訓練參數\n",
        "\n",
        "training_args = TrainingArguments(\n",
        "    output_dir=\"./results\",          # 訓練結果的儲存位置，包括模型檔案和預測結果。\n",
        "    eval_strategy=\"epoch\",     # 設置評估策略為每個訓練輪次（epoch）結束後進行一次評估。\n",
        "    learning_rate=2e-5,              # 設置學習率，這裡使用 2e-5，通常較小的學習率更適合微調預訓練模型。\n",
        "    per_device_train_batch_size=4,   # 設定每個裝置（如每張 GPU）的訓練批次大小為 4。\n",
        "    per_device_eval_batch_size=4,    # 設定每個裝置的評估批次大小為 4。\n",
        "    num_train_epochs=3,              # 訓練輪次設定為 3，模型將完整遍歷訓練集三次。\n",
        "    weight_decay=0.01,               # 設置權重衰減（L2正則化）參數，這裡為 0.01，用於防止過擬合。\n",
        "    logging_dir=\"./logs\",            # 日誌存放目錄，用於儲存 TensorBoard 或其他日誌。\n",
        "    logging_steps=10,                # 設置每 10 個步驟記錄一次訓練信息，便於監控訓練過程。\n",
        "    report_to=\"none\",                 # 不將訓練日誌發送到任何平臺（如 TensorBoard），可以改為 \"tensorboard\" 以啟用。\n",
        ")"
      ]
    },
    {
      "cell_type": "code",
      "execution_count": null,
      "metadata": {
        "id": "lqJBOVlQtZzx"
      },
      "outputs": [],
      "source": [
        "from sklearn.metrics import accuracy_score, precision_recall_fscore_support\n",
        "import numpy as np\n",
        "\n",
        "\"\"\"\n",
        "為什麼需要這些評估指標？\n",
        "\n",
        "1. Accuracy (準確率)\n",
        "   公式：(預測正確的樣本數) / (總樣本數)\n",
        "   優點：直觀易懂\n",
        "   缺點：在類別不平衡時會誤導\n",
        "\n",
        "2. Precision (精確率)\n",
        "   公式：(真正例) / (真正例 + 假正例)\n",
        "   意義：預測為正例的樣本中，真正為正例的比例\n",
        "   應用：當誤報代價高時重視精確率\n",
        "\n",
        "3. Recall (召回率)\n",
        "   公式：(真正例) / (真正例 + 假負例)\n",
        "   意義：所有正例中，被正確預測的比例\n",
        "   應用：當漏報代價高時重視召回率\n",
        "\n",
        "4. F1-score (F1分數)\n",
        "   公式：2 * (Precision * Recall) / (Precision + Recall)\n",
        "   意義：精確率和召回率的調和平均\n",
        "   優點：綜合考慮兩者，適合類別不平衡\n",
        "\n",
        "為什麼使用 average=\"weighted\"？\n",
        "- 根據每個類別的樣本數加權平均\n",
        "- 考慮類別不平衡的影響\n",
        "- 更能反映整體表現\n",
        "\n",
        "在金融情緒分析中的重要性：\n",
        "- Precision 高：減少誤判（例如誤把中性當成正面）\n",
        "- Recall 高：不錯過重要信號（例如不漏掉負面新聞）\n",
        "- F1-score 高：整體表現好\n",
        "\"\"\"\n",
        "\n",
        "def compute_metrics(pred):\n",
        "    labels = pred.label_ids  # 取得真實值的id\n",
        "    preds = np.argmax(pred.predictions, axis=1)  # 預測值找到最高機率的索引\n",
        "    accuracy = accuracy_score(labels, preds)  # 計算準確率\n",
        "    precision, recall, f1, _ = precision_recall_fscore_support(labels, preds, average=\"weighted\")  # 計算其他指標\n",
        "    return {\"accuracy\": accuracy, \"precision\": precision, \"recall\": recall, \"f1\": f1}"
      ]
    },
    {
      "cell_type": "code",
      "execution_count": null,
      "metadata": {
        "colab": {
          "base_uri": "https://localhost:8080/",
          "height": 204
        },
        "id": "AJHPmtdQtgyc",
        "outputId": "d253c826-4a63-4769-933d-755e0c4cb4af"
      },
      "outputs": [
        {
          "output_type": "display_data",
          "data": {
            "text/plain": [
              "<IPython.core.display.HTML object>"
            ],
            "text/html": [
              "\n",
              "    <div>\n",
              "      \n",
              "      <progress value='2328' max='2328' style='width:300px; height:20px; vertical-align: middle;'></progress>\n",
              "      [2328/2328 17:22, Epoch 3/3]\n",
              "    </div>\n",
              "    <table border=\"1\" class=\"dataframe\">\n",
              "  <thead>\n",
              " <tr style=\"text-align: left;\">\n",
              "      <th>Epoch</th>\n",
              "      <th>Training Loss</th>\n",
              "      <th>Validation Loss</th>\n",
              "      <th>Accuracy</th>\n",
              "      <th>Precision</th>\n",
              "      <th>Recall</th>\n",
              "      <th>F1</th>\n",
              "    </tr>\n",
              "  </thead>\n",
              "  <tbody>\n",
              "    <tr>\n",
              "      <td>1</td>\n",
              "      <td>0.363100</td>\n",
              "      <td>0.567214</td>\n",
              "      <td>0.845361</td>\n",
              "      <td>0.845585</td>\n",
              "      <td>0.845361</td>\n",
              "      <td>0.844905</td>\n",
              "    </tr>\n",
              "    <tr>\n",
              "      <td>2</td>\n",
              "      <td>0.422300</td>\n",
              "      <td>0.671184</td>\n",
              "      <td>0.856959</td>\n",
              "      <td>0.858802</td>\n",
              "      <td>0.856959</td>\n",
              "      <td>0.857374</td>\n",
              "    </tr>\n",
              "    <tr>\n",
              "      <td>3</td>\n",
              "      <td>0.085500</td>\n",
              "      <td>0.779432</td>\n",
              "      <td>0.853093</td>\n",
              "      <td>0.856704</td>\n",
              "      <td>0.853093</td>\n",
              "      <td>0.854056</td>\n",
              "    </tr>\n",
              "  </tbody>\n",
              "</table><p>"
            ]
          },
          "metadata": {}
        },
        {
          "output_type": "execute_result",
          "data": {
            "text/plain": [
              "TrainOutput(global_step=2328, training_loss=0.3789487303577882, metrics={'train_runtime': 1044.3342, 'train_samples_per_second': 8.908, 'train_steps_per_second': 2.229, 'total_flos': 2447744125123584.0, 'train_loss': 0.3789487303577882, 'epoch': 3.0})"
            ]
          },
          "metadata": {},
          "execution_count": 14
        }
      ],
      "source": [
        "from transformers import Trainer\n",
        "\n",
        "\"\"\"\n",
        "Trainer 類別的作用：\n",
        "- 封裝了完整的訓練流程\n",
        "- 自動處理：\n",
        "  ✓ 梯度計算和參數更新\n",
        "  ✓ 批次資料載入\n",
        "  ✓ 學習率調整\n",
        "  ✓ 驗證集評估\n",
        "  ✓ Checkpoint 儲存\n",
        "  ✓ 日誌記錄\n",
        "\n",
        "為什麼使用高階 API？\n",
        "- 減少樣板代碼(boilerplate code)\n",
        "- 避免常見錯誤\n",
        "- 專注於模型和資料\n",
        "- 便於快速實驗\n",
        "\n",
        "訓練過程中會發生什麼？\n",
        "1. 前向傳播(Forward pass)\n",
        "   - 輸入資料經過模型，得到預測結果\n",
        "\n",
        "2. 計算損失(Loss calculation)\n",
        "   - 比較預測結果和真實標籤\n",
        "   - 使用交叉熵損失(Cross-entropy loss)\n",
        "\n",
        "3. 反向傳播(Backward pass)\n",
        "   - 計算損失對參數的梯度\n",
        "\n",
        "4. 參數更新(Parameter update)\n",
        "   - 使用梯度和學習率更新參數\n",
        "   - 優化器：AdamW (Adam with weight decay)\n",
        "\n",
        "5. 驗證評估(Validation)\n",
        "   - 每個 epoch 結束後在驗證集上評估\n",
        "   - 不更新參數，只計算指標\n",
        "\"\"\"\n",
        "\n",
        "trainer = Trainer(\n",
        "    model=model,\n",
        "    args=training_args,\n",
        "    train_dataset=tokenized_train,  # 使用訓練集\n",
        "    eval_dataset=tokenized_val,     # 使用驗證集（從訓練集切出來的）\n",
        "    compute_metrics=compute_metrics,\n",
        ")\n",
        "\n",
        "# 開始訓練\n",
        "trainer.train()"
      ]
    },
    {
      "cell_type": "markdown",
      "metadata": {
        "id": "O2CSuye8NPbm"
      },
      "source": [
        "### <b>結果評估</b>"
      ]
    },
    {
      "cell_type": "code",
      "execution_count": null,
      "metadata": {
        "id": "QUKztZcotkI7",
        "colab": {
          "base_uri": "https://localhost:8080/",
          "height": 109
        },
        "outputId": "b058fa0c-19df-433c-f510-e998e37232e4"
      },
      "outputs": [
        {
          "output_type": "stream",
          "name": "stdout",
          "text": [
            "\n",
            "=== 驗證集評估結果 ===\n"
          ]
        },
        {
          "output_type": "display_data",
          "data": {
            "text/plain": [
              "<IPython.core.display.HTML object>"
            ],
            "text/html": [
              "\n",
              "    <div>\n",
              "      \n",
              "      <progress value='194' max='194' style='width:300px; height:20px; vertical-align: middle;'></progress>\n",
              "      [194/194 00:23]\n",
              "    </div>\n",
              "    "
            ]
          },
          "metadata": {}
        },
        {
          "output_type": "stream",
          "name": "stdout",
          "text": [
            "{'eval_loss': 0.779431939125061, 'eval_accuracy': 0.8530927835051546, 'eval_precision': 0.856703938909129, 'eval_recall': 0.8530927835051546, 'eval_f1': 0.8540564523421957, 'eval_runtime': 23.5995, 'eval_samples_per_second': 32.882, 'eval_steps_per_second': 8.221, 'epoch': 3.0}\n"
          ]
        }
      ],
      "source": [
        "# 評估模型在驗證集的表現\n",
        "\n",
        "print(\"\\n=== 驗證集評估結果 ===\")\n",
        "val_result = trainer.evaluate(eval_dataset=tokenized_val)\n",
        "print(val_result)"
      ]
    },
    {
      "cell_type": "code",
      "execution_count": null,
      "metadata": {
        "id": "0-jwOnoGwA5r",
        "colab": {
          "base_uri": "https://localhost:8080/",
          "height": 109
        },
        "outputId": "a9d47e05-d848-4541-bc12-a21ef06d8d6c"
      },
      "outputs": [
        {
          "output_type": "stream",
          "name": "stdout",
          "text": [
            "\n",
            "=== 測試集評估結果（最終評估）===\n"
          ]
        },
        {
          "output_type": "display_data",
          "data": {
            "text/plain": [
              "<IPython.core.display.HTML object>"
            ],
            "text/html": [
              "\n",
              "    <div>\n",
              "      \n",
              "      <progress value='437' max='194' style='width:300px; height:20px; vertical-align: middle;'></progress>\n",
              "      [194/194 00:52]\n",
              "    </div>\n",
              "    "
            ]
          },
          "metadata": {}
        },
        {
          "output_type": "stream",
          "name": "stdout",
          "text": [
            "{'eval_loss': 0.6918463110923767, 'eval_accuracy': 0.8648090815273478, 'eval_precision': 0.8650427574852284, 'eval_recall': 0.8648090815273478, 'eval_f1': 0.8649156086688915, 'eval_runtime': 28.8737, 'eval_samples_per_second': 33.56, 'eval_steps_per_second': 8.416, 'epoch': 3.0}\n"
          ]
        }
      ],
      "source": [
        "# 評估模型在測試集的表現（最終評估）\n",
        "print(\"\\n=== 測試集評估結果（最終評估）===\")\n",
        "test_result = trainer.evaluate(eval_dataset=tokenized_test)\n",
        "print(test_result)"
      ]
    },
    {
      "cell_type": "markdown",
      "metadata": {
        "id": "PSgCkDKhwF_o"
      },
      "source": [
        "### <b2>使用測試集進行預測展示</b>\n"
      ]
    },
    {
      "cell_type": "code",
      "execution_count": null,
      "metadata": {
        "id": "V5ypsiDh1ACF",
        "colab": {
          "base_uri": "https://localhost:8080/"
        },
        "outputId": "a71ef589-c90b-4a27-9edb-41888482c8e6"
      },
      "outputs": [
        {
          "output_type": "stream",
          "name": "stdout",
          "text": [
            "\n",
            "=== 測試集句子展示 ===\n",
            "以下是測試集中的前 50 個句子：\n",
            "\n",
            "[0] TeliaSonera TLSN said the offer is in line with its strategy to increase its ownership in core business holdings and would strengthen Eesti Telekom 's offering to its customers .\n",
            "    真實標籤：Positive\n",
            "\n",
            "[1] STORA ENSO , NORSKE SKOG , M-REAL , UPM-KYMMENE Credit Suisse First Boston ( CFSB ) raised the fair value for shares in four of the largest Nordic forestry groups .\n",
            "    真實標籤：Positive\n",
            "\n",
            "[2] Clothing retail chain Sepp+ñl+ñ 's sales increased by 8 % to EUR 155.2 mn , and operating profit rose to EUR 31.1 mn from EUR 17.1 mn in 2004 .\n",
            "    真實標籤：Positive\n",
            "\n",
            "[3] Lifetree was founded in 2000 , and its revenues have risen on an average by 40 % with margins in late 30s .\n",
            "    真實標籤：Positive\n",
            "\n",
            "[4] Nordea Group 's operating profit increased in 2010 by 18 percent year-on-year to 3.64 billion euros and total revenue by 3 percent to 9.33 billion euros .\n",
            "    真實標籤：Positive\n",
            "\n",
            "[5] Operating profit for the nine-month period increased from EUR3 .1 m and net sales increased from EUR61 .5 m , as compared to the corresponding period in 2007 .\n",
            "    真實標籤：Positive\n",
            "\n",
            "[6] The Lithuanian beer market made up 14.41 million liters in January , a rise of 0.8 percent from the year-earlier figure , the Lithuanian Brewers ' Association reporting citing the results from its members .\n",
            "    真實標籤：Positive\n",
            "\n",
            "[7] In January-September 2010 , Fiskars ' net profit went up by 14 % year-on-year to EUR 65.4 million and net sales to EUR 525.3 million from EUR 487.7 million .\n",
            "    真實標籤：Positive\n",
            "\n",
            "[8] Net income from life insurance rose to EUR 16.5 mn from EUR 14.0 mn , and net income from non-life insurance to EUR 22.6 mn from EUR 15.2 mn in 2009 .\n",
            "    真實標籤：Positive\n",
            "\n",
            "[9] Nyrstar has also agreed to supply to Talvivaara up to 150,000 tonnes of sulphuric acid per annum for use in Talvivaara 's leaching process during the period of supply of the zinc in concentrate .\n",
            "    真實標籤：Positive\n",
            "\n",
            "[10] The agreement strengthens our long-term partnership with Nokia Siemens Networks .\n",
            "    真實標籤：Positive\n",
            "\n",
            "[11] KESKO CORPORATION STOCK EXCHANGE RELEASE 28.02.2008 AT 09.30 1 ( 1 ) Kesko Corporation and Aspo plc today signed an agreement by which Aspo acquires the share capital of Kauko-Telko Ltd , a subsidiary wholly owned by Kesko .\n",
            "    真實標籤：Positive\n",
            "\n",
            "[12] The OMX Helsinki 25 index was up 0.92 pct at 2,518.67 and the Helsinki CAP portfolio index was 0.91 pct higher at 4,711.19 .\n",
            "    真實標籤：Positive\n",
            "\n",
            "[13] Tiimari operates 194 stores in six countries -- including its core Finnish market -- and generated a turnover of 76.5 mln eur in 2005 .\n",
            "    真實標籤：Neutral\n",
            "\n",
            "[14] Under this agreement Biohit becomes a focus supplier of pipettors and disposable pipettor tips to VWR customers throughout Europe .\n",
            "    真實標籤：Positive\n",
            "\n",
            "[15] Adjusted for changes in the Group structure , the Division 's net sales increased by 1.7 % .\n",
            "    真實標籤：Positive\n",
            "\n",
            "[16] Finnish Aktia Group 's operating profit rose to EUR 17.5 mn in the first quarter of 2010 from EUR 8.2 mn in the first quarter of 2009 .\n",
            "    真實標籤：Positive\n",
            "\n",
            "[17] Finnish high technology provider Vaahto Group reports net sales of EUR 41.8 mn in the accounting period September 2007 - February 2008 , an increase of 11.2 % from a year earlier .\n",
            "    真實標籤：Positive\n",
            "\n",
            "[18] Biohit already services many current Genesis customers and the customer base is expected to expand as a result of this agreement .\n",
            "    真實標籤：Positive\n",
            "\n",
            "[19] Circulation revenue has increased by 5 % in Finland and 4 % in Sweden in 2008 .\n",
            "    真實標籤：Positive\n",
            "\n",
            "[20] In 2009 , Fiskars ' cash flow from operating activities amounted to EUR121m , up from EUR97m in the previous year .\n",
            "    真實標籤：Positive\n",
            "\n",
            "[21] Operating profit margin increased from 11.2 % to 11.7 % .\n",
            "    真實標籤：Positive\n",
            "\n",
            "[22] The circuit 's overall production rate on a weekly basis is now in excess of an average of 40,000 tonnes per day , with volumes in excess of 50,000 tonnes per day being reached on individual days .\n",
            "    真實標籤：Positive\n",
            "\n",
            "[23] The last quarter was the best quarter of 2009 in net sales , and the operating margin rose to 12.2 % .\n",
            "    真實標籤：Positive\n",
            "\n",
            "[24] The transaction doubles Tecnomens workforse , and adds a fourth to their net sales .\n",
            "    真實標籤：Positive\n",
            "\n",
            "[25] `` The priority for 2009 was to strengthen the company 's balance sheet and increase cash flow , '' CEO Hannu Krook said .\n",
            "    真實標籤：Positive\n",
            "\n",
            "[26] A structures BIM ( building information modeling ) software from Tekla , a model-based software provider , has been adopted for the construction management and delivery of a university project in Abu Dhabi .\n",
            "    真實標籤：Neutral\n",
            "\n",
            "[27] According to Finnish Metso Minerals , the value of the company 's orders has gone up to EUR 1.9 bn in 12 months .\n",
            "    真實標籤：Positive\n",
            "\n",
            "[28] Finnish forest machinery manufacturer Ponsse 's net sales grew to EUR 51.3 mn in the first quarter of 2010 from EUR 37.5 mn in the corresponding period in 2009 .\n",
            "    真實標籤：Positive\n",
            "\n",
            "[29] Finnish KCI Konecranes has raised its net sales growth estimate for 2006 from over 25 % to over 35 % .\n",
            "    真實標籤：Positive\n",
            "\n",
            "[30] Finnish pharmaceuticals company Orion 's net sales rose to EUR 190mn in the first quarter of 2009 from EUR 180mn in the first quarter of 2008 .\n",
            "    真實標籤：Positive\n",
            "\n",
            "[31] Again , the most significant sales increase of 18.6 % was in Russia .\n",
            "    真實標籤：Positive\n",
            "\n",
            "[32] Also Lemmink+ñinen 's profit for accounting period went up to EUR 3.1 mn from EUR -24.5 mn a year ago .\n",
            "    真實標籤：Positive\n",
            "\n",
            "[33] Besides we have increased the share of meat in various sausages and are offering a number of new tastes in the grill products and shish kebabs segment , '' Paavel said .\n",
            "    真實標籤：Positive\n",
            "\n",
            "[34] Both operating profit and net sales for the three-month period increased , respectively from EUR16 .0 m and EUR139m , as compared to the corresponding quarter in 2006 .\n",
            "    真實標籤：Positive\n",
            "\n",
            "[35] Diluted earnings per share ( EPS ) rose to EUR 3.68 from EUR 0.50 .\n",
            "    真實標籤：Positive\n",
            "\n",
            "[36] Finnish cutlery and hand tools maker Fiskars Oyj Abp ( HEL : FISAS ) said today its net profit rose to EUR 24.1 million ( USD 33.6 m ) in the third quarter of 2010 from EUR 17.9 million a year earlier .\n",
            "    真實標籤：Positive\n",
            "\n",
            "[37] HELSINKI ( AFX ) - Retail and wholesale group Kesko reported net sales of 659.4 mln eur for February , an increase of 10.8 pct year-on-year .\n",
            "    真實標籤：Positive\n",
            "\n",
            "[38] In December alone , the members of the Lithuanian Brewers ' Association sold a total of 20.3 million liters of beer , an increase of 1.9 percent from the sales of 19.92 million liters in December 2004 .\n",
            "    真實標籤：Positive\n",
            "\n",
            "[39] In Sweden , operating profit for the period under review totaled EUR 3.4 mn , up 30.8 % from the corresponding period in 2005 .\n",
            "    真實標籤：Positive\n",
            "\n",
            "[40] In the second quarter of 2010 , the group 's net profit rose to EUR 3.1 million from EUR 2.5 million in April-June 2009 .\n",
            "    真實標籤：Positive\n",
            "\n",
            "[41] Its market share widened to 48.51 percent from 48.31 percent a year earlier .\n",
            "    真實標籤：Positive\n",
            "\n",
            "[42] ( ADP News ) - Feb 11 , 2009 - Finnish management software solutions provider Ixonos Oyj ( HEL : XNS1V ) said today its net profit rose to EUR 3.5 million ( USD 4.5 m ) for 2008 from EUR 3.1 million for 2007 .\n",
            "    真實標籤：Positive\n",
            "\n",
            "[43] ( ADP News ) - Feb 6 , 2009 - Finnish fishing tackle company Rapala VMC Corp ( HEL : RAP1V ) said today its net profit rose to EUR 19.2 million ( USD 24.6 m ) for 2008 from EUR 17.5 million for 2007 .\n",
            "    真實標籤：Positive\n",
            "\n",
            "[44] ( ADP News ) - Oct 29 , 2008 - Finnish lifting equipment maker Konecranes Oyj ( OMX : KCR1V ) said today that its net profit rose to EUR 116.6 million ( USD 149.1 m ) in the first nine months of 2008 from EUR 73.6 million for the s\n",
            "    真實標籤：Positive\n",
            "\n",
            "[45] Net interest income increased by 4.5 % to EUR 31.4 mn from EUR 30.0 mn in 2004 .\n",
            "    真實標籤：Positive\n",
            "\n",
            "[46] Operating income rose to EUR 696.4 mn from EUR 600.3 mn in 2009 .\n",
            "    真實標籤：Positive\n",
            "\n",
            "[47] Operating profit rose to EUR 13.5 mn from EUR 9.7 mn in the corresponding period in 2006 .\n",
            "    真實標籤：Positive\n",
            "\n",
            "[48] Operating profit rose to EUR 4.7 mn from EUR 4.6 mn .\n",
            "    真實標籤：Positive\n",
            "\n",
            "[49] Operating profit totaled EUR 37,7 mn , up slightly from EUR 37.2 mn in the corresponding period in 2006 .\n",
            "    真實標籤：Positive\n",
            "\n"
          ]
        }
      ],
      "source": [
        "# 先展示測試集中的句子，讓學生了解有哪些資料\n",
        "print(\"\\n=== 測試集句子展示 ===\")\n",
        "print(\"以下是測試集中的前 50 個句子：\\n\")\n",
        "\n",
        "label_map = {0: \"Negative\", 1: \"Neutral\", 2: \"Positive\"}\n",
        "\n",
        "for i in range(50):\n",
        "    sentence = test_dataset[i][\"sentence\"]\n",
        "    label = test_dataset[i][\"label\"]\n",
        "    print(f\"[{i}] {sentence}\")\n",
        "    print(f\"    真實標籤：{label_map[label]}\\n\")"
      ]
    },
    {
      "cell_type": "code",
      "execution_count": null,
      "metadata": {
        "id": "ZmWdctbTwO_f",
        "colab": {
          "base_uri": "https://localhost:8080/"
        },
        "outputId": "3c709313-226d-479b-b55f-6bdcd3e25af2"
      },
      "outputs": [
        {
          "output_type": "stream",
          "name": "stdout",
          "text": [
            "\n",
            "你選擇測試的句子索引：[0, 9, 11, 7, 8]\n",
            "\n",
            "=== 開始預測 ===\n",
            "\n",
            "你選擇的 5 個句子的預測結果：\n",
            "\n",
            "1. 測試集索引 [0]\n",
            "   句子：TeliaSonera TLSN said the offer is in line with its strategy to increase its ownership in core business holdings and would strengthen Eesti Telekom 's offering to its customers .\n",
            "   真實標籤：Positive\n",
            "   預測標籤：Positive\n",
            "   結果：✓ 正確\n",
            "\n",
            "2. 測試集索引 [9]\n",
            "   句子：Nyrstar has also agreed to supply to Talvivaara up to 150,000 tonnes of sulphuric acid per annum for use in Talvivaara 's leaching process during the period of supply of the zinc in concentrate .\n",
            "   真實標籤：Positive\n",
            "   預測標籤：Positive\n",
            "   結果：✓ 正確\n",
            "\n",
            "3. 測試集索引 [11]\n",
            "   句子：KESKO CORPORATION STOCK EXCHANGE RELEASE 28.02.2008 AT 09.30 1 ( 1 ) Kesko Corporation and Aspo plc today signed an agreement by which Aspo acquires the share capital of Kauko-Telko Ltd , a subsidiary wholly owned by Kesko .\n",
            "   真實標籤：Positive\n",
            "   預測標籤：Positive\n",
            "   結果：✓ 正確\n",
            "\n",
            "4. 測試集索引 [7]\n",
            "   句子：In January-September 2010 , Fiskars ' net profit went up by 14 % year-on-year to EUR 65.4 million and net sales to EUR 525.3 million from EUR 487.7 million .\n",
            "   真實標籤：Positive\n",
            "   預測標籤：Positive\n",
            "   結果：✓ 正確\n",
            "\n",
            "5. 測試集索引 [8]\n",
            "   句子：Net income from life insurance rose to EUR 16.5 mn from EUR 14.0 mn , and net income from non-life insurance to EUR 22.6 mn from EUR 15.2 mn in 2009 .\n",
            "   真實標籤：Positive\n",
            "   預測標籤：Positive\n",
            "   結果：✓ 正確\n",
            "\n",
            "準確率：5/5 = 100.00%\n"
          ]
        }
      ],
      "source": [
        "# 請從上面顯示的測試集句子中，選擇你想要測試的句子索引\n",
        "#\n",
        "# 選擇特定的句子索引\n",
        "# 例如：test_indices = [0, 5, 10, 15, 19]\n",
        "#\n",
        "# 提示：\n",
        "# - 可以選擇不同情緒的句子來測試\n",
        "# - 觀察模型在哪些句子上預測正確，哪些預測錯誤\n",
        "# - 思考為什麼模型會預測錯誤\n",
        "\n",
        "test_indices = [0, 9, 11, 7, 8]  # 請修改這裡！選擇你想測試的句子索引\n",
        "\n",
        "print(f\"\\n你選擇測試的句子索引：{test_indices}\")\n",
        "# ============================================================================\n",
        "\n",
        "# 根據選擇的索引，取得測試句子\n",
        "test_texts = [test_dataset[i][\"sentence\"] for i in test_indices]\n",
        "true_labels = [test_dataset[i][\"label\"] for i in test_indices]\n",
        "\n",
        "print(\"\\n=== 開始預測 ===\\n\")\n",
        "\n",
        "\"\"\"\n",
        "預測流程說明：\n",
        "\n",
        "1. 取得測試句子和真實標籤\n",
        "   - 根據選擇的索引提取句子\n",
        "\n",
        "2. Tokenization\n",
        "   - 將句子轉換成模型輸入格式\n",
        "   - return_tensors=\"pt\" 返回 PyTorch tensor\n",
        "\n",
        "3. 模型推理\n",
        "   - 將 tokenized 資料輸入模型\n",
        "   - 得到 logits（未標準化的分數）\n",
        "\n",
        "4. 預測類別\n",
        "   - 使用 argmax 取得分數最高的類別\n",
        "   - 轉換回 CPU 以便後續處理\n",
        "\n",
        "5. 結果展示\n",
        "   - 顯示原始句子、真實標籤、預測標籤\n",
        "   - 標記預測是否正確\n",
        "   - 計算準確率\n",
        "\"\"\"\n",
        "\n",
        "# Tokenize 測試句子\n",
        "test_encodings = tokenizer(test_texts, truncation=True, padding=True, return_tensors=\"pt\").to(device)\n",
        "outputs = model(**test_encodings)\n",
        "\n",
        "# 取得預測結果\n",
        "preds = torch.argmax(outputs.logits, dim=1).cpu().numpy()  # 將結果轉回 CPU 以便處理\n",
        "\n",
        "# 顯示預測結果\n",
        "predicted_labels = [label_map[pred] for pred in preds]\n",
        "true_labels_text = [label_map[label] for label in true_labels]\n",
        "\n",
        "# 計算準確率\n",
        "correct = sum([1 for true, pred in zip(true_labels_text, predicted_labels) if true == pred])\n",
        "accuracy = correct / len(test_texts) * 100\n",
        "\n",
        "print(f\"你選擇的 {len(test_texts)} 個句子的預測結果：\\n\")\n",
        "\n",
        "for i, (idx, text, true_label, pred_label) in enumerate(zip(test_indices, test_texts, true_labels_text, predicted_labels)):\n",
        "    correct_mark = \"✓ 正確\" if true_label == pred_label else \"✗ 錯誤\"\n",
        "    print(f\"{i+1}. 測試集索引 [{idx}]\")\n",
        "    print(f\"   句子：{text}\")\n",
        "    print(f\"   真實標籤：{true_label}\")\n",
        "    print(f\"   預測標籤：{pred_label}\")\n",
        "    print(f\"   結果：{correct_mark}\\n\")\n",
        "\n",
        "print(f\"準確率：{correct}/{len(test_texts)} = {accuracy:.2f}%\")"
      ]
    },
    {
      "cell_type": "code",
      "source": [
        "from google.colab import drive\n",
        "drive.mount('/content/drive')"
      ],
      "metadata": {
        "id": "WprKsN2qKHVA",
        "colab": {
          "base_uri": "https://localhost:8080/"
        },
        "outputId": "1b33e181-d35f-4e94-cf5e-4dceb76a2b17"
      },
      "execution_count": 3,
      "outputs": [
        {
          "output_type": "stream",
          "name": "stdout",
          "text": [
            "Mounted at /content/drive\n"
          ]
        }
      ]
    },
    {
      "cell_type": "code",
      "source": [
        "import json, os, re\n",
        "from google.colab import runtime\n",
        "\n",
        "# 🔹 1️⃣ 讓 Colab 強制儲存最新版本\n",
        "runtime.command('save', '')\n",
        "\n",
        "# 🔹 2️⃣ 找到目前正在執行的 notebook 名稱\n",
        "from IPython.display import Javascript\n",
        "from google.colab import output\n",
        "\n",
        "notebook_name = None\n",
        "def _notebook_name(name):\n",
        "    global notebook_name\n",
        "    notebook_name = name\n",
        "\n",
        "output.register_callback('get_ipynb_name', _notebook_name)\n",
        "display(Javascript('google.colab.kernel.invokeFunction(\"get_ipynb_name\", [document.title], {});'))\n",
        "\n",
        "# 等待名稱被取得\n",
        "import time\n",
        "time.sleep(2)\n",
        "\n",
        "if notebook_name:\n",
        "    # 去除「 - Colab」等多餘字樣\n",
        "    notebook_name = re.sub(r' - Colab$', '', notebook_name).strip()\n",
        "    print(f\"🔍 偵測到 notebook 檔名: {notebook_name}\")\n",
        "else:\n",
        "    raise ValueError(\"❌ 無法自動偵測 notebook 名稱，請手動輸入檔案名稱。\")\n",
        "\n",
        "# 🔹 3️⃣ 執行清理（假設 notebook 已儲存在 Google Drive/Colab Notebooks）\n",
        "notebook_path = f\"/content/drive/MyDrive/Colab Notebooks/{notebook_name}.ipynb\"\n",
        "\n",
        "print(f\"🧹 準備清理：{notebook_path}\")\n",
        "\n",
        "# 開始清除 widgets metadata\n",
        "with open(notebook_path, \"r\", encoding=\"utf-8\") as f:\n",
        "    data = json.load(f)\n",
        "\n",
        "# 移除最外層 widgets\n",
        "data.get(\"metadata\", {}).pop(\"widgets\", None)\n",
        "\n",
        "# 移除每個 cell 的 widgets 相關資料\n",
        "for cell in data.get(\"cells\", []):\n",
        "    cell.get(\"metadata\", {}).pop(\"widgets\", None)\n",
        "    for output_data in cell.get(\"outputs\", []):\n",
        "        if \"data\" in output_data and \"application/vnd.jupyter.widget-view+json\" in output_data[\"data\"]:\n",
        "            del output_data[\"data\"][\"application/vnd.jupyter.widget-view+json\"]\n",
        "\n",
        "# 重新儲存\n",
        "with open(notebook_path, \"w\", encoding=\"utf-8\") as f:\n",
        "    json.dump(data, f, indent=2, ensure_ascii=False)\n",
        "\n",
        "print(f\"清理完成，可安全上傳至 GitHub！ → {notebook_path}\")"
      ],
      "metadata": {
        "colab": {
          "base_uri": "https://localhost:8080/",
          "height": 211
        },
        "id": "prJTPy9XLA82",
        "outputId": "0ddec0bd-9c59-45be-a28b-6c1a553e41d4"
      },
      "execution_count": 7,
      "outputs": [
        {
          "output_type": "error",
          "ename": "AttributeError",
          "evalue": "module 'google.colab.runtime' has no attribute 'command'",
          "traceback": [
            "\u001b[0;31m---------------------------------------------------------------------------\u001b[0m",
            "\u001b[0;31mAttributeError\u001b[0m                            Traceback (most recent call last)",
            "\u001b[0;32m/tmp/ipython-input-1104936132.py\u001b[0m in \u001b[0;36m<cell line: 0>\u001b[0;34m()\u001b[0m\n\u001b[1;32m      3\u001b[0m \u001b[0;34m\u001b[0m\u001b[0m\n\u001b[1;32m      4\u001b[0m \u001b[0;31m# 🔹 1️⃣ 讓 Colab 強制儲存最新版本\u001b[0m\u001b[0;34m\u001b[0m\u001b[0;34m\u001b[0m\u001b[0m\n\u001b[0;32m----> 5\u001b[0;31m \u001b[0mruntime\u001b[0m\u001b[0;34m.\u001b[0m\u001b[0mcommand\u001b[0m\u001b[0;34m(\u001b[0m\u001b[0;34m'save'\u001b[0m\u001b[0;34m,\u001b[0m \u001b[0;34m''\u001b[0m\u001b[0;34m)\u001b[0m\u001b[0;34m\u001b[0m\u001b[0;34m\u001b[0m\u001b[0m\n\u001b[0m\u001b[1;32m      6\u001b[0m \u001b[0;34m\u001b[0m\u001b[0m\n\u001b[1;32m      7\u001b[0m \u001b[0;31m# 🔹 2️⃣ 找到目前正在執行的 notebook 名稱\u001b[0m\u001b[0;34m\u001b[0m\u001b[0;34m\u001b[0m\u001b[0m\n",
            "\u001b[0;31mAttributeError\u001b[0m: module 'google.colab.runtime' has no attribute 'command'"
          ]
        }
      ]
    },
    {
      "cell_type": "code",
      "source": [
        "import json\n",
        "import sys\n",
        "from pathlib import Path\n",
        "\n",
        "def remove_widgets(notebook_path):\n",
        "    with open(notebook_path, \"r\", encoding=\"utf-8\") as f:\n",
        "        data = json.load(f)\n",
        "\n",
        "    # 移除最外層 widgets\n",
        "    if \"metadata\" in data and \"widgets\" in data[\"metadata\"]:\n",
        "        del data[\"metadata\"][\"widgets\"]\n",
        "\n",
        "    # 清除每個 cell 裡的 widgets metadata 與輸出中的 widget JSON\n",
        "    for cell in data.get(\"cells\", []):\n",
        "        # 移除 cell metadata.widgets\n",
        "        if \"metadata\" in cell and \"widgets\" in cell[\"metadata\"]:\n",
        "            del cell[\"metadata\"][\"widgets\"]\n",
        "        # 移除 cell outputs 中的 widget 類型輸出\n",
        "        for output in cell.get(\"outputs\", []):\n",
        "            if \"data\" in output and \"application/vnd.jupyter.widget-view+json\" in output[\"data\"]:\n",
        "                del output[\"data\"][\"application/vnd.jupyter.widget-view+json\"]\n",
        "\n",
        "    with open(notebook_path, \"w\", encoding=\"utf-8\") as f:\n",
        "        json.dump(data, f, indent=2, ensure_ascii=False)\n",
        "    print(f\"Cleaned: {notebook_path}\")\n",
        "\n",
        "# 在這裡指定 notebook 路徑\n",
        "# notebook_path = \"/content/drive/MyDrive/Colab Notebooks/week6_語言模型_HuggingFace.ipynb\"\n",
        "notebook_path = \"/content/drive/MyDrive/Colab Notebooks/week6_語言模型_HuggingFace.ipynb\"\n",
        "remove_widgets(notebook_path)"
      ],
      "metadata": {
        "colab": {
          "base_uri": "https://localhost:8080/",
          "height": 297
        },
        "id": "EiY0UNcSJhJ4",
        "outputId": "bb2dfb23-936e-4a99-d555-3f7dc91984e6"
      },
      "execution_count": null,
      "outputs": [
        {
          "output_type": "error",
          "ename": "FileNotFoundError",
          "evalue": "[Errno 2] No such file or directory: 'week6_語言模型_HuggingFace'",
          "traceback": [
            "\u001b[0;31m---------------------------------------------------------------------------\u001b[0m",
            "\u001b[0;31mFileNotFoundError\u001b[0m                         Traceback (most recent call last)",
            "\u001b[0;32m/tmp/ipython-input-2939726619.py\u001b[0m in \u001b[0;36m<cell line: 0>\u001b[0;34m()\u001b[0m\n\u001b[1;32m     28\u001b[0m \u001b[0;31m# notebook_path = \"/content/drive/MyDrive/Colab Notebooks/week6_語言模型_HuggingFace.ipynb\"\u001b[0m\u001b[0;34m\u001b[0m\u001b[0;34m\u001b[0m\u001b[0m\n\u001b[1;32m     29\u001b[0m \u001b[0mnotebook_path\u001b[0m \u001b[0;34m=\u001b[0m \u001b[0;34m\"week6_語言模型_HuggingFace\"\u001b[0m\u001b[0;34m\u001b[0m\u001b[0;34m\u001b[0m\u001b[0m\n\u001b[0;32m---> 30\u001b[0;31m \u001b[0mremove_widgets\u001b[0m\u001b[0;34m(\u001b[0m\u001b[0mnotebook_path\u001b[0m\u001b[0;34m)\u001b[0m\u001b[0;34m\u001b[0m\u001b[0;34m\u001b[0m\u001b[0m\n\u001b[0m",
            "\u001b[0;32m/tmp/ipython-input-2939726619.py\u001b[0m in \u001b[0;36mremove_widgets\u001b[0;34m(notebook_path)\u001b[0m\n\u001b[1;32m      4\u001b[0m \u001b[0;34m\u001b[0m\u001b[0m\n\u001b[1;32m      5\u001b[0m \u001b[0;32mdef\u001b[0m \u001b[0mremove_widgets\u001b[0m\u001b[0;34m(\u001b[0m\u001b[0mnotebook_path\u001b[0m\u001b[0;34m)\u001b[0m\u001b[0;34m:\u001b[0m\u001b[0;34m\u001b[0m\u001b[0;34m\u001b[0m\u001b[0m\n\u001b[0;32m----> 6\u001b[0;31m     \u001b[0;32mwith\u001b[0m \u001b[0mopen\u001b[0m\u001b[0;34m(\u001b[0m\u001b[0mnotebook_path\u001b[0m\u001b[0;34m,\u001b[0m \u001b[0;34m\"r\"\u001b[0m\u001b[0;34m,\u001b[0m \u001b[0mencoding\u001b[0m\u001b[0;34m=\u001b[0m\u001b[0;34m\"utf-8\"\u001b[0m\u001b[0;34m)\u001b[0m \u001b[0;32mas\u001b[0m \u001b[0mf\u001b[0m\u001b[0;34m:\u001b[0m\u001b[0;34m\u001b[0m\u001b[0;34m\u001b[0m\u001b[0m\n\u001b[0m\u001b[1;32m      7\u001b[0m         \u001b[0mdata\u001b[0m \u001b[0;34m=\u001b[0m \u001b[0mjson\u001b[0m\u001b[0;34m.\u001b[0m\u001b[0mload\u001b[0m\u001b[0;34m(\u001b[0m\u001b[0mf\u001b[0m\u001b[0;34m)\u001b[0m\u001b[0;34m\u001b[0m\u001b[0;34m\u001b[0m\u001b[0m\n\u001b[1;32m      8\u001b[0m \u001b[0;34m\u001b[0m\u001b[0m\n",
            "\u001b[0;31mFileNotFoundError\u001b[0m: [Errno 2] No such file or directory: 'week6_語言模型_HuggingFace'"
          ]
        }
      ]
    },
    {
      "cell_type": "code",
      "source": [
        "!jupyter nbconvert --ClearMetadataPreprocessor.enabled=True --inplace --to notebook /content/drive/MyDrive/Colab Notebooks/week6_語言模型_HuggingFace"
      ],
      "metadata": {
        "colab": {
          "base_uri": "https://localhost:8080/"
        },
        "id": "nRFTmqNOMmx9",
        "outputId": "a0824d0d-0a83-4ae1-cb7c-4fe5187d7570"
      },
      "execution_count": 7,
      "outputs": [
        {
          "output_type": "stream",
          "name": "stdout",
          "text": [
            "[NbConvertApp] WARNING | pattern '/content/drive/MyDrive/Colab' matched no files\n",
            "[NbConvertApp] WARNING | pattern 'Notebooks/week6_語言模型_HuggingFace' matched no files\n",
            "This application is used to convert notebook files (*.ipynb)\n",
            "        to various other formats.\n",
            "\n",
            "        WARNING: THE COMMANDLINE INTERFACE MAY CHANGE IN FUTURE RELEASES.\n",
            "\n",
            "Options\n",
            "=======\n",
            "The options below are convenience aliases to configurable class-options,\n",
            "as listed in the \"Equivalent to\" description-line of the aliases.\n",
            "To see all configurable class-options for some <cmd>, use:\n",
            "    <cmd> --help-all\n",
            "\n",
            "--debug\n",
            "    set log level to logging.DEBUG (maximize logging output)\n",
            "    Equivalent to: [--Application.log_level=10]\n",
            "--show-config\n",
            "    Show the application's configuration (human-readable format)\n",
            "    Equivalent to: [--Application.show_config=True]\n",
            "--show-config-json\n",
            "    Show the application's configuration (json format)\n",
            "    Equivalent to: [--Application.show_config_json=True]\n",
            "--generate-config\n",
            "    generate default config file\n",
            "    Equivalent to: [--JupyterApp.generate_config=True]\n",
            "-y\n",
            "    Answer yes to any questions instead of prompting.\n",
            "    Equivalent to: [--JupyterApp.answer_yes=True]\n",
            "--execute\n",
            "    Execute the notebook prior to export.\n",
            "    Equivalent to: [--ExecutePreprocessor.enabled=True]\n",
            "--allow-errors\n",
            "    Continue notebook execution even if one of the cells throws an error and include the error message in the cell output (the default behaviour is to abort conversion). This flag is only relevant if '--execute' was specified, too.\n",
            "    Equivalent to: [--ExecutePreprocessor.allow_errors=True]\n",
            "--stdin\n",
            "    read a single notebook file from stdin. Write the resulting notebook with default basename 'notebook.*'\n",
            "    Equivalent to: [--NbConvertApp.from_stdin=True]\n",
            "--stdout\n",
            "    Write notebook output to stdout instead of files.\n",
            "    Equivalent to: [--NbConvertApp.writer_class=StdoutWriter]\n",
            "--inplace\n",
            "    Run nbconvert in place, overwriting the existing notebook (only\n",
            "            relevant when converting to notebook format)\n",
            "    Equivalent to: [--NbConvertApp.use_output_suffix=False --NbConvertApp.export_format=notebook --FilesWriter.build_directory=]\n",
            "--clear-output\n",
            "    Clear output of current file and save in place,\n",
            "            overwriting the existing notebook.\n",
            "    Equivalent to: [--NbConvertApp.use_output_suffix=False --NbConvertApp.export_format=notebook --FilesWriter.build_directory= --ClearOutputPreprocessor.enabled=True]\n",
            "--coalesce-streams\n",
            "    Coalesce consecutive stdout and stderr outputs into one stream (within each cell).\n",
            "    Equivalent to: [--NbConvertApp.use_output_suffix=False --NbConvertApp.export_format=notebook --FilesWriter.build_directory= --CoalesceStreamsPreprocessor.enabled=True]\n",
            "--no-prompt\n",
            "    Exclude input and output prompts from converted document.\n",
            "    Equivalent to: [--TemplateExporter.exclude_input_prompt=True --TemplateExporter.exclude_output_prompt=True]\n",
            "--no-input\n",
            "    Exclude input cells and output prompts from converted document.\n",
            "            This mode is ideal for generating code-free reports.\n",
            "    Equivalent to: [--TemplateExporter.exclude_output_prompt=True --TemplateExporter.exclude_input=True --TemplateExporter.exclude_input_prompt=True]\n",
            "--allow-chromium-download\n",
            "    Whether to allow downloading chromium if no suitable version is found on the system.\n",
            "    Equivalent to: [--WebPDFExporter.allow_chromium_download=True]\n",
            "--disable-chromium-sandbox\n",
            "    Disable chromium security sandbox when converting to PDF..\n",
            "    Equivalent to: [--WebPDFExporter.disable_sandbox=True]\n",
            "--show-input\n",
            "    Shows code input. This flag is only useful for dejavu users.\n",
            "    Equivalent to: [--TemplateExporter.exclude_input=False]\n",
            "--embed-images\n",
            "    Embed the images as base64 dataurls in the output. This flag is only useful for the HTML/WebPDF/Slides exports.\n",
            "    Equivalent to: [--HTMLExporter.embed_images=True]\n",
            "--sanitize-html\n",
            "    Whether the HTML in Markdown cells and cell outputs should be sanitized..\n",
            "    Equivalent to: [--HTMLExporter.sanitize_html=True]\n",
            "--log-level=<Enum>\n",
            "    Set the log level by value or name.\n",
            "    Choices: any of [0, 10, 20, 30, 40, 50, 'DEBUG', 'INFO', 'WARN', 'ERROR', 'CRITICAL']\n",
            "    Default: 30\n",
            "    Equivalent to: [--Application.log_level]\n",
            "--config=<Unicode>\n",
            "    Full path of a config file.\n",
            "    Default: ''\n",
            "    Equivalent to: [--JupyterApp.config_file]\n",
            "--to=<Unicode>\n",
            "    The export format to be used, either one of the built-in formats\n",
            "            ['asciidoc', 'custom', 'html', 'latex', 'markdown', 'notebook', 'pdf', 'python', 'qtpdf', 'qtpng', 'rst', 'script', 'slides', 'webpdf']\n",
            "            or a dotted object name that represents the import path for an\n",
            "            ``Exporter`` class\n",
            "    Default: ''\n",
            "    Equivalent to: [--NbConvertApp.export_format]\n",
            "--template=<Unicode>\n",
            "    Name of the template to use\n",
            "    Default: ''\n",
            "    Equivalent to: [--TemplateExporter.template_name]\n",
            "--template-file=<Unicode>\n",
            "    Name of the template file to use\n",
            "    Default: None\n",
            "    Equivalent to: [--TemplateExporter.template_file]\n",
            "--theme=<Unicode>\n",
            "    Template specific theme(e.g. the name of a JupyterLab CSS theme distributed\n",
            "    as prebuilt extension for the lab template)\n",
            "    Default: 'light'\n",
            "    Equivalent to: [--HTMLExporter.theme]\n",
            "--sanitize_html=<Bool>\n",
            "    Whether the HTML in Markdown cells and cell outputs should be sanitized.This\n",
            "    should be set to True by nbviewer or similar tools.\n",
            "    Default: False\n",
            "    Equivalent to: [--HTMLExporter.sanitize_html]\n",
            "--writer=<DottedObjectName>\n",
            "    Writer class used to write the\n",
            "                                        results of the conversion\n",
            "    Default: 'FilesWriter'\n",
            "    Equivalent to: [--NbConvertApp.writer_class]\n",
            "--post=<DottedOrNone>\n",
            "    PostProcessor class used to write the\n",
            "                                        results of the conversion\n",
            "    Default: ''\n",
            "    Equivalent to: [--NbConvertApp.postprocessor_class]\n",
            "--output=<Unicode>\n",
            "    Overwrite base name use for output files.\n",
            "                Supports pattern replacements '{notebook_name}'.\n",
            "    Default: '{notebook_name}'\n",
            "    Equivalent to: [--NbConvertApp.output_base]\n",
            "--output-dir=<Unicode>\n",
            "    Directory to write output(s) to. Defaults\n",
            "                                  to output to the directory of each notebook. To recover\n",
            "                                  previous default behaviour (outputting to the current\n",
            "                                  working directory) use . as the flag value.\n",
            "    Default: ''\n",
            "    Equivalent to: [--FilesWriter.build_directory]\n",
            "--reveal-prefix=<Unicode>\n",
            "    The URL prefix for reveal.js (version 3.x).\n",
            "            This defaults to the reveal CDN, but can be any url pointing to a copy\n",
            "            of reveal.js.\n",
            "            For speaker notes to work, this must be a relative path to a local\n",
            "            copy of reveal.js: e.g., \"reveal.js\".\n",
            "            If a relative path is given, it must be a subdirectory of the\n",
            "            current directory (from which the server is run).\n",
            "            See the usage documentation\n",
            "            (https://nbconvert.readthedocs.io/en/latest/usage.html#reveal-js-html-slideshow)\n",
            "            for more details.\n",
            "    Default: ''\n",
            "    Equivalent to: [--SlidesExporter.reveal_url_prefix]\n",
            "--nbformat=<Enum>\n",
            "    The nbformat version to write.\n",
            "            Use this to downgrade notebooks.\n",
            "    Choices: any of [1, 2, 3, 4]\n",
            "    Default: 4\n",
            "    Equivalent to: [--NotebookExporter.nbformat_version]\n",
            "\n",
            "Examples\n",
            "--------\n",
            "\n",
            "    The simplest way to use nbconvert is\n",
            "\n",
            "            > jupyter nbconvert mynotebook.ipynb --to html\n",
            "\n",
            "            Options include ['asciidoc', 'custom', 'html', 'latex', 'markdown', 'notebook', 'pdf', 'python', 'qtpdf', 'qtpng', 'rst', 'script', 'slides', 'webpdf'].\n",
            "\n",
            "            > jupyter nbconvert --to latex mynotebook.ipynb\n",
            "\n",
            "            Both HTML and LaTeX support multiple output templates. LaTeX includes\n",
            "            'base', 'article' and 'report'.  HTML includes 'basic', 'lab' and\n",
            "            'classic'. You can specify the flavor of the format used.\n",
            "\n",
            "            > jupyter nbconvert --to html --template lab mynotebook.ipynb\n",
            "\n",
            "            You can also pipe the output to stdout, rather than a file\n",
            "\n",
            "            > jupyter nbconvert mynotebook.ipynb --stdout\n",
            "\n",
            "            PDF is generated via latex\n",
            "\n",
            "            > jupyter nbconvert mynotebook.ipynb --to pdf\n",
            "\n",
            "            You can get (and serve) a Reveal.js-powered slideshow\n",
            "\n",
            "            > jupyter nbconvert myslides.ipynb --to slides --post serve\n",
            "\n",
            "            Multiple notebooks can be given at the command line in a couple of\n",
            "            different ways:\n",
            "\n",
            "            > jupyter nbconvert notebook*.ipynb\n",
            "            > jupyter nbconvert notebook1.ipynb notebook2.ipynb\n",
            "\n",
            "            or you can specify the notebooks list in a config file, containing::\n",
            "\n",
            "                c.NbConvertApp.notebooks = [\"my_notebook.ipynb\"]\n",
            "\n",
            "            > jupyter nbconvert --config mycfg.py\n",
            "\n",
            "To see all available configurables, use `--help-all`.\n",
            "\n"
          ]
        }
      ]
    },
    {
      "cell_type": "code",
      "source": [
        "!grep \"widgets\" \"/content/drive/MyDrive/Colab Notebooks/week6_語言模型_HuggingFace\""
      ],
      "metadata": {
        "colab": {
          "base_uri": "https://localhost:8080/"
        },
        "id": "NJVVNk_SMF3e",
        "outputId": "a4827587-d585-4ad9-9c22-0f758903e88d"
      },
      "execution_count": 8,
      "outputs": [
        {
          "output_type": "stream",
          "name": "stdout",
          "text": [
            "{\"cells\":[{\"cell_type\":\"markdown\",\"metadata\":{\"id\":\"UwcN41PQf73W\"},\"source\":[\"# <b>Hugging Face</b>\\n\",\"Hugging Face 網址：https://huggingface.co/\\n\",\"\\n\",\"Hugging Face 是 AI 領域的開放平台，像 GitHub 一樣託管並分享 AI 模型與資料集。也收錄了很多來自頂尖研究的模型，涵蓋 NLP、計算機視覺、語音處理等領域。使用者可以在 Hub 上存取、分享、微調模型，加速 AI 的合作與創新。\"]},{\"cell_type\":\"code\",\"execution_count\":null,\"metadata\":{\"colab\":{\"base_uri\":\"https://localhost:8080/\"},\"executionInfo\":{\"elapsed\":15780,\"status\":\"ok\",\"timestamp\":1761789774361,\"user\":{\"displayName\":\"張景陽\",\"userId\":\"17990199239061367823\"},\"user_tz\":-480},\"id\":\"Pfwn6jilq0ro\",\"outputId\":\"9128ea78-bfc5-4e8f-c9ce-e16ae4289b2a\"},\"outputs\":[{\"output_type\":\"stream\",\"name\":\"stdout\",\"text\":[\"Requirement already satisfied: datasets in /usr/local/lib/python3.12/dist-packages (4.0.0)\\n\",\"Requirement already satisfied: filelock in /usr/local/lib/python3.12/dist-packages (from datasets) (3.20.0)\\n\",\"Requirement already satisfied: numpy>=1.17 in /usr/local/lib/python3.12/dist-packages (from datasets) (2.0.2)\\n\",\"Requirement already satisfied: pyarrow>=15.0.0 in /usr/local/lib/python3.12/dist-packages (from datasets) (18.1.0)\\n\",\"Requirement already satisfied: dill<0.3.9,>=0.3.0 in /usr/local/lib/python3.12/dist-packages (from datasets) (0.3.8)\\n\",\"Requirement already satisfied: pandas in /usr/local/lib/python3.12/dist-packages (from datasets) (2.2.2)\\n\",\"Requirement already satisfied: requests>=2.32.2 in /usr/local/lib/python3.12/dist-packages (from datasets) (2.32.4)\\n\",\"Requirement already satisfied: tqdm>=4.66.3 in /usr/local/lib/python3.12/dist-packages (from datasets) (4.67.1)\\n\",\"Requirement already satisfied: xxhash in /usr/local/lib/python3.12/dist-packages (from datasets) (3.6.0)\\n\",\"Requirement already satisfied: multiprocess<0.70.17 in /usr/local/lib/python3.12/dist-packages (from datasets) (0.70.16)\\n\",\"Requirement already satisfied: fsspec<=2025.3.0,>=2023.1.0 in /usr/local/lib/python3.12/dist-packages (from fsspec[http]<=2025.3.0,>=2023.1.0->datasets) (2025.3.0)\\n\",\"Requirement already satisfied: huggingface-hub>=0.24.0 in /usr/local/lib/python3.12/dist-packages (from datasets) (0.36.0)\\n\",\"Requirement already satisfied: packaging in /usr/local/lib/python3.12/dist-packages (from datasets) (25.0)\\n\",\"Requirement already satisfied: pyyaml>=5.1 in /usr/local/lib/python3.12/dist-packages (from datasets) (6.0.3)\\n\",\"Requirement already satisfied: aiohttp!=4.0.0a0,!=4.0.0a1 in /usr/local/lib/python3.12/dist-packages (from fsspec[http]<=2025.3.0,>=2023.1.0->datasets) (3.13.1)\\n\",\"Requirement already satisfied: typing-extensions>=3.7.4.3 in /usr/local/lib/python3.12/dist-packages (from huggingface-hub>=0.24.0->datasets) (4.15.0)\\n\",\"Requirement already satisfied: hf-xet<2.0.0,>=1.1.3 in /usr/local/lib/python3.12/dist-packages (from huggingface-hub>=0.24.0->datasets) (1.2.0)\\n\",\"Requirement already satisfied: charset_normalizer<4,>=2 in /usr/local/lib/python3.12/dist-packages (from requests>=2.32.2->datasets) (3.4.4)\\n\",\"Requirement already satisfied: idna<4,>=2.5 in /usr/local/lib/python3.12/dist-packages (from requests>=2.32.2->datasets) (3.11)\\n\",\"Requirement already satisfied: urllib3<3,>=1.21.1 in /usr/local/lib/python3.12/dist-packages (from requests>=2.32.2->datasets) (2.5.0)\\n\",\"Requirement already satisfied: certifi>=2017.4.17 in /usr/local/lib/python3.12/dist-packages (from requests>=2.32.2->datasets) (2025.10.5)\\n\",\"Requirement already satisfied: python-dateutil>=2.8.2 in /usr/local/lib/python3.12/dist-packages (from pandas->datasets) (2.9.0.post0)\\n\",\"Requirement already satisfied: pytz>=2020.1 in /usr/local/lib/python3.12/dist-packages (from pandas->datasets) (2025.2)\\n\",\"Requirement already satisfied: tzdata>=2022.7 in /usr/local/lib/python3.12/dist-packages (from pandas->datasets) (2025.2)\\n\",\"Requirement already satisfied: aiohappyeyeballs>=2.5.0 in /usr/local/lib/python3.12/dist-packages (from aiohttp!=4.0.0a0,!=4.0.0a1->fsspec[http]<=2025.3.0,>=2023.1.0->datasets) (2.6.1)\\n\",\"Requirement already satisfied: aiosignal>=1.4.0 in /usr/local/lib/python3.12/dist-packages (from aiohttp!=4.0.0a0,!=4.0.0a1->fsspec[http]<=2025.3.0,>=2023.1.0->datasets) (1.4.0)\\n\",\"Requirement already satisfied: attrs>=17.3.0 in /usr/local/lib/python3.12/dist-packages (from aiohttp!=4.0.0a0,!=4.0.0a1->fsspec[http]<=2025.3.0,>=2023.1.0->datasets) (25.4.0)\\n\",\"Requirement already satisfied: frozenlist>=1.1.1 in /usr/local/lib/python3.12/dist-packages (from aiohttp!=4.0.0a0,!=4.0.0a1->fsspec[http]<=2025.3.0,>=2023.1.0->datasets) (1.8.0)\\n\",\"Requirement already satisfied: multidict<7.0,>=4.5 in /usr/local/lib/python3.12/dist-packages (from aiohttp!=4.0.0a0,!=4.0.0a1->fsspec[http]<=2025.3.0,>=2023.1.0->datasets) (6.7.0)\\n\",\"Requirement already satisfied: propcache>=0.2.0 in /usr/local/lib/python3.12/dist-packages (from aiohttp!=4.0.0a0,!=4.0.0a1->fsspec[http]<=2025.3.0,>=2023.1.0->datasets) (0.4.1)\\n\",\"Requirement already satisfied: yarl<2.0,>=1.17.0 in /usr/local/lib/python3.12/dist-packages (from aiohttp!=4.0.0a0,!=4.0.0a1->fsspec[http]<=2025.3.0,>=2023.1.0->datasets) (1.22.0)\\n\",\"Requirement already satisfied: six>=1.5 in /usr/local/lib/python3.12/dist-packages (from python-dateutil>=2.8.2->pandas->datasets) (1.17.0)\\n\"]}],\"source\":[\"\\\"\\\"\\\"\\n\",\"- datasets 是 Hugging Face 提供的資料集載入工具\\n\",\"- 它整合了數千個公開資料集，包含 NLP、CV、Audio 等領域\\n\",\"- 提供統一的介面來下載、處理和使用資料集\\n\",\"- 支援快取機制，避免重複下載\\n\",\"\\\"\\\"\\\"\\n\",\"!pip install datasets\"]},{\"cell_type\":\"markdown\",\"metadata\":{\"id\":\"pbAzKp4WM4O9\"},\"source\":[\"### <b>資料前處理</b>\\n\"]},{\"cell_type\":\"code\",\"execution_count\":null,\"metadata\":{\"colab\":{\"base_uri\":\"https://localhost:8080/\",\"height\":680,\"referenced_widgets\":[\"f982b4d68d6c425693bf8e9f980f6ce8\",\"ebd23c6fd0e244feaa31a1afd1f0c363\",\"e736cdac29bc4537a479078b5466fb3c\",\"0ae0072fd57d44acbe58e76a7e983481\",\"6f9e56ee057e407592aa697a6f318730\",\"7ef5cb2169ed4db09781848b849f47eb\",\"51b1faa40303428986f24264cf068827\",\"2363fc2cdcdd438293bda0c31da3bb7f\",\"0bacb3619d4645bdb238e8878f137e0f\",\"20799885e1b14717ac3e6ccc9b9ad0c0\",\"fdd825d91b1e41819882fa5412e260bc\",\"1e419e37cb644a5e8cfa59ab4d5a1a05\",\"c5685724791e44af9cd4e2fbb19caaaf\",\"452474f457d24b2e856c8777afc05b37\",\"f7398a04c7834807a4d0cfa1b07caf7c\",\"7eec8668606e4843a81f2a7559871627\",\"07df6c5fccfc4b3eb957e5b9c2bcc9ce\",\"f7563d1142854ddb9f868d49cbc1b125\",\"238eb18b208b4e85b6a9868e1d73e8b7\",\"65385794df324646a3830c90c3114a79\",\"6d5c4a2ae774458fbfb9698f04a42e45\",\"9166a5d361d748e3801767e7890fb38c\",\"34eead3f7e684241adb19045d14ca21c\",\"5ca16f0996024a4f99180f032bd1945e\",\"237069b8c9c04a67a07090997b2726c2\",\"1369e7e7d0eb46f4b219904db49e76ef\",\"c4a3be6ddfc5449fa658b0f5f4d3df25\",\"1cab3d96addb49a78232257557152183\",\"3d2b33f2845b4d42a200bee5fb064d82\",\"1430d243a9a54d619322692d8bc01148\",\"720e696f6da44a57a1b7fc9431e3fdcb\",\"4835871507f04791852b170c507e0375\",\"87d0a6e82a134871af5077b0fdeec07d\",\"c3918095d30c475e960bcb57bce00fff\",\"90e662c0e93e4fd08c032df06ffa7f53\",\"f3784731c1fb41ebbb6358ccf5032e6d\",\"512cacb573194cdca4c1b1d734f34847\",\"a3d1b8791a2c4cc4907322e944e9ccb6\",\"71f9c660fd1b4379b17369f3c8bed0e4\",\"3484f45339b54dd797ca3221feac470b\",\"3cb38efec75343f387dfb7fc031b3349\",\"8691a430489a44c6bfabe5ff101f8cc0\",\"0ace7d3cb2be4fc1bc397bce7a7f6124\",\"fa9c63fb7eda45909b985cae0cb019ec\",\"0cdb46b5d415433bb4ecd2c8b8a42d5e\",\"436142833be044f7a29d070d4749b71d\",\"d4c58d40e548411dbdf8ed647febc20b\",\"32b60115b61c48e1bca0e84a4b22d732\",\"8ae340cd93c34343960552259bd1bb83\",\"752cb91fb3c74a0bbd674e25444775ed\",\"6da5640302854b84b57d05df6efa48f8\",\"42a47bae4e624c5598a1684da7f769e8\",\"5180c726df6345fa92299be970be0dbf\",\"b1bf105833a34c5fb03c738c0885aed9\",\"b744f45cc2c64af2a4860b83883999ac\",\"79e3156123e8409ebcbe55a6558ca035\",\"79cb359c650d433a9c41195cb1cf4978\",\"b8e35a5085564c5da34b86b742021eb0\",\"93da4b71634d433ba8fbcfef9710b21b\",\"04c1eb1f03f442b2ba7b3af0c392ba4f\",\"8a8e6b5c77584876a435fcba7482b1b4\",\"f2482004dd214507922d373b8fe77a3e\",\"c7b30f0064864feca541c338e465d7e2\",\"bb6ac8d4dcb54093a0e5ab5a1a9fe92f\",\"8660b0af203c4d16877c544f18d234cf\",\"3ad761daccc849438d11102a37df7d76\"]},\"executionInfo\":{\"elapsed\":9722,\"status\":\"ok\",\"timestamp\":1761789784224,\"user\":{\"displayName\":\"張景陽\",\"userId\":\"17990199239061367823\"},\"user_tz\":-480},\"id\":\"KpamGxqud9SG\",\"outputId\":\"5b1a5abc-83bd-43c4-d40e-c130cf419ef7\"},\"outputs\":[{\"output_type\":\"stream\",\"name\":\"stderr\",\"text\":[\"/usr/local/lib/python3.12/dist-packages/huggingface_hub/utils/_auth.py:94: UserWarning: \\n\",\"The secret `HF_TOKEN` does not exist in your Colab secrets.\\n\",\"To authenticate with the Hugging Face Hub, create a token in your settings tab (https://huggingface.co/settings/tokens), set it as secret in your Google Colab and restart your session.\\n\",\"You will be able to reuse this secret in all of your notebooks.\\n\",\"Please note that authentication is recommended but still optional to access public models or datasets.\\n\",\"  warnings.warn(\\n\"]},{\"output_type\":\"display_data\",\"data\":{\"text/plain\":[\"README.md: 0.00B [00:00, ?B/s]\"]},\"metadata\":{}},{\"output_type\":\"display_data\",\"data\":{\"text/plain\":[\"dataset_infos.json:   0%|          | 0.00/800 [00:00<?, ?B/s]\"]},\"metadata\":{}},{\"output_type\":\"display_data\",\"data\":{\"text/plain\":[\"data/train-00000-of-00001.parquet:   0%|          | 0.00/327k [00:00<?, ?B/s]\"]},\"metadata\":{}},{\"output_type\":\"display_data\",\"data\":{\"text/plain\":[\"data/test-00000-of-00001.parquet:   0%|          | 0.00/80.9k [00:00<?, ?B/s]\"]},\"metadata\":{}},{\"output_type\":\"display_data\",\"data\":{\"text/plain\":[\"Generating train split:   0%|          | 0/3877 [00:00<?, ? examples/s]\"]},\"metadata\":{}},{\"output_type\":\"display_data\",\"data\":{\"text/plain\":[\"Generating test split:   0%|          | 0/969 [00:00<?, ? examples/s]\"]},\"metadata\":{}},{\"output_type\":\"stream\",\"name\":\"stdout\",\"text\":[\"DatasetDict({\\n\",\"    train: Dataset({\\n\",\"        features: ['sentence', 'label'],\\n\",\"        num_rows: 3877\\n\",\"    })\\n\",\"    test: Dataset({\\n\",\"        features: ['sentence', 'label'],\\n\",\"        num_rows: 969\\n\",\"    })\\n\",\"})\\n\",\"訓練集： Dataset({\\n\",\"    features: ['sentence', 'label'],\\n\",\"    num_rows: 3877\\n\",\"})\\n\",\"測試集： Dataset({\\n\",\"    features: ['sentence', 'label'],\\n\",\"    num_rows: 969\\n\",\"})\\n\",\"訓練集欄位： ['sentence', 'label']\\n\",\"測試集欄位： ['sentence', 'label']\\n\"]}],\"source\":[\"from datasets import load_dataset\\n\",\"\\n\",\"\\\"\\\"\\\"\\n\",\"為什麼選擇 auditor_sentiment 資料集？\\n\",\"1. 金融領域專業性：專門針對財務報告和審計意見設計\\n\",\"2. 標籤品質：由金融專家標註，確保情緒分類的準確性\\n\",\"3. 真實場景：模擬實際金融分析師的工作情境\\n\",\"4. 三分類問題：Negative(負面)、Neutral(中性)、Positive(正面)\\n\",\"\\n\",\"這個資料集適合用來訓練金融新聞情緒分析模型，\\n\",\"\\\"\\\"\\\"\\n\",\"\\n\",\"# 使用已轉換好的版本\\n\",\"dataset = load_dataset(\\n\",\"    \\\"FinanceInc/auditor_sentiment\\\",  # 這是轉換後的版本\\n\",\"    #split=\\\"train\\\"\\n\",\")\\n\",\"\\n\",\"print(dataset)\\n\",\"\\n\",\"print(\\\"訓練集：\\\", dataset['train'])\\n\",\"print(\\\"測試集：\\\", dataset['test'])\\n\",\"\\n\",\"# 查看資料集的欄位名稱與類型\\n\",\"print(\\\"訓練集欄位：\\\", dataset[\\\"train\\\"].column_names)\\n\",\"print(\\\"測試集欄位：\\\", dataset[\\\"test\\\"].column_names)\"]},{\"cell_type\":\"code\",\"execution_count\":null,\"metadata\":{\"colab\":{\"base_uri\":\"https://localhost:8080/\"},\"executionInfo\":{\"elapsed\":3,\"status\":\"ok\",\"timestamp\":1761789784228,\"user\":{\"displayName\":\"張景陽\",\"userId\":\"17990199239061367823\"},\"user_tz\":-480},\"id\":\"Ld1BVr6Vrwc9\",\"outputId\":\"d1c92f4f-11ef-4138-cd30-8eb8f360dc5e\"},\"outputs\":[{\"output_type\":\"stream\",\"name\":\"stdout\",\"text\":[\"\\n\",\"訓練集前5筆：\\n\",\"{'sentence': [\\\"Altia 's operating profit jumped to EUR 47 million from EUR 6.6 million .\\\", 'The agreement was signed with Biohit Healthcare Ltd , the UK-based subsidiary of Biohit Oyj , a Finnish public company which develops , manufactures and markets liquid handling products and diagnostic test systems .', 'Kesko pursues a strategy of healthy , focused growth concentrating on sales and services to consumer-customers .', 'Vaisala , headquartered in Helsinki in Finland , develops and manufactures electronic measurement systems for meteorology , environmental sciences , traffic and industry .', 'Also , a six-year historic analysis is provided for these markets .'], 'label': [2, 2, 2, 1, 1]}\\n\",\"\\n\",\"測試集前5筆：\\n\",\"{'sentence': [\\\"TeliaSonera TLSN said the offer is in line with its strategy to increase its ownership in core business holdings and would strengthen Eesti Telekom 's offering to its customers .\\\", 'STORA ENSO , NORSKE SKOG , M-REAL , UPM-KYMMENE Credit Suisse First Boston ( CFSB ) raised the fair value for shares in four of the largest Nordic forestry groups .', \\\"Clothing retail chain Sepp+ñl+ñ 's sales increased by 8 % to EUR 155.2 mn , and operating profit rose to EUR 31.1 mn from EUR 17.1 mn in 2004 .\\\", 'Lifetree was founded in 2000 , and its revenues have risen on an average by 40 % with margins in late 30s .', \\\"Nordea Group 's operating profit increased in 2010 by 18 percent year-on-year to 3.64 billion euros and total revenue by 3 percent to 9.33 billion euros .\\\"], 'label': [2, 2, 2, 2, 2]}\\n\",\"\\n\",\"資料集的 keys： dict_keys(['train', 'test'])\\n\"]}],\"source\":[\"# 查看訓練集中前幾筆數據\\n\",\"print(\\\"\\\\n訓練集前5筆：\\\")\\n\",\"print(dataset[\\\"train\\\"][:5])\\n\",\"\\n\",\"# 查看測試集中前幾筆數據\\n\",\"print(\\\"\\\\n測試集前5筆：\\\")\\n\",\"print(dataset[\\\"test\\\"][:5])\\n\",\"\\n\",\"# 查看資料集中有哪些 Keys\\n\",\"print(\\\"\\\\n資料集的 keys：\\\", dataset.keys())\"]},{\"cell_type\":\"code\",\"execution_count\":null,\"metadata\":{\"colab\":{\"base_uri\":\"https://localhost:8080/\"},\"executionInfo\":{\"elapsed\":196,\"status\":\"ok\",\"timestamp\":1761789784425,\"user\":{\"displayName\":\"張景陽\",\"userId\":\"17990199239061367823\"},\"user_tz\":-480},\"id\":\"6Zor1u19sN7H\",\"outputId\":\"638ff19c-a444-42a5-eda2-cb76a089d5f5\"},\"outputs\":[{\"output_type\":\"stream\",\"name\":\"stdout\",\"text\":[\"\\n\",\"訓練集標籤分佈： Counter({1: 2320, 2: 1077, 0: 480})\\n\",\"測試集標籤分佈： Counter({1: 559, 2: 286, 0: 124})\\n\"]}],\"source\":[\"from collections import Counter # 計算列表中每個元素的出現次數\\n\",\"\\n\",\"\\\"\\\"\\\"\\n\",\"為什麼要分析標籤分佈？\\n\",\"1. 檢查類別不平衡(Class Imbalance)問題\\n\",\"   - 如果某類別樣本過少，模型可能學不好該類別\\n\",\"   - 可能需要使用過採樣(oversampling)或欠採樣(undersampling)\\n\",\"\\n\",\"2. 了解資料特性\\n\",\"   - 金融文本中，中性(Neutral)通常佔多數\\n\",\"   - 正面和負面情緒相對較少\\n\",\"\\n\",\"3. 決定評估指標\\n\",\"   - 如果類別不平衡嚴重，準確率(Accuracy)可能不適合\\n\",\"   - 應該使用 F1-score、Precision、Recall 等指標\\n\",\"\\\"\\\"\\\"\\n\",\"# label_map = {0: \\\"Negative\\\", 1: \\\"Neutral\\\", 2: \\\"Positive\\\"}\\n\",\"# 計算訓練集標籤出現次數\\n\",\"label_counts_train = Counter(dataset[\\\"train\\\"][\\\"label\\\"])\\n\",\"print(\\\"\\\\n訓練集標籤分佈：\\\", label_counts_train)\\n\",\"\\n\",\"# 計算測試集標籤出現次數\\n\",\"label_counts_test = Counter(dataset[\\\"test\\\"][\\\"label\\\"])\\n\",\"print(\\\"測試集標籤分佈：\\\", label_counts_test)\"]},{\"cell_type\":\"code\",\"execution_count\":null,\"metadata\":{\"colab\":{\"base_uri\":\"https://localhost:8080/\"},\"executionInfo\":{\"elapsed\":613,\"status\":\"ok\",\"timestamp\":1761789785269,\"user\":{\"displayName\":\"張景陽\",\"userId\":\"17990199239061367823\"},\"user_tz\":-480},\"id\":\"1JdIzMmysUOf\",\"outputId\":\"413b040a-5aba-4393-a70c-6c5f5e0528a8\"},\"outputs\":[{\"output_type\":\"stream\",\"name\":\"stdout\",\"text\":[\"\\n\",\"訓練集前5筆：\\n\",\"                                            sentence  label\\n\",\"0  Altia 's operating profit jumped to EUR 47 mil...      2\\n\",\"1  The agreement was signed with Biohit Healthcar...      2\\n\",\"2  Kesko pursues a strategy of healthy , focused ...      2\\n\",\"3  Vaisala , headquartered in Helsinki in Finland...      1\\n\",\"4  Also , a six-year historic analysis is provide...      1\\n\",\"\\n\",\"測試集前5筆：\\n\",\"                                            sentence  label\\n\",\"0  TeliaSonera TLSN said the offer is in line wit...      2\\n\",\"1  STORA ENSO , NORSKE SKOG , M-REAL , UPM-KYMMEN...      2\\n\",\"2  Clothing retail chain Sepp+ñl+ñ 's sales incre...      2\\n\",\"3  Lifetree was founded in 2000 , and its revenue...      2\\n\",\"4  Nordea Group 's operating profit increased in ...      2\\n\"]}],\"source\":[\"import pandas as pd  # 結構化資料處理套件\\n\",\"\\n\",\"\\\"\\\"\\\"\\n\",\"為什麼要轉換成 DataFrame？\\n\",\"1. 更直觀的資料檢視：表格形式更容易閱讀和理解\\n\",\"2. 豐富的資料處理功能：pandas 提供大量資料清洗工具\\n\",\"3. 方便進行統計分析：可以快速計算統計量\\n\",\"4. 易於視覺化：可以搭配 matplotlib、seaborn 繪圖\\n\",\"\\\"\\\"\\\"\\n\",\"\\n\",\"# 轉換為 DataFrame\\n\",\"df_train = pd.DataFrame(dataset[\\\"train\\\"])\\n\",\"df_test = pd.DataFrame(dataset[\\\"test\\\"])\\n\",\"\\n\",\"print(\\\"\\\\n訓練集前5筆：\\\")\\n\",\"print(df_train.head())\\n\",\"\\n\",\"print(\\\"\\\\n測試集前5筆：\\\")\\n\",\"print(df_test.head())\"]},{\"cell_type\":\"code\",\"execution_count\":null,\"metadata\":{\"colab\":{\"base_uri\":\"https://localhost:8080/\"},\"executionInfo\":{\"elapsed\":47,\"status\":\"ok\",\"timestamp\":1761789785317,\"user\":{\"displayName\":\"張景陽\",\"userId\":\"17990199239061367823\"},\"user_tz\":-480},\"id\":\"JuqLq2Kqs1Dk\",\"outputId\":\"4e28a239-d41f-4d33-eb87-73ab42b27963\"},\"outputs\":[{\"output_type\":\"stream\",\"name\":\"stdout\",\"text\":[\"\\n\",\"訓練集空值： sentence    0\\n\",\"label       0\\n\",\"dtype: int64\\n\",\"測試集空值： sentence    0\\n\",\"label       0\\n\",\"dtype: int64\\n\",\"\\n\",\"訓練集大小： (3872, 2)\\n\",\"測試集大小： (969, 2)\\n\"]}],\"source\":[\"\\\"\\\"\\\"\\n\",\"為什麼要檢查空值和重複值？\\n\",\"1. 空值(Null values)問題\\n\",\"   - 空值會導致模型訓練失敗或產生錯誤\\n\",\"   - 需要決定是刪除還是填補(imputation)\\n\",\"\\n\",\"2. 重複值(Duplicates)問題\\n\",\"   - 重複的句子會讓模型過度擬合該樣本\\n\",\"   - 影響模型的泛化能力\\n\",\"   - 可能導致評估指標不準確\\n\",\"\\\"\\\"\\\"\\n\",\"# 檢查空值\\n\",\"print(\\\"\\\\n訓練集空值：\\\", df_train.isnull().sum())\\n\",\"print(\\\"測試集空值：\\\", df_test.isnull().sum())\\n\",\"\\n\",\"# 刪除重複值（如果有的話）\\n\",\"df_train.drop_duplicates(subset=[\\\"sentence\\\"], inplace=True)\\n\",\"df_test.drop_duplicates(subset=[\\\"sentence\\\"], inplace=True)\\n\",\"\\n\",\"print(\\\"\\\\n訓練集大小：\\\", df_train.shape)\\n\",\"print(\\\"測試集大小：\\\", df_test.shape)\"]},{\"cell_type\":\"code\",\"execution_count\":null,\"metadata\":{\"colab\":{\"base_uri\":\"https://localhost:8080/\"},\"executionInfo\":{\"elapsed\":51,\"status\":\"ok\",\"timestamp\":1761789785372,\"user\":{\"displayName\":\"張景陽\",\"userId\":\"17990199239061367823\"},\"user_tz\":-480},\"id\":\"m2WaN3BrsYOF\",\"outputId\":\"f7cb896b-b1bb-454c-beb8-75048e0ea409\"},\"outputs\":[{\"output_type\":\"stream\",\"name\":\"stdout\",\"text\":[\"\\n\",\"資料集劃分：\\n\",\"訓練集大小：3101\\n\",\"驗證集大小：776 （從訓練集切出，用於訓練過程中的評估）\\n\",\"測試集大小：969 （保留到最後才使用，避免資訊洩漏）\\n\"]}],\"source\":[\"train_val_split = dataset[\\\"train\\\"].train_test_split(test_size=0.2, seed=42)\\n\",\"train_dataset = train_val_split[\\\"train\\\"]\\n\",\"val_dataset = train_val_split[\\\"test\\\"]\\n\",\"test_dataset = dataset[\\\"test\\\"]\\n\",\"print(\\\"\\\\n資料集劃分：\\\")\\n\",\"print(f\\\"訓練集大小：{len(train_dataset)}\\\")\\n\",\"print(f\\\"驗證集大小：{len(val_dataset)} （從訓練集切出，用於訓練過程中的評估）\\\")\\n\",\"print(f\\\"測試集大小：{len(test_dataset)} （保留到最後才使用，避免資訊洩漏）\\\")\"]},{\"cell_type\":\"code\",\"execution_count\":null,\"metadata\":{\"colab\":{\"base_uri\":\"https://localhost:8080/\",\"height\":276,\"referenced_widgets\":[\"4a03e941fe9743c49e32ad72acece309\",\"975eb81fed92433693a72df544d3af0a\",\"c17586924d8f46bcbc14ac3b44ebf866\",\"6e9a033e53f846f1aad300024b8e874b\",\"23682b10f9f2422d80decb0b52c75e6e\",\"707f64e2f5ff401083e773a36df51e71\",\"4561b6c5469c449a80b972d828c736a9\",\"3e9beff69f654986a795660412af956d\",\"ae6a0c63af9e4f23b4fc0ea64d1aad67\",\"13b3615ba3654bf1b1dc59ed87548f4c\",\"389ce13b20e64f47980c16181d56a99f\",\"a937711e59b9420a95efaf2cfebc9263\",\"909bc67cf6a44dba8acbc653535a8d46\",\"514c3f9432f44f7d9bec346455a20511\",\"8c1e0a1a7deb40fea7bdcbbb558fe4f5\",\"46e6a59ce1a246a1823fd531efc5860c\",\"498fa534db234c53b1355a8289bbd699\",\"a987b8cad13b4bfb98b92fa1a24f7f11\",\"9a4ba6c3b9704930991c99c5d96b94b0\",\"38688de450a54ac8a45cee8bd1b62790\",\"cf16315add514de79fd3c7d8072bcb8e\",\"c1c57a67dd064c709ea3e704a0ec2ab7\",\"136ce811418a4ddd97d69f312a53877d\",\"a54ebe0cb5874680bda2a8b6cc945f86\",\"f7d1a1af702c4e6bbdee9187ccddc735\",\"aa3c4c15ad1348b780c0adb228cbc33b\",\"8b1443be2dd3451abcdd5f694ee6a8b3\",\"f361898e10124549a350e1974b4f2789\",\"0557a9324ff34e26886cca1cd34a00cc\",\"9902b80dc2fe40ad99d6471e1b700156\",\"31a5370bef3d41cc90edd445a1bf07c2\",\"4220e892bb1147338ac3d868319e747e\",\"30e5e60bc8134bbc8035fce6efe5af04\",\"e137add5af8b4415a86977e5387d6753\",\"88d47fa2f0ff4208a5ff4b825893d598\",\"1ab0dbe7d7e04dc78c633d4b53791083\",\"43905821e8424a359e7abf7f81b160c1\",\"68fc5a23cb0c48fa8b5f1c8ae23f3398\",\"148c4902cf144f13ad33167c7fec7fc2\",\"e89dc51cfb6b424fa2976005b6506d70\",\"7c93b99dec534ba6b2cf11920cfc0c41\",\"51920697cbe040b0b5d590828f884f37\",\"caf0f6d48e42461198af615914b9adca\",\"31109bbbfb2e4b2f823f4dc13c32c6a7\",\"a35c0a37b11446898d3684f563089161\",\"1ee92b0231be45f68f2c3aed11d23cef\",\"a3299b03ad584363aaf77bfbc4afd836\",\"2790ab1be36b4a468ca90ac343f8a2b6\",\"0db3773f29f74265b7e79294f9b6243c\",\"81f32bafa30a4f8eae03eb40d70bc420\",\"05e6479da1054ca2b7f409b2efc81c9d\",\"c8bbee6c83ae434dacfff2b56a9f592f\",\"e10d68181a7744a1934f6dca602858ab\",\"42517bc6510b42aa8b9ed55a30af24f0\",\"847edc792a354efb9f647e5c388d76bd\",\"7de8e75908a54bed99173a9037e2aeca\",\"c1c000361c144220b32a0b47f640759d\",\"bc08e97a6996488589748dd7d9b5dbb7\",\"57d6becd972e46d2ae63ae96aca3e8af\",\"a5d8cac6a27b44819b5f4b0e2077dae2\",\"4f4caaf46ab64a5595d1c2ce75d61dbd\",\"3f38943485c64850a31bd9d4725298e3\",\"b42567bb3ca0486dbbf028fc6ff9b651\",\"42d5edae57af416091e4f96789491cdc\",\"461ea9246664495d84090f6a2cf975ea\",\"45bdb57598e3430996a883e1f217806e\",\"df46075996994b44aad3e8d9d1965da9\",\"0dccdcc38c074ecc8fc1a2a88becc027\",\"e71f318715254d1cb89156a377694b9d\",\"f60653c98a684110bca0070156808b71\",\"f2cb804177c2429799c2210258a5333d\",\"502c47c2c98e49008cfcf6553c5c336b\",\"7c9352c69d5144c28d515117a6722eeb\",\"1aba4c504bff49b3b9ff2d595ca6ec82\",\"b3c9fd10db4a4435b9e7f351a585be4e\",\"e215c66c5c134b9abedc1c8cbbb4515d\",\"f0d5c824f57f44c2990be198a30f8f70\"]},\"executionInfo\":{\"elapsed\":33690,\"status\":\"ok\",\"timestamp\":1761789819071,\"user\":{\"displayName\":\"張景陽\",\"userId\":\"17990199239061367823\"},\"user_tz\":-480},\"id\":\"yt-UA3uXsrD4\",\"outputId\":\"ddc9c096-f5e6-40e0-842f-d018330c19a6\"},\"outputs\":[{\"output_type\":\"stream\",\"name\":\"stdout\",\"text\":[\"\\n\",\"使用的模型：bert-base-uncased\\n\"]},{\"output_type\":\"display_data\",\"data\":{\"text/plain\":[\"tokenizer_config.json:   0%|          | 0.00/48.0 [00:00<?, ?B/s]\"]},\"metadata\":{}},{\"output_type\":\"display_data\",\"data\":{\"text/plain\":[\"config.json:   0%|          | 0.00/570 [00:00<?, ?B/s]\"]},\"metadata\":{}},{\"output_type\":\"display_data\",\"data\":{\"text/plain\":[\"vocab.txt:   0%|          | 0.00/232k [00:00<?, ?B/s]\"]},\"metadata\":{}},{\"output_type\":\"display_data\",\"data\":{\"text/plain\":[\"tokenizer.json:   0%|          | 0.00/466k [00:00<?, ?B/s]\"]},\"metadata\":{}},{\"output_type\":\"display_data\",\"data\":{\"text/plain\":[\"Map:   0%|          | 0/3101 [00:00<?, ? examples/s]\"]},\"metadata\":{}},{\"output_type\":\"display_data\",\"data\":{\"text/plain\":[\"Map:   0%|          | 0/776 [00:00<?, ? examples/s]\"]},\"metadata\":{}},{\"output_type\":\"display_data\",\"data\":{\"text/plain\":[\"Map:   0%|          | 0/969 [00:00<?, ? examples/s]\"]},\"metadata\":{}}],\"source\":[\"from transformers import AutoTokenizer  # AutoTokenizer 可以根據指定的模型名稱，自動選擇和載入與該模型相匹配的分詞器\\n\",\"\\n\",\"\\n\",\"\\\"\\\"\\\"\\n\",\"=============================================================================\\n\",\"【作業 1：模型選擇】\\n\",\"=============================================================================\\n\",\"\\n\",\"什麼是 Tokenizer？\\n\",\"- 將文本轉換成模型可以理解的數字序列\\n\",\"- 不同模型有不同的 tokenization 策略\\n\",\"- BERT 使用 WordPiece，將詞切成子詞單元\\n\",\"\\n\",\"可選模型比較：\\n\",\"\\n\",\"1. bert-base-uncased (預設)\\n\",\"   優點：經典模型，效果穩定，社群資源豐富\\n\",\"   缺點：模型較大(110M參數)，訓練速度較慢\\n\",\"   適用：標準 NLP 任務，對效果要求高\\n\",\"\\n\",\"2. distilbert-base-uncased\\n\",\"   優點：BERT 的蒸餾版本，速度快 60%，模型小 40%\\n\",\"   缺點：準確率略低於 BERT (約 2-3%)\\n\",\"   適用：計算資源有限，需要快速迭代\\n\",\"\\n\",\"3. roberta-base\\n\",\"   優點：改進的 BERT，通常效果更好\\n\",\"   缺點：訓練時間稍長\\n\",\"   適用：追求更高準確率\\n\",\"\\n\",\"4. albert-base-v2\\n\",\"   優點：參數共享技術，模型很小但效果不錯\\n\",\"   缺點：推理速度較慢\\n\",\"   適用：記憶體受限的場景\\n\",\"\\n\",\"5. ProsusAI/finbert\\n\",\"   優點：專門在金融文本上預訓練，理解金融術語\\n\",\"   缺點：資料集較小，可能過擬合\\n\",\"   適用：金融領域專業任務（最推薦！）\\n\",\"\\n\",\"6. bert-base-chinese\\n\",\"   優點：支援中文\\n\",\"   缺點：英文效果不佳\\n\",\"   適用：中文金融文本分析\\n\",\"\\n\",\"評估面向：\\n\",\"✓ 訓練時間\\n\",\"✓ 驗證集 F1-score\\n\",\"✓ 測試集 F1-score\\n\",\"✓ 模型大小\\n\",\"✓ 推理速度\\n\",\"\\\"\\\"\\\"\\n\",\"# 使用BERT Tokenizer 進行Tokenization(分詞)\\n\",\"model_name = \\\"bert-base-uncased\\\"  # 請修改這裡！\\n\",\"\\n\",\"print(f\\\"\\\\n使用的模型：{model_name}\\\")\\n\",\"# ============================================================================\\n\",\"\\n\",\"\\\"\\\"\\\"\\n\",\"為什麼要使用 AutoTokenizer？\\n\",\"- 自動根據模型名稱載入對應的 tokenizer\\n\",\"- 確保 tokenization 策略與模型匹配\\n\",\"- 避免手動管理不同模型的 tokenizer\\n\",\"\\\"\\\"\\\"\\n\",\"from transformers import AutoTokenizer  # AutoTokenizer 可以根據指定的模型名稱，自動選擇和載入與該模型相匹配的分詞器\\n\",\"\\n\",\"# 使用指定的 Tokenizer 進行 Tokenization(分詞)\\n\",\"tokenizer = AutoTokenizer.from_pretrained(model_name)\\n\",\"\\n\",\"\\n\",\"\\\"\\\"\\\"\\n\",\"Tokenization 的關鍵參數：\\n\",\"\\n\",\"1. padding=\\\"max_length\\\"\\n\",\"   - 將所有句子補齊到相同長度\\n\",\"   - 原因：深度學習模型要求批次(batch)內的輸入長度一致\\n\",\"   - 較短的句子會用 [PAD] token 填充\\n\",\"\\n\",\"2. truncation=True\\n\",\"   - 截斷超過最大長度的句子\\n\",\"   - BERT 的最大長度通常是 512 tokens\\n\",\"   - 避免超長句子導致記憶體不足\\n\",\"\\n\",\"3. return_tensors=\\\"pt\\\" (後面會用到)\\n\",\"   - 返回 PyTorch tensor 格式\\n\",\"   - 可以直接輸入模型進行運算\\n\",\"\\\"\\\"\\\"\\n\",\"\\n\",\"# 定義 Tokenize 函數，用於將句子轉換為 Token\\n\",\"def tokenize_function(example):\\n\",\"    # 使用 tokenizer 將每個句子進行分詞\\n\",\"    # 設定 padding=\\\"max_length\\\" 確保所有句子補齊至固定長度\\n\",\"    # 設定 truncation=True 以截斷超過最大長度的句子\\n\",\"    return tokenizer(example[\\\"sentence\\\"], padding=\\\"max_length\\\", truncation=True)\\n\",\"\\\"\\\"\\\"\\n\",\"Tokenization 結果說明：\\n\",\"\\n\",\"input_ids：\\n\",\"- 將文字轉換成數字 ID\\n\",\"- 例如：[101, 2043, 2003, 1996, ...]\\n\",\"- 101 是 [CLS] token，表示句子開始\\n\",\"- 102 是 [SEP] token，表示句子結束\\n\",\"\\n\",\"attention_mask：\\n\",\"- 標記哪些位置是真實 token (1)，哪些是 padding (0)\\n\",\"- 讓模型知道應該關注哪些部分\\n\",\"\\n\",\"token_type_ids：\\n\",\"- 區分不同句子（在句子對任務中使用）\\n\",\"- 在單句分類中全部為 0\\n\",\"\\\"\\\"\\\"\\n\",\"# 對訓練集、驗證集和測試集進行 Tokenize\\n\",\"tokenized_train = train_dataset.map(tokenize_function, batched=True)\\n\",\"tokenized_val = val_dataset.map(tokenize_function, batched=True)\\n\",\"tokenized_test = test_dataset.map(tokenize_function, batched=True)\"]},{\"cell_type\":\"code\",\"execution_count\":null,\"metadata\":{\"colab\":{\"base_uri\":\"https://localhost:8080/\"},\"executionInfo\":{\"elapsed\":4,\"status\":\"ok\",\"timestamp\":1761789819077,\"user\":{\"displayName\":\"張景陽\",\"userId\":\"17990199239061367823\"},\"user_tz\":-480},\"id\":\"1UHvNcRfrrjt\",\"outputId\":\"fdf1cdb1-fe28-4ccc-d48a-45dec4150b95\"},\"outputs\":[{\"output_type\":\"stream\",\"name\":\"stdout\",\"text\":[\"\\n\",\"Tokenized 訓練集第一筆：\\n\",\"{'sentence': [\\\"The financial impact is estimated to be some 1.5 MEUR annual improvement in the division 's result , starting from fiscal year 2007 .\\\"], 'label': [2], 'input_ids': [[101, 1996, 3361, 4254, 2003, 4358, 2000, 2022, 2070, 1015, 1012, 1019, 2033, 3126, 3296, 7620, 1999, 1996, 2407, 1005, 1055, 2765, 1010, 3225, 2013, 10807, 2095, 2289, 1012, 102, 0, 0, 0, 0, 0, 0, 0, 0, 0, 0, 0, 0, 0, 0, 0, 0, 0, 0, 0, 0, 0, 0, 0, 0, 0, 0, 0, 0, 0, 0, 0, 0, 0, 0, 0, 0, 0, 0, 0, 0, 0, 0, 0, 0, 0, 0, 0, 0, 0, 0, 0, 0, 0, 0, 0, 0, 0, 0, 0, 0, 0, 0, 0, 0, 0, 0, 0, 0, 0, 0, 0, 0, 0, 0, 0, 0, 0, 0, 0, 0, 0, 0, 0, 0, 0, 0, 0, 0, 0, 0, 0, 0, 0, 0, 0, 0, 0, 0, 0, 0, 0, 0, 0, 0, 0, 0, 0, 0, 0, 0, 0, 0, 0, 0, 0, 0, 0, 0, 0, 0, 0, 0, 0, 0, 0, 0, 0, 0, 0, 0, 0, 0, 0, 0, 0, 0, 0, 0, 0, 0, 0, 0, 0, 0, 0, 0, 0, 0, 0, 0, 0, 0, 0, 0, 0, 0, 0, 0, 0, 0, 0, 0, 0, 0, 0, 0, 0, 0, 0, 0, 0, 0, 0, 0, 0, 0, 0, 0, 0, 0, 0, 0, 0, 0, 0, 0, 0, 0, 0, 0, 0, 0, 0, 0, 0, 0, 0, 0, 0, 0, 0, 0, 0, 0, 0, 0, 0, 0, 0, 0, 0, 0, 0, 0, 0, 0, 0, 0, 0, 0, 0, 0, 0, 0, 0, 0, 0, 0, 0, 0, 0, 0, 0, 0, 0, 0, 0, 0, 0, 0, 0, 0, 0, 0, 0, 0, 0, 0, 0, 0, 0, 0, 0, 0, 0, 0, 0, 0, 0, 0, 0, 0, 0, 0, 0, 0, 0, 0, 0, 0, 0, 0, 0, 0, 0, 0, 0, 0, 0, 0, 0, 0, 0, 0, 0, 0, 0, 0, 0, 0, 0, 0, 0, 0, 0, 0, 0, 0, 0, 0, 0, 0, 0, 0, 0, 0, 0, 0, 0, 0, 0, 0, 0, 0, 0, 0, 0, 0, 0, 0, 0, 0, 0, 0, 0, 0, 0, 0, 0, 0, 0, 0, 0, 0, 0, 0, 0, 0, 0, 0, 0, 0, 0, 0, 0, 0, 0, 0, 0, 0, 0, 0, 0, 0, 0, 0, 0, 0, 0, 0, 0, 0, 0, 0, 0, 0, 0, 0, 0, 0, 0, 0, 0, 0, 0, 0, 0, 0, 0, 0, 0, 0, 0, 0, 0, 0, 0, 0, 0, 0, 0, 0, 0, 0, 0, 0, 0, 0, 0, 0, 0, 0, 0, 0, 0, 0, 0, 0, 0, 0, 0, 0, 0, 0, 0, 0, 0, 0, 0, 0, 0, 0, 0, 0, 0, 0, 0, 0, 0, 0, 0, 0, 0, 0, 0, 0, 0, 0, 0, 0, 0, 0, 0, 0, 0, 0, 0, 0, 0, 0, 0, 0, 0, 0, 0, 0, 0, 0, 0, 0, 0, 0, 0, 0, 0, 0, 0, 0, 0, 0, 0, 0, 0, 0, 0, 0, 0, 0, 0, 0, 0, 0]], 'token_type_ids': [[0, 0, 0, 0, 0, 0, 0, 0, 0, 0, 0, 0, 0, 0, 0, 0, 0, 0, 0, 0, 0, 0, 0, 0, 0, 0, 0, 0, 0, 0, 0, 0, 0, 0, 0, 0, 0, 0, 0, 0, 0, 0, 0, 0, 0, 0, 0, 0, 0, 0, 0, 0, 0, 0, 0, 0, 0, 0, 0, 0, 0, 0, 0, 0, 0, 0, 0, 0, 0, 0, 0, 0, 0, 0, 0, 0, 0, 0, 0, 0, 0, 0, 0, 0, 0, 0, 0, 0, 0, 0, 0, 0, 0, 0, 0, 0, 0, 0, 0, 0, 0, 0, 0, 0, 0, 0, 0, 0, 0, 0, 0, 0, 0, 0, 0, 0, 0, 0, 0, 0, 0, 0, 0, 0, 0, 0, 0, 0, 0, 0, 0, 0, 0, 0, 0, 0, 0, 0, 0, 0, 0, 0, 0, 0, 0, 0, 0, 0, 0, 0, 0, 0, 0, 0, 0, 0, 0, 0, 0, 0, 0, 0, 0, 0, 0, 0, 0, 0, 0, 0, 0, 0, 0, 0, 0, 0, 0, 0, 0, 0, 0, 0, 0, 0, 0, 0, 0, 0, 0, 0, 0, 0, 0, 0, 0, 0, 0, 0, 0, 0, 0, 0, 0, 0, 0, 0, 0, 0, 0, 0, 0, 0, 0, 0, 0, 0, 0, 0, 0, 0, 0, 0, 0, 0, 0, 0, 0, 0, 0, 0, 0, 0, 0, 0, 0, 0, 0, 0, 0, 0, 0, 0, 0, 0, 0, 0, 0, 0, 0, 0, 0, 0, 0, 0, 0, 0, 0, 0, 0, 0, 0, 0, 0, 0, 0, 0, 0, 0, 0, 0, 0, 0, 0, 0, 0, 0, 0, 0, 0, 0, 0, 0, 0, 0, 0, 0, 0, 0, 0, 0, 0, 0, 0, 0, 0, 0, 0, 0, 0, 0, 0, 0, 0, 0, 0, 0, 0, 0, 0, 0, 0, 0, 0, 0, 0, 0, 0, 0, 0, 0, 0, 0, 0, 0, 0, 0, 0, 0, 0, 0, 0, 0, 0, 0, 0, 0, 0, 0, 0, 0, 0, 0, 0, 0, 0, 0, 0, 0, 0, 0, 0, 0, 0, 0, 0, 0, 0, 0, 0, 0, 0, 0, 0, 0, 0, 0, 0, 0, 0, 0, 0, 0, 0, 0, 0, 0, 0, 0, 0, 0, 0, 0, 0, 0, 0, 0, 0, 0, 0, 0, 0, 0, 0, 0, 0, 0, 0, 0, 0, 0, 0, 0, 0, 0, 0, 0, 0, 0, 0, 0, 0, 0, 0, 0, 0, 0, 0, 0, 0, 0, 0, 0, 0, 0, 0, 0, 0, 0, 0, 0, 0, 0, 0, 0, 0, 0, 0, 0, 0, 0, 0, 0, 0, 0, 0, 0, 0, 0, 0, 0, 0, 0, 0, 0, 0, 0, 0, 0, 0, 0, 0, 0, 0, 0, 0, 0, 0, 0, 0, 0, 0, 0, 0, 0, 0, 0, 0, 0, 0, 0, 0, 0, 0, 0, 0, 0, 0, 0, 0, 0, 0, 0, 0, 0, 0, 0, 0, 0, 0, 0, 0, 0, 0, 0, 0, 0, 0, 0, 0, 0, 0, 0]], 'attention_mask': [[1, 1, 1, 1, 1, 1, 1, 1, 1, 1, 1, 1, 1, 1, 1, 1, 1, 1, 1, 1, 1, 1, 1, 1, 1, 1, 1, 1, 1, 1, 0, 0, 0, 0, 0, 0, 0, 0, 0, 0, 0, 0, 0, 0, 0, 0, 0, 0, 0, 0, 0, 0, 0, 0, 0, 0, 0, 0, 0, 0, 0, 0, 0, 0, 0, 0, 0, 0, 0, 0, 0, 0, 0, 0, 0, 0, 0, 0, 0, 0, 0, 0, 0, 0, 0, 0, 0, 0, 0, 0, 0, 0, 0, 0, 0, 0, 0, 0, 0, 0, 0, 0, 0, 0, 0, 0, 0, 0, 0, 0, 0, 0, 0, 0, 0, 0, 0, 0, 0, 0, 0, 0, 0, 0, 0, 0, 0, 0, 0, 0, 0, 0, 0, 0, 0, 0, 0, 0, 0, 0, 0, 0, 0, 0, 0, 0, 0, 0, 0, 0, 0, 0, 0, 0, 0, 0, 0, 0, 0, 0, 0, 0, 0, 0, 0, 0, 0, 0, 0, 0, 0, 0, 0, 0, 0, 0, 0, 0, 0, 0, 0, 0, 0, 0, 0, 0, 0, 0, 0, 0, 0, 0, 0, 0, 0, 0, 0, 0, 0, 0, 0, 0, 0, 0, 0, 0, 0, 0, 0, 0, 0, 0, 0, 0, 0, 0, 0, 0, 0, 0, 0, 0, 0, 0, 0, 0, 0, 0, 0, 0, 0, 0, 0, 0, 0, 0, 0, 0, 0, 0, 0, 0, 0, 0, 0, 0, 0, 0, 0, 0, 0, 0, 0, 0, 0, 0, 0, 0, 0, 0, 0, 0, 0, 0, 0, 0, 0, 0, 0, 0, 0, 0, 0, 0, 0, 0, 0, 0, 0, 0, 0, 0, 0, 0, 0, 0, 0, 0, 0, 0, 0, 0, 0, 0, 0, 0, 0, 0, 0, 0, 0, 0, 0, 0, 0, 0, 0, 0, 0, 0, 0, 0, 0, 0, 0, 0, 0, 0, 0, 0, 0, 0, 0, 0, 0, 0, 0, 0, 0, 0, 0, 0, 0, 0, 0, 0, 0, 0, 0, 0, 0, 0, 0, 0, 0, 0, 0, 0, 0, 0, 0, 0, 0, 0, 0, 0, 0, 0, 0, 0, 0, 0, 0, 0, 0, 0, 0, 0, 0, 0, 0, 0, 0, 0, 0, 0, 0, 0, 0, 0, 0, 0, 0, 0, 0, 0, 0, 0, 0, 0, 0, 0, 0, 0, 0, 0, 0, 0, 0, 0, 0, 0, 0, 0, 0, 0, 0, 0, 0, 0, 0, 0, 0, 0, 0, 0, 0, 0, 0, 0, 0, 0, 0, 0, 0, 0, 0, 0, 0, 0, 0, 0, 0, 0, 0, 0, 0, 0, 0, 0, 0, 0, 0, 0, 0, 0, 0, 0, 0, 0, 0, 0, 0, 0, 0, 0, 0, 0, 0, 0, 0, 0, 0, 0, 0, 0, 0, 0, 0, 0, 0, 0, 0, 0, 0, 0, 0, 0, 0, 0, 0, 0, 0, 0, 0, 0, 0, 0, 0, 0, 0, 0, 0, 0, 0, 0, 0, 0, 0, 0, 0, 0, 0, 0, 0, 0, 0, 0, 0, 0, 0, 0]]}\\n\",\"\\n\",\"Tokenized 驗證集第一筆：\\n\",\"{'sentence': [\\\"We have also cut our price projections for paper and packaging , '' an analyst with Goldman Sachs said on a note on Monday .\\\"], 'label': [0], 'input_ids': [[101, 2057, 2031, 2036, 3013, 2256, 3976, 21796, 2005, 3259, 1998, 14793, 1010, 1005, 1005, 2019, 12941, 2007, 17765, 22818, 2056, 2006, 1037, 3602, 2006, 6928, 1012, 102, 0, 0, 0, 0, 0, 0, 0, 0, 0, 0, 0, 0, 0, 0, 0, 0, 0, 0, 0, 0, 0, 0, 0, 0, 0, 0, 0, 0, 0, 0, 0, 0, 0, 0, 0, 0, 0, 0, 0, 0, 0, 0, 0, 0, 0, 0, 0, 0, 0, 0, 0, 0, 0, 0, 0, 0, 0, 0, 0, 0, 0, 0, 0, 0, 0, 0, 0, 0, 0, 0, 0, 0, 0, 0, 0, 0, 0, 0, 0, 0, 0, 0, 0, 0, 0, 0, 0, 0, 0, 0, 0, 0, 0, 0, 0, 0, 0, 0, 0, 0, 0, 0, 0, 0, 0, 0, 0, 0, 0, 0, 0, 0, 0, 0, 0, 0, 0, 0, 0, 0, 0, 0, 0, 0, 0, 0, 0, 0, 0, 0, 0, 0, 0, 0, 0, 0, 0, 0, 0, 0, 0, 0, 0, 0, 0, 0, 0, 0, 0, 0, 0, 0, 0, 0, 0, 0, 0, 0, 0, 0, 0, 0, 0, 0, 0, 0, 0, 0, 0, 0, 0, 0, 0, 0, 0, 0, 0, 0, 0, 0, 0, 0, 0, 0, 0, 0, 0, 0, 0, 0, 0, 0, 0, 0, 0, 0, 0, 0, 0, 0, 0, 0, 0, 0, 0, 0, 0, 0, 0, 0, 0, 0, 0, 0, 0, 0, 0, 0, 0, 0, 0, 0, 0, 0, 0, 0, 0, 0, 0, 0, 0, 0, 0, 0, 0, 0, 0, 0, 0, 0, 0, 0, 0, 0, 0, 0, 0, 0, 0, 0, 0, 0, 0, 0, 0, 0, 0, 0, 0, 0, 0, 0, 0, 0, 0, 0, 0, 0, 0, 0, 0, 0, 0, 0, 0, 0, 0, 0, 0, 0, 0, 0, 0, 0, 0, 0, 0, 0, 0, 0, 0, 0, 0, 0, 0, 0, 0, 0, 0, 0, 0, 0, 0, 0, 0, 0, 0, 0, 0, 0, 0, 0, 0, 0, 0, 0, 0, 0, 0, 0, 0, 0, 0, 0, 0, 0, 0, 0, 0, 0, 0, 0, 0, 0, 0, 0, 0, 0, 0, 0, 0, 0, 0, 0, 0, 0, 0, 0, 0, 0, 0, 0, 0, 0, 0, 0, 0, 0, 0, 0, 0, 0, 0, 0, 0, 0, 0, 0, 0, 0, 0, 0, 0, 0, 0, 0, 0, 0, 0, 0, 0, 0, 0, 0, 0, 0, 0, 0, 0, 0, 0, 0, 0, 0, 0, 0, 0, 0, 0, 0, 0, 0, 0, 0, 0, 0, 0, 0, 0, 0, 0, 0, 0, 0, 0, 0, 0, 0, 0, 0, 0, 0, 0, 0, 0, 0, 0, 0, 0, 0, 0, 0, 0, 0, 0, 0, 0, 0, 0, 0, 0, 0, 0, 0, 0, 0, 0, 0, 0, 0, 0, 0, 0, 0, 0, 0, 0, 0, 0, 0, 0, 0, 0, 0, 0, 0, 0, 0, 0, 0, 0, 0, 0, 0, 0, 0, 0, 0, 0, 0, 0, 0, 0, 0]], 'token_type_ids': [[0, 0, 0, 0, 0, 0, 0, 0, 0, 0, 0, 0, 0, 0, 0, 0, 0, 0, 0, 0, 0, 0, 0, 0, 0, 0, 0, 0, 0, 0, 0, 0, 0, 0, 0, 0, 0, 0, 0, 0, 0, 0, 0, 0, 0, 0, 0, 0, 0, 0, 0, 0, 0, 0, 0, 0, 0, 0, 0, 0, 0, 0, 0, 0, 0, 0, 0, 0, 0, 0, 0, 0, 0, 0, 0, 0, 0, 0, 0, 0, 0, 0, 0, 0, 0, 0, 0, 0, 0, 0, 0, 0, 0, 0, 0, 0, 0, 0, 0, 0, 0, 0, 0, 0, 0, 0, 0, 0, 0, 0, 0, 0, 0, 0, 0, 0, 0, 0, 0, 0, 0, 0, 0, 0, 0, 0, 0, 0, 0, 0, 0, 0, 0, 0, 0, 0, 0, 0, 0, 0, 0, 0, 0, 0, 0, 0, 0, 0, 0, 0, 0, 0, 0, 0, 0, 0, 0, 0, 0, 0, 0, 0, 0, 0, 0, 0, 0, 0, 0, 0, 0, 0, 0, 0, 0, 0, 0, 0, 0, 0, 0, 0, 0, 0, 0, 0, 0, 0, 0, 0, 0, 0, 0, 0, 0, 0, 0, 0, 0, 0, 0, 0, 0, 0, 0, 0, 0, 0, 0, 0, 0, 0, 0, 0, 0, 0, 0, 0, 0, 0, 0, 0, 0, 0, 0, 0, 0, 0, 0, 0, 0, 0, 0, 0, 0, 0, 0, 0, 0, 0, 0, 0, 0, 0, 0, 0, 0, 0, 0, 0, 0, 0, 0, 0, 0, 0, 0, 0, 0, 0, 0, 0, 0, 0, 0, 0, 0, 0, 0, 0, 0, 0, 0, 0, 0, 0, 0, 0, 0, 0, 0, 0, 0, 0, 0, 0, 0, 0, 0, 0, 0, 0, 0, 0, 0, 0, 0, 0, 0, 0, 0, 0, 0, 0, 0, 0, 0, 0, 0, 0, 0, 0, 0, 0, 0, 0, 0, 0, 0, 0, 0, 0, 0, 0, 0, 0, 0, 0, 0, 0, 0, 0, 0, 0, 0, 0, 0, 0, 0, 0, 0, 0, 0, 0, 0, 0, 0, 0, 0, 0, 0, 0, 0, 0, 0, 0, 0, 0, 0, 0, 0, 0, 0, 0, 0, 0, 0, 0, 0, 0, 0, 0, 0, 0, 0, 0, 0, 0, 0, 0, 0, 0, 0, 0, 0, 0, 0, 0, 0, 0, 0, 0, 0, 0, 0, 0, 0, 0, 0, 0, 0, 0, 0, 0, 0, 0, 0, 0, 0, 0, 0, 0, 0, 0, 0, 0, 0, 0, 0, 0, 0, 0, 0, 0, 0, 0, 0, 0, 0, 0, 0, 0, 0, 0, 0, 0, 0, 0, 0, 0, 0, 0, 0, 0, 0, 0, 0, 0, 0, 0, 0, 0, 0, 0, 0, 0, 0, 0, 0, 0, 0, 0, 0, 0, 0, 0, 0, 0, 0, 0, 0, 0, 0, 0, 0, 0, 0, 0, 0, 0, 0, 0, 0, 0, 0, 0, 0, 0, 0, 0, 0, 0, 0, 0, 0, 0, 0, 0, 0, 0, 0, 0, 0, 0, 0, 0, 0, 0, 0, 0, 0, 0]], 'attention_mask': [[1, 1, 1, 1, 1, 1, 1, 1, 1, 1, 1, 1, 1, 1, 1, 1, 1, 1, 1, 1, 1, 1, 1, 1, 1, 1, 1, 1, 0, 0, 0, 0, 0, 0, 0, 0, 0, 0, 0, 0, 0, 0, 0, 0, 0, 0, 0, 0, 0, 0, 0, 0, 0, 0, 0, 0, 0, 0, 0, 0, 0, 0, 0, 0, 0, 0, 0, 0, 0, 0, 0, 0, 0, 0, 0, 0, 0, 0, 0, 0, 0, 0, 0, 0, 0, 0, 0, 0, 0, 0, 0, 0, 0, 0, 0, 0, 0, 0, 0, 0, 0, 0, 0, 0, 0, 0, 0, 0, 0, 0, 0, 0, 0, 0, 0, 0, 0, 0, 0, 0, 0, 0, 0, 0, 0, 0, 0, 0, 0, 0, 0, 0, 0, 0, 0, 0, 0, 0, 0, 0, 0, 0, 0, 0, 0, 0, 0, 0, 0, 0, 0, 0, 0, 0, 0, 0, 0, 0, 0, 0, 0, 0, 0, 0, 0, 0, 0, 0, 0, 0, 0, 0, 0, 0, 0, 0, 0, 0, 0, 0, 0, 0, 0, 0, 0, 0, 0, 0, 0, 0, 0, 0, 0, 0, 0, 0, 0, 0, 0, 0, 0, 0, 0, 0, 0, 0, 0, 0, 0, 0, 0, 0, 0, 0, 0, 0, 0, 0, 0, 0, 0, 0, 0, 0, 0, 0, 0, 0, 0, 0, 0, 0, 0, 0, 0, 0, 0, 0, 0, 0, 0, 0, 0, 0, 0, 0, 0, 0, 0, 0, 0, 0, 0, 0, 0, 0, 0, 0, 0, 0, 0, 0, 0, 0, 0, 0, 0, 0, 0, 0, 0, 0, 0, 0, 0, 0, 0, 0, 0, 0, 0, 0, 0, 0, 0, 0, 0, 0, 0, 0, 0, 0, 0, 0, 0, 0, 0, 0, 0, 0, 0, 0, 0, 0, 0, 0, 0, 0, 0, 0, 0, 0, 0, 0, 0, 0, 0, 0, 0, 0, 0, 0, 0, 0, 0, 0, 0, 0, 0, 0, 0, 0, 0, 0, 0, 0, 0, 0, 0, 0, 0, 0, 0, 0, 0, 0, 0, 0, 0, 0, 0, 0, 0, 0, 0, 0, 0, 0, 0, 0, 0, 0, 0, 0, 0, 0, 0, 0, 0, 0, 0, 0, 0, 0, 0, 0, 0, 0, 0, 0, 0, 0, 0, 0, 0, 0, 0, 0, 0, 0, 0, 0, 0, 0, 0, 0, 0, 0, 0, 0, 0, 0, 0, 0, 0, 0, 0, 0, 0, 0, 0, 0, 0, 0, 0, 0, 0, 0, 0, 0, 0, 0, 0, 0, 0, 0, 0, 0, 0, 0, 0, 0, 0, 0, 0, 0, 0, 0, 0, 0, 0, 0, 0, 0, 0, 0, 0, 0, 0, 0, 0, 0, 0, 0, 0, 0, 0, 0, 0, 0, 0, 0, 0, 0, 0, 0, 0, 0, 0, 0, 0, 0, 0, 0, 0, 0, 0, 0, 0, 0, 0, 0, 0, 0, 0, 0, 0, 0, 0, 0, 0, 0, 0, 0, 0, 0, 0, 0, 0, 0, 0, 0, 0, 0, 0, 0, 0, 0, 0, 0, 0, 0]]}\\n\",\"\\n\",\"Tokenized 測試集第一筆：\\n\",\"{'sentence': [\\\"TeliaSonera TLSN said the offer is in line with its strategy to increase its ownership in core business holdings and would strengthen Eesti Telekom 's offering to its customers .\\\"], 'label': [2], 'input_ids': [[101, 10093, 7951, 5643, 2527, 1056, 4877, 2078, 2056, 1996, 3749, 2003, 1999, 2240, 2007, 2049, 5656, 2000, 3623, 2049, 6095, 1999, 4563, 2449, 9583, 1998, 2052, 12919, 25212, 16643, 10093, 5937, 5358, 1005, 1055, 5378, 2000, 2049, 6304, 1012, 102, 0, 0, 0, 0, 0, 0, 0, 0, 0, 0, 0, 0, 0, 0, 0, 0, 0, 0, 0, 0, 0, 0, 0, 0, 0, 0, 0, 0, 0, 0, 0, 0, 0, 0, 0, 0, 0, 0, 0, 0, 0, 0, 0, 0, 0, 0, 0, 0, 0, 0, 0, 0, 0, 0, 0, 0, 0, 0, 0, 0, 0, 0, 0, 0, 0, 0, 0, 0, 0, 0, 0, 0, 0, 0, 0, 0, 0, 0, 0, 0, 0, 0, 0, 0, 0, 0, 0, 0, 0, 0, 0, 0, 0, 0, 0, 0, 0, 0, 0, 0, 0, 0, 0, 0, 0, 0, 0, 0, 0, 0, 0, 0, 0, 0, 0, 0, 0, 0, 0, 0, 0, 0, 0, 0, 0, 0, 0, 0, 0, 0, 0, 0, 0, 0, 0, 0, 0, 0, 0, 0, 0, 0, 0, 0, 0, 0, 0, 0, 0, 0, 0, 0, 0, 0, 0, 0, 0, 0, 0, 0, 0, 0, 0, 0, 0, 0, 0, 0, 0, 0, 0, 0, 0, 0, 0, 0, 0, 0, 0, 0, 0, 0, 0, 0, 0, 0, 0, 0, 0, 0, 0, 0, 0, 0, 0, 0, 0, 0, 0, 0, 0, 0, 0, 0, 0, 0, 0, 0, 0, 0, 0, 0, 0, 0, 0, 0, 0, 0, 0, 0, 0, 0, 0, 0, 0, 0, 0, 0, 0, 0, 0, 0, 0, 0, 0, 0, 0, 0, 0, 0, 0, 0, 0, 0, 0, 0, 0, 0, 0, 0, 0, 0, 0, 0, 0, 0, 0, 0, 0, 0, 0, 0, 0, 0, 0, 0, 0, 0, 0, 0, 0, 0, 0, 0, 0, 0, 0, 0, 0, 0, 0, 0, 0, 0, 0, 0, 0, 0, 0, 0, 0, 0, 0, 0, 0, 0, 0, 0, 0, 0, 0, 0, 0, 0, 0, 0, 0, 0, 0, 0, 0, 0, 0, 0, 0, 0, 0, 0, 0, 0, 0, 0, 0, 0, 0, 0, 0, 0, 0, 0, 0, 0, 0, 0, 0, 0, 0, 0, 0, 0, 0, 0, 0, 0, 0, 0, 0, 0, 0, 0, 0, 0, 0, 0, 0, 0, 0, 0, 0, 0, 0, 0, 0, 0, 0, 0, 0, 0, 0, 0, 0, 0, 0, 0, 0, 0, 0, 0, 0, 0, 0, 0, 0, 0, 0, 0, 0, 0, 0, 0, 0, 0, 0, 0, 0, 0, 0, 0, 0, 0, 0, 0, 0, 0, 0, 0, 0, 0, 0, 0, 0, 0, 0, 0, 0, 0, 0, 0, 0, 0, 0, 0, 0, 0, 0, 0, 0, 0, 0, 0, 0, 0, 0, 0, 0, 0, 0, 0, 0, 0, 0, 0, 0, 0, 0, 0, 0, 0, 0, 0, 0, 0, 0, 0, 0, 0, 0, 0, 0, 0, 0, 0, 0, 0, 0, 0, 0, 0, 0, 0, 0]], 'token_type_ids': [[0, 0, 0, 0, 0, 0, 0, 0, 0, 0, 0, 0, 0, 0, 0, 0, 0, 0, 0, 0, 0, 0, 0, 0, 0, 0, 0, 0, 0, 0, 0, 0, 0, 0, 0, 0, 0, 0, 0, 0, 0, 0, 0, 0, 0, 0, 0, 0, 0, 0, 0, 0, 0, 0, 0, 0, 0, 0, 0, 0, 0, 0, 0, 0, 0, 0, 0, 0, 0, 0, 0, 0, 0, 0, 0, 0, 0, 0, 0, 0, 0, 0, 0, 0, 0, 0, 0, 0, 0, 0, 0, 0, 0, 0, 0, 0, 0, 0, 0, 0, 0, 0, 0, 0, 0, 0, 0, 0, 0, 0, 0, 0, 0, 0, 0, 0, 0, 0, 0, 0, 0, 0, 0, 0, 0, 0, 0, 0, 0, 0, 0, 0, 0, 0, 0, 0, 0, 0, 0, 0, 0, 0, 0, 0, 0, 0, 0, 0, 0, 0, 0, 0, 0, 0, 0, 0, 0, 0, 0, 0, 0, 0, 0, 0, 0, 0, 0, 0, 0, 0, 0, 0, 0, 0, 0, 0, 0, 0, 0, 0, 0, 0, 0, 0, 0, 0, 0, 0, 0, 0, 0, 0, 0, 0, 0, 0, 0, 0, 0, 0, 0, 0, 0, 0, 0, 0, 0, 0, 0, 0, 0, 0, 0, 0, 0, 0, 0, 0, 0, 0, 0, 0, 0, 0, 0, 0, 0, 0, 0, 0, 0, 0, 0, 0, 0, 0, 0, 0, 0, 0, 0, 0, 0, 0, 0, 0, 0, 0, 0, 0, 0, 0, 0, 0, 0, 0, 0, 0, 0, 0, 0, 0, 0, 0, 0, 0, 0, 0, 0, 0, 0, 0, 0, 0, 0, 0, 0, 0, 0, 0, 0, 0, 0, 0, 0, 0, 0, 0, 0, 0, 0, 0, 0, 0, 0, 0, 0, 0, 0, 0, 0, 0, 0, 0, 0, 0, 0, 0, 0, 0, 0, 0, 0, 0, 0, 0, 0, 0, 0, 0, 0, 0, 0, 0, 0, 0, 0, 0, 0, 0, 0, 0, 0, 0, 0, 0, 0, 0, 0, 0, 0, 0, 0, 0, 0, 0, 0, 0, 0, 0, 0, 0, 0, 0, 0, 0, 0, 0, 0, 0, 0, 0, 0, 0, 0, 0, 0, 0, 0, 0, 0, 0, 0, 0, 0, 0, 0, 0, 0, 0, 0, 0, 0, 0, 0, 0, 0, 0, 0, 0, 0, 0, 0, 0, 0, 0, 0, 0, 0, 0, 0, 0, 0, 0, 0, 0, 0, 0, 0, 0, 0, 0, 0, 0, 0, 0, 0, 0, 0, 0, 0, 0, 0, 0, 0, 0, 0, 0, 0, 0, 0, 0, 0, 0, 0, 0, 0, 0, 0, 0, 0, 0, 0, 0, 0, 0, 0, 0, 0, 0, 0, 0, 0, 0, 0, 0, 0, 0, 0, 0, 0, 0, 0, 0, 0, 0, 0, 0, 0, 0, 0, 0, 0, 0, 0, 0, 0, 0, 0, 0, 0, 0, 0, 0, 0, 0, 0, 0, 0, 0, 0, 0, 0, 0, 0, 0, 0, 0, 0, 0, 0, 0, 0, 0, 0, 0, 0, 0, 0, 0, 0, 0]], 'attention_mask': [[1, 1, 1, 1, 1, 1, 1, 1, 1, 1, 1, 1, 1, 1, 1, 1, 1, 1, 1, 1, 1, 1, 1, 1, 1, 1, 1, 1, 1, 1, 1, 1, 1, 1, 1, 1, 1, 1, 1, 1, 1, 0, 0, 0, 0, 0, 0, 0, 0, 0, 0, 0, 0, 0, 0, 0, 0, 0, 0, 0, 0, 0, 0, 0, 0, 0, 0, 0, 0, 0, 0, 0, 0, 0, 0, 0, 0, 0, 0, 0, 0, 0, 0, 0, 0, 0, 0, 0, 0, 0, 0, 0, 0, 0, 0, 0, 0, 0, 0, 0, 0, 0, 0, 0, 0, 0, 0, 0, 0, 0, 0, 0, 0, 0, 0, 0, 0, 0, 0, 0, 0, 0, 0, 0, 0, 0, 0, 0, 0, 0, 0, 0, 0, 0, 0, 0, 0, 0, 0, 0, 0, 0, 0, 0, 0, 0, 0, 0, 0, 0, 0, 0, 0, 0, 0, 0, 0, 0, 0, 0, 0, 0, 0, 0, 0, 0, 0, 0, 0, 0, 0, 0, 0, 0, 0, 0, 0, 0, 0, 0, 0, 0, 0, 0, 0, 0, 0, 0, 0, 0, 0, 0, 0, 0, 0, 0, 0, 0, 0, 0, 0, 0, 0, 0, 0, 0, 0, 0, 0, 0, 0, 0, 0, 0, 0, 0, 0, 0, 0, 0, 0, 0, 0, 0, 0, 0, 0, 0, 0, 0, 0, 0, 0, 0, 0, 0, 0, 0, 0, 0, 0, 0, 0, 0, 0, 0, 0, 0, 0, 0, 0, 0, 0, 0, 0, 0, 0, 0, 0, 0, 0, 0, 0, 0, 0, 0, 0, 0, 0, 0, 0, 0, 0, 0, 0, 0, 0, 0, 0, 0, 0, 0, 0, 0, 0, 0, 0, 0, 0, 0, 0, 0, 0, 0, 0, 0, 0, 0, 0, 0, 0, 0, 0, 0, 0, 0, 0, 0, 0, 0, 0, 0, 0, 0, 0, 0, 0, 0, 0, 0, 0, 0, 0, 0, 0, 0, 0, 0, 0, 0, 0, 0, 0, 0, 0, 0, 0, 0, 0, 0, 0, 0, 0, 0, 0, 0, 0, 0, 0, 0, 0, 0, 0, 0, 0, 0, 0, 0, 0, 0, 0, 0, 0, 0, 0, 0, 0, 0, 0, 0, 0, 0, 0, 0, 0, 0, 0, 0, 0, 0, 0, 0, 0, 0, 0, 0, 0, 0, 0, 0, 0, 0, 0, 0, 0, 0, 0, 0, 0, 0, 0, 0, 0, 0, 0, 0, 0, 0, 0, 0, 0, 0, 0, 0, 0, 0, 0, 0, 0, 0, 0, 0, 0, 0, 0, 0, 0, 0, 0, 0, 0, 0, 0, 0, 0, 0, 0, 0, 0, 0, 0, 0, 0, 0, 0, 0, 0, 0, 0, 0, 0, 0, 0, 0, 0, 0, 0, 0, 0, 0, 0, 0, 0, 0, 0, 0, 0, 0, 0, 0, 0, 0, 0, 0, 0, 0, 0, 0, 0, 0, 0, 0, 0, 0, 0, 0, 0, 0, 0, 0, 0, 0, 0, 0, 0, 0, 0, 0, 0, 0, 0, 0, 0, 0, 0, 0, 0, 0, 0, 0, 0, 0]]}\\n\",\"\\n\",\"訓練集特徵： {'sentence': Value('string'), 'label': Value('int64'), 'input_ids': List(Value('int32')), 'token_type_ids': List(Value('int8')), 'attention_mask': List(Value('int8'))}\\n\",\"驗證集特徵： {'sentence': Value('string'), 'label': Value('int64'), 'input_ids': List(Value('int32')), 'token_type_ids': List(Value('int8')), 'attention_mask': List(Value('int8'))}\\n\",\"測試集特徵： {'sentence': Value('string'), 'label': Value('int64'), 'input_ids': List(Value('int32')), 'token_type_ids': List(Value('int8')), 'attention_mask': List(Value('int8'))}\\n\"]}],\"source\":[\"# 查看 Tokenized 資料\\n\",\"print(\\\"\\\\nTokenized 訓練集第一筆：\\\")\\n\",\"print(tokenized_train[:1])\\n\",\"\\n\",\"print(\\\"\\\\nTokenized 驗證集第一筆：\\\")\\n\",\"print(tokenized_val[:1])\\n\",\"\\n\",\"print(\\\"\\\\nTokenized 測試集第一筆：\\\")\\n\",\"print(tokenized_test[:1])\\n\",\"# 確認 tokenized_datasets 是否包含需要的欄位\\n\",\"print(\\\"\\\\n訓練集特徵：\\\", tokenized_train.features)\\n\",\"print(\\\"驗證集特徵：\\\", tokenized_val.features)\\n\",\"print(\\\"測試集特徵：\\\", tokenized_test.features)\"]},{\"cell_type\":\"markdown\",\"metadata\":{\"id\":\"1B6hjgeKNCOY\"},\"source\":[\"### <b>建立模型</b>\"]},{\"cell_type\":\"code\",\"execution_count\":null,\"metadata\":{\"colab\":{\"base_uri\":\"https://localhost:8080/\"},\"executionInfo\":{\"elapsed\":46,\"status\":\"ok\",\"timestamp\":1761789819184,\"user\":{\"displayName\":\"張景陽\",\"userId\":\"17990199239061367823\"},\"user_tz\":-480},\"id\":\"CrZKiuOAARK0\",\"outputId\":\"1bb19686-ee90-4b32-da17-a8704ec425d8\"},\"outputs\":[{\"output_type\":\"execute_result\",\"data\":{\"text/plain\":[\"device(type='cuda')\"]},\"metadata\":{},\"execution_count\":10}],\"source\":[\"import torch  # 深度學習框架\\n\",\"\\\"\\\"\\\"\\n\",\"為什麼要檢查 GPU？\\n\",\"- GPU 的平行運算能力遠超 CPU（通常快 10-100 倍）\\n\",\"- 深度學習涉及大量矩陣運算，適合 GPU 加速\\n\",\"- 如果有 GPU 可用，應該優先使用\\n\",\"\\n\",\"CUDA 是什麼？\\n\",\"- NVIDIA 的平行運算平台\\n\",\"- PyTorch 透過 CUDA 調用 GPU\\n\",\"- torch.cuda.is_available() 檢查是否有可用的 GPU\\n\",\"\\\"\\\"\\\"\\n\",\"# 如果有GPU就用GPU，沒有GPU用CPU\\n\",\"device = torch.device(\\\"cuda\\\" if torch.cuda.is_available() else \\\"cpu\\\")\\n\",\"device\"]},{\"cell_type\":\"code\",\"execution_count\":null,\"metadata\":{\"colab\":{\"base_uri\":\"https://localhost:8080/\",\"height\":885,\"referenced_widgets\":[\"adf30169caad40bda91b4e5bea464d07\",\"c077e1435dd14474b21bb1958ad275e0\",\"284544d7ea794d0ba880b13d4ae774af\",\"51bda23b40734e15a258744083e14501\",\"dcccbc8fcea74a46ab0bb7bd717db415\",\"aea33b9126534ffeaec411e076114868\",\"04422c71befe40fca7fe626270cf48bb\",\"c3ea798242f446ab9562e065970d8ba9\",\"005dc6de699648d69bcf210089a4408c\",\"2fb08ca5370644c7a90bb62347162049\",\"4b48eb2dd80c49d39c04966818012832\"]},\"executionInfo\":{\"elapsed\":13386,\"status\":\"ok\",\"timestamp\":1761789832569,\"user\":{\"displayName\":\"張景陽\",\"userId\":\"17990199239061367823\"},\"user_tz\":-480},\"id\":\"1tHKgx_jtRkK\",\"outputId\":\"27713de6-ac67-4765-91b0-8226cf49dd7f\"},\"outputs\":[{\"output_type\":\"display_data\",\"data\":{\"text/plain\":[\"model.safetensors:   0%|          | 0.00/440M [00:00<?, ?B/s]\"]},\"metadata\":{}},{\"output_type\":\"stream\",\"name\":\"stderr\",\"text\":[\"Some weights of BertForSequenceClassification were not initialized from the model checkpoint at bert-base-uncased and are newly initialized: ['classifier.bias', 'classifier.weight']\\n\",\"You should probably TRAIN this model on a down-stream task to be able to use it for predictions and inference.\\n\"]},{\"output_type\":\"execute_result\",\"data\":{\"text/plain\":[\"BertForSequenceClassification(\\n\",\"  (bert): BertModel(\\n\",\"    (embeddings): BertEmbeddings(\\n\",\"      (word_embeddings): Embedding(30522, 768, padding_idx=0)\\n\",\"      (position_embeddings): Embedding(512, 768)\\n\",\"      (token_type_embeddings): Embedding(2, 768)\\n\",\"      (LayerNorm): LayerNorm((768,), eps=1e-12, elementwise_affine=True)\\n\",\"      (dropout): Dropout(p=0.1, inplace=False)\\n\",\"    )\\n\",\"    (encoder): BertEncoder(\\n\",\"      (layer): ModuleList(\\n\",\"        (0-11): 12 x BertLayer(\\n\",\"          (attention): BertAttention(\\n\",\"            (self): BertSdpaSelfAttention(\\n\",\"              (query): Linear(in_features=768, out_features=768, bias=True)\\n\",\"              (key): Linear(in_features=768, out_features=768, bias=True)\\n\",\"              (value): Linear(in_features=768, out_features=768, bias=True)\\n\",\"              (dropout): Dropout(p=0.1, inplace=False)\\n\",\"            )\\n\",\"            (output): BertSelfOutput(\\n\",\"              (dense): Linear(in_features=768, out_features=768, bias=True)\\n\",\"              (LayerNorm): LayerNorm((768,), eps=1e-12, elementwise_affine=True)\\n\",\"              (dropout): Dropout(p=0.1, inplace=False)\\n\",\"            )\\n\",\"          )\\n\",\"          (intermediate): BertIntermediate(\\n\",\"            (dense): Linear(in_features=768, out_features=3072, bias=True)\\n\",\"            (intermediate_act_fn): GELUActivation()\\n\",\"          )\\n\",\"          (output): BertOutput(\\n\",\"            (dense): Linear(in_features=3072, out_features=768, bias=True)\\n\",\"            (LayerNorm): LayerNorm((768,), eps=1e-12, elementwise_affine=True)\\n\",\"            (dropout): Dropout(p=0.1, inplace=False)\\n\",\"          )\\n\",\"        )\\n\",\"      )\\n\",\"    )\\n\",\"    (pooler): BertPooler(\\n\",\"      (dense): Linear(in_features=768, out_features=768, bias=True)\\n\",\"      (activation): Tanh()\\n\",\"    )\\n\",\"  )\\n\",\"  (dropout): Dropout(p=0.1, inplace=False)\\n\",\"  (classifier): Linear(in_features=768, out_features=3, bias=True)\\n\",\")\"]},\"metadata\":{},\"execution_count\":11}],\"source\":[\"from transformers import AutoModelForSequenceClassification  # 序列分類模型\\n\",\"\\\"\\\"\\\"\\n\",\"什麼是遷移學習(Transfer Learning)？\\n\",\"\\n\",\"1. 預訓練(Pre-training)階段\\n\",\"   - 在大規模文本語料上預訓練\\n\",\"   - 學習通用的語言理解能力\\n\",\"   - BERT 在 BookCorpus 和 Wikipedia 上訓練\\n\",\"\\n\",\"2. 微調(Fine-tuning)階段\\n\",\"   - 在特定任務上微調模型\\n\",\"   - 只需要較少的標註資料\\n\",\"   - 適應特定領域（如金融文本）\\n\",\"\\n\",\"為什麼設定 num_labels=3？\\n\",\"- 我們的任務是三分類：Negative, Neutral, Positive\\n\",\"- 模型最後會輸出 3 個分數(logits)\\n\",\"- 透過 softmax 轉換成機率分佈\\n\",\"\\n\",\"model.to(device) 的作用？\\n\",\"- 將模型參數移動到 GPU 上\\n\",\"- 確保模型和輸入資料在同一個裝置\\n\",\"\\\"\\\"\\\"\\n\",\"\\n\",\"# 載入模型（使用作業區域 1 選擇的模型）\\n\",\"model = AutoModelForSequenceClassification.from_pretrained(model_name, num_labels=3)\\n\",\"model.to(device)  # 將模型移到對應裝置\"]},{\"cell_type\":\"code\",\"execution_count\":null,\"metadata\":{\"id\":\"eWoT1FbOtURf\"},\"outputs\":[],\"source\":[\"from transformers import TrainingArguments  # 包裝訓練參數\\n\",\"\\n\",\"training_args = TrainingArguments(\\n\",\"    output_dir=\\\"./results\\\",          # 訓練結果的儲存位置，包括模型檔案和預測結果。\\n\",\"    eval_strategy=\\\"epoch\\\",     # 設置評估策略為每個訓練輪次（epoch）結束後進行一次評估。\\n\",\"    learning_rate=2e-5,              # 設置學習率，這裡使用 2e-5，通常較小的學習率更適合微調預訓練模型。\\n\",\"    per_device_train_batch_size=4,   # 設定每個裝置（如每張 GPU）的訓練批次大小為 4。\\n\",\"    per_device_eval_batch_size=4,    # 設定每個裝置的評估批次大小為 4。\\n\",\"    num_train_epochs=3,              # 訓練輪次設定為 3，模型將完整遍歷訓練集三次。\\n\",\"    weight_decay=0.01,               # 設置權重衰減（L2正則化）參數，這裡為 0.01，用於防止過擬合。\\n\",\"    logging_dir=\\\"./logs\\\",            # 日誌存放目錄，用於儲存 TensorBoard 或其他日誌。\\n\",\"    logging_steps=10,                # 設置每 10 個步驟記錄一次訓練信息，便於監控訓練過程。\\n\",\"    report_to=\\\"none\\\",                 # 不將訓練日誌發送到任何平臺（如 TensorBoard），可以改為 \\\"tensorboard\\\" 以啟用。\\n\",\")\"]},{\"cell_type\":\"code\",\"execution_count\":null,\"metadata\":{\"id\":\"lqJBOVlQtZzx\"},\"outputs\":[],\"source\":[\"from sklearn.metrics import accuracy_score, precision_recall_fscore_support\\n\",\"import numpy as np\\n\",\"\\n\",\"\\\"\\\"\\\"\\n\",\"為什麼需要這些評估指標？\\n\",\"\\n\",\"1. Accuracy (準確率)\\n\",\"   公式：(預測正確的樣本數) / (總樣本數)\\n\",\"   優點：直觀易懂\\n\",\"   缺點：在類別不平衡時會誤導\\n\",\"\\n\",\"2. Precision (精確率)\\n\",\"   公式：(真正例) / (真正例 + 假正例)\\n\",\"   意義：預測為正例的樣本中，真正為正例的比例\\n\",\"   應用：當誤報代價高時重視精確率\\n\",\"\\n\",\"3. Recall (召回率)\\n\",\"   公式：(真正例) / (真正例 + 假負例)\\n\",\"   意義：所有正例中，被正確預測的比例\\n\",\"   應用：當漏報代價高時重視召回率\\n\",\"\\n\",\"4. F1-score (F1分數)\\n\",\"   公式：2 * (Precision * Recall) / (Precision + Recall)\\n\",\"   意義：精確率和召回率的調和平均\\n\",\"   優點：綜合考慮兩者，適合類別不平衡\\n\",\"\\n\",\"為什麼使用 average=\\\"weighted\\\"？\\n\",\"- 根據每個類別的樣本數加權平均\\n\",\"- 考慮類別不平衡的影響\\n\",\"- 更能反映整體表現\\n\",\"\\n\",\"在金融情緒分析中的重要性：\\n\",\"- Precision 高：減少誤判（例如誤把中性當成正面）\\n\",\"- Recall 高：不錯過重要信號（例如不漏掉負面新聞）\\n\",\"- F1-score 高：整體表現好\\n\",\"\\\"\\\"\\\"\\n\",\"\\n\",\"def compute_metrics(pred):\\n\",\"    labels = pred.label_ids  # 取得真實值的id\\n\",\"    preds = np.argmax(pred.predictions, axis=1)  # 預測值找到最高機率的索引\\n\",\"    accuracy = accuracy_score(labels, preds)  # 計算準確率\\n\",\"    precision, recall, f1, _ = precision_recall_fscore_support(labels, preds, average=\\\"weighted\\\")  # 計算其他指標\\n\",\"    return {\\\"accuracy\\\": accuracy, \\\"precision\\\": precision, \\\"recall\\\": recall, \\\"f1\\\": f1}\"]},{\"cell_type\":\"code\",\"execution_count\":null,\"metadata\":{\"colab\":{\"base_uri\":\"https://localhost:8080/\",\"height\":204},\"id\":\"AJHPmtdQtgyc\",\"outputId\":\"d253c826-4a63-4769-933d-755e0c4cb4af\",\"executionInfo\":{\"status\":\"ok\",\"timestamp\":1761790881661,\"user_tz\":-480,\"elapsed\":1048803,\"user\":{\"displayName\":\"張景陽\",\"userId\":\"17990199239061367823\"}}},\"outputs\":[{\"output_type\":\"display_data\",\"data\":{\"text/plain\":[\"<IPython.core.display.HTML object>\"],\"text/html\":[\"\\n\",\"    <div>\\n\",\"      \\n\",\"      <progress value='2328' max='2328' style='width:300px; height:20px; vertical-align: middle;'></progress>\\n\",\"      [2328/2328 17:22, Epoch 3/3]\\n\",\"    </div>\\n\",\"    <table border=\\\"1\\\" class=\\\"dataframe\\\">\\n\",\"  <thead>\\n\",\" <tr style=\\\"text-align: left;\\\">\\n\",\"      <th>Epoch</th>\\n\",\"      <th>Training Loss</th>\\n\",\"      <th>Validation Loss</th>\\n\",\"      <th>Accuracy</th>\\n\",\"      <th>Precision</th>\\n\",\"      <th>Recall</th>\\n\",\"      <th>F1</th>\\n\",\"    </tr>\\n\",\"  </thead>\\n\",\"  <tbody>\\n\",\"    <tr>\\n\",\"      <td>1</td>\\n\",\"      <td>0.363100</td>\\n\",\"      <td>0.567214</td>\\n\",\"      <td>0.845361</td>\\n\",\"      <td>0.845585</td>\\n\",\"      <td>0.845361</td>\\n\",\"      <td>0.844905</td>\\n\",\"    </tr>\\n\",\"    <tr>\\n\",\"      <td>2</td>\\n\",\"      <td>0.422300</td>\\n\",\"      <td>0.671184</td>\\n\",\"      <td>0.856959</td>\\n\",\"      <td>0.858802</td>\\n\",\"      <td>0.856959</td>\\n\",\"      <td>0.857374</td>\\n\",\"    </tr>\\n\",\"    <tr>\\n\",\"      <td>3</td>\\n\",\"      <td>0.085500</td>\\n\",\"      <td>0.779432</td>\\n\",\"      <td>0.853093</td>\\n\",\"      <td>0.856704</td>\\n\",\"      <td>0.853093</td>\\n\",\"      <td>0.854056</td>\\n\",\"    </tr>\\n\",\"  </tbody>\\n\",\"</table><p>\"]},\"metadata\":{}},{\"output_type\":\"execute_result\",\"data\":{\"text/plain\":[\"TrainOutput(global_step=2328, training_loss=0.3789487303577882, metrics={'train_runtime': 1044.3342, 'train_samples_per_second': 8.908, 'train_steps_per_second': 2.229, 'total_flos': 2447744125123584.0, 'train_loss': 0.3789487303577882, 'epoch': 3.0})\"]},\"metadata\":{},\"execution_count\":14}],\"source\":[\"from transformers import Trainer\\n\",\"\\n\",\"\\\"\\\"\\\"\\n\",\"Trainer 類別的作用：\\n\",\"- 封裝了完整的訓練流程\\n\",\"- 自動處理：\\n\",\"  ✓ 梯度計算和參數更新\\n\",\"  ✓ 批次資料載入\\n\",\"  ✓ 學習率調整\\n\",\"  ✓ 驗證集評估\\n\",\"  ✓ Checkpoint 儲存\\n\",\"  ✓ 日誌記錄\\n\",\"\\n\",\"為什麼使用高階 API？\\n\",\"- 減少樣板代碼(boilerplate code)\\n\",\"- 避免常見錯誤\\n\",\"- 專注於模型和資料\\n\",\"- 便於快速實驗\\n\",\"\\n\",\"訓練過程中會發生什麼？\\n\",\"1. 前向傳播(Forward pass)\\n\",\"   - 輸入資料經過模型，得到預測結果\\n\",\"\\n\",\"2. 計算損失(Loss calculation)\\n\",\"   - 比較預測結果和真實標籤\\n\",\"   - 使用交叉熵損失(Cross-entropy loss)\\n\",\"\\n\",\"3. 反向傳播(Backward pass)\\n\",\"   - 計算損失對參數的梯度\\n\",\"\\n\",\"4. 參數更新(Parameter update)\\n\",\"   - 使用梯度和學習率更新參數\\n\",\"   - 優化器：AdamW (Adam with weight decay)\\n\",\"\\n\",\"5. 驗證評估(Validation)\\n\",\"   - 每個 epoch 結束後在驗證集上評估\\n\",\"   - 不更新參數，只計算指標\\n\",\"\\\"\\\"\\\"\\n\",\"\\n\",\"trainer = Trainer(\\n\",\"    model=model,\\n\",\"    args=training_args,\\n\",\"    train_dataset=tokenized_train,  # 使用訓練集\\n\",\"    eval_dataset=tokenized_val,     # 使用驗證集（從訓練集切出來的）\\n\",\"    compute_metrics=compute_metrics,\\n\",\")\\n\",\"\\n\",\"# 開始訓練\\n\",\"trainer.train()\"]},{\"cell_type\":\"markdown\",\"metadata\":{\"id\":\"O2CSuye8NPbm\"},\"source\":[\"### <b>結果評估</b>\"]},{\"cell_type\":\"code\",\"execution_count\":null,\"metadata\":{\"id\":\"QUKztZcotkI7\",\"colab\":{\"base_uri\":\"https://localhost:8080/\",\"height\":109},\"executionInfo\":{\"status\":\"ok\",\"timestamp\":1761790905271,\"user_tz\":-480,\"elapsed\":23608,\"user\":{\"displayName\":\"張景陽\",\"userId\":\"17990199239061367823\"}},\"outputId\":\"b058fa0c-19df-433c-f510-e998e37232e4\"},\"outputs\":[{\"output_type\":\"stream\",\"name\":\"stdout\",\"text\":[\"\\n\",\"=== 驗證集評估結果 ===\\n\"]},{\"output_type\":\"display_data\",\"data\":{\"text/plain\":[\"<IPython.core.display.HTML object>\"],\"text/html\":[\"\\n\",\"    <div>\\n\",\"      \\n\",\"      <progress value='194' max='194' style='width:300px; height:20px; vertical-align: middle;'></progress>\\n\",\"      [194/194 00:23]\\n\",\"    </div>\\n\",\"    \"]},\"metadata\":{}},{\"output_type\":\"stream\",\"name\":\"stdout\",\"text\":[\"{'eval_loss': 0.779431939125061, 'eval_accuracy': 0.8530927835051546, 'eval_precision': 0.856703938909129, 'eval_recall': 0.8530927835051546, 'eval_f1': 0.8540564523421957, 'eval_runtime': 23.5995, 'eval_samples_per_second': 32.882, 'eval_steps_per_second': 8.221, 'epoch': 3.0}\\n\"]}],\"source\":[\"# 評估模型在驗證集的表現\\n\",\"\\n\",\"print(\\\"\\\\n=== 驗證集評估結果 ===\\\")\\n\",\"val_result = trainer.evaluate(eval_dataset=tokenized_val)\\n\",\"print(val_result)\"]},{\"cell_type\":\"code\",\"execution_count\":null,\"metadata\":{\"id\":\"0-jwOnoGwA5r\",\"colab\":{\"base_uri\":\"https://localhost:8080/\",\"height\":109},\"executionInfo\":{\"status\":\"ok\",\"timestamp\":1761790934162,\"user_tz\":-480,\"elapsed\":28886,\"user\":{\"displayName\":\"張景陽\",\"userId\":\"17990199239061367823\"}},\"outputId\":\"a9d47e05-d848-4541-bc12-a21ef06d8d6c\"},\"outputs\":[{\"output_type\":\"stream\",\"name\":\"stdout\",\"text\":[\"\\n\",\"=== 測試集評估結果（最終評估）===\\n\"]},{\"output_type\":\"display_data\",\"data\":{\"text/plain\":[\"<IPython.core.display.HTML object>\"],\"text/html\":[\"\\n\",\"    <div>\\n\",\"      \\n\",\"      <progress value='437' max='194' style='width:300px; height:20px; vertical-align: middle;'></progress>\\n\",\"      [194/194 00:52]\\n\",\"    </div>\\n\",\"    \"]},\"metadata\":{}},{\"output_type\":\"stream\",\"name\":\"stdout\",\"text\":[\"{'eval_loss': 0.6918463110923767, 'eval_accuracy': 0.8648090815273478, 'eval_precision': 0.8650427574852284, 'eval_recall': 0.8648090815273478, 'eval_f1': 0.8649156086688915, 'eval_runtime': 28.8737, 'eval_samples_per_second': 33.56, 'eval_steps_per_second': 8.416, 'epoch': 3.0}\\n\"]}],\"source\":[\"# 評估模型在測試集的表現（最終評估）\\n\",\"print(\\\"\\\\n=== 測試集評估結果（最終評估）===\\\")\\n\",\"test_result = trainer.evaluate(eval_dataset=tokenized_test)\\n\",\"print(test_result)\"]},{\"cell_type\":\"markdown\",\"metadata\":{\"id\":\"PSgCkDKhwF_o\"},\"source\":[\"### <b2>使用測試集進行預測展示</b>\\n\"]},{\"cell_type\":\"code\",\"execution_count\":null,\"metadata\":{\"id\":\"V5ypsiDh1ACF\",\"colab\":{\"base_uri\":\"https://localhost:8080/\"},\"executionInfo\":{\"status\":\"ok\",\"timestamp\":1761790934225,\"user_tz\":-480,\"elapsed\":50,\"user\":{\"displayName\":\"張景陽\",\"userId\":\"17990199239061367823\"}},\"outputId\":\"a71ef589-c90b-4a27-9edb-41888482c8e6\"},\"outputs\":[{\"output_type\":\"stream\",\"name\":\"stdout\",\"text\":[\"\\n\",\"=== 測試集句子展示 ===\\n\",\"以下是測試集中的前 50 個句子：\\n\",\"\\n\",\"[0] TeliaSonera TLSN said the offer is in line with its strategy to increase its ownership in core business holdings and would strengthen Eesti Telekom 's offering to its customers .\\n\",\"    真實標籤：Positive\\n\",\"\\n\",\"[1] STORA ENSO , NORSKE SKOG , M-REAL , UPM-KYMMENE Credit Suisse First Boston ( CFSB ) raised the fair value for shares in four of the largest Nordic forestry groups .\\n\",\"    真實標籤：Positive\\n\",\"\\n\",\"[2] Clothing retail chain Sepp+ñl+ñ 's sales increased by 8 % to EUR 155.2 mn , and operating profit rose to EUR 31.1 mn from EUR 17.1 mn in 2004 .\\n\",\"    真實標籤：Positive\\n\",\"\\n\",\"[3] Lifetree was founded in 2000 , and its revenues have risen on an average by 40 % with margins in late 30s .\\n\",\"    真實標籤：Positive\\n\",\"\\n\",\"[4] Nordea Group 's operating profit increased in 2010 by 18 percent year-on-year to 3.64 billion euros and total revenue by 3 percent to 9.33 billion euros .\\n\",\"    真實標籤：Positive\\n\",\"\\n\",\"[5] Operating profit for the nine-month period increased from EUR3 .1 m and net sales increased from EUR61 .5 m , as compared to the corresponding period in 2007 .\\n\",\"    真實標籤：Positive\\n\",\"\\n\",\"[6] The Lithuanian beer market made up 14.41 million liters in January , a rise of 0.8 percent from the year-earlier figure , the Lithuanian Brewers ' Association reporting citing the results from its members .\\n\",\"    真實標籤：Positive\\n\",\"\\n\",\"[7] In January-September 2010 , Fiskars ' net profit went up by 14 % year-on-year to EUR 65.4 million and net sales to EUR 525.3 million from EUR 487.7 million .\\n\",\"    真實標籤：Positive\\n\",\"\\n\",\"[8] Net income from life insurance rose to EUR 16.5 mn from EUR 14.0 mn , and net income from non-life insurance to EUR 22.6 mn from EUR 15.2 mn in 2009 .\\n\",\"    真實標籤：Positive\\n\",\"\\n\",\"[9] Nyrstar has also agreed to supply to Talvivaara up to 150,000 tonnes of sulphuric acid per annum for use in Talvivaara 's leaching process during the period of supply of the zinc in concentrate .\\n\",\"    真實標籤：Positive\\n\",\"\\n\",\"[10] The agreement strengthens our long-term partnership with Nokia Siemens Networks .\\n\",\"    真實標籤：Positive\\n\",\"\\n\",\"[11] KESKO CORPORATION STOCK EXCHANGE RELEASE 28.02.2008 AT 09.30 1 ( 1 ) Kesko Corporation and Aspo plc today signed an agreement by which Aspo acquires the share capital of Kauko-Telko Ltd , a subsidiary wholly owned by Kesko .\\n\",\"    真實標籤：Positive\\n\",\"\\n\",\"[12] The OMX Helsinki 25 index was up 0.92 pct at 2,518.67 and the Helsinki CAP portfolio index was 0.91 pct higher at 4,711.19 .\\n\",\"    真實標籤：Positive\\n\",\"\\n\",\"[13] Tiimari operates 194 stores in six countries -- including its core Finnish market -- and generated a turnover of 76.5 mln eur in 2005 .\\n\",\"    真實標籤：Neutral\\n\",\"\\n\",\"[14] Under this agreement Biohit becomes a focus supplier of pipettors and disposable pipettor tips to VWR customers throughout Europe .\\n\",\"    真實標籤：Positive\\n\",\"\\n\",\"[15] Adjusted for changes in the Group structure , the Division 's net sales increased by 1.7 % .\\n\",\"    真實標籤：Positive\\n\",\"\\n\",\"[16] Finnish Aktia Group 's operating profit rose to EUR 17.5 mn in the first quarter of 2010 from EUR 8.2 mn in the first quarter of 2009 .\\n\",\"    真實標籤：Positive\\n\",\"\\n\",\"[17] Finnish high technology provider Vaahto Group reports net sales of EUR 41.8 mn in the accounting period September 2007 - February 2008 , an increase of 11.2 % from a year earlier .\\n\",\"    真實標籤：Positive\\n\",\"\\n\",\"[18] Biohit already services many current Genesis customers and the customer base is expected to expand as a result of this agreement .\\n\",\"    真實標籤：Positive\\n\",\"\\n\",\"[19] Circulation revenue has increased by 5 % in Finland and 4 % in Sweden in 2008 .\\n\",\"    真實標籤：Positive\\n\",\"\\n\",\"[20] In 2009 , Fiskars ' cash flow from operating activities amounted to EUR121m , up from EUR97m in the previous year .\\n\",\"    真實標籤：Positive\\n\",\"\\n\",\"[21] Operating profit margin increased from 11.2 % to 11.7 % .\\n\",\"    真實標籤：Positive\\n\",\"\\n\",\"[22] The circuit 's overall production rate on a weekly basis is now in excess of an average of 40,000 tonnes per day , with volumes in excess of 50,000 tonnes per day being reached on individual days .\\n\",\"    真實標籤：Positive\\n\",\"\\n\",\"[23] The last quarter was the best quarter of 2009 in net sales , and the operating margin rose to 12.2 % .\\n\",\"    真實標籤：Positive\\n\",\"\\n\",\"[24] The transaction doubles Tecnomens workforse , and adds a fourth to their net sales .\\n\",\"    真實標籤：Positive\\n\",\"\\n\",\"[25] `` The priority for 2009 was to strengthen the company 's balance sheet and increase cash flow , '' CEO Hannu Krook said .\\n\",\"    真實標籤：Positive\\n\",\"\\n\",\"[26] A structures BIM ( building information modeling ) software from Tekla , a model-based software provider , has been adopted for the construction management and delivery of a university project in Abu Dhabi .\\n\",\"    真實標籤：Neutral\\n\",\"\\n\",\"[27] According to Finnish Metso Minerals , the value of the company 's orders has gone up to EUR 1.9 bn in 12 months .\\n\",\"    真實標籤：Positive\\n\",\"\\n\",\"[28] Finnish forest machinery manufacturer Ponsse 's net sales grew to EUR 51.3 mn in the first quarter of 2010 from EUR 37.5 mn in the corresponding period in 2009 .\\n\",\"    真實標籤：Positive\\n\",\"\\n\",\"[29] Finnish KCI Konecranes has raised its net sales growth estimate for 2006 from over 25 % to over 35 % .\\n\",\"    真實標籤：Positive\\n\",\"\\n\",\"[30] Finnish pharmaceuticals company Orion 's net sales rose to EUR 190mn in the first quarter of 2009 from EUR 180mn in the first quarter of 2008 .\\n\",\"    真實標籤：Positive\\n\",\"\\n\",\"[31] Again , the most significant sales increase of 18.6 % was in Russia .\\n\",\"    真實標籤：Positive\\n\",\"\\n\",\"[32] Also Lemmink+ñinen 's profit for accounting period went up to EUR 3.1 mn from EUR -24.5 mn a year ago .\\n\",\"    真實標籤：Positive\\n\",\"\\n\",\"[33] Besides we have increased the share of meat in various sausages and are offering a number of new tastes in the grill products and shish kebabs segment , '' Paavel said .\\n\",\"    真實標籤：Positive\\n\",\"\\n\",\"[34] Both operating profit and net sales for the three-month period increased , respectively from EUR16 .0 m and EUR139m , as compared to the corresponding quarter in 2006 .\\n\",\"    真實標籤：Positive\\n\",\"\\n\",\"[35] Diluted earnings per share ( EPS ) rose to EUR 3.68 from EUR 0.50 .\\n\",\"    真實標籤：Positive\\n\",\"\\n\",\"[36] Finnish cutlery and hand tools maker Fiskars Oyj Abp ( HEL : FISAS ) said today its net profit rose to EUR 24.1 million ( USD 33.6 m ) in the third quarter of 2010 from EUR 17.9 million a year earlier .\\n\",\"    真實標籤：Positive\\n\",\"\\n\",\"[37] HELSINKI ( AFX ) - Retail and wholesale group Kesko reported net sales of 659.4 mln eur for February , an increase of 10.8 pct year-on-year .\\n\",\"    真實標籤：Positive\\n\",\"\\n\",\"[38] In December alone , the members of the Lithuanian Brewers ' Association sold a total of 20.3 million liters of beer , an increase of 1.9 percent from the sales of 19.92 million liters in December 2004 .\\n\",\"    真實標籤：Positive\\n\",\"\\n\",\"[39] In Sweden , operating profit for the period under review totaled EUR 3.4 mn , up 30.8 % from the corresponding period in 2005 .\\n\",\"    真實標籤：Positive\\n\",\"\\n\",\"[40] In the second quarter of 2010 , the group 's net profit rose to EUR 3.1 million from EUR 2.5 million in April-June 2009 .\\n\",\"    真實標籤：Positive\\n\",\"\\n\",\"[41] Its market share widened to 48.51 percent from 48.31 percent a year earlier .\\n\",\"    真實標籤：Positive\\n\",\"\\n\",\"[42] ( ADP News ) - Feb 11 , 2009 - Finnish management software solutions provider Ixonos Oyj ( HEL : XNS1V ) said today its net profit rose to EUR 3.5 million ( USD 4.5 m ) for 2008 from EUR 3.1 million for 2007 .\\n\",\"    真實標籤：Positive\\n\",\"\\n\",\"[43] ( ADP News ) - Feb 6 , 2009 - Finnish fishing tackle company Rapala VMC Corp ( HEL : RAP1V ) said today its net profit rose to EUR 19.2 million ( USD 24.6 m ) for 2008 from EUR 17.5 million for 2007 .\\n\",\"    真實標籤：Positive\\n\",\"\\n\",\"[44] ( ADP News ) - Oct 29 , 2008 - Finnish lifting equipment maker Konecranes Oyj ( OMX : KCR1V ) said today that its net profit rose to EUR 116.6 million ( USD 149.1 m ) in the first nine months of 2008 from EUR 73.6 million for the s\\n\",\"    真實標籤：Positive\\n\",\"\\n\",\"[45] Net interest income increased by 4.5 % to EUR 31.4 mn from EUR 30.0 mn in 2004 .\\n\",\"    真實標籤：Positive\\n\",\"\\n\",\"[46] Operating income rose to EUR 696.4 mn from EUR 600.3 mn in 2009 .\\n\",\"    真實標籤：Positive\\n\",\"\\n\",\"[47] Operating profit rose to EUR 13.5 mn from EUR 9.7 mn in the corresponding period in 2006 .\\n\",\"    真實標籤：Positive\\n\",\"\\n\",\"[48] Operating profit rose to EUR 4.7 mn from EUR 4.6 mn .\\n\",\"    真實標籤：Positive\\n\",\"\\n\",\"[49] Operating profit totaled EUR 37,7 mn , up slightly from EUR 37.2 mn in the corresponding period in 2006 .\\n\",\"    真實標籤：Positive\\n\",\"\\n\"]}],\"source\":[\"# 先展示測試集中的句子，讓學生了解有哪些資料\\n\",\"print(\\\"\\\\n=== 測試集句子展示 ===\\\")\\n\",\"print(\\\"以下是測試集中的前 50 個句子：\\\\n\\\")\\n\",\"\\n\",\"label_map = {0: \\\"Negative\\\", 1: \\\"Neutral\\\", 2: \\\"Positive\\\"}\\n\",\"\\n\",\"for i in range(50):\\n\",\"    sentence = test_dataset[i][\\\"sentence\\\"]\\n\",\"    label = test_dataset[i][\\\"label\\\"]\\n\",\"    print(f\\\"[{i}] {sentence}\\\")\\n\",\"    print(f\\\"    真實標籤：{label_map[label]}\\\\n\\\")\"]},{\"cell_type\":\"code\",\"execution_count\":null,\"metadata\":{\"id\":\"ZmWdctbTwO_f\",\"colab\":{\"base_uri\":\"https://localhost:8080/\"},\"executionInfo\":{\"status\":\"ok\",\"timestamp\":1761790934283,\"user_tz\":-480,\"elapsed\":57,\"user\":{\"displayName\":\"張景陽\",\"userId\":\"17990199239061367823\"}},\"outputId\":\"3c709313-226d-479b-b55f-6bdcd3e25af2\"},\"outputs\":[{\"output_type\":\"stream\",\"name\":\"stdout\",\"text\":[\"\\n\",\"你選擇測試的句子索引：[0, 9, 11, 7, 8]\\n\",\"\\n\",\"=== 開始預測 ===\\n\",\"\\n\",\"你選擇的 5 個句子的預測結果：\\n\",\"\\n\",\"1. 測試集索引 [0]\\n\",\"   句子：TeliaSonera TLSN said the offer is in line with its strategy to increase its ownership in core business holdings and would strengthen Eesti Telekom 's offering to its customers .\\n\",\"   真實標籤：Positive\\n\",\"   預測標籤：Positive\\n\",\"   結果：✓ 正確\\n\",\"\\n\",\"2. 測試集索引 [9]\\n\",\"   句子：Nyrstar has also agreed to supply to Talvivaara up to 150,000 tonnes of sulphuric acid per annum for use in Talvivaara 's leaching process during the period of supply of the zinc in concentrate .\\n\",\"   真實標籤：Positive\\n\",\"   預測標籤：Positive\\n\",\"   結果：✓ 正確\\n\",\"\\n\",\"3. 測試集索引 [11]\\n\",\"   句子：KESKO CORPORATION STOCK EXCHANGE RELEASE 28.02.2008 AT 09.30 1 ( 1 ) Kesko Corporation and Aspo plc today signed an agreement by which Aspo acquires the share capital of Kauko-Telko Ltd , a subsidiary wholly owned by Kesko .\\n\",\"   真實標籤：Positive\\n\",\"   預測標籤：Positive\\n\",\"   結果：✓ 正確\\n\",\"\\n\",\"4. 測試集索引 [7]\\n\",\"   句子：In January-September 2010 , Fiskars ' net profit went up by 14 % year-on-year to EUR 65.4 million and net sales to EUR 525.3 million from EUR 487.7 million .\\n\",\"   真實標籤：Positive\\n\",\"   預測標籤：Positive\\n\",\"   結果：✓ 正確\\n\",\"\\n\",\"5. 測試集索引 [8]\\n\",\"   句子：Net income from life insurance rose to EUR 16.5 mn from EUR 14.0 mn , and net income from non-life insurance to EUR 22.6 mn from EUR 15.2 mn in 2009 .\\n\",\"   真實標籤：Positive\\n\",\"   預測標籤：Positive\\n\",\"   結果：✓ 正確\\n\",\"\\n\",\"準確率：5/5 = 100.00%\\n\"]}],\"source\":[\"# 請從上面顯示的測試集句子中，選擇你想要測試的句子索引\\n\",\"#\\n\",\"# 選擇特定的句子索引\\n\",\"# 例如：test_indices = [0, 5, 10, 15, 19]\\n\",\"#\\n\",\"# 提示：\\n\",\"# - 可以選擇不同情緒的句子來測試\\n\",\"# - 觀察模型在哪些句子上預測正確，哪些預測錯誤\\n\",\"# - 思考為什麼模型會預測錯誤\\n\",\"\\n\",\"test_indices = [0, 9, 11, 7, 8]  # 請修改這裡！選擇你想測試的句子索引\\n\",\"\\n\",\"print(f\\\"\\\\n你選擇測試的句子索引：{test_indices}\\\")\\n\",\"# ============================================================================\\n\",\"\\n\",\"# 根據選擇的索引，取得測試句子\\n\",\"test_texts = [test_dataset[i][\\\"sentence\\\"] for i in test_indices]\\n\",\"true_labels = [test_dataset[i][\\\"label\\\"] for i in test_indices]\\n\",\"\\n\",\"print(\\\"\\\\n=== 開始預測 ===\\\\n\\\")\\n\",\"\\n\",\"\\\"\\\"\\\"\\n\",\"預測流程說明：\\n\",\"\\n\",\"1. 取得測試句子和真實標籤\\n\",\"   - 根據選擇的索引提取句子\\n\",\"\\n\",\"2. Tokenization\\n\",\"   - 將句子轉換成模型輸入格式\\n\",\"   - return_tensors=\\\"pt\\\" 返回 PyTorch tensor\\n\",\"\\n\",\"3. 模型推理\\n\",\"   - 將 tokenized 資料輸入模型\\n\",\"   - 得到 logits（未標準化的分數）\\n\",\"\\n\",\"4. 預測類別\\n\",\"   - 使用 argmax 取得分數最高的類別\\n\",\"   - 轉換回 CPU 以便後續處理\\n\",\"\\n\",\"5. 結果展示\\n\",\"   - 顯示原始句子、真實標籤、預測標籤\\n\",\"   - 標記預測是否正確\\n\",\"   - 計算準確率\\n\",\"\\\"\\\"\\\"\\n\",\"\\n\",\"# Tokenize 測試句子\\n\",\"test_encodings = tokenizer(test_texts, truncation=True, padding=True, return_tensors=\\\"pt\\\").to(device)\\n\",\"outputs = model(**test_encodings)\\n\",\"\\n\",\"# 取得預測結果\\n\",\"preds = torch.argmax(outputs.logits, dim=1).cpu().numpy()  # 將結果轉回 CPU 以便處理\\n\",\"\\n\",\"# 顯示預測結果\\n\",\"predicted_labels = [label_map[pred] for pred in preds]\\n\",\"true_labels_text = [label_map[label] for label in true_labels]\\n\",\"\\n\",\"# 計算準確率\\n\",\"correct = sum([1 for true, pred in zip(true_labels_text, predicted_labels) if true == pred])\\n\",\"accuracy = correct / len(test_texts) * 100\\n\",\"\\n\",\"print(f\\\"你選擇的 {len(test_texts)} 個句子的預測結果：\\\\n\\\")\\n\",\"\\n\",\"for i, (idx, text, true_label, pred_label) in enumerate(zip(test_indices, test_texts, true_labels_text, predicted_labels)):\\n\",\"    correct_mark = \\\"✓ 正確\\\" if true_label == pred_label else \\\"✗ 錯誤\\\"\\n\",\"    print(f\\\"{i+1}. 測試集索引 [{idx}]\\\")\\n\",\"    print(f\\\"   句子：{text}\\\")\\n\",\"    print(f\\\"   真實標籤：{true_label}\\\")\\n\",\"    print(f\\\"   預測標籤：{pred_label}\\\")\\n\",\"    print(f\\\"   結果：{correct_mark}\\\\n\\\")\\n\",\"\\n\",\"print(f\\\"準確率：{correct}/{len(test_texts)} = {accuracy:.2f}%\\\")\"]},{\"cell_type\":\"code\",\"source\":[\"from google.colab import drive\\n\",\"drive.mount('/content/drive')\"],\"metadata\":{\"id\":\"WprKsN2qKHVA\",\"colab\":{\"base_uri\":\"https://localhost:8080/\"},\"executionInfo\":{\"status\":\"ok\",\"timestamp\":1761795499192,\"user_tz\":-480,\"elapsed\":60801,\"user\":{\"displayName\":\"張景陽\",\"userId\":\"17990199239061367823\"}},\"outputId\":\"1b33e181-d35f-4e94-cf5e-4dceb76a2b17\"},\"execution_count\":3,\"outputs\":[{\"output_type\":\"stream\",\"name\":\"stdout\",\"text\":[\"Mounted at /content/drive\\n\"]}]},{\"cell_type\":\"code\",\"source\":[\"import json, os, re\\n\",\"from google.colab import runtime\\n\",\"\\n\",\"# 🔹 1️⃣ 讓 Colab 強制儲存最新版本\\n\",\"runtime.command('save', '')\\n\",\"\\n\",\"# 🔹 2️⃣ 找到目前正在執行的 notebook 名稱\\n\",\"from IPython.display import Javascript\\n\",\"from google.colab import output\\n\",\"\\n\",\"notebook_name = None\\n\",\"def _notebook_name(name):\\n\",\"    global notebook_name\\n\",\"    notebook_name = name\\n\",\"\\n\",\"output.register_callback('get_ipynb_name', _notebook_name)\\n\",\"display(Javascript('google.colab.kernel.invokeFunction(\\\"get_ipynb_name\\\", [document.title], {});'))\\n\",\"\\n\",\"# 等待名稱被取得\\n\",\"import time\\n\",\"time.sleep(2)\\n\",\"\\n\",\"if notebook_name:\\n\",\"    # 去除「 - Colab」等多餘字樣\\n\",\"    notebook_name = re.sub(r' - Colab$', '', notebook_name).strip()\\n\",\"    print(f\\\"🔍 偵測到 notebook 檔名: {notebook_name}\\\")\\n\",\"else:\\n\",\"    raise ValueError(\\\"❌ 無法自動偵測 notebook 名稱，請手動輸入檔案名稱。\\\")\\n\",\"\\n\",\"# 🔹 3️⃣ 執行清理（假設 notebook 已儲存在 Google Drive/Colab Notebooks）\\n\",\"notebook_path = f\\\"/content/drive/MyDrive/Colab Notebooks/{notebook_name}.ipynb\\\"\\n\",\"\\n\",\"print(f\\\"🧹 準備清理：{notebook_path}\\\")\\n\",\"\\n\",\"# 開始清除 widgets metadata\\n\",\"with open(notebook_path, \\\"r\\\", encoding=\\\"utf-8\\\") as f:\\n\",\"    data = json.load(f)\\n\",\"\\n\",\"# 移除最外層 widgets\\n\",\"data.get(\\\"metadata\\\", {}).pop(\\\"widgets\\\", None)\\n\",\"\\n\",\"# 移除每個 cell 的 widgets 相關資料\\n\",\"for cell in data.get(\\\"cells\\\", []):\\n\",\"    cell.get(\\\"metadata\\\", {}).pop(\\\"widgets\\\", None)\\n\",\"    for output_data in cell.get(\\\"outputs\\\", []):\\n\",\"        if \\\"data\\\" in output_data and \\\"application/vnd.jupyter.widget-view+json\\\" in output_data[\\\"data\\\"]:\\n\",\"            del output_data[\\\"data\\\"][\\\"application/vnd.jupyter.widget-view+json\\\"]\\n\",\"\\n\",\"# 重新儲存\\n\",\"with open(notebook_path, \\\"w\\\", encoding=\\\"utf-8\\\") as f:\\n\",\"    json.dump(data, f, indent=2, ensure_ascii=False)\\n\",\"\\n\",\"print(f\\\"清理完成，可安全上傳至 GitHub！ → {notebook_path}\\\")\"],\"metadata\":{\"colab\":{\"base_uri\":\"https://localhost:8080/\",\"height\":211},\"id\":\"prJTPy9XLA82\",\"executionInfo\":{\"status\":\"error\",\"timestamp\":1761795144482,\"user_tz\":-480,\"elapsed\":40,\"user\":{\"displayName\":\"張景陽\",\"userId\":\"17990199239061367823\"}},\"outputId\":\"0ddec0bd-9c59-45be-a28b-6c1a553e41d4\"},\"execution_count\":7,\"outputs\":[{\"output_type\":\"error\",\"ename\":\"AttributeError\",\"evalue\":\"module 'google.colab.runtime' has no attribute 'command'\",\"traceback\":[\"\\u001b[0;31m---------------------------------------------------------------------------\\u001b[0m\",\"\\u001b[0;31mAttributeError\\u001b[0m                            Traceback (most recent call last)\",\"\\u001b[0;32m/tmp/ipython-input-1104936132.py\\u001b[0m in \\u001b[0;36m<cell line: 0>\\u001b[0;34m()\\u001b[0m\\n\\u001b[1;32m      3\\u001b[0m \\u001b[0;34m\\u001b[0m\\u001b[0m\\n\\u001b[1;32m      4\\u001b[0m \\u001b[0;31m# 🔹 1️⃣ 讓 Colab 強制儲存最新版本\\u001b[0m\\u001b[0;34m\\u001b[0m\\u001b[0;34m\\u001b[0m\\u001b[0m\\n\\u001b[0;32m----> 5\\u001b[0;31m \\u001b[0mruntime\\u001b[0m\\u001b[0;34m.\\u001b[0m\\u001b[0mcommand\\u001b[0m\\u001b[0;34m(\\u001b[0m\\u001b[0;34m'save'\\u001b[0m\\u001b[0;34m,\\u001b[0m \\u001b[0;34m''\\u001b[0m\\u001b[0;34m)\\u001b[0m\\u001b[0;34m\\u001b[0m\\u001b[0;34m\\u001b[0m\\u001b[0m\\n\\u001b[0m\\u001b[1;32m      6\\u001b[0m \\u001b[0;34m\\u001b[0m\\u001b[0m\\n\\u001b[1;32m      7\\u001b[0m \\u001b[0;31m# 🔹 2️⃣ 找到目前正在執行的 notebook 名稱\\u001b[0m\\u001b[0;34m\\u001b[0m\\u001b[0;34m\\u001b[0m\\u001b[0m\\n\",\"\\u001b[0;31mAttributeError\\u001b[0m: module 'google.colab.runtime' has no attribute 'command'\"]}]},{\"cell_type\":\"code\",\"source\":[\"import json\\n\",\"import sys\\n\",\"from pathlib import Path\\n\",\"\\n\",\"def remove_widgets(notebook_path):\\n\",\"    with open(notebook_path, \\\"r\\\", encoding=\\\"utf-8\\\") as f:\\n\",\"        data = json.load(f)\\n\",\"\\n\",\"    # 移除最外層 widgets\\n\",\"    if \\\"metadata\\\" in data and \\\"widgets\\\" in data[\\\"metadata\\\"]:\\n\",\"        del data[\\\"metadata\\\"][\\\"widgets\\\"]\\n\",\"\\n\",\"    # 清除每個 cell 裡的 widgets metadata 與輸出中的 widget JSON\\n\",\"    for cell in data.get(\\\"cells\\\", []):\\n\",\"        # 移除 cell metadata.widgets\\n\",\"        if \\\"metadata\\\" in cell and \\\"widgets\\\" in cell[\\\"metadata\\\"]:\\n\",\"            del cell[\\\"metadata\\\"][\\\"widgets\\\"]\\n\",\"        # 移除 cell outputs 中的 widget 類型輸出\\n\",\"        for output in cell.get(\\\"outputs\\\", []):\\n\",\"            if \\\"data\\\" in output and \\\"application/vnd.jupyter.widget-view+json\\\" in output[\\\"data\\\"]:\\n\",\"                del output[\\\"data\\\"][\\\"application/vnd.jupyter.widget-view+json\\\"]\\n\",\"\\n\",\"    with open(notebook_path, \\\"w\\\", encoding=\\\"utf-8\\\") as f:\\n\",\"        json.dump(data, f, indent=2, ensure_ascii=False)\\n\",\"    print(f\\\"Cleaned: {notebook_path}\\\")\\n\",\"\\n\",\"# 在這裡指定 notebook 路徑\\n\",\"# notebook_path = \\\"/content/drive/MyDrive/Colab Notebooks/week6_語言模型_HuggingFace.ipynb\\\"\\n\",\"notebook_path = \\\"/content/drive/MyDrive/Colab Notebooks/week6_語言模型_HuggingFace.ipynb\\\"\\n\",\"remove_widgets(notebook_path)\"],\"metadata\":{\"colab\":{\"base_uri\":\"https://localhost:8080/\",\"height\":297},\"id\":\"EiY0UNcSJhJ4\",\"executionInfo\":{\"status\":\"error\",\"timestamp\":1761794861341,\"user_tz\":-480,\"elapsed\":12,\"user\":{\"displayName\":\"張景陽\",\"userId\":\"17990199239061367823\"}},\"outputId\":\"bb2dfb23-936e-4a99-d555-3f7dc91984e6\"},\"execution_count\":null,\"outputs\":[{\"output_type\":\"error\",\"ename\":\"FileNotFoundError\",\"evalue\":\"[Errno 2] No such file or directory: 'week6_語言模型_HuggingFace'\",\"traceback\":[\"\\u001b[0;31m---------------------------------------------------------------------------\\u001b[0m\",\"\\u001b[0;31mFileNotFoundError\\u001b[0m                         Traceback (most recent call last)\",\"\\u001b[0;32m/tmp/ipython-input-2939726619.py\\u001b[0m in \\u001b[0;36m<cell line: 0>\\u001b[0;34m()\\u001b[0m\\n\\u001b[1;32m     28\\u001b[0m \\u001b[0;31m# notebook_path = \\\"/content/drive/MyDrive/Colab Notebooks/week6_語言模型_HuggingFace.ipynb\\\"\\u001b[0m\\u001b[0;34m\\u001b[0m\\u001b[0;34m\\u001b[0m\\u001b[0m\\n\\u001b[1;32m     29\\u001b[0m \\u001b[0mnotebook_path\\u001b[0m \\u001b[0;34m=\\u001b[0m \\u001b[0;34m\\\"week6_語言模型_HuggingFace\\\"\\u001b[0m\\u001b[0;34m\\u001b[0m\\u001b[0;34m\\u001b[0m\\u001b[0m\\n\\u001b[0;32m---> 30\\u001b[0;31m \\u001b[0mremove_widgets\\u001b[0m\\u001b[0;34m(\\u001b[0m\\u001b[0mnotebook_path\\u001b[0m\\u001b[0;34m)\\u001b[0m\\u001b[0;34m\\u001b[0m\\u001b[0;34m\\u001b[0m\\u001b[0m\\n\\u001b[0m\",\"\\u001b[0;32m/tmp/ipython-input-2939726619.py\\u001b[0m in \\u001b[0;36mremove_widgets\\u001b[0;34m(notebook_path)\\u001b[0m\\n\\u001b[1;32m      4\\u001b[0m \\u001b[0;34m\\u001b[0m\\u001b[0m\\n\\u001b[1;32m      5\\u001b[0m \\u001b[0;32mdef\\u001b[0m \\u001b[0mremove_widgets\\u001b[0m\\u001b[0;34m(\\u001b[0m\\u001b[0mnotebook_path\\u001b[0m\\u001b[0;34m)\\u001b[0m\\u001b[0;34m:\\u001b[0m\\u001b[0;34m\\u001b[0m\\u001b[0;34m\\u001b[0m\\u001b[0m\\n\\u001b[0;32m----> 6\\u001b[0;31m     \\u001b[0;32mwith\\u001b[0m \\u001b[0mopen\\u001b[0m\\u001b[0;34m(\\u001b[0m\\u001b[0mnotebook_path\\u001b[0m\\u001b[0;34m,\\u001b[0m \\u001b[0;34m\\\"r\\\"\\u001b[0m\\u001b[0;34m,\\u001b[0m \\u001b[0mencoding\\u001b[0m\\u001b[0;34m=\\u001b[0m\\u001b[0;34m\\\"utf-8\\\"\\u001b[0m\\u001b[0;34m)\\u001b[0m \\u001b[0;32mas\\u001b[0m \\u001b[0mf\\u001b[0m\\u001b[0;34m:\\u001b[0m\\u001b[0;34m\\u001b[0m\\u001b[0;34m\\u001b[0m\\u001b[0m\\n\\u001b[0m\\u001b[1;32m      7\\u001b[0m         \\u001b[0mdata\\u001b[0m \\u001b[0;34m=\\u001b[0m \\u001b[0mjson\\u001b[0m\\u001b[0;34m.\\u001b[0m\\u001b[0mload\\u001b[0m\\u001b[0;34m(\\u001b[0m\\u001b[0mf\\u001b[0m\\u001b[0;34m)\\u001b[0m\\u001b[0;34m\\u001b[0m\\u001b[0;34m\\u001b[0m\\u001b[0m\\n\\u001b[1;32m      8\\u001b[0m \\u001b[0;34m\\u001b[0m\\u001b[0m\\n\",\"\\u001b[0;31mFileNotFoundError\\u001b[0m: [Errno 2] No such file or directory: 'week6_語言模型_HuggingFace'\"]}]},{\"cell_type\":\"code\",\"source\":[\"jupyter nbconvert --ClearMetadataPreprocessor.enabled=True --inplace --to notebook filename.ipynb\"],\"metadata\":{\"id\":\"nRFTmqNOMmx9\"},\"execution_count\":null,\"outputs\":[]},{\"cell_type\":\"code\",\"source\":[\"!grep \\\"widgets\\\" \\\"/content/drive/MyDrive/Colab Notebooks/week6_語言模型_HuggingFace\\\"\"],\"metadata\":{\"colab\":{\"base_uri\":\"https://localhost:8080/\"},\"id\":\"NJVVNk_SMF3e\",\"executionInfo\":{\"status\":\"ok\",\"timestamp\":1761795525097,\"user_tz\":-480,\"elapsed\":1235,\"user\":{\"displayName\":\"張景陽\",\"userId\":\"17990199239061367823\"}},\"outputId\":\"6b33dd99-1214-4810-c2f3-b4cda75adb78\"},\"execution_count\":5,\"outputs\":[{\"output_type\":\"stream\",\"name\":\"stdout\",\"text\":[\"{\\\"cells\\\":[{\\\"cell_type\\\":\\\"markdown\\\",\\\"metadata\\\":{\\\"id\\\":\\\"UwcN41PQf73W\\\"},\\\"source\\\":[\\\"# <b>Hugging Face</b>\\\\n\\\",\\\"Hugging Face 網址：https://huggingface.co/\\\\n\\\",\\\"\\\\n\\\",\\\"Hugging Face 是 AI 領域的開放平台，像 GitHub 一樣託管並分享 AI 模型與資料集。也收錄了很多來自頂尖研究的模型，涵蓋 NLP、計算機視覺、語音處理等領域。使用者可以在 Hub 上存取、分享、微調模型，加速 AI 的合作與創新。\\\"]},{\\\"cell_type\\\":\\\"code\\\",\\\"execution_count\\\":null,\\\"metadata\\\":{\\\"colab\\\":{\\\"base_uri\\\":\\\"https://localhost:8080/\\\"},\\\"executionInfo\\\":{\\\"elapsed\\\":15780,\\\"status\\\":\\\"ok\\\",\\\"timestamp\\\":1761789774361,\\\"user\\\":{\\\"displayName\\\":\\\"張景陽\\\",\\\"userId\\\":\\\"17990199239061367823\\\"},\\\"user_tz\\\":-480},\\\"id\\\":\\\"Pfwn6jilq0ro\\\",\\\"outputId\\\":\\\"9128ea78-bfc5-4e8f-c9ce-e16ae4289b2a\\\"},\\\"outputs\\\":[{\\\"output_type\\\":\\\"stream\\\",\\\"name\\\":\\\"stdout\\\",\\\"text\\\":[\\\"Requirement already satisfied: datasets in /usr/local/lib/python3.12/dist-packages (4.0.0)\\\\n\\\",\\\"Requirement already satisfied: filelock in /usr/local/lib/python3.12/dist-packages (from datasets) (3.20.0)\\\\n\\\",\\\"Requirement already satisfied: numpy>=1.17 in /usr/local/lib/python3.12/dist-packages (from datasets) (2.0.2)\\\\n\\\",\\\"Requirement already satisfied: pyarrow>=15.0.0 in /usr/local/lib/python3.12/dist-packages (from datasets) (18.1.0)\\\\n\\\",\\\"Requirement already satisfied: dill<0.3.9,>=0.3.0 in /usr/local/lib/python3.12/dist-packages (from datasets) (0.3.8)\\\\n\\\",\\\"Requirement already satisfied: pandas in /usr/local/lib/python3.12/dist-packages (from datasets) (2.2.2)\\\\n\\\",\\\"Requirement already satisfied: requests>=2.32.2 in /usr/local/lib/python3.12/dist-packages (from datasets) (2.32.4)\\\\n\\\",\\\"Requirement already satisfied: tqdm>=4.66.3 in /usr/local/lib/python3.12/dist-packages (from datasets) (4.67.1)\\\\n\\\",\\\"Requirement already satisfied: xxhash in /usr/local/lib/python3.12/dist-packages (from datasets) (3.6.0)\\\\n\\\",\\\"Requirement already satisfied: multiprocess<0.70.17 in /usr/local/lib/python3.12/dist-packages (from datasets) (0.70.16)\\\\n\\\",\\\"Requirement already satisfied: fsspec<=2025.3.0,>=2023.1.0 in /usr/local/lib/python3.12/dist-packages (from fsspec[http]<=2025.3.0,>=2023.1.0->datasets) (2025.3.0)\\\\n\\\",\\\"Requirement already satisfied: huggingface-hub>=0.24.0 in /usr/local/lib/python3.12/dist-packages (from datasets) (0.36.0)\\\\n\\\",\\\"Requirement already satisfied: packaging in /usr/local/lib/python3.12/dist-packages (from datasets) (25.0)\\\\n\\\",\\\"Requirement already satisfied: pyyaml>=5.1 in /usr/local/lib/python3.12/dist-packages (from datasets) (6.0.3)\\\\n\\\",\\\"Requirement already satisfied: aiohttp!=4.0.0a0,!=4.0.0a1 in /usr/local/lib/python3.12/dist-packages (from fsspec[http]<=2025.3.0,>=2023.1.0->datasets) (3.13.1)\\\\n\\\",\\\"Requirement already satisfied: typing-extensions>=3.7.4.3 in /usr/local/lib/python3.12/dist-packages (from huggingface-hub>=0.24.0->datasets) (4.15.0)\\\\n\\\",\\\"Requirement already satisfied: hf-xet<2.0.0,>=1.1.3 in /usr/local/lib/python3.12/dist-packages (from huggingface-hub>=0.24.0->datasets) (1.2.0)\\\\n\\\",\\\"Requirement already satisfied: charset_normalizer<4,>=2 in /usr/local/lib/python3.12/dist-packages (from requests>=2.32.2->datasets) (3.4.4)\\\\n\\\",\\\"Requirement already satisfied: idna<4,>=2.5 in /usr/local/lib/python3.12/dist-packages (from requests>=2.32.2->datasets) (3.11)\\\\n\\\",\\\"Requirement already satisfied: urllib3<3,>=1.21.1 in /usr/local/lib/python3.12/dist-packages (from requests>=2.32.2->datasets) (2.5.0)\\\\n\\\",\\\"Requirement already satisfied: certifi>=2017.4.17 in /usr/local/lib/python3.12/dist-packages (from requests>=2.32.2->datasets) (2025.10.5)\\\\n\\\",\\\"Requirement already satisfied: python-dateutil>=2.8.2 in /usr/local/lib/python3.12/dist-packages (from pandas->datasets) (2.9.0.post0)\\\\n\\\",\\\"Requirement already satisfied: pytz>=2020.1 in /usr/local/lib/python3.12/dist-packages (from pandas->datasets) (2025.2)\\\\n\\\",\\\"Requirement already satisfied: tzdata>=2022.7 in /usr/local/lib/python3.12/dist-packages (from pandas->datasets) (2025.2)\\\\n\\\",\\\"Requirement already satisfied: aiohappyeyeballs>=2.5.0 in /usr/local/lib/python3.12/dist-packages (from aiohttp!=4.0.0a0,!=4.0.0a1->fsspec[http]<=2025.3.0,>=2023.1.0->datasets) (2.6.1)\\\\n\\\",\\\"Requirement already satisfied: aiosignal>=1.4.0 in /usr/local/lib/python3.12/dist-packages (from aiohttp!=4.0.0a0,!=4.0.0a1->fsspec[http]<=2025.3.0,>=2023.1.0->datasets) (1.4.0)\\\\n\\\",\\\"Requirement already satisfied: attrs>=17.3.0 in /usr/local/lib/python3.12/dist-packages (from aiohttp!=4.0.0a0,!=4.0.0a1->fsspec[http]<=2025.3.0,>=2023.1.0->datasets) (25.4.0)\\\\n\\\",\\\"Requirement already satisfied: frozenlist>=1.1.1 in /usr/local/lib/python3.12/dist-packages (from aiohttp!=4.0.0a0,!=4.0.0a1->fsspec[http]<=2025.3.0,>=2023.1.0->datasets) (1.8.0)\\\\n\\\",\\\"Requirement already satisfied: multidict<7.0,>=4.5 in /usr/local/lib/python3.12/dist-packages (from aiohttp!=4.0.0a0,!=4.0.0a1->fsspec[http]<=2025.3.0,>=2023.1.0->datasets) (6.7.0)\\\\n\\\",\\\"Requirement already satisfied: propcache>=0.2.0 in /usr/local/lib/python3.12/dist-packages (from aiohttp!=4.0.0a0,!=4.0.0a1->fsspec[http]<=2025.3.0,>=2023.1.0->datasets) (0.4.1)\\\\n\\\",\\\"Requirement already satisfied: yarl<2.0,>=1.17.0 in /usr/local/lib/python3.12/dist-packages (from aiohttp!=4.0.0a0,!=4.0.0a1->fsspec[http]<=2025.3.0,>=2023.1.0->datasets) (1.22.0)\\\\n\\\",\\\"Requirement already satisfied: six>=1.5 in /usr/local/lib/python3.12/dist-packages (from python-dateutil>=2.8.2->pandas->datasets) (1.17.0)\\\\n\\\"]}],\\\"source\\\":[\\\"\\\\\\\"\\\\\\\"\\\\\\\"\\\\n\\\",\\\"- datasets 是 Hugging Face 提供的資料集載入工具\\\\n\\\",\\\"- 它整合了數千個公開資料集，包含 NLP、CV、Audio 等領域\\\\n\\\",\\\"- 提供統一的介面來下載、處理和使用資料集\\\\n\\\",\\\"- 支援快取機制，避免重複下載\\\\n\\\",\\\"\\\\\\\"\\\\\\\"\\\\\\\"\\\\n\\\",\\\"!pip install datasets\\\"]},{\\\"cell_type\\\":\\\"markdown\\\",\\\"metadata\\\":{\\\"id\\\":\\\"pbAzKp4WM4O9\\\"},\\\"source\\\":[\\\"### <b>資料前處理</b>\\\\n\\\"]},{\\\"cell_type\\\":\\\"code\\\",\\\"execution_count\\\":null,\\\"metadata\\\":{\\\"colab\\\":{\\\"base_uri\\\":\\\"https://localhost:8080/\\\",\\\"height\\\":680,\\\"referenced_widgets\\\":[\\\"f982b4d68d6c425693bf8e9f980f6ce8\\\",\\\"ebd23c6fd0e244feaa31a1afd1f0c363\\\",\\\"e736cdac29bc4537a479078b5466fb3c\\\",\\\"0ae0072fd57d44acbe58e76a7e983481\\\",\\\"6f9e56ee057e407592aa697a6f318730\\\",\\\"7ef5cb2169ed4db09781848b849f47eb\\\",\\\"51b1faa40303428986f24264cf068827\\\",\\\"2363fc2cdcdd438293bda0c31da3bb7f\\\",\\\"0bacb3619d4645bdb238e8878f137e0f\\\",\\\"20799885e1b14717ac3e6ccc9b9ad0c0\\\",\\\"fdd825d91b1e41819882fa5412e260bc\\\",\\\"1e419e37cb644a5e8cfa59ab4d5a1a05\\\",\\\"c5685724791e44af9cd4e2fbb19caaaf\\\",\\\"452474f457d24b2e856c8777afc05b37\\\",\\\"f7398a04c7834807a4d0cfa1b07caf7c\\\",\\\"7eec8668606e4843a81f2a7559871627\\\",\\\"07df6c5fccfc4b3eb957e5b9c2bcc9ce\\\",\\\"f7563d1142854ddb9f868d49cbc1b125\\\",\\\"238eb18b208b4e85b6a9868e1d73e8b7\\\",\\\"65385794df324646a3830c90c3114a79\\\",\\\"6d5c4a2ae774458fbfb9698f04a42e45\\\",\\\"9166a5d361d748e3801767e7890fb38c\\\",\\\"34eead3f7e684241adb19045d14ca21c\\\",\\\"5ca16f0996024a4f99180f032bd1945e\\\",\\\"237069b8c9c04a67a07090997b2726c2\\\",\\\"1369e7e7d0eb46f4b219904db49e76ef\\\",\\\"c4a3be6ddfc5449fa658b0f5f4d3df25\\\",\\\"1cab3d96addb49a78232257557152183\\\",\\\"3d2b33f2845b4d42a200bee5fb064d82\\\",\\\"1430d243a9a54d619322692d8bc01148\\\",\\\"720e696f6da44a57a1b7fc9431e3fdcb\\\",\\\"4835871507f04791852b170c507e0375\\\",\\\"87d0a6e82a134871af5077b0fdeec07d\\\",\\\"c3918095d30c475e960bcb57bce00fff\\\",\\\"90e662c0e93e4fd08c032df06ffa7f53\\\",\\\"f3784731c1fb41ebbb6358ccf5032e6d\\\",\\\"512cacb573194cdca4c1b1d734f34847\\\",\\\"a3d1b8791a2c4cc4907322e944e9ccb6\\\",\\\"71f9c660fd1b4379b17369f3c8bed0e4\\\",\\\"3484f45339b54dd797ca3221feac470b\\\",\\\"3cb38efec75343f387dfb7fc031b3349\\\",\\\"8691a430489a44c6bfabe5ff101f8cc0\\\",\\\"0ace7d3cb2be4fc1bc397bce7a7f6124\\\",\\\"fa9c63fb7eda45909b985cae0cb019ec\\\",\\\"0cdb46b5d415433bb4ecd2c8b8a42d5e\\\",\\\"436142833be044f7a29d070d4749b71d\\\",\\\"d4c58d40e548411dbdf8ed647febc20b\\\",\\\"32b60115b61c48e1bca0e84a4b22d732\\\",\\\"8ae340cd93c34343960552259bd1bb83\\\",\\\"752cb91fb3c74a0bbd674e25444775ed\\\",\\\"6da5640302854b84b57d05df6efa48f8\\\",\\\"42a47bae4e624c5598a1684da7f769e8\\\",\\\"5180c726df6345fa92299be970be0dbf\\\",\\\"b1bf105833a34c5fb03c738c0885aed9\\\",\\\"b744f45cc2c64af2a4860b83883999ac\\\",\\\"79e3156123e8409ebcbe55a6558ca035\\\",\\\"79cb359c650d433a9c41195cb1cf4978\\\",\\\"b8e35a5085564c5da34b86b742021eb0\\\",\\\"93da4b71634d433ba8fbcfef9710b21b\\\",\\\"04c1eb1f03f442b2ba7b3af0c392ba4f\\\",\\\"8a8e6b5c77584876a435fcba7482b1b4\\\",\\\"f2482004dd214507922d373b8fe77a3e\\\",\\\"c7b30f0064864feca541c338e465d7e2\\\",\\\"bb6ac8d4dcb54093a0e5ab5a1a9fe92f\\\",\\\"8660b0af203c4d16877c544f18d234cf\\\",\\\"3ad761daccc849438d11102a37df7d76\\\"]},\\\"executionInfo\\\":{\\\"elapsed\\\":9722,\\\"status\\\":\\\"ok\\\",\\\"timestamp\\\":1761789784224,\\\"user\\\":{\\\"displayName\\\":\\\"張景陽\\\",\\\"userId\\\":\\\"17990199239061367823\\\"},\\\"user_tz\\\":-480},\\\"id\\\":\\\"KpamGxqud9SG\\\",\\\"outputId\\\":\\\"5b1a5abc-83bd-43c4-d40e-c130cf419ef7\\\"},\\\"outputs\\\":[{\\\"output_type\\\":\\\"stream\\\",\\\"name\\\":\\\"stderr\\\",\\\"text\\\":[\\\"/usr/local/lib/python3.12/dist-packages/huggingface_hub/utils/_auth.py:94: UserWarning: \\\\n\\\",\\\"The secret `HF_TOKEN` does not exist in your Colab secrets.\\\\n\\\",\\\"To authenticate with the Hugging Face Hub, create a token in your settings tab (https://huggingface.co/settings/tokens), set it as secret in your Google Colab and restart your session.\\\\n\\\",\\\"You will be able to reuse this secret in all of your notebooks.\\\\n\\\",\\\"Please note that authentication is recommended but still optional to access public models or datasets.\\\\n\\\",\\\"  warnings.warn(\\\\n\\\"]},{\\\"output_type\\\":\\\"display_data\\\",\\\"data\\\":{\\\"text/plain\\\":[\\\"README.md: 0.00B [00:00, ?B/s]\\\"]},\\\"metadata\\\":{}},{\\\"output_type\\\":\\\"display_data\\\",\\\"data\\\":{\\\"text/plain\\\":[\\\"dataset_infos.json:   0%|          | 0.00/800 [00:00<?, ?B/s]\\\"]},\\\"metadata\\\":{}},{\\\"output_type\\\":\\\"display_data\\\",\\\"data\\\":{\\\"text/plain\\\":[\\\"data/train-00000-of-00001.parquet:   0%|          | 0.00/327k [00:00<?, ?B/s]\\\"]},\\\"metadata\\\":{}},{\\\"output_type\\\":\\\"display_data\\\",\\\"data\\\":{\\\"text/plain\\\":[\\\"data/test-00000-of-00001.parquet:   0%|          | 0.00/80.9k [00:00<?, ?B/s]\\\"]},\\\"metadata\\\":{}},{\\\"output_type\\\":\\\"display_data\\\",\\\"data\\\":{\\\"text/plain\\\":[\\\"Generating train split:   0%|          | 0/3877 [00:00<?, ? examples/s]\\\"]},\\\"metadata\\\":{}},{\\\"output_type\\\":\\\"display_data\\\",\\\"data\\\":{\\\"text/plain\\\":[\\\"Generating test split:   0%|          | 0/969 [00:00<?, ? examples/s]\\\"]},\\\"metadata\\\":{}},{\\\"output_type\\\":\\\"stream\\\",\\\"name\\\":\\\"stdout\\\",\\\"text\\\":[\\\"DatasetDict({\\\\n\\\",\\\"    train: Dataset({\\\\n\\\",\\\"        features: ['sentence', 'label'],\\\\n\\\",\\\"        num_rows: 3877\\\\n\\\",\\\"    })\\\\n\\\",\\\"    test: Dataset({\\\\n\\\",\\\"        features: ['sentence', 'label'],\\\\n\\\",\\\"        num_rows: 969\\\\n\\\",\\\"    })\\\\n\\\",\\\"})\\\\n\\\",\\\"訓練集： Dataset({\\\\n\\\",\\\"    features: ['sentence', 'label'],\\\\n\\\",\\\"    num_rows: 3877\\\\n\\\",\\\"})\\\\n\\\",\\\"測試集： Dataset({\\\\n\\\",\\\"    features: ['sentence', 'label'],\\\\n\\\",\\\"    num_rows: 969\\\\n\\\",\\\"})\\\\n\\\",\\\"訓練集欄位： ['sentence', 'label']\\\\n\\\",\\\"測試集欄位： ['sentence', 'label']\\\\n\\\"]}],\\\"source\\\":[\\\"from datasets import load_dataset\\\\n\\\",\\\"\\\\n\\\",\\\"\\\\\\\"\\\\\\\"\\\\\\\"\\\\n\\\",\\\"為什麼選擇 auditor_sentiment 資料集？\\\\n\\\",\\\"1. 金融領域專業性：專門針對財務報告和審計意見設計\\\\n\\\",\\\"2. 標籤品質：由金融專家標註，確保情緒分類的準確性\\\\n\\\",\\\"3. 真實場景：模擬實際金融分析師的工作情境\\\\n\\\",\\\"4. 三分類問題：Negative(負面)、Neutral(中性)、Positive(正面)\\\\n\\\",\\\"\\\\n\\\",\\\"這個資料集適合用來訓練金融新聞情緒分析模型，\\\\n\\\",\\\"\\\\\\\"\\\\\\\"\\\\\\\"\\\\n\\\",\\\"\\\\n\\\",\\\"# 使用已轉換好的版本\\\\n\\\",\\\"dataset = load_dataset(\\\\n\\\",\\\"    \\\\\\\"FinanceInc/auditor_sentiment\\\\\\\",  # 這是轉換後的版本\\\\n\\\",\\\"    #split=\\\\\\\"train\\\\\\\"\\\\n\\\",\\\")\\\\n\\\",\\\"\\\\n\\\",\\\"print(dataset)\\\\n\\\",\\\"\\\\n\\\",\\\"print(\\\\\\\"訓練集：\\\\\\\", dataset['train'])\\\\n\\\",\\\"print(\\\\\\\"測試集：\\\\\\\", dataset['test'])\\\\n\\\",\\\"\\\\n\\\",\\\"# 查看資料集的欄位名稱與類型\\\\n\\\",\\\"print(\\\\\\\"訓練集欄位：\\\\\\\", dataset[\\\\\\\"train\\\\\\\"].column_names)\\\\n\\\",\\\"print(\\\\\\\"測試集欄位：\\\\\\\", dataset[\\\\\\\"test\\\\\\\"].column_names)\\\"]},{\\\"cell_type\\\":\\\"code\\\",\\\"execution_count\\\":null,\\\"metadata\\\":{\\\"colab\\\":{\\\"base_uri\\\":\\\"https://localhost:8080/\\\"},\\\"executionInfo\\\":{\\\"elapsed\\\":3,\\\"status\\\":\\\"ok\\\",\\\"timestamp\\\":1761789784228,\\\"user\\\":{\\\"displayName\\\":\\\"張景陽\\\",\\\"userId\\\":\\\"17990199239061367823\\\"},\\\"user_tz\\\":-480},\\\"id\\\":\\\"Ld1BVr6Vrwc9\\\",\\\"outputId\\\":\\\"d1c92f4f-11ef-4138-cd30-8eb8f360dc5e\\\"},\\\"outputs\\\":[{\\\"output_type\\\":\\\"stream\\\",\\\"name\\\":\\\"stdout\\\",\\\"text\\\":[\\\"\\\\n\\\",\\\"訓練集前5筆：\\\\n\\\",\\\"{'sentence': [\\\\\\\"Altia 's operating profit jumped to EUR 47 million from EUR 6.6 million .\\\\\\\", 'The agreement was signed with Biohit Healthcare Ltd , the UK-based subsidiary of Biohit Oyj , a Finnish public company which develops , manufactures and markets liquid handling products and diagnostic test systems .', 'Kesko pursues a strategy of healthy , focused growth concentrating on sales and services to consumer-customers .', 'Vaisala , headquartered in Helsinki in Finland , develops and manufactures electronic measurement systems for meteorology , environmental sciences , traffic and industry .', 'Also , a six-year historic analysis is provided for these markets .'], 'label': [2, 2, 2, 1, 1]}\\\\n\\\",\\\"\\\\n\\\",\\\"測試集前5筆：\\\\n\\\",\\\"{'sentence': [\\\\\\\"TeliaSonera TLSN said the offer is in line with its strategy to increase its ownership in core business holdings and would strengthen Eesti Telekom 's offering to its customers .\\\\\\\", 'STORA ENSO , NORSKE SKOG , M-REAL , UPM-KYMMENE Credit Suisse First Boston ( CFSB ) raised the fair value for shares in four of the largest Nordic forestry groups .', \\\\\\\"Clothing retail chain Sepp+ñl+ñ 's sales increased by 8 % to EUR 155.2 mn , and operating profit rose to EUR 31.1 mn from EUR 17.1 mn in 2004 .\\\\\\\", 'Lifetree was founded in 2000 , and its revenues have risen on an average by 40 % with margins in late 30s .', \\\\\\\"Nordea Group 's operating profit increased in 2010 by 18 percent year-on-year to 3.64 billion euros and total revenue by 3 percent to 9.33 billion euros .\\\\\\\"], 'label': [2, 2, 2, 2, 2]}\\\\n\\\",\\\"\\\\n\\\",\\\"資料集的 keys： dict_keys(['train', 'test'])\\\\n\\\"]}],\\\"source\\\":[\\\"# 查看訓練集中前幾筆數據\\\\n\\\",\\\"print(\\\\\\\"\\\\\\\\n訓練集前5筆：\\\\\\\")\\\\n\\\",\\\"print(dataset[\\\\\\\"train\\\\\\\"][:5])\\\\n\\\",\\\"\\\\n\\\",\\\"# 查看測試集中前幾筆數據\\\\n\\\",\\\"print(\\\\\\\"\\\\\\\\n測試集前5筆：\\\\\\\")\\\\n\\\",\\\"print(dataset[\\\\\\\"test\\\\\\\"][:5])\\\\n\\\",\\\"\\\\n\\\",\\\"# 查看資料集中有哪些 Keys\\\\n\\\",\\\"print(\\\\\\\"\\\\\\\\n資料集的 keys：\\\\\\\", dataset.keys())\\\"]},{\\\"cell_type\\\":\\\"code\\\",\\\"execution_count\\\":null,\\\"metadata\\\":{\\\"colab\\\":{\\\"base_uri\\\":\\\"https://localhost:8080/\\\"},\\\"executionInfo\\\":{\\\"elapsed\\\":196,\\\"status\\\":\\\"ok\\\",\\\"timestamp\\\":1761789784425,\\\"user\\\":{\\\"displayName\\\":\\\"張景陽\\\",\\\"userId\\\":\\\"17990199239061367823\\\"},\\\"user_tz\\\":-480},\\\"id\\\":\\\"6Zor1u19sN7H\\\",\\\"outputId\\\":\\\"638ff19c-a444-42a5-eda2-cb76a089d5f5\\\"},\\\"outputs\\\":[{\\\"output_type\\\":\\\"stream\\\",\\\"name\\\":\\\"stdout\\\",\\\"text\\\":[\\\"\\\\n\\\",\\\"訓練集標籤分佈： Counter({1: 2320, 2: 1077, 0: 480})\\\\n\\\",\\\"測試集標籤分佈： Counter({1: 559, 2: 286, 0: 124})\\\\n\\\"]}],\\\"source\\\":[\\\"from collections import Counter # 計算列表中每個元素的出現次數\\\\n\\\",\\\"\\\\n\\\",\\\"\\\\\\\"\\\\\\\"\\\\\\\"\\\\n\\\",\\\"為什麼要分析標籤分佈？\\\\n\\\",\\\"1. 檢查類別不平衡(Class Imbalance)問題\\\\n\\\",\\\"   - 如果某類別樣本過少，模型可能學不好該類別\\\\n\\\",\\\"   - 可能需要使用過採樣(oversampling)或欠採樣(undersampling)\\\\n\\\",\\\"\\\\n\\\",\\\"2. 了解資料特性\\\\n\\\",\\\"   - 金融文本中，中性(Neutral)通常佔多數\\\\n\\\",\\\"   - 正面和負面情緒相對較少\\\\n\\\",\\\"\\\\n\\\",\\\"3. 決定評估指標\\\\n\\\",\\\"   - 如果類別不平衡嚴重，準確率(Accuracy)可能不適合\\\\n\\\",\\\"   - 應該使用 F1-score、Precision、Recall 等指標\\\\n\\\",\\\"\\\\\\\"\\\\\\\"\\\\\\\"\\\\n\\\",\\\"# label_map = {0: \\\\\\\"Negative\\\\\\\", 1: \\\\\\\"Neutral\\\\\\\", 2: \\\\\\\"Positive\\\\\\\"}\\\\n\\\",\\\"# 計算訓練集標籤出現次數\\\\n\\\",\\\"label_counts_train = Counter(dataset[\\\\\\\"train\\\\\\\"][\\\\\\\"label\\\\\\\"])\\\\n\\\",\\\"print(\\\\\\\"\\\\\\\\n訓練集標籤分佈：\\\\\\\", label_counts_train)\\\\n\\\",\\\"\\\\n\\\",\\\"# 計算測試集標籤出現次數\\\\n\\\",\\\"label_counts_test = Counter(dataset[\\\\\\\"test\\\\\\\"][\\\\\\\"label\\\\\\\"])\\\\n\\\",\\\"print(\\\\\\\"測試集標籤分佈：\\\\\\\", label_counts_test)\\\"]},{\\\"cell_type\\\":\\\"code\\\",\\\"execution_count\\\":null,\\\"metadata\\\":{\\\"colab\\\":{\\\"base_uri\\\":\\\"https://localhost:8080/\\\"},\\\"executionInfo\\\":{\\\"elapsed\\\":613,\\\"status\\\":\\\"ok\\\",\\\"timestamp\\\":1761789785269,\\\"user\\\":{\\\"displayName\\\":\\\"張景陽\\\",\\\"userId\\\":\\\"17990199239061367823\\\"},\\\"user_tz\\\":-480},\\\"id\\\":\\\"1JdIzMmysUOf\\\",\\\"outputId\\\":\\\"413b040a-5aba-4393-a70c-6c5f5e0528a8\\\"},\\\"outputs\\\":[{\\\"output_type\\\":\\\"stream\\\",\\\"name\\\":\\\"stdout\\\",\\\"text\\\":[\\\"\\\\n\\\",\\\"訓練集前5筆：\\\\n\\\",\\\"                                            sentence  label\\\\n\\\",\\\"0  Altia 's operating profit jumped to EUR 47 mil...      2\\\\n\\\",\\\"1  The agreement was signed with Biohit Healthcar...      2\\\\n\\\",\\\"2  Kesko pursues a strategy of healthy , focused ...      2\\\\n\\\",\\\"3  Vaisala , headquartered in Helsinki in Finland...      1\\\\n\\\",\\\"4  Also , a six-year historic analysis is provide...      1\\\\n\\\",\\\"\\\\n\\\",\\\"測試集前5筆：\\\\n\\\",\\\"                                            sentence  label\\\\n\\\",\\\"0  TeliaSonera TLSN said the offer is in line wit...      2\\\\n\\\",\\\"1  STORA ENSO , NORSKE SKOG , M-REAL , UPM-KYMMEN...      2\\\\n\\\",\\\"2  Clothing retail chain Sepp+ñl+ñ 's sales incre...      2\\\\n\\\",\\\"3  Lifetree was founded in 2000 , and its revenue...      2\\\\n\\\",\\\"4  Nordea Group 's operating profit increased in ...      2\\\\n\\\"]}],\\\"source\\\":[\\\"import pandas as pd  # 結構化資料處理套件\\\\n\\\",\\\"\\\\n\\\",\\\"\\\\\\\"\\\\\\\"\\\\\\\"\\\\n\\\",\\\"為什麼要轉換成 DataFrame？\\\\n\\\",\\\"1. 更直觀的資料檢視：表格形式更容易閱讀和理解\\\\n\\\",\\\"2. 豐富的資料處理功能：pandas 提供大量資料清洗工具\\\\n\\\",\\\"3. 方便進行統計分析：可以快速計算統計量\\\\n\\\",\\\"4. 易於視覺化：可以搭配 matplotlib、seaborn 繪圖\\\\n\\\",\\\"\\\\\\\"\\\\\\\"\\\\\\\"\\\\n\\\",\\\"\\\\n\\\",\\\"# 轉換為 DataFrame\\\\n\\\",\\\"df_train = pd.DataFrame(dataset[\\\\\\\"train\\\\\\\"])\\\\n\\\",\\\"df_test = pd.DataFrame(dataset[\\\\\\\"test\\\\\\\"])\\\\n\\\",\\\"\\\\n\\\",\\\"print(\\\\\\\"\\\\\\\\n訓練集前5筆：\\\\\\\")\\\\n\\\",\\\"print(df_train.head())\\\\n\\\",\\\"\\\\n\\\",\\\"print(\\\\\\\"\\\\\\\\n測試集前5筆：\\\\\\\")\\\\n\\\",\\\"print(df_test.head())\\\"]},{\\\"cell_type\\\":\\\"code\\\",\\\"execution_count\\\":null,\\\"metadata\\\":{\\\"colab\\\":{\\\"base_uri\\\":\\\"https://localhost:8080/\\\"},\\\"executionInfo\\\":{\\\"elapsed\\\":47,\\\"status\\\":\\\"ok\\\",\\\"timestamp\\\":1761789785317,\\\"user\\\":{\\\"displayName\\\":\\\"張景陽\\\",\\\"userId\\\":\\\"17990199239061367823\\\"},\\\"user_tz\\\":-480},\\\"id\\\":\\\"JuqLq2Kqs1Dk\\\",\\\"outputId\\\":\\\"4e28a239-d41f-4d33-eb87-73ab42b27963\\\"},\\\"outputs\\\":[{\\\"output_type\\\":\\\"stream\\\",\\\"name\\\":\\\"stdout\\\",\\\"text\\\":[\\\"\\\\n\\\",\\\"訓練集空值： sentence    0\\\\n\\\",\\\"label       0\\\\n\\\",\\\"dtype: int64\\\\n\\\",\\\"測試集空值： sentence    0\\\\n\\\",\\\"label       0\\\\n\\\",\\\"dtype: int64\\\\n\\\",\\\"\\\\n\\\",\\\"訓練集大小： (3872, 2)\\\\n\\\",\\\"測試集大小： (969, 2)\\\\n\\\"]}],\\\"source\\\":[\\\"\\\\\\\"\\\\\\\"\\\\\\\"\\\\n\\\",\\\"為什麼要檢查空值和重複值？\\\\n\\\",\\\"1. 空值(Null values)問題\\\\n\\\",\\\"   - 空值會導致模型訓練失敗或產生錯誤\\\\n\\\",\\\"   - 需要決定是刪除還是填補(imputation)\\\\n\\\",\\\"\\\\n\\\",\\\"2. 重複值(Duplicates)問題\\\\n\\\",\\\"   - 重複的句子會讓模型過度擬合該樣本\\\\n\\\",\\\"   - 影響模型的泛化能力\\\\n\\\",\\\"   - 可能導致評估指標不準確\\\\n\\\",\\\"\\\\\\\"\\\\\\\"\\\\\\\"\\\\n\\\",\\\"# 檢查空值\\\\n\\\",\\\"print(\\\\\\\"\\\\\\\\n訓練集空值：\\\\\\\", df_train.isnull().sum())\\\\n\\\",\\\"print(\\\\\\\"測試集空值：\\\\\\\", df_test.isnull().sum())\\\\n\\\",\\\"\\\\n\\\",\\\"# 刪除重複值（如果有的話）\\\\n\\\",\\\"df_train.drop_duplicates(subset=[\\\\\\\"sentence\\\\\\\"], inplace=True)\\\\n\\\",\\\"df_test.drop_duplicates(subset=[\\\\\\\"sentence\\\\\\\"], inplace=True)\\\\n\\\",\\\"\\\\n\\\",\\\"print(\\\\\\\"\\\\\\\\n訓練集大小：\\\\\\\", df_train.shape)\\\\n\\\",\\\"print(\\\\\\\"測試集大小：\\\\\\\", df_test.shape)\\\"]},{\\\"cell_type\\\":\\\"code\\\",\\\"execution_count\\\":null,\\\"metadata\\\":{\\\"colab\\\":{\\\"base_uri\\\":\\\"https://localhost:8080/\\\"},\\\"executionInfo\\\":{\\\"elapsed\\\":51,\\\"status\\\":\\\"ok\\\",\\\"timestamp\\\":1761789785372,\\\"user\\\":{\\\"displayName\\\":\\\"張景陽\\\",\\\"userId\\\":\\\"17990199239061367823\\\"},\\\"user_tz\\\":-480},\\\"id\\\":\\\"m2WaN3BrsYOF\\\",\\\"outputId\\\":\\\"f7cb896b-b1bb-454c-beb8-75048e0ea409\\\"},\\\"outputs\\\":[{\\\"output_type\\\":\\\"stream\\\",\\\"name\\\":\\\"stdout\\\",\\\"text\\\":[\\\"\\\\n\\\",\\\"資料集劃分：\\\\n\\\",\\\"訓練集大小：3101\\\\n\\\",\\\"驗證集大小：776 （從訓練集切出，用於訓練過程中的評估）\\\\n\\\",\\\"測試集大小：969 （保留到最後才使用，避免資訊洩漏）\\\\n\\\"]}],\\\"source\\\":[\\\"train_val_split = dataset[\\\\\\\"train\\\\\\\"].train_test_split(test_size=0.2, seed=42)\\\\n\\\",\\\"train_dataset = train_val_split[\\\\\\\"train\\\\\\\"]\\\\n\\\",\\\"val_dataset = train_val_split[\\\\\\\"test\\\\\\\"]\\\\n\\\",\\\"test_dataset = dataset[\\\\\\\"test\\\\\\\"]\\\\n\\\",\\\"print(\\\\\\\"\\\\\\\\n資料集劃分：\\\\\\\")\\\\n\\\",\\\"print(f\\\\\\\"訓練集大小：{len(train_dataset)}\\\\\\\")\\\\n\\\",\\\"print(f\\\\\\\"驗證集大小：{len(val_dataset)} （從訓練集切出，用於訓練過程中的評估）\\\\\\\")\\\\n\\\",\\\"print(f\\\\\\\"測試集大小：{len(test_dataset)} （保留到最後才使用，避免資訊洩漏）\\\\\\\")\\\"]},{\\\"cell_type\\\":\\\"code\\\",\\\"execution_count\\\":null,\\\"metadata\\\":{\\\"colab\\\":{\\\"base_uri\\\":\\\"https://localhost:8080/\\\",\\\"height\\\":276,\\\"referenced_widgets\\\":[\\\"4a03e941fe9743c49e32ad72acece309\\\",\\\"975eb81fed92433693a72df544d3af0a\\\",\\\"c17586924d8f46bcbc14ac3b44ebf866\\\",\\\"6e9a033e53f846f1aad300024b8e874b\\\",\\\"23682b10f9f2422d80decb0b52c75e6e\\\",\\\"707f64e2f5ff401083e773a36df51e71\\\",\\\"4561b6c5469c449a80b972d828c736a9\\\",\\\"3e9beff69f654986a795660412af956d\\\",\\\"ae6a0c63af9e4f23b4fc0ea64d1aad67\\\",\\\"13b3615ba3654bf1b1dc59ed87548f4c\\\",\\\"389ce13b20e64f47980c16181d56a99f\\\",\\\"a937711e59b9420a95efaf2cfebc9263\\\",\\\"909bc67cf6a44dba8acbc653535a8d46\\\",\\\"514c3f9432f44f7d9bec346455a20511\\\",\\\"8c1e0a1a7deb40fea7bdcbbb558fe4f5\\\",\\\"46e6a59ce1a246a1823fd531efc5860c\\\",\\\"498fa534db234c53b1355a8289bbd699\\\",\\\"a987b8cad13b4bfb98b92fa1a24f7f11\\\",\\\"9a4ba6c3b9704930991c99c5d96b94b0\\\",\\\"38688de450a54ac8a45cee8bd1b62790\\\",\\\"cf16315add514de79fd3c7d8072bcb8e\\\",\\\"c1c57a67dd064c709ea3e704a0ec2ab7\\\",\\\"136ce811418a4ddd97d69f312a53877d\\\",\\\"a54ebe0cb5874680bda2a8b6cc945f86\\\",\\\"f7d1a1af702c4e6bbdee9187ccddc735\\\",\\\"aa3c4c15ad1348b780c0adb228cbc33b\\\",\\\"8b1443be2dd3451abcdd5f694ee6a8b3\\\",\\\"f361898e10124549a350e1974b4f2789\\\",\\\"0557a9324ff34e26886cca1cd34a00cc\\\",\\\"9902b80dc2fe40ad99d6471e1b700156\\\",\\\"31a5370bef3d41cc90edd445a1bf07c2\\\",\\\"4220e892bb1147338ac3d868319e747e\\\",\\\"30e5e60bc8134bbc8035fce6efe5af04\\\",\\\"e137add5af8b4415a86977e5387d6753\\\",\\\"88d47fa2f0ff4208a5ff4b825893d598\\\",\\\"1ab0dbe7d7e04dc78c633d4b53791083\\\",\\\"43905821e8424a359e7abf7f81b160c1\\\",\\\"68fc5a23cb0c48fa8b5f1c8ae23f3398\\\",\\\"148c4902cf144f13ad33167c7fec7fc2\\\",\\\"e89dc51cfb6b424fa2976005b6506d70\\\",\\\"7c93b99dec534ba6b2cf11920cfc0c41\\\",\\\"51920697cbe040b0b5d590828f884f37\\\",\\\"caf0f6d48e42461198af615914b9adca\\\",\\\"31109bbbfb2e4b2f823f4dc13c32c6a7\\\",\\\"a35c0a37b11446898d3684f563089161\\\",\\\"1ee92b0231be45f68f2c3aed11d23cef\\\",\\\"a3299b03ad584363aaf77bfbc4afd836\\\",\\\"2790ab1be36b4a468ca90ac343f8a2b6\\\",\\\"0db3773f29f74265b7e79294f9b6243c\\\",\\\"81f32bafa30a4f8eae03eb40d70bc420\\\",\\\"05e6479da1054ca2b7f409b2efc81c9d\\\",\\\"c8bbee6c83ae434dacfff2b56a9f592f\\\",\\\"e10d68181a7744a1934f6dca602858ab\\\",\\\"42517bc6510b42aa8b9ed55a30af24f0\\\",\\\"847edc792a354efb9f647e5c388d76bd\\\",\\\"7de8e75908a54bed99173a9037e2aeca\\\",\\\"c1c000361c144220b32a0b47f640759d\\\",\\\"bc08e97a6996488589748dd7d9b5dbb7\\\",\\\"57d6becd972e46d2ae63ae96aca3e8af\\\",\\\"a5d8cac6a27b44819b5f4b0e2077dae2\\\",\\\"4f4caaf46ab64a5595d1c2ce75d61dbd\\\",\\\"3f38943485c64850a31bd9d4725298e3\\\",\\\"b42567bb3ca0486dbbf028fc6ff9b651\\\",\\\"42d5edae57af416091e4f96789491cdc\\\",\\\"461ea9246664495d84090f6a2cf975ea\\\",\\\"45bdb57598e3430996a883e1f217806e\\\",\\\"df46075996994b44aad3e8d9d1965da9\\\",\\\"0dccdcc38c074ecc8fc1a2a88becc027\\\",\\\"e71f318715254d1cb89156a377694b9d\\\",\\\"f60653c98a684110bca0070156808b71\\\",\\\"f2cb804177c2429799c2210258a5333d\\\",\\\"502c47c2c98e49008cfcf6553c5c336b\\\",\\\"7c9352c69d5144c28d515117a6722eeb\\\",\\\"1aba4c504bff49b3b9ff2d595ca6ec82\\\",\\\"b3c9fd10db4a4435b9e7f351a585be4e\\\",\\\"e215c66c5c134b9abedc1c8cbbb4515d\\\",\\\"f0d5c824f57f44c2990be198a30f8f70\\\"]},\\\"executionInfo\\\":{\\\"elapsed\\\":33690,\\\"status\\\":\\\"ok\\\",\\\"timestamp\\\":1761789819071,\\\"user\\\":{\\\"displayName\\\":\\\"張景陽\\\",\\\"userId\\\":\\\"17990199239061367823\\\"},\\\"user_tz\\\":-480},\\\"id\\\":\\\"yt-UA3uXsrD4\\\",\\\"outputId\\\":\\\"ddc9c096-f5e6-40e0-842f-d018330c19a6\\\"},\\\"outputs\\\":[{\\\"output_type\\\":\\\"stream\\\",\\\"name\\\":\\\"stdout\\\",\\\"text\\\":[\\\"\\\\n\\\",\\\"使用的模型：bert-base-uncased\\\\n\\\"]},{\\\"output_type\\\":\\\"display_data\\\",\\\"data\\\":{\\\"text/plain\\\":[\\\"tokenizer_config.json:   0%|          | 0.00/48.0 [00:00<?, ?B/s]\\\"]},\\\"metadata\\\":{}},{\\\"output_type\\\":\\\"display_data\\\",\\\"data\\\":{\\\"text/plain\\\":[\\\"config.json:   0%|          | 0.00/570 [00:00<?, ?B/s]\\\"]},\\\"metadata\\\":{}},{\\\"output_type\\\":\\\"display_data\\\",\\\"data\\\":{\\\"text/plain\\\":[\\\"vocab.txt:   0%|          | 0.00/232k [00:00<?, ?B/s]\\\"]},\\\"metadata\\\":{}},{\\\"output_type\\\":\\\"display_data\\\",\\\"data\\\":{\\\"text/plain\\\":[\\\"tokenizer.json:   0%|          | 0.00/466k [00:00<?, ?B/s]\\\"]},\\\"metadata\\\":{}},{\\\"output_type\\\":\\\"display_data\\\",\\\"data\\\":{\\\"text/plain\\\":[\\\"Map:   0%|          | 0/3101 [00:00<?, ? examples/s]\\\"]},\\\"metadata\\\":{}},{\\\"output_type\\\":\\\"display_data\\\",\\\"data\\\":{\\\"text/plain\\\":[\\\"Map:   0%|          | 0/776 [00:00<?, ? examples/s]\\\"]},\\\"metadata\\\":{}},{\\\"output_type\\\":\\\"display_data\\\",\\\"data\\\":{\\\"text/plain\\\":[\\\"Map:   0%|          | 0/969 [00:00<?, ? examples/s]\\\"]},\\\"metadata\\\":{}}],\\\"source\\\":[\\\"from transformers import AutoTokenizer  # AutoTokenizer 可以根據指定的模型名稱，自動選擇和載入與該模型相匹配的分詞器\\\\n\\\",\\\"\\\\n\\\",\\\"\\\\n\\\",\\\"\\\\\\\"\\\\\\\"\\\\\\\"\\\\n\\\",\\\"=============================================================================\\\\n\\\",\\\"【作業 1：模型選擇】\\\\n\\\",\\\"=============================================================================\\\\n\\\",\\\"\\\\n\\\",\\\"什麼是 Tokenizer？\\\\n\\\",\\\"- 將文本轉換成模型可以理解的數字序列\\\\n\\\",\\\"- 不同模型有不同的 tokenization 策略\\\\n\\\",\\\"- BERT 使用 WordPiece，將詞切成子詞單元\\\\n\\\",\\\"\\\\n\\\",\\\"可選模型比較：\\\\n\\\",\\\"\\\\n\\\",\\\"1. bert-base-uncased (預設)\\\\n\\\",\\\"   優點：經典模型，效果穩定，社群資源豐富\\\\n\\\",\\\"   缺點：模型較大(110M參數)，訓練速度較慢\\\\n\\\",\\\"   適用：標準 NLP 任務，對效果要求高\\\\n\\\",\\\"\\\\n\\\",\\\"2. distilbert-base-uncased\\\\n\\\",\\\"   優點：BERT 的蒸餾版本，速度快 60%，模型小 40%\\\\n\\\",\\\"   缺點：準確率略低於 BERT (約 2-3%)\\\\n\\\",\\\"   適用：計算資源有限，需要快速迭代\\\\n\\\",\\\"\\\\n\\\",\\\"3. roberta-base\\\\n\\\",\\\"   優點：改進的 BERT，通常效果更好\\\\n\\\",\\\"   缺點：訓練時間稍長\\\\n\\\",\\\"   適用：追求更高準確率\\\\n\\\",\\\"\\\\n\\\",\\\"4. albert-base-v2\\\\n\\\",\\\"   優點：參數共享技術，模型很小但效果不錯\\\\n\\\",\\\"   缺點：推理速度較慢\\\\n\\\",\\\"   適用：記憶體受限的場景\\\\n\\\",\\\"\\\\n\\\",\\\"5. ProsusAI/finbert\\\\n\\\",\\\"   優點：專門在金融文本上預訓練，理解金融術語\\\\n\\\",\\\"   缺點：資料集較小，可能過擬合\\\\n\\\",\\\"   適用：金融領域專業任務（最推薦！）\\\\n\\\",\\\"\\\\n\\\",\\\"6. bert-base-chinese\\\\n\\\",\\\"   優點：支援中文\\\\n\\\",\\\"   缺點：英文效果不佳\\\\n\\\",\\\"   適用：中文金融文本分析\\\\n\\\",\\\"\\\\n\\\",\\\"評估面向：\\\\n\\\",\\\"✓ 訓練時間\\\\n\\\",\\\"✓ 驗證集 F1-score\\\\n\\\",\\\"✓ 測試集 F1-score\\\\n\\\",\\\"✓ 模型大小\\\\n\\\",\\\"✓ 推理速度\\\\n\\\",\\\"\\\\\\\"\\\\\\\"\\\\\\\"\\\\n\\\",\\\"# 使用BERT Tokenizer 進行Tokenization(分詞)\\\\n\\\",\\\"model_name = \\\\\\\"bert-base-uncased\\\\\\\"  # 請修改這裡！\\\\n\\\",\\\"\\\\n\\\",\\\"print(f\\\\\\\"\\\\\\\\n使用的模型：{model_name}\\\\\\\")\\\\n\\\",\\\"# ============================================================================\\\\n\\\",\\\"\\\\n\\\",\\\"\\\\\\\"\\\\\\\"\\\\\\\"\\\\n\\\",\\\"為什麼要使用 AutoTokenizer？\\\\n\\\",\\\"- 自動根據模型名稱載入對應的 tokenizer\\\\n\\\",\\\"- 確保 tokenization 策略與模型匹配\\\\n\\\",\\\"- 避免手動管理不同模型的 tokenizer\\\\n\\\",\\\"\\\\\\\"\\\\\\\"\\\\\\\"\\\\n\\\",\\\"from transformers import AutoTokenizer  # AutoTokenizer 可以根據指定的模型名稱，自動選擇和載入與該模型相匹配的分詞器\\\\n\\\",\\\"\\\\n\\\",\\\"# 使用指定的 Tokenizer 進行 Tokenization(分詞)\\\\n\\\",\\\"tokenizer = AutoTokenizer.from_pretrained(model_name)\\\\n\\\",\\\"\\\\n\\\",\\\"\\\\n\\\",\\\"\\\\\\\"\\\\\\\"\\\\\\\"\\\\n\\\",\\\"Tokenization 的關鍵參數：\\\\n\\\",\\\"\\\\n\\\",\\\"1. padding=\\\\\\\"max_length\\\\\\\"\\\\n\\\",\\\"   - 將所有句子補齊到相同長度\\\\n\\\",\\\"   - 原因：深度學習模型要求批次(batch)內的輸入長度一致\\\\n\\\",\\\"   - 較短的句子會用 [PAD] token 填充\\\\n\\\",\\\"\\\\n\\\",\\\"2. truncation=True\\\\n\\\",\\\"   - 截斷超過最大長度的句子\\\\n\\\",\\\"   - BERT 的最大長度通常是 512 tokens\\\\n\\\",\\\"   - 避免超長句子導致記憶體不足\\\\n\\\",\\\"\\\\n\\\",\\\"3. return_tensors=\\\\\\\"pt\\\\\\\" (後面會用到)\\\\n\\\",\\\"   - 返回 PyTorch tensor 格式\\\\n\\\",\\\"   - 可以直接輸入模型進行運算\\\\n\\\",\\\"\\\\\\\"\\\\\\\"\\\\\\\"\\\\n\\\",\\\"\\\\n\\\",\\\"# 定義 Tokenize 函數，用於將句子轉換為 Token\\\\n\\\",\\\"def tokenize_function(example):\\\\n\\\",\\\"    # 使用 tokenizer 將每個句子進行分詞\\\\n\\\",\\\"    # 設定 padding=\\\\\\\"max_length\\\\\\\" 確保所有句子補齊至固定長度\\\\n\\\",\\\"    # 設定 truncation=True 以截斷超過最大長度的句子\\\\n\\\",\\\"    return tokenizer(example[\\\\\\\"sentence\\\\\\\"], padding=\\\\\\\"max_length\\\\\\\", truncation=True)\\\\n\\\",\\\"\\\\\\\"\\\\\\\"\\\\\\\"\\\\n\\\",\\\"Tokenization 結果說明：\\\\n\\\",\\\"\\\\n\\\",\\\"input_ids：\\\\n\\\",\\\"- 將文字轉換成數字 ID\\\\n\\\",\\\"- 例如：[101, 2043, 2003, 1996, ...]\\\\n\\\",\\\"- 101 是 [CLS] token，表示句子開始\\\\n\\\",\\\"- 102 是 [SEP] token，表示句子結束\\\\n\\\",\\\"\\\\n\\\",\\\"attention_mask：\\\\n\\\",\\\"- 標記哪些位置是真實 token (1)，哪些是 padding (0)\\\\n\\\",\\\"- 讓模型知道應該關注哪些部分\\\\n\\\",\\\"\\\\n\\\",\\\"token_type_ids：\\\\n\\\",\\\"- 區分不同句子（在句子對任務中使用）\\\\n\\\",\\\"- 在單句分類中全部為 0\\\\n\\\",\\\"\\\\\\\"\\\\\\\"\\\\\\\"\\\\n\\\",\\\"# 對訓練集、驗證集和測試集進行 Tokenize\\\\n\\\",\\\"tokenized_train = train_dataset.map(tokenize_function, batched=True)\\\\n\\\",\\\"tokenized_val = val_dataset.map(tokenize_function, batched=True)\\\\n\\\",\\\"tokenized_test = test_dataset.map(tokenize_function, batched=True)\\\"]},{\\\"cell_type\\\":\\\"code\\\",\\\"execution_count\\\":null,\\\"metadata\\\":{\\\"colab\\\":{\\\"base_uri\\\":\\\"https://localhost:8080/\\\"},\\\"executionInfo\\\":{\\\"elapsed\\\":4,\\\"status\\\":\\\"ok\\\",\\\"timestamp\\\":1761789819077,\\\"user\\\":{\\\"displayName\\\":\\\"張景陽\\\",\\\"userId\\\":\\\"17990199239061367823\\\"},\\\"user_tz\\\":-480},\\\"id\\\":\\\"1UHvNcRfrrjt\\\",\\\"outputId\\\":\\\"fdf1cdb1-fe28-4ccc-d48a-45dec4150b95\\\"},\\\"outputs\\\":[{\\\"output_type\\\":\\\"stream\\\",\\\"name\\\":\\\"stdout\\\",\\\"text\\\":[\\\"\\\\n\\\",\\\"Tokenized 訓練集第一筆：\\\\n\\\",\\\"{'sentence': [\\\\\\\"The financial impact is estimated to be some 1.5 MEUR annual improvement in the division 's result , starting from fiscal year 2007 .\\\\\\\"], 'label': [2], 'input_ids': [[101, 1996, 3361, 4254, 2003, 4358, 2000, 2022, 2070, 1015, 1012, 1019, 2033, 3126, 3296, 7620, 1999, 1996, 2407, 1005, 1055, 2765, 1010, 3225, 2013, 10807, 2095, 2289, 1012, 102, 0, 0, 0, 0, 0, 0, 0, 0, 0, 0, 0, 0, 0, 0, 0, 0, 0, 0, 0, 0, 0, 0, 0, 0, 0, 0, 0, 0, 0, 0, 0, 0, 0, 0, 0, 0, 0, 0, 0, 0, 0, 0, 0, 0, 0, 0, 0, 0, 0, 0, 0, 0, 0, 0, 0, 0, 0, 0, 0, 0, 0, 0, 0, 0, 0, 0, 0, 0, 0, 0, 0, 0, 0, 0, 0, 0, 0, 0, 0, 0, 0, 0, 0, 0, 0, 0, 0, 0, 0, 0, 0, 0, 0, 0, 0, 0, 0, 0, 0, 0, 0, 0, 0, 0, 0, 0, 0, 0, 0, 0, 0, 0, 0, 0, 0, 0, 0, 0, 0, 0, 0, 0, 0, 0, 0, 0, 0, 0, 0, 0, 0, 0, 0, 0, 0, 0, 0, 0, 0, 0, 0, 0, 0, 0, 0, 0, 0, 0, 0, 0, 0, 0, 0, 0, 0, 0, 0, 0, 0, 0, 0, 0, 0, 0, 0, 0, 0, 0, 0, 0, 0, 0, 0, 0, 0, 0, 0, 0, 0, 0, 0, 0, 0, 0, 0, 0, 0, 0, 0, 0, 0, 0, 0, 0, 0, 0, 0, 0, 0, 0, 0, 0, 0, 0, 0, 0, 0, 0, 0, 0, 0, 0, 0, 0, 0, 0, 0, 0, 0, 0, 0, 0, 0, 0, 0, 0, 0, 0, 0, 0, 0, 0, 0, 0, 0, 0, 0, 0, 0, 0, 0, 0, 0, 0, 0, 0, 0, 0, 0, 0, 0, 0, 0, 0, 0, 0, 0, 0, 0, 0, 0, 0, 0, 0, 0, 0, 0, 0, 0, 0, 0, 0, 0, 0, 0, 0, 0, 0, 0, 0, 0, 0, 0, 0, 0, 0, 0, 0, 0, 0, 0, 0, 0, 0, 0, 0, 0, 0, 0, 0, 0, 0, 0, 0, 0, 0, 0, 0, 0, 0, 0, 0, 0, 0, 0, 0, 0, 0, 0, 0, 0, 0, 0, 0, 0, 0, 0, 0, 0, 0, 0, 0, 0, 0, 0, 0, 0, 0, 0, 0, 0, 0, 0, 0, 0, 0, 0, 0, 0, 0, 0, 0, 0, 0, 0, 0, 0, 0, 0, 0, 0, 0, 0, 0, 0, 0, 0, 0, 0, 0, 0, 0, 0, 0, 0, 0, 0, 0, 0, 0, 0, 0, 0, 0, 0, 0, 0, 0, 0, 0, 0, 0, 0, 0, 0, 0, 0, 0, 0, 0, 0, 0, 0, 0, 0, 0, 0, 0, 0, 0, 0, 0, 0, 0, 0, 0, 0, 0, 0, 0, 0, 0, 0, 0, 0, 0, 0, 0, 0, 0, 0, 0, 0, 0, 0, 0, 0, 0, 0, 0, 0, 0, 0, 0, 0, 0, 0, 0, 0, 0, 0, 0, 0, 0, 0, 0, 0, 0, 0, 0, 0, 0, 0, 0, 0, 0, 0, 0, 0, 0, 0, 0, 0, 0, 0, 0, 0, 0, 0, 0, 0, 0]], 'token_type_ids': [[0, 0, 0, 0, 0, 0, 0, 0, 0, 0, 0, 0, 0, 0, 0, 0, 0, 0, 0, 0, 0, 0, 0, 0, 0, 0, 0, 0, 0, 0, 0, 0, 0, 0, 0, 0, 0, 0, 0, 0, 0, 0, 0, 0, 0, 0, 0, 0, 0, 0, 0, 0, 0, 0, 0, 0, 0, 0, 0, 0, 0, 0, 0, 0, 0, 0, 0, 0, 0, 0, 0, 0, 0, 0, 0, 0, 0, 0, 0, 0, 0, 0, 0, 0, 0, 0, 0, 0, 0, 0, 0, 0, 0, 0, 0, 0, 0, 0, 0, 0, 0, 0, 0, 0, 0, 0, 0, 0, 0, 0, 0, 0, 0, 0, 0, 0, 0, 0, 0, 0, 0, 0, 0, 0, 0, 0, 0, 0, 0, 0, 0, 0, 0, 0, 0, 0, 0, 0, 0, 0, 0, 0, 0, 0, 0, 0, 0, 0, 0, 0, 0, 0, 0, 0, 0, 0, 0, 0, 0, 0, 0, 0, 0, 0, 0, 0, 0, 0, 0, 0, 0, 0, 0, 0, 0, 0, 0, 0, 0, 0, 0, 0, 0, 0, 0, 0, 0, 0, 0, 0, 0, 0, 0, 0, 0, 0, 0, 0, 0, 0, 0, 0, 0, 0, 0, 0, 0, 0, 0, 0, 0, 0, 0, 0, 0, 0, 0, 0, 0, 0, 0, 0, 0, 0, 0, 0, 0, 0, 0, 0, 0, 0, 0, 0, 0, 0, 0, 0, 0, 0, 0, 0, 0, 0, 0, 0, 0, 0, 0, 0, 0, 0, 0, 0, 0, 0, 0, 0, 0, 0, 0, 0, 0, 0, 0, 0, 0, 0, 0, 0, 0, 0, 0, 0, 0, 0, 0, 0, 0, 0, 0, 0, 0, 0, 0, 0, 0, 0, 0, 0, 0, 0, 0, 0, 0, 0, 0, 0, 0, 0, 0, 0, 0, 0, 0, 0, 0, 0, 0, 0, 0, 0, 0, 0, 0, 0, 0, 0, 0, 0, 0, 0, 0, 0, 0, 0, 0, 0, 0, 0, 0, 0, 0, 0, 0, 0, 0, 0, 0, 0, 0, 0, 0, 0, 0, 0, 0, 0, 0, 0, 0, 0, 0, 0, 0, 0, 0, 0, 0, 0, 0, 0, 0, 0, 0, 0, 0, 0, 0, 0, 0, 0, 0, 0, 0, 0, 0, 0, 0, 0, 0, 0, 0, 0, 0, 0, 0, 0, 0, 0, 0, 0, 0, 0, 0, 0, 0, 0, 0, 0, 0, 0, 0, 0, 0, 0, 0, 0, 0, 0, 0, 0, 0, 0, 0, 0, 0, 0, 0, 0, 0, 0, 0, 0, 0, 0, 0, 0, 0, 0, 0, 0, 0, 0, 0, 0, 0, 0, 0, 0, 0, 0, 0, 0, 0, 0, 0, 0, 0, 0, 0, 0, 0, 0, 0, 0, 0, 0, 0, 0, 0, 0, 0, 0, 0, 0, 0, 0, 0, 0, 0, 0, 0, 0, 0, 0, 0, 0, 0, 0, 0, 0, 0, 0, 0, 0, 0, 0, 0, 0, 0, 0, 0, 0, 0, 0, 0, 0, 0, 0, 0, 0, 0, 0, 0, 0, 0, 0, 0, 0, 0, 0]], 'attention_mask': [[1, 1, 1, 1, 1, 1, 1, 1, 1, 1, 1, 1, 1, 1, 1, 1, 1, 1, 1, 1, 1, 1, 1, 1, 1, 1, 1, 1, 1, 1, 0, 0, 0, 0, 0, 0, 0, 0, 0, 0, 0, 0, 0, 0, 0, 0, 0, 0, 0, 0, 0, 0, 0, 0, 0, 0, 0, 0, 0, 0, 0, 0, 0, 0, 0, 0, 0, 0, 0, 0, 0, 0, 0, 0, 0, 0, 0, 0, 0, 0, 0, 0, 0, 0, 0, 0, 0, 0, 0, 0, 0, 0, 0, 0, 0, 0, 0, 0, 0, 0, 0, 0, 0, 0, 0, 0, 0, 0, 0, 0, 0, 0, 0, 0, 0, 0, 0, 0, 0, 0, 0, 0, 0, 0, 0, 0, 0, 0, 0, 0, 0, 0, 0, 0, 0, 0, 0, 0, 0, 0, 0, 0, 0, 0, 0, 0, 0, 0, 0, 0, 0, 0, 0, 0, 0, 0, 0, 0, 0, 0, 0, 0, 0, 0, 0, 0, 0, 0, 0, 0, 0, 0, 0, 0, 0, 0, 0, 0, 0, 0, 0, 0, 0, 0, 0, 0, 0, 0, 0, 0, 0, 0, 0, 0, 0, 0, 0, 0, 0, 0, 0, 0, 0, 0, 0, 0, 0, 0, 0, 0, 0, 0, 0, 0, 0, 0, 0, 0, 0, 0, 0, 0, 0, 0, 0, 0, 0, 0, 0, 0, 0, 0, 0, 0, 0, 0, 0, 0, 0, 0, 0, 0, 0, 0, 0, 0, 0, 0, 0, 0, 0, 0, 0, 0, 0, 0, 0, 0, 0, 0, 0, 0, 0, 0, 0, 0, 0, 0, 0, 0, 0, 0, 0, 0, 0, 0, 0, 0, 0, 0, 0, 0, 0, 0, 0, 0, 0, 0, 0, 0, 0, 0, 0, 0, 0, 0, 0, 0, 0, 0, 0, 0, 0, 0, 0, 0, 0, 0, 0, 0, 0, 0, 0, 0, 0, 0, 0, 0, 0, 0, 0, 0, 0, 0, 0, 0, 0, 0, 0, 0, 0, 0, 0, 0, 0, 0, 0, 0, 0, 0, 0, 0, 0, 0, 0, 0, 0, 0, 0, 0, 0, 0, 0, 0, 0, 0, 0, 0, 0, 0, 0, 0, 0, 0, 0, 0, 0, 0, 0, 0, 0, 0, 0, 0, 0, 0, 0, 0, 0, 0, 0, 0, 0, 0, 0, 0, 0, 0, 0, 0, 0, 0, 0, 0, 0, 0, 0, 0, 0, 0, 0, 0, 0, 0, 0, 0, 0, 0, 0, 0, 0, 0, 0, 0, 0, 0, 0, 0, 0, 0, 0, 0, 0, 0, 0, 0, 0, 0, 0, 0, 0, 0, 0, 0, 0, 0, 0, 0, 0, 0, 0, 0, 0, 0, 0, 0, 0, 0, 0, 0, 0, 0, 0, 0, 0, 0, 0, 0, 0, 0, 0, 0, 0, 0, 0, 0, 0, 0, 0, 0, 0, 0, 0, 0, 0, 0, 0, 0, 0, 0, 0, 0, 0, 0, 0, 0, 0, 0, 0, 0, 0, 0, 0, 0, 0, 0, 0, 0, 0, 0, 0, 0, 0, 0, 0, 0, 0, 0, 0, 0, 0, 0]]}\\\\n\\\",\\\"\\\\n\\\",\\\"Tokenized 驗證集第一筆：\\\\n\\\",\\\"{'sentence': [\\\\\\\"We have also cut our price projections for paper and packaging , '' an analyst with Goldman Sachs said on a note on Monday .\\\\\\\"], 'label': [0], 'input_ids': [[101, 2057, 2031, 2036, 3013, 2256, 3976, 21796, 2005, 3259, 1998, 14793, 1010, 1005, 1005, 2019, 12941, 2007, 17765, 22818, 2056, 2006, 1037, 3602, 2006, 6928, 1012, 102, 0, 0, 0, 0, 0, 0, 0, 0, 0, 0, 0, 0, 0, 0, 0, 0, 0, 0, 0, 0, 0, 0, 0, 0, 0, 0, 0, 0, 0, 0, 0, 0, 0, 0, 0, 0, 0, 0, 0, 0, 0, 0, 0, 0, 0, 0, 0, 0, 0, 0, 0, 0, 0, 0, 0, 0, 0, 0, 0, 0, 0, 0, 0, 0, 0, 0, 0, 0, 0, 0, 0, 0, 0, 0, 0, 0, 0, 0, 0, 0, 0, 0, 0, 0, 0, 0, 0, 0, 0, 0, 0, 0, 0, 0, 0, 0, 0, 0, 0, 0, 0, 0, 0, 0, 0, 0, 0, 0, 0, 0, 0, 0, 0, 0, 0, 0, 0, 0, 0, 0, 0, 0, 0, 0, 0, 0, 0, 0, 0, 0, 0, 0, 0, 0, 0, 0, 0, 0, 0, 0, 0, 0, 0, 0, 0, 0, 0, 0, 0, 0, 0, 0, 0, 0, 0, 0, 0, 0, 0, 0, 0, 0, 0, 0, 0, 0, 0, 0, 0, 0, 0, 0, 0, 0, 0, 0, 0, 0, 0, 0, 0, 0, 0, 0, 0, 0, 0, 0, 0, 0, 0, 0, 0, 0, 0, 0, 0, 0, 0, 0, 0, 0, 0, 0, 0, 0, 0, 0, 0, 0, 0, 0, 0, 0, 0, 0, 0, 0, 0, 0, 0, 0, 0, 0, 0, 0, 0, 0, 0, 0, 0, 0, 0, 0, 0, 0, 0, 0, 0, 0, 0, 0, 0, 0, 0, 0, 0, 0, 0, 0, 0, 0, 0, 0, 0, 0, 0, 0, 0, 0, 0, 0, 0, 0, 0, 0, 0, 0, 0, 0, 0, 0, 0, 0, 0, 0, 0, 0, 0, 0, 0, 0, 0, 0, 0, 0, 0, 0, 0, 0, 0, 0, 0, 0, 0, 0, 0, 0, 0, 0, 0, 0, 0, 0, 0, 0, 0, 0, 0, 0, 0, 0, 0, 0, 0, 0, 0, 0, 0, 0, 0, 0, 0, 0, 0, 0, 0, 0, 0, 0, 0, 0, 0, 0, 0, 0, 0, 0, 0, 0, 0, 0, 0, 0, 0, 0, 0, 0, 0, 0, 0, 0, 0, 0, 0, 0, 0, 0, 0, 0, 0, 0, 0, 0, 0, 0, 0, 0, 0, 0, 0, 0, 0, 0, 0, 0, 0, 0, 0, 0, 0, 0, 0, 0, 0, 0, 0, 0, 0, 0, 0, 0, 0, 0, 0, 0, 0, 0, 0, 0, 0, 0, 0, 0, 0, 0, 0, 0, 0, 0, 0, 0, 0, 0, 0, 0, 0, 0, 0, 0, 0, 0, 0, 0, 0, 0, 0, 0, 0, 0, 0, 0, 0, 0, 0, 0, 0, 0, 0, 0, 0, 0, 0, 0, 0, 0, 0, 0, 0, 0, 0, 0, 0, 0, 0, 0, 0, 0, 0, 0, 0, 0, 0, 0, 0, 0, 0, 0, 0, 0, 0, 0, 0, 0, 0, 0, 0, 0, 0, 0, 0, 0, 0, 0]], 'token_type_ids': [[0, 0, 0, 0, 0, 0, 0, 0, 0, 0, 0, 0, 0, 0, 0, 0, 0, 0, 0, 0, 0, 0, 0, 0, 0, 0, 0, 0, 0, 0, 0, 0, 0, 0, 0, 0, 0, 0, 0, 0, 0, 0, 0, 0, 0, 0, 0, 0, 0, 0, 0, 0, 0, 0, 0, 0, 0, 0, 0, 0, 0, 0, 0, 0, 0, 0, 0, 0, 0, 0, 0, 0, 0, 0, 0, 0, 0, 0, 0, 0, 0, 0, 0, 0, 0, 0, 0, 0, 0, 0, 0, 0, 0, 0, 0, 0, 0, 0, 0, 0, 0, 0, 0, 0, 0, 0, 0, 0, 0, 0, 0, 0, 0, 0, 0, 0, 0, 0, 0, 0, 0, 0, 0, 0, 0, 0, 0, 0, 0, 0, 0, 0, 0, 0, 0, 0, 0, 0, 0, 0, 0, 0, 0, 0, 0, 0, 0, 0, 0, 0, 0, 0, 0, 0, 0, 0, 0, 0, 0, 0, 0, 0, 0, 0, 0, 0, 0, 0, 0, 0, 0, 0, 0, 0, 0, 0, 0, 0, 0, 0, 0, 0, 0, 0, 0, 0, 0, 0, 0, 0, 0, 0, 0, 0, 0, 0, 0, 0, 0, 0, 0, 0, 0, 0, 0, 0, 0, 0, 0, 0, 0, 0, 0, 0, 0, 0, 0, 0, 0, 0, 0, 0, 0, 0, 0, 0, 0, 0, 0, 0, 0, 0, 0, 0, 0, 0, 0, 0, 0, 0, 0, 0, 0, 0, 0, 0, 0, 0, 0, 0, 0, 0, 0, 0, 0, 0, 0, 0, 0, 0, 0, 0, 0, 0, 0, 0, 0, 0, 0, 0, 0, 0, 0, 0, 0, 0, 0, 0, 0, 0, 0, 0, 0, 0, 0, 0, 0, 0, 0, 0, 0, 0, 0, 0, 0, 0, 0, 0, 0, 0, 0, 0, 0, 0, 0, 0, 0, 0, 0, 0, 0, 0, 0, 0, 0, 0, 0, 0, 0, 0, 0, 0, 0, 0, 0, 0, 0, 0, 0, 0, 0, 0, 0, 0, 0, 0, 0, 0, 0, 0, 0, 0, 0, 0, 0, 0, 0, 0, 0, 0, 0, 0, 0, 0, 0, 0, 0, 0, 0, 0, 0, 0, 0, 0, 0, 0, 0, 0, 0, 0, 0, 0, 0, 0, 0, 0, 0, 0, 0, 0, 0, 0, 0, 0, 0, 0, 0, 0, 0, 0, 0, 0, 0, 0, 0, 0, 0, 0, 0, 0, 0, 0, 0, 0, 0, 0, 0, 0, 0, 0, 0, 0, 0, 0, 0, 0, 0, 0, 0, 0, 0, 0, 0, 0, 0, 0, 0, 0, 0, 0, 0, 0, 0, 0, 0, 0, 0, 0, 0, 0, 0, 0, 0, 0, 0, 0, 0, 0, 0, 0, 0, 0, 0, 0, 0, 0, 0, 0, 0, 0, 0, 0, 0, 0, 0, 0, 0, 0, 0, 0, 0, 0, 0, 0, 0, 0, 0, 0, 0, 0, 0, 0, 0, 0, 0, 0, 0, 0, 0, 0, 0, 0, 0, 0, 0, 0, 0, 0, 0, 0, 0, 0, 0, 0, 0, 0, 0, 0, 0, 0, 0, 0]], 'attention_mask': [[1, 1, 1, 1, 1, 1, 1, 1, 1, 1, 1, 1, 1, 1, 1, 1, 1, 1, 1, 1, 1, 1, 1, 1, 1, 1, 1, 1, 0, 0, 0, 0, 0, 0, 0, 0, 0, 0, 0, 0, 0, 0, 0, 0, 0, 0, 0, 0, 0, 0, 0, 0, 0, 0, 0, 0, 0, 0, 0, 0, 0, 0, 0, 0, 0, 0, 0, 0, 0, 0, 0, 0, 0, 0, 0, 0, 0, 0, 0, 0, 0, 0, 0, 0, 0, 0, 0, 0, 0, 0, 0, 0, 0, 0, 0, 0, 0, 0, 0, 0, 0, 0, 0, 0, 0, 0, 0, 0, 0, 0, 0, 0, 0, 0, 0, 0, 0, 0, 0, 0, 0, 0, 0, 0, 0, 0, 0, 0, 0, 0, 0, 0, 0, 0, 0, 0, 0, 0, 0, 0, 0, 0, 0, 0, 0, 0, 0, 0, 0, 0, 0, 0, 0, 0, 0, 0, 0, 0, 0, 0, 0, 0, 0, 0, 0, 0, 0, 0, 0, 0, 0, 0, 0, 0, 0, 0, 0, 0, 0, 0, 0, 0, 0, 0, 0, 0, 0, 0, 0, 0, 0, 0, 0, 0, 0, 0, 0, 0, 0, 0, 0, 0, 0, 0, 0, 0, 0, 0, 0, 0, 0, 0, 0, 0, 0, 0, 0, 0, 0, 0, 0, 0, 0, 0, 0, 0, 0, 0, 0, 0, 0, 0, 0, 0, 0, 0, 0, 0, 0, 0, 0, 0, 0, 0, 0, 0, 0, 0, 0, 0, 0, 0, 0, 0, 0, 0, 0, 0, 0, 0, 0, 0, 0, 0, 0, 0, 0, 0, 0, 0, 0, 0, 0, 0, 0, 0, 0, 0, 0, 0, 0, 0, 0, 0, 0, 0, 0, 0, 0, 0, 0, 0, 0, 0, 0, 0, 0, 0, 0, 0, 0, 0, 0, 0, 0, 0, 0, 0, 0, 0, 0, 0, 0, 0, 0, 0, 0, 0, 0, 0, 0, 0, 0, 0, 0, 0, 0, 0, 0, 0, 0, 0, 0, 0, 0, 0, 0, 0, 0, 0, 0, 0, 0, 0, 0, 0, 0, 0, 0, 0, 0, 0, 0, 0, 0, 0, 0, 0, 0, 0, 0, 0, 0, 0, 0, 0, 0, 0, 0, 0, 0, 0, 0, 0, 0, 0, 0, 0, 0, 0, 0, 0, 0, 0, 0, 0, 0, 0, 0, 0, 0, 0, 0, 0, 0, 0, 0, 0, 0, 0, 0, 0, 0, 0, 0, 0, 0, 0, 0, 0, 0, 0, 0, 0, 0, 0, 0, 0, 0, 0, 0, 0, 0, 0, 0, 0, 0, 0, 0, 0, 0, 0, 0, 0, 0, 0, 0, 0, 0, 0, 0, 0, 0, 0, 0, 0, 0, 0, 0, 0, 0, 0, 0, 0, 0, 0, 0, 0, 0, 0, 0, 0, 0, 0, 0, 0, 0, 0, 0, 0, 0, 0, 0, 0, 0, 0, 0, 0, 0, 0, 0, 0, 0, 0, 0, 0, 0, 0, 0, 0, 0, 0, 0, 0, 0, 0, 0, 0, 0, 0, 0, 0, 0, 0, 0, 0, 0, 0, 0, 0, 0, 0]]}\\\\n\\\",\\\"\\\\n\\\",\\\"Tokenized 測試集第一筆：\\\\n\\\",\\\"{'sentence': [\\\\\\\"TeliaSonera TLSN said the offer is in line with its strategy to increase its ownership in core business holdings and would strengthen Eesti Telekom 's offering to its customers .\\\\\\\"], 'label': [2], 'input_ids': [[101, 10093, 7951, 5643, 2527, 1056, 4877, 2078, 2056, 1996, 3749, 2003, 1999, 2240, 2007, 2049, 5656, 2000, 3623, 2049, 6095, 1999, 4563, 2449, 9583, 1998, 2052, 12919, 25212, 16643, 10093, 5937, 5358, 1005, 1055, 5378, 2000, 2049, 6304, 1012, 102, 0, 0, 0, 0, 0, 0, 0, 0, 0, 0, 0, 0, 0, 0, 0, 0, 0, 0, 0, 0, 0, 0, 0, 0, 0, 0, 0, 0, 0, 0, 0, 0, 0, 0, 0, 0, 0, 0, 0, 0, 0, 0, 0, 0, 0, 0, 0, 0, 0, 0, 0, 0, 0, 0, 0, 0, 0, 0, 0, 0, 0, 0, 0, 0, 0, 0, 0, 0, 0, 0, 0, 0, 0, 0, 0, 0, 0, 0, 0, 0, 0, 0, 0, 0, 0, 0, 0, 0, 0, 0, 0, 0, 0, 0, 0, 0, 0, 0, 0, 0, 0, 0, 0, 0, 0, 0, 0, 0, 0, 0, 0, 0, 0, 0, 0, 0, 0, 0, 0, 0, 0, 0, 0, 0, 0, 0, 0, 0, 0, 0, 0, 0, 0, 0, 0, 0, 0, 0, 0, 0, 0, 0, 0, 0, 0, 0, 0, 0, 0, 0, 0, 0, 0, 0, 0, 0, 0, 0, 0, 0, 0, 0, 0, 0, 0, 0, 0, 0, 0, 0, 0, 0, 0, 0, 0, 0, 0, 0, 0, 0, 0, 0, 0, 0, 0, 0, 0, 0, 0, 0, 0, 0, 0, 0, 0, 0, 0, 0, 0, 0, 0, 0, 0, 0, 0, 0, 0, 0, 0, 0, 0, 0, 0, 0, 0, 0, 0, 0, 0, 0, 0, 0, 0, 0, 0, 0, 0, 0, 0, 0, 0, 0, 0, 0, 0, 0, 0, 0, 0, 0, 0, 0, 0, 0, 0, 0, 0, 0, 0, 0, 0, 0, 0, 0, 0, 0, 0, 0, 0, 0, 0, 0, 0, 0, 0, 0, 0, 0, 0, 0, 0, 0, 0, 0, 0, 0, 0, 0, 0, 0, 0, 0, 0, 0, 0, 0, 0, 0, 0, 0, 0, 0, 0, 0, 0, 0, 0, 0, 0, 0, 0, 0, 0, 0, 0, 0, 0, 0, 0, 0, 0, 0, 0, 0, 0, 0, 0, 0, 0, 0, 0, 0, 0, 0, 0, 0, 0, 0, 0, 0, 0, 0, 0, 0, 0, 0, 0, 0, 0, 0, 0, 0, 0, 0, 0, 0, 0, 0, 0, 0, 0, 0, 0, 0, 0, 0, 0, 0, 0, 0, 0, 0, 0, 0, 0, 0, 0, 0, 0, 0, 0, 0, 0, 0, 0, 0, 0, 0, 0, 0, 0, 0, 0, 0, 0, 0, 0, 0, 0, 0, 0, 0, 0, 0, 0, 0, 0, 0, 0, 0, 0, 0, 0, 0, 0, 0, 0, 0, 0, 0, 0, 0, 0, 0, 0, 0, 0, 0, 0, 0, 0, 0, 0, 0, 0, 0, 0, 0, 0, 0, 0, 0, 0, 0, 0, 0, 0, 0, 0, 0, 0, 0, 0, 0, 0, 0, 0, 0, 0, 0, 0, 0, 0, 0, 0, 0, 0, 0, 0, 0, 0, 0, 0, 0, 0, 0, 0, 0, 0, 0, 0]], 'token_type_ids': [[0, 0, 0, 0, 0, 0, 0, 0, 0, 0, 0, 0, 0, 0, 0, 0, 0, 0, 0, 0, 0, 0, 0, 0, 0, 0, 0, 0, 0, 0, 0, 0, 0, 0, 0, 0, 0, 0, 0, 0, 0, 0, 0, 0, 0, 0, 0, 0, 0, 0, 0, 0, 0, 0, 0, 0, 0, 0, 0, 0, 0, 0, 0, 0, 0, 0, 0, 0, 0, 0, 0, 0, 0, 0, 0, 0, 0, 0, 0, 0, 0, 0, 0, 0, 0, 0, 0, 0, 0, 0, 0, 0, 0, 0, 0, 0, 0, 0, 0, 0, 0, 0, 0, 0, 0, 0, 0, 0, 0, 0, 0, 0, 0, 0, 0, 0, 0, 0, 0, 0, 0, 0, 0, 0, 0, 0, 0, 0, 0, 0, 0, 0, 0, 0, 0, 0, 0, 0, 0, 0, 0, 0, 0, 0, 0, 0, 0, 0, 0, 0, 0, 0, 0, 0, 0, 0, 0, 0, 0, 0, 0, 0, 0, 0, 0, 0, 0, 0, 0, 0, 0, 0, 0, 0, 0, 0, 0, 0, 0, 0, 0, 0, 0, 0, 0, 0, 0, 0, 0, 0, 0, 0, 0, 0, 0, 0, 0, 0, 0, 0, 0, 0, 0, 0, 0, 0, 0, 0, 0, 0, 0, 0, 0, 0, 0, 0, 0, 0, 0, 0, 0, 0, 0, 0, 0, 0, 0, 0, 0, 0, 0, 0, 0, 0, 0, 0, 0, 0, 0, 0, 0, 0, 0, 0, 0, 0, 0, 0, 0, 0, 0, 0, 0, 0, 0, 0, 0, 0, 0, 0, 0, 0, 0, 0, 0, 0, 0, 0, 0, 0, 0, 0, 0, 0, 0, 0, 0, 0, 0, 0, 0, 0, 0, 0, 0, 0, 0, 0, 0, 0, 0, 0, 0, 0, 0, 0, 0, 0, 0, 0, 0, 0, 0, 0, 0, 0, 0, 0, 0, 0, 0, 0, 0, 0, 0, 0, 0, 0, 0, 0, 0, 0, 0, 0, 0, 0, 0, 0, 0, 0, 0, 0, 0, 0, 0, 0, 0, 0, 0, 0, 0, 0, 0, 0, 0, 0, 0, 0, 0, 0, 0, 0, 0, 0, 0, 0, 0, 0, 0, 0, 0, 0, 0, 0, 0, 0, 0, 0, 0, 0, 0, 0, 0, 0, 0, 0, 0, 0, 0, 0, 0, 0, 0, 0, 0, 0, 0, 0, 0, 0, 0, 0, 0, 0, 0, 0, 0, 0, 0, 0, 0, 0, 0, 0, 0, 0, 0, 0, 0, 0, 0, 0, 0, 0, 0, 0, 0, 0, 0, 0, 0, 0, 0, 0, 0, 0, 0, 0, 0, 0, 0, 0, 0, 0, 0, 0, 0, 0, 0, 0, 0, 0, 0, 0, 0, 0, 0, 0, 0, 0, 0, 0, 0, 0, 0, 0, 0, 0, 0, 0, 0, 0, 0, 0, 0, 0, 0, 0, 0, 0, 0, 0, 0, 0, 0, 0, 0, 0, 0, 0, 0, 0, 0, 0, 0, 0, 0, 0, 0, 0, 0, 0, 0, 0, 0, 0, 0, 0, 0, 0, 0, 0, 0, 0, 0, 0, 0, 0, 0, 0, 0, 0]], 'attention_mask': [[1, 1, 1, 1, 1, 1, 1, 1, 1, 1, 1, 1, 1, 1, 1, 1, 1, 1, 1, 1, 1, 1, 1, 1, 1, 1, 1, 1, 1, 1, 1, 1, 1, 1, 1, 1, 1, 1, 1, 1, 1, 0, 0, 0, 0, 0, 0, 0, 0, 0, 0, 0, 0, 0, 0, 0, 0, 0, 0, 0, 0, 0, 0, 0, 0, 0, 0, 0, 0, 0, 0, 0, 0, 0, 0, 0, 0, 0, 0, 0, 0, 0, 0, 0, 0, 0, 0, 0, 0, 0, 0, 0, 0, 0, 0, 0, 0, 0, 0, 0, 0, 0, 0, 0, 0, 0, 0, 0, 0, 0, 0, 0, 0, 0, 0, 0, 0, 0, 0, 0, 0, 0, 0, 0, 0, 0, 0, 0, 0, 0, 0, 0, 0, 0, 0, 0, 0, 0, 0, 0, 0, 0, 0, 0, 0, 0, 0, 0, 0, 0, 0, 0, 0, 0, 0, 0, 0, 0, 0, 0, 0, 0, 0, 0, 0, 0, 0, 0, 0, 0, 0, 0, 0, 0, 0, 0, 0, 0, 0, 0, 0, 0, 0, 0, 0, 0, 0, 0, 0, 0, 0, 0, 0, 0, 0, 0, 0, 0, 0, 0, 0, 0, 0, 0, 0, 0, 0, 0, 0, 0, 0, 0, 0, 0, 0, 0, 0, 0, 0, 0, 0, 0, 0, 0, 0, 0, 0, 0, 0, 0, 0, 0, 0, 0, 0, 0, 0, 0, 0, 0, 0, 0, 0, 0, 0, 0, 0, 0, 0, 0, 0, 0, 0, 0, 0, 0, 0, 0, 0, 0, 0, 0, 0, 0, 0, 0, 0, 0, 0, 0, 0, 0, 0, 0, 0, 0, 0, 0, 0, 0, 0, 0, 0, 0, 0, 0, 0, 0, 0, 0, 0, 0, 0, 0, 0, 0, 0, 0, 0, 0, 0, 0, 0, 0, 0, 0, 0, 0, 0, 0, 0, 0, 0, 0, 0, 0, 0, 0, 0, 0, 0, 0, 0, 0, 0, 0, 0, 0, 0, 0, 0, 0, 0, 0, 0, 0, 0, 0, 0, 0, 0, 0, 0, 0, 0, 0, 0, 0, 0, 0, 0, 0, 0, 0, 0, 0, 0, 0, 0, 0, 0, 0, 0, 0, 0, 0, 0, 0, 0, 0, 0, 0, 0, 0, 0, 0, 0, 0, 0, 0, 0, 0, 0, 0, 0, 0, 0, 0, 0, 0, 0, 0, 0, 0, 0, 0, 0, 0, 0, 0, 0, 0, 0, 0, 0, 0, 0, 0, 0, 0, 0, 0, 0, 0, 0, 0, 0, 0, 0, 0, 0, 0, 0, 0, 0, 0, 0, 0, 0, 0, 0, 0, 0, 0, 0, 0, 0, 0, 0, 0, 0, 0, 0, 0, 0, 0, 0, 0, 0, 0, 0, 0, 0, 0, 0, 0, 0, 0, 0, 0, 0, 0, 0, 0, 0, 0, 0, 0, 0, 0, 0, 0, 0, 0, 0, 0, 0, 0, 0, 0, 0, 0, 0, 0, 0, 0, 0, 0, 0, 0, 0, 0, 0, 0, 0, 0, 0, 0, 0, 0, 0, 0, 0, 0, 0, 0, 0, 0, 0, 0, 0, 0]]}\\\\n\\\",\\\"\\\\n\\\",\\\"訓練集特徵： {'sentence': Value('string'), 'label': Value('int64'), 'input_ids': List(Value('int32')), 'token_type_ids': List(Value('int8')), 'attention_mask': List(Value('int8'))}\\\\n\\\",\\\"驗證集特徵： {'sentence': Value('string'), 'label': Value('int64'), 'input_ids': List(Value('int32')), 'token_type_ids': List(Value('int8')), 'attention_mask': List(Value('int8'))}\\\\n\\\",\\\"測試集特徵： {'sentence': Value('string'), 'label': Value('int64'), 'input_ids': List(Value('int32')), 'token_type_ids': List(Value('int8')), 'attention_mask': List(Value('int8'))}\\\\n\\\"]}],\\\"source\\\":[\\\"# 查看 Tokenized 資料\\\\n\\\",\\\"print(\\\\\\\"\\\\\\\\nTokenized 訓練集第一筆：\\\\\\\")\\\\n\\\",\\\"print(tokenized_train[:1])\\\\n\\\",\\\"\\\\n\\\",\\\"print(\\\\\\\"\\\\\\\\nTokenized 驗證集第一筆：\\\\\\\")\\\\n\\\",\\\"print(tokenized_val[:1])\\\\n\\\",\\\"\\\\n\\\",\\\"print(\\\\\\\"\\\\\\\\nTokenized 測試集第一筆：\\\\\\\")\\\\n\\\",\\\"print(tokenized_test[:1])\\\\n\\\",\\\"# 確認 tokenized_datasets 是否包含需要的欄位\\\\n\\\",\\\"print(\\\\\\\"\\\\\\\\n訓練集特徵：\\\\\\\", tokenized_train.features)\\\\n\\\",\\\"print(\\\\\\\"驗證集特徵：\\\\\\\", tokenized_val.features)\\\\n\\\",\\\"print(\\\\\\\"測試集特徵：\\\\\\\", tokenized_test.features)\\\"]},{\\\"cell_type\\\":\\\"markdown\\\",\\\"metadata\\\":{\\\"id\\\":\\\"1B6hjgeKNCOY\\\"},\\\"source\\\":[\\\"### <b>建立模型</b>\\\"]},{\\\"cell_type\\\":\\\"code\\\",\\\"execution_count\\\":null,\\\"metadata\\\":{\\\"colab\\\":{\\\"base_uri\\\":\\\"https://localhost:8080/\\\"},\\\"executionInfo\\\":{\\\"elapsed\\\":46,\\\"status\\\":\\\"ok\\\",\\\"timestamp\\\":1761789819184,\\\"user\\\":{\\\"displayName\\\":\\\"張景陽\\\",\\\"userId\\\":\\\"17990199239061367823\\\"},\\\"user_tz\\\":-480},\\\"id\\\":\\\"CrZKiuOAARK0\\\",\\\"outputId\\\":\\\"1bb19686-ee90-4b32-da17-a8704ec425d8\\\"},\\\"outputs\\\":[{\\\"output_type\\\":\\\"execute_result\\\",\\\"data\\\":{\\\"text/plain\\\":[\\\"device(type='cuda')\\\"]},\\\"metadata\\\":{},\\\"execution_count\\\":10}],\\\"source\\\":[\\\"import torch  # 深度學習框架\\\\n\\\",\\\"\\\\\\\"\\\\\\\"\\\\\\\"\\\\n\\\",\\\"為什麼要檢查 GPU？\\\\n\\\",\\\"- GPU 的平行運算能力遠超 CPU（通常快 10-100 倍）\\\\n\\\",\\\"- 深度學習涉及大量矩陣運算，適合 GPU 加速\\\\n\\\",\\\"- 如果有 GPU 可用，應該優先使用\\\\n\\\",\\\"\\\\n\\\",\\\"CUDA 是什麼？\\\\n\\\",\\\"- NVIDIA 的平行運算平台\\\\n\\\",\\\"- PyTorch 透過 CUDA 調用 GPU\\\\n\\\",\\\"- torch.cuda.is_available() 檢查是否有可用的 GPU\\\\n\\\",\\\"\\\\\\\"\\\\\\\"\\\\\\\"\\\\n\\\",\\\"# 如果有GPU就用GPU，沒有GPU用CPU\\\\n\\\",\\\"device = torch.device(\\\\\\\"cuda\\\\\\\" if torch.cuda.is_available() else \\\\\\\"cpu\\\\\\\")\\\\n\\\",\\\"device\\\"]},{\\\"cell_type\\\":\\\"code\\\",\\\"execution_count\\\":null,\\\"metadata\\\":{\\\"colab\\\":{\\\"base_uri\\\":\\\"https://localhost:8080/\\\",\\\"height\\\":885,\\\"referenced_widgets\\\":[\\\"adf30169caad40bda91b4e5bea464d07\\\",\\\"c077e1435dd14474b21bb1958ad275e0\\\",\\\"284544d7ea794d0ba880b13d4ae774af\\\",\\\"51bda23b40734e15a258744083e14501\\\",\\\"dcccbc8fcea74a46ab0bb7bd717db415\\\",\\\"aea33b9126534ffeaec411e076114868\\\",\\\"04422c71befe40fca7fe626270cf48bb\\\",\\\"c3ea798242f446ab9562e065970d8ba9\\\",\\\"005dc6de699648d69bcf210089a4408c\\\",\\\"2fb08ca5370644c7a90bb62347162049\\\",\\\"4b48eb2dd80c49d39c04966818012832\\\"]},\\\"executionInfo\\\":{\\\"elapsed\\\":13386,\\\"status\\\":\\\"ok\\\",\\\"timestamp\\\":1761789832569,\\\"user\\\":{\\\"displayName\\\":\\\"張景陽\\\",\\\"userId\\\":\\\"17990199239061367823\\\"},\\\"user_tz\\\":-480},\\\"id\\\":\\\"1tHKgx_jtRkK\\\",\\\"outputId\\\":\\\"27713de6-ac67-4765-91b0-8226cf49dd7f\\\"},\\\"outputs\\\":[{\\\"output_type\\\":\\\"display_data\\\",\\\"data\\\":{\\\"text/plain\\\":[\\\"model.safetensors:   0%|          | 0.00/440M [00:00<?, ?B/s]\\\"]},\\\"metadata\\\":{}},{\\\"output_type\\\":\\\"stream\\\",\\\"name\\\":\\\"stderr\\\",\\\"text\\\":[\\\"Some weights of BertForSequenceClassification were not initialized from the model checkpoint at bert-base-uncased and are newly initialized: ['classifier.bias', 'classifier.weight']\\\\n\\\",\\\"You should probably TRAIN this model on a down-stream task to be able to use it for predictions and inference.\\\\n\\\"]},{\\\"output_type\\\":\\\"execute_result\\\",\\\"data\\\":{\\\"text/plain\\\":[\\\"BertForSequenceClassification(\\\\n\\\",\\\"  (bert): BertModel(\\\\n\\\",\\\"    (embeddings): BertEmbeddings(\\\\n\\\",\\\"      (word_embeddings): Embedding(30522, 768, padding_idx=0)\\\\n\\\",\\\"      (position_embeddings): Embedding(512, 768)\\\\n\\\",\\\"      (token_type_embeddings): Embedding(2, 768)\\\\n\\\",\\\"      (LayerNorm): LayerNorm((768,), eps=1e-12, elementwise_affine=True)\\\\n\\\",\\\"      (dropout): Dropout(p=0.1, inplace=False)\\\\n\\\",\\\"    )\\\\n\\\",\\\"    (encoder): BertEncoder(\\\\n\\\",\\\"      (layer): ModuleList(\\\\n\\\",\\\"        (0-11): 12 x BertLayer(\\\\n\\\",\\\"          (attention): BertAttention(\\\\n\\\",\\\"            (self): BertSdpaSelfAttention(\\\\n\\\",\\\"              (query): Linear(in_features=768, out_features=768, bias=True)\\\\n\\\",\\\"              (key): Linear(in_features=768, out_features=768, bias=True)\\\\n\\\",\\\"              (value): Linear(in_features=768, out_features=768, bias=True)\\\\n\\\",\\\"              (dropout): Dropout(p=0.1, inplace=False)\\\\n\\\",\\\"            )\\\\n\\\",\\\"            (output): BertSelfOutput(\\\\n\\\",\\\"              (dense): Linear(in_features=768, out_features=768, bias=True)\\\\n\\\",\\\"              (LayerNorm): LayerNorm((768,), eps=1e-12, elementwise_affine=True)\\\\n\\\",\\\"              (dropout): Dropout(p=0.1, inplace=False)\\\\n\\\",\\\"            )\\\\n\\\",\\\"          )\\\\n\\\",\\\"          (intermediate): BertIntermediate(\\\\n\\\",\\\"            (dense): Linear(in_features=768, out_features=3072, bias=True)\\\\n\\\",\\\"            (intermediate_act_fn): GELUActivation()\\\\n\\\",\\\"          )\\\\n\\\",\\\"          (output): BertOutput(\\\\n\\\",\\\"            (dense): Linear(in_features=3072, out_features=768, bias=True)\\\\n\\\",\\\"            (LayerNorm): LayerNorm((768,), eps=1e-12, elementwise_affine=True)\\\\n\\\",\\\"            (dropout): Dropout(p=0.1, inplace=False)\\\\n\\\",\\\"          )\\\\n\\\",\\\"        )\\\\n\\\",\\\"      )\\\\n\\\",\\\"    )\\\\n\\\",\\\"    (pooler): BertPooler(\\\\n\\\",\\\"      (dense): Linear(in_features=768, out_features=768, bias=True)\\\\n\\\",\\\"      (activation): Tanh()\\\\n\\\",\\\"    )\\\\n\\\",\\\"  )\\\\n\\\",\\\"  (dropout): Dropout(p=0.1, inplace=False)\\\\n\\\",\\\"  (classifier): Linear(in_features=768, out_features=3, bias=True)\\\\n\\\",\\\")\\\"]},\\\"metadata\\\":{},\\\"execution_count\\\":11}],\\\"source\\\":[\\\"from transformers import AutoModelForSequenceClassification  # 序列分類模型\\\\n\\\",\\\"\\\\\\\"\\\\\\\"\\\\\\\"\\\\n\\\",\\\"什麼是遷移學習(Transfer Learning)？\\\\n\\\",\\\"\\\\n\\\",\\\"1. 預訓練(Pre-training)階段\\\\n\\\",\\\"   - 在大規模文本語料上預訓練\\\\n\\\",\\\"   - 學習通用的語言理解能力\\\\n\\\",\\\"   - BERT 在 BookCorpus 和 Wikipedia 上訓練\\\\n\\\",\\\"\\\\n\\\",\\\"2. 微調(Fine-tuning)階段\\\\n\\\",\\\"   - 在特定任務上微調模型\\\\n\\\",\\\"   - 只需要較少的標註資料\\\\n\\\",\\\"   - 適應特定領域（如金融文本）\\\\n\\\",\\\"\\\\n\\\",\\\"為什麼設定 num_labels=3？\\\\n\\\",\\\"- 我們的任務是三分類：Negative, Neutral, Positive\\\\n\\\",\\\"- 模型最後會輸出 3 個分數(logits)\\\\n\\\",\\\"- 透過 softmax 轉換成機率分佈\\\\n\\\",\\\"\\\\n\\\",\\\"model.to(device) 的作用？\\\\n\\\",\\\"- 將模型參數移動到 GPU 上\\\\n\\\",\\\"- 確保模型和輸入資料在同一個裝置\\\\n\\\",\\\"\\\\\\\"\\\\\\\"\\\\\\\"\\\\n\\\",\\\"\\\\n\\\",\\\"# 載入模型（使用作業區域 1 選擇的模型）\\\\n\\\",\\\"model = AutoModelForSequenceClassification.from_pretrained(model_name, num_labels=3)\\\\n\\\",\\\"model.to(device)  # 將模型移到對應裝置\\\"]},{\\\"cell_type\\\":\\\"code\\\",\\\"execution_count\\\":null,\\\"metadata\\\":{\\\"id\\\":\\\"eWoT1FbOtURf\\\"},\\\"outputs\\\":[],\\\"source\\\":[\\\"from transformers import TrainingArguments  # 包裝訓練參數\\\\n\\\",\\\"\\\\n\\\",\\\"training_args = TrainingArguments(\\\\n\\\",\\\"    output_dir=\\\\\\\"./results\\\\\\\",          # 訓練結果的儲存位置，包括模型檔案和預測結果。\\\\n\\\",\\\"    eval_strategy=\\\\\\\"epoch\\\\\\\",     # 設置評估策略為每個訓練輪次（epoch）結束後進行一次評估。\\\\n\\\",\\\"    learning_rate=2e-5,              # 設置學習率，這裡使用 2e-5，通常較小的學習率更適合微調預訓練模型。\\\\n\\\",\\\"    per_device_train_batch_size=4,   # 設定每個裝置（如每張 GPU）的訓練批次大小為 4。\\\\n\\\",\\\"    per_device_eval_batch_size=4,    # 設定每個裝置的評估批次大小為 4。\\\\n\\\",\\\"    num_train_epochs=3,              # 訓練輪次設定為 3，模型將完整遍歷訓練集三次。\\\\n\\\",\\\"    weight_decay=0.01,               # 設置權重衰減（L2正則化）參數，這裡為 0.01，用於防止過擬合。\\\\n\\\",\\\"    logging_dir=\\\\\\\"./logs\\\\\\\",            # 日誌存放目錄，用於儲存 TensorBoard 或其他日誌。\\\\n\\\",\\\"    logging_steps=10,                # 設置每 10 個步驟記錄一次訓練信息，便於監控訓練過程。\\\\n\\\",\\\"    report_to=\\\\\\\"none\\\\\\\",                 # 不將訓練日誌發送到任何平臺（如 TensorBoard），可以改為 \\\\\\\"tensorboard\\\\\\\" 以啟用。\\\\n\\\",\\\")\\\"]},{\\\"cell_type\\\":\\\"code\\\",\\\"execution_count\\\":null,\\\"metadata\\\":{\\\"id\\\":\\\"lqJBOVlQtZzx\\\"},\\\"outputs\\\":[],\\\"source\\\":[\\\"from sklearn.metrics import accuracy_score, precision_recall_fscore_support\\\\n\\\",\\\"import numpy as np\\\\n\\\",\\\"\\\\n\\\",\\\"\\\\\\\"\\\\\\\"\\\\\\\"\\\\n\\\",\\\"為什麼需要這些評估指標？\\\\n\\\",\\\"\\\\n\\\",\\\"1. Accuracy (準確率)\\\\n\\\",\\\"   公式：(預測正確的樣本數) / (總樣本數)\\\\n\\\",\\\"   優點：直觀易懂\\\\n\\\",\\\"   缺點：在類別不平衡時會誤導\\\\n\\\",\\\"\\\\n\\\",\\\"2. Precision (精確率)\\\\n\\\",\\\"   公式：(真正例) / (真正例 + 假正例)\\\\n\\\",\\\"   意義：預測為正例的樣本中，真正為正例的比例\\\\n\\\",\\\"   應用：當誤報代價高時重視精確率\\\\n\\\",\\\"\\\\n\\\",\\\"3. Recall (召回率)\\\\n\\\",\\\"   公式：(真正例) / (真正例 + 假負例)\\\\n\\\",\\\"   意義：所有正例中，被正確預測的比例\\\\n\\\",\\\"   應用：當漏報代價高時重視召回率\\\\n\\\",\\\"\\\\n\\\",\\\"4. F1-score (F1分數)\\\\n\\\",\\\"   公式：2 * (Precision * Recall) / (Precision + Recall)\\\\n\\\",\\\"   意義：精確率和召回率的調和平均\\\\n\\\",\\\"   優點：綜合考慮兩者，適合類別不平衡\\\\n\\\",\\\"\\\\n\\\",\\\"為什麼使用 average=\\\\\\\"weighted\\\\\\\"？\\\\n\\\",\\\"- 根據每個類別的樣本數加權平均\\\\n\\\",\\\"- 考慮類別不平衡的影響\\\\n\\\",\\\"- 更能反映整體表現\\\\n\\\",\\\"\\\\n\\\",\\\"在金融情緒分析中的重要性：\\\\n\\\",\\\"- Precision 高：減少誤判（例如誤把中性當成正面）\\\\n\\\",\\\"- Recall 高：不錯過重要信號（例如不漏掉負面新聞）\\\\n\\\",\\\"- F1-score 高：整體表現好\\\\n\\\",\\\"\\\\\\\"\\\\\\\"\\\\\\\"\\\\n\\\",\\\"\\\\n\\\",\\\"def compute_metrics(pred):\\\\n\\\",\\\"    labels = pred.label_ids  # 取得真實值的id\\\\n\\\",\\\"    preds = np.argmax(pred.predictions, axis=1)  # 預測值找到最高機率的索引\\\\n\\\",\\\"    accuracy = accuracy_score(labels, preds)  # 計算準確率\\\\n\\\",\\\"    precision, recall, f1, _ = precision_recall_fscore_support(labels, preds, average=\\\\\\\"weighted\\\\\\\")  # 計算其他指標\\\\n\\\",\\\"    return {\\\\\\\"accuracy\\\\\\\": accuracy, \\\\\\\"precision\\\\\\\": precision, \\\\\\\"recall\\\\\\\": recall, \\\\\\\"f1\\\\\\\": f1}\\\"]},{\\\"cell_type\\\":\\\"code\\\",\\\"execution_count\\\":null,\\\"metadata\\\":{\\\"colab\\\":{\\\"base_uri\\\":\\\"https://localhost:8080/\\\",\\\"height\\\":204},\\\"id\\\":\\\"AJHPmtdQtgyc\\\",\\\"outputId\\\":\\\"d253c826-4a63-4769-933d-755e0c4cb4af\\\",\\\"executionInfo\\\":{\\\"status\\\":\\\"ok\\\",\\\"timestamp\\\":1761790881661,\\\"user_tz\\\":-480,\\\"elapsed\\\":1048803,\\\"user\\\":{\\\"displayName\\\":\\\"張景陽\\\",\\\"userId\\\":\\\"17990199239061367823\\\"}}},\\\"outputs\\\":[{\\\"output_type\\\":\\\"display_data\\\",\\\"data\\\":{\\\"text/plain\\\":[\\\"<IPython.core.display.HTML object>\\\"],\\\"text/html\\\":[\\\"\\\\n\\\",\\\"    <div>\\\\n\\\",\\\"      \\\\n\\\",\\\"      <progress value='2328' max='2328' style='width:300px; height:20px; vertical-align: middle;'></progress>\\\\n\\\",\\\"      [2328/2328 17:22, Epoch 3/3]\\\\n\\\",\\\"    </div>\\\\n\\\",\\\"    <table border=\\\\\\\"1\\\\\\\" class=\\\\\\\"dataframe\\\\\\\">\\\\n\\\",\\\"  <thead>\\\\n\\\",\\\" <tr style=\\\\\\\"text-align: left;\\\\\\\">\\\\n\\\",\\\"      <th>Epoch</th>\\\\n\\\",\\\"      <th>Training Loss</th>\\\\n\\\",\\\"      <th>Validation Loss</th>\\\\n\\\",\\\"      <th>Accuracy</th>\\\\n\\\",\\\"      <th>Precision</th>\\\\n\\\",\\\"      <th>Recall</th>\\\\n\\\",\\\"      <th>F1</th>\\\\n\\\",\\\"    </tr>\\\\n\\\",\\\"  </thead>\\\\n\\\",\\\"  <tbody>\\\\n\\\",\\\"    <tr>\\\\n\\\",\\\"      <td>1</td>\\\\n\\\",\\\"      <td>0.363100</td>\\\\n\\\",\\\"      <td>0.567214</td>\\\\n\\\",\\\"      <td>0.845361</td>\\\\n\\\",\\\"      <td>0.845585</td>\\\\n\\\",\\\"      <td>0.845361</td>\\\\n\\\",\\\"      <td>0.844905</td>\\\\n\\\",\\\"    </tr>\\\\n\\\",\\\"    <tr>\\\\n\\\",\\\"      <td>2</td>\\\\n\\\",\\\"      <td>0.422300</td>\\\\n\\\",\\\"      <td>0.671184</td>\\\\n\\\",\\\"      <td>0.856959</td>\\\\n\\\",\\\"      <td>0.858802</td>\\\\n\\\",\\\"      <td>0.856959</td>\\\\n\\\",\\\"      <td>0.857374</td>\\\\n\\\",\\\"    </tr>\\\\n\\\",\\\"    <tr>\\\\n\\\",\\\"      <td>3</td>\\\\n\\\",\\\"      <td>0.085500</td>\\\\n\\\",\\\"      <td>0.779432</td>\\\\n\\\",\\\"      <td>0.853093</td>\\\\n\\\",\\\"      <td>0.856704</td>\\\\n\\\",\\\"      <td>0.853093</td>\\\\n\\\",\\\"      <td>0.854056</td>\\\\n\\\",\\\"    </tr>\\\\n\\\",\\\"  </tbody>\\\\n\\\",\\\"</table><p>\\\"]},\\\"metadata\\\":{}},{\\\"output_type\\\":\\\"execute_result\\\",\\\"data\\\":{\\\"text/plain\\\":[\\\"TrainOutput(global_step=2328, training_loss=0.3789487303577882, metrics={'train_runtime': 1044.3342, 'train_samples_per_second': 8.908, 'train_steps_per_second': 2.229, 'total_flos': 2447744125123584.0, 'train_loss': 0.3789487303577882, 'epoch': 3.0})\\\"]},\\\"metadata\\\":{},\\\"execution_count\\\":14}],\\\"source\\\":[\\\"from transformers import Trainer\\\\n\\\",\\\"\\\\n\\\",\\\"\\\\\\\"\\\\\\\"\\\\\\\"\\\\n\\\",\\\"Trainer 類別的作用：\\\\n\\\",\\\"- 封裝了完整的訓練流程\\\\n\\\",\\\"- 自動處理：\\\\n\\\",\\\"  ✓ 梯度計算和參數更新\\\\n\\\",\\\"  ✓ 批次資料載入\\\\n\\\",\\\"  ✓ 學習率調整\\\\n\\\",\\\"  ✓ 驗證集評估\\\\n\\\",\\\"  ✓ Checkpoint 儲存\\\\n\\\",\\\"  ✓ 日誌記錄\\\\n\\\",\\\"\\\\n\\\",\\\"為什麼使用高階 API？\\\\n\\\",\\\"- 減少樣板代碼(boilerplate code)\\\\n\\\",\\\"- 避免常見錯誤\\\\n\\\",\\\"- 專注於模型和資料\\\\n\\\",\\\"- 便於快速實驗\\\\n\\\",\\\"\\\\n\\\",\\\"訓練過程中會發生什麼？\\\\n\\\",\\\"1. 前向傳播(Forward pass)\\\\n\\\",\\\"   - 輸入資料經過模型，得到預測結果\\\\n\\\",\\\"\\\\n\\\",\\\"2. 計算損失(Loss calculation)\\\\n\\\",\\\"   - 比較預測結果和真實標籤\\\\n\\\",\\\"   - 使用交叉熵損失(Cross-entropy loss)\\\\n\\\",\\\"\\\\n\\\",\\\"3. 反向傳播(Backward pass)\\\\n\\\",\\\"   - 計算損失對參數的梯度\\\\n\\\",\\\"\\\\n\\\",\\\"4. 參數更新(Parameter update)\\\\n\\\",\\\"   - 使用梯度和學習率更新參數\\\\n\\\",\\\"   - 優化器：AdamW (Adam with weight decay)\\\\n\\\",\\\"\\\\n\\\",\\\"5. 驗證評估(Validation)\\\\n\\\",\\\"   - 每個 epoch 結束後在驗證集上評估\\\\n\\\",\\\"   - 不更新參數，只計算指標\\\\n\\\",\\\"\\\\\\\"\\\\\\\"\\\\\\\"\\\\n\\\",\\\"\\\\n\\\",\\\"trainer = Trainer(\\\\n\\\",\\\"    model=model,\\\\n\\\",\\\"    args=training_args,\\\\n\\\",\\\"    train_dataset=tokenized_train,  # 使用訓練集\\\\n\\\",\\\"    eval_dataset=tokenized_val,     # 使用驗證集（從訓練集切出來的）\\\\n\\\",\\\"    compute_metrics=compute_metrics,\\\\n\\\",\\\")\\\\n\\\",\\\"\\\\n\\\",\\\"# 開始訓練\\\\n\\\",\\\"trainer.train()\\\"]},{\\\"cell_type\\\":\\\"markdown\\\",\\\"metadata\\\":{\\\"id\\\":\\\"O2CSuye8NPbm\\\"},\\\"source\\\":[\\\"### <b>結果評估</b>\\\"]},{\\\"cell_type\\\":\\\"code\\\",\\\"execution_count\\\":null,\\\"metadata\\\":{\\\"id\\\":\\\"QUKztZcotkI7\\\",\\\"colab\\\":{\\\"base_uri\\\":\\\"https://localhost:8080/\\\",\\\"height\\\":109},\\\"executionInfo\\\":{\\\"status\\\":\\\"ok\\\",\\\"timestamp\\\":1761790905271,\\\"user_tz\\\":-480,\\\"elapsed\\\":23608,\\\"user\\\":{\\\"displayName\\\":\\\"張景陽\\\",\\\"userId\\\":\\\"17990199239061367823\\\"}},\\\"outputId\\\":\\\"b058fa0c-19df-433c-f510-e998e37232e4\\\"},\\\"outputs\\\":[{\\\"output_type\\\":\\\"stream\\\",\\\"name\\\":\\\"stdout\\\",\\\"text\\\":[\\\"\\\\n\\\",\\\"=== 驗證集評估結果 ===\\\\n\\\"]},{\\\"output_type\\\":\\\"display_data\\\",\\\"data\\\":{\\\"text/plain\\\":[\\\"<IPython.core.display.HTML object>\\\"],\\\"text/html\\\":[\\\"\\\\n\\\",\\\"    <div>\\\\n\\\",\\\"      \\\\n\\\",\\\"      <progress value='194' max='194' style='width:300px; height:20px; vertical-align: middle;'></progress>\\\\n\\\",\\\"      [194/194 00:23]\\\\n\\\",\\\"    </div>\\\\n\\\",\\\"    \\\"]},\\\"metadata\\\":{}},{\\\"output_type\\\":\\\"stream\\\",\\\"name\\\":\\\"stdout\\\",\\\"text\\\":[\\\"{'eval_loss': 0.779431939125061, 'eval_accuracy': 0.8530927835051546, 'eval_precision': 0.856703938909129, 'eval_recall': 0.8530927835051546, 'eval_f1': 0.8540564523421957, 'eval_runtime': 23.5995, 'eval_samples_per_second': 32.882, 'eval_steps_per_second': 8.221, 'epoch': 3.0}\\\\n\\\"]}],\\\"source\\\":[\\\"# 評估模型在驗證集的表現\\\\n\\\",\\\"\\\\n\\\",\\\"print(\\\\\\\"\\\\\\\\n=== 驗證集評估結果 ===\\\\\\\")\\\\n\\\",\\\"val_result = trainer.evaluate(eval_dataset=tokenized_val)\\\\n\\\",\\\"print(val_result)\\\"]},{\\\"cell_type\\\":\\\"code\\\",\\\"execution_count\\\":null,\\\"metadata\\\":{\\\"id\\\":\\\"0-jwOnoGwA5r\\\",\\\"colab\\\":{\\\"base_uri\\\":\\\"https://localhost:8080/\\\",\\\"height\\\":109},\\\"executionInfo\\\":{\\\"status\\\":\\\"ok\\\",\\\"timestamp\\\":1761790934162,\\\"user_tz\\\":-480,\\\"elapsed\\\":28886,\\\"user\\\":{\\\"displayName\\\":\\\"張景陽\\\",\\\"userId\\\":\\\"17990199239061367823\\\"}},\\\"outputId\\\":\\\"a9d47e05-d848-4541-bc12-a21ef06d8d6c\\\"},\\\"outputs\\\":[{\\\"output_type\\\":\\\"stream\\\",\\\"name\\\":\\\"stdout\\\",\\\"text\\\":[\\\"\\\\n\\\",\\\"=== 測試集評估結果（最終評估）===\\\\n\\\"]},{\\\"output_type\\\":\\\"display_data\\\",\\\"data\\\":{\\\"text/plain\\\":[\\\"<IPython.core.display.HTML object>\\\"],\\\"text/html\\\":[\\\"\\\\n\\\",\\\"    <div>\\\\n\\\",\\\"      \\\\n\\\",\\\"      <progress value='437' max='194' style='width:300px; height:20px; vertical-align: middle;'></progress>\\\\n\\\",\\\"      [194/194 00:52]\\\\n\\\",\\\"    </div>\\\\n\\\",\\\"    \\\"]},\\\"metadata\\\":{}},{\\\"output_type\\\":\\\"stream\\\",\\\"name\\\":\\\"stdout\\\",\\\"text\\\":[\\\"{'eval_loss': 0.6918463110923767, 'eval_accuracy': 0.8648090815273478, 'eval_precision': 0.8650427574852284, 'eval_recall': 0.8648090815273478, 'eval_f1': 0.8649156086688915, 'eval_runtime': 28.8737, 'eval_samples_per_second': 33.56, 'eval_steps_per_second': 8.416, 'epoch': 3.0}\\\\n\\\"]}],\\\"source\\\":[\\\"# 評估模型在測試集的表現（最終評估）\\\\n\\\",\\\"print(\\\\\\\"\\\\\\\\n=== 測試集評估結果（最終評估）===\\\\\\\")\\\\n\\\",\\\"test_result = trainer.evaluate(eval_dataset=tokenized_test)\\\\n\\\",\\\"print(test_result)\\\"]},{\\\"cell_type\\\":\\\"markdown\\\",\\\"metadata\\\":{\\\"id\\\":\\\"PSgCkDKhwF_o\\\"},\\\"source\\\":[\\\"### <b2>使用測試集進行預測展示</b>\\\\n\\\"]},{\\\"cell_type\\\":\\\"code\\\",\\\"execution_count\\\":null,\\\"metadata\\\":{\\\"id\\\":\\\"V5ypsiDh1ACF\\\",\\\"colab\\\":{\\\"base_uri\\\":\\\"https://localhost:8080/\\\"},\\\"executionInfo\\\":{\\\"status\\\":\\\"ok\\\",\\\"timestamp\\\":1761790934225,\\\"user_tz\\\":-480,\\\"elapsed\\\":50,\\\"user\\\":{\\\"displayName\\\":\\\"張景陽\\\",\\\"userId\\\":\\\"17990199239061367823\\\"}},\\\"outputId\\\":\\\"a71ef589-c90b-4a27-9edb-41888482c8e6\\\"},\\\"outputs\\\":[{\\\"output_type\\\":\\\"stream\\\",\\\"name\\\":\\\"stdout\\\",\\\"text\\\":[\\\"\\\\n\\\",\\\"=== 測試集句子展示 ===\\\\n\\\",\\\"以下是測試集中的前 50 個句子：\\\\n\\\",\\\"\\\\n\\\",\\\"[0] TeliaSonera TLSN said the offer is in line with its strategy to increase its ownership in core business holdings and would strengthen Eesti Telekom 's offering to its customers .\\\\n\\\",\\\"    真實標籤：Positive\\\\n\\\",\\\"\\\\n\\\",\\\"[1] STORA ENSO , NORSKE SKOG , M-REAL , UPM-KYMMENE Credit Suisse First Boston ( CFSB ) raised the fair value for shares in four of the largest Nordic forestry groups .\\\\n\\\",\\\"    真實標籤：Positive\\\\n\\\",\\\"\\\\n\\\",\\\"[2] Clothing retail chain Sepp+ñl+ñ 's sales increased by 8 % to EUR 155.2 mn , and operating profit rose to EUR 31.1 mn from EUR 17.1 mn in 2004 .\\\\n\\\",\\\"    真實標籤：Positive\\\\n\\\",\\\"\\\\n\\\",\\\"[3] Lifetree was founded in 2000 , and its revenues have risen on an average by 40 % with margins in late 30s .\\\\n\\\",\\\"    真實標籤：Positive\\\\n\\\",\\\"\\\\n\\\",\\\"[4] Nordea Group 's operating profit increased in 2010 by 18 percent year-on-year to 3.64 billion euros and total revenue by 3 percent to 9.33 billion euros .\\\\n\\\",\\\"    真實標籤：Positive\\\\n\\\",\\\"\\\\n\\\",\\\"[5] Operating profit for the nine-month period increased from EUR3 .1 m and net sales increased from EUR61 .5 m , as compared to the corresponding period in 2007 .\\\\n\\\",\\\"    真實標籤：Positive\\\\n\\\",\\\"\\\\n\\\",\\\"[6] The Lithuanian beer market made up 14.41 million liters in January , a rise of 0.8 percent from the year-earlier figure , the Lithuanian Brewers ' Association reporting citing the results from its members .\\\\n\\\",\\\"    真實標籤：Positive\\\\n\\\",\\\"\\\\n\\\",\\\"[7] In January-September 2010 , Fiskars ' net profit went up by 14 % year-on-year to EUR 65.4 million and net sales to EUR 525.3 million from EUR 487.7 million .\\\\n\\\",\\\"    真實標籤：Positive\\\\n\\\",\\\"\\\\n\\\",\\\"[8] Net income from life insurance rose to EUR 16.5 mn from EUR 14.0 mn , and net income from non-life insurance to EUR 22.6 mn from EUR 15.2 mn in 2009 .\\\\n\\\",\\\"    真實標籤：Positive\\\\n\\\",\\\"\\\\n\\\",\\\"[9] Nyrstar has also agreed to supply to Talvivaara up to 150,000 tonnes of sulphuric acid per annum for use in Talvivaara 's leaching process during the period of supply of the zinc in concentrate .\\\\n\\\",\\\"    真實標籤：Positive\\\\n\\\",\\\"\\\\n\\\",\\\"[10] The agreement strengthens our long-term partnership with Nokia Siemens Networks .\\\\n\\\",\\\"    真實標籤：Positive\\\\n\\\",\\\"\\\\n\\\",\\\"[11] KESKO CORPORATION STOCK EXCHANGE RELEASE 28.02.2008 AT 09.30 1 ( 1 ) Kesko Corporation and Aspo plc today signed an agreement by which Aspo acquires the share capital of Kauko-Telko Ltd , a subsidiary wholly owned by Kesko .\\\\n\\\",\\\"    真實標籤：Positive\\\\n\\\",\\\"\\\\n\\\",\\\"[12] The OMX Helsinki 25 index was up 0.92 pct at 2,518.67 and the Helsinki CAP portfolio index was 0.91 pct higher at 4,711.19 .\\\\n\\\",\\\"    真實標籤：Positive\\\\n\\\",\\\"\\\\n\\\",\\\"[13] Tiimari operates 194 stores in six countries -- including its core Finnish market -- and generated a turnover of 76.5 mln eur in 2005 .\\\\n\\\",\\\"    真實標籤：Neutral\\\\n\\\",\\\"\\\\n\\\",\\\"[14] Under this agreement Biohit becomes a focus supplier of pipettors and disposable pipettor tips to VWR customers throughout Europe .\\\\n\\\",\\\"    真實標籤：Positive\\\\n\\\",\\\"\\\\n\\\",\\\"[15] Adjusted for changes in the Group structure , the Division 's net sales increased by 1.7 % .\\\\n\\\",\\\"    真實標籤：Positive\\\\n\\\",\\\"\\\\n\\\",\\\"[16] Finnish Aktia Group 's operating profit rose to EUR 17.5 mn in the first quarter of 2010 from EUR 8.2 mn in the first quarter of 2009 .\\\\n\\\",\\\"    真實標籤：Positive\\\\n\\\",\\\"\\\\n\\\",\\\"[17] Finnish high technology provider Vaahto Group reports net sales of EUR 41.8 mn in the accounting period September 2007 - February 2008 , an increase of 11.2 % from a year earlier .\\\\n\\\",\\\"    真實標籤：Positive\\\\n\\\",\\\"\\\\n\\\",\\\"[18] Biohit already services many current Genesis customers and the customer base is expected to expand as a result of this agreement .\\\\n\\\",\\\"    真實標籤：Positive\\\\n\\\",\\\"\\\\n\\\",\\\"[19] Circulation revenue has increased by 5 % in Finland and 4 % in Sweden in 2008 .\\\\n\\\",\\\"    真實標籤：Positive\\\\n\\\",\\\"\\\\n\\\",\\\"[20] In 2009 , Fiskars ' cash flow from operating activities amounted to EUR121m , up from EUR97m in the previous year .\\\\n\\\",\\\"    真實標籤：Positive\\\\n\\\",\\\"\\\\n\\\",\\\"[21] Operating profit margin increased from 11.2 % to 11.7 % .\\\\n\\\",\\\"    真實標籤：Positive\\\\n\\\",\\\"\\\\n\\\",\\\"[22] The circuit 's overall production rate on a weekly basis is now in excess of an average of 40,000 tonnes per day , with volumes in excess of 50,000 tonnes per day being reached on individual days .\\\\n\\\",\\\"    真實標籤：Positive\\\\n\\\",\\\"\\\\n\\\",\\\"[23] The last quarter was the best quarter of 2009 in net sales , and the operating margin rose to 12.2 % .\\\\n\\\",\\\"    真實標籤：Positive\\\\n\\\",\\\"\\\\n\\\",\\\"[24] The transaction doubles Tecnomens workforse , and adds a fourth to their net sales .\\\\n\\\",\\\"    真實標籤：Positive\\\\n\\\",\\\"\\\\n\\\",\\\"[25] `` The priority for 2009 was to strengthen the company 's balance sheet and increase cash flow , '' CEO Hannu Krook said .\\\\n\\\",\\\"    真實標籤：Positive\\\\n\\\",\\\"\\\\n\\\",\\\"[26] A structures BIM ( building information modeling ) software from Tekla , a model-based software provider , has been adopted for the construction management and delivery of a university project in Abu Dhabi .\\\\n\\\",\\\"    真實標籤：Neutral\\\\n\\\",\\\"\\\\n\\\",\\\"[27] According to Finnish Metso Minerals , the value of the company 's orders has gone up to EUR 1.9 bn in 12 months .\\\\n\\\",\\\"    真實標籤：Positive\\\\n\\\",\\\"\\\\n\\\",\\\"[28] Finnish forest machinery manufacturer Ponsse 's net sales grew to EUR 51.3 mn in the first quarter of 2010 from EUR 37.5 mn in the corresponding period in 2009 .\\\\n\\\",\\\"    真實標籤：Positive\\\\n\\\",\\\"\\\\n\\\",\\\"[29] Finnish KCI Konecranes has raised its net sales growth estimate for 2006 from over 25 % to over 35 % .\\\\n\\\",\\\"    真實標籤：Positive\\\\n\\\",\\\"\\\\n\\\",\\\"[30] Finnish pharmaceuticals company Orion 's net sales rose to EUR 190mn in the first quarter of 2009 from EUR 180mn in the first quarter of 2008 .\\\\n\\\",\\\"    真實標籤：Positive\\\\n\\\",\\\"\\\\n\\\",\\\"[31] Again , the most significant sales increase of 18.6 % was in Russia .\\\\n\\\",\\\"    真實標籤：Positive\\\\n\\\",\\\"\\\\n\\\",\\\"[32] Also Lemmink+ñinen 's profit for accounting period went up to EUR 3.1 mn from EUR -24.5 mn a year ago .\\\\n\\\",\\\"    真實標籤：Positive\\\\n\\\",\\\"\\\\n\\\",\\\"[33] Besides we have increased the share of meat in various sausages and are offering a number of new tastes in the grill products and shish kebabs segment , '' Paavel said .\\\\n\\\",\\\"    真實標籤：Positive\\\\n\\\",\\\"\\\\n\\\",\\\"[34] Both operating profit and net sales for the three-month period increased , respectively from EUR16 .0 m and EUR139m , as compared to the corresponding quarter in 2006 .\\\\n\\\",\\\"    真實標籤：Positive\\\\n\\\",\\\"\\\\n\\\",\\\"[35] Diluted earnings per share ( EPS ) rose to EUR 3.68 from EUR 0.50 .\\\\n\\\",\\\"    真實標籤：Positive\\\\n\\\",\\\"\\\\n\\\",\\\"[36] Finnish cutlery and hand tools maker Fiskars Oyj Abp ( HEL : FISAS ) said today its net profit rose to EUR 24.1 million ( USD 33.6 m ) in the third quarter of 2010 from EUR 17.9 million a year earlier .\\\\n\\\",\\\"    真實標籤：Positive\\\\n\\\",\\\"\\\\n\\\",\\\"[37] HELSINKI ( AFX ) - Retail and wholesale group Kesko reported net sales of 659.4 mln eur for February , an increase of 10.8 pct year-on-year .\\\\n\\\",\\\"    真實標籤：Positive\\\\n\\\",\\\"\\\\n\\\",\\\"[38] In December alone , the members of the Lithuanian Brewers ' Association sold a total of 20.3 million liters of beer , an increase of 1.9 percent from the sales of 19.92 million liters in December 2004 .\\\\n\\\",\\\"    真實標籤：Positive\\\\n\\\",\\\"\\\\n\\\",\\\"[39] In Sweden , operating profit for the period under review totaled EUR 3.4 mn , up 30.8 % from the corresponding period in 2005 .\\\\n\\\",\\\"    真實標籤：Positive\\\\n\\\",\\\"\\\\n\\\",\\\"[40] In the second quarter of 2010 , the group 's net profit rose to EUR 3.1 million from EUR 2.5 million in April-June 2009 .\\\\n\\\",\\\"    真實標籤：Positive\\\\n\\\",\\\"\\\\n\\\",\\\"[41] Its market share widened to 48.51 percent from 48.31 percent a year earlier .\\\\n\\\",\\\"    真實標籤：Positive\\\\n\\\",\\\"\\\\n\\\",\\\"[42] ( ADP News ) - Feb 11 , 2009 - Finnish management software solutions provider Ixonos Oyj ( HEL : XNS1V ) said today its net profit rose to EUR 3.5 million ( USD 4.5 m ) for 2008 from EUR 3.1 million for 2007 .\\\\n\\\",\\\"    真實標籤：Positive\\\\n\\\",\\\"\\\\n\\\",\\\"[43] ( ADP News ) - Feb 6 , 2009 - Finnish fishing tackle company Rapala VMC Corp ( HEL : RAP1V ) said today its net profit rose to EUR 19.2 million ( USD 24.6 m ) for 2008 from EUR 17.5 million for 2007 .\\\\n\\\",\\\"    真實標籤：Positive\\\\n\\\",\\\"\\\\n\\\",\\\"[44] ( ADP News ) - Oct 29 , 2008 - Finnish lifting equipment maker Konecranes Oyj ( OMX : KCR1V ) said today that its net profit rose to EUR 116.6 million ( USD 149.1 m ) in the first nine months of 2008 from EUR 73.6 million for the s\\\\n\\\",\\\"    真實標籤：Positive\\\\n\\\",\\\"\\\\n\\\",\\\"[45] Net interest income increased by 4.5 % to EUR 31.4 mn from EUR 30.0 mn in 2004 .\\\\n\\\",\\\"    真實標籤：Positive\\\\n\\\",\\\"\\\\n\\\",\\\"[46] Operating income rose to EUR 696.4 mn from EUR 600.3 mn in 2009 .\\\\n\\\",\\\"    真實標籤：Positive\\\\n\\\",\\\"\\\\n\\\",\\\"[47] Operating profit rose to EUR 13.5 mn from EUR 9.7 mn in the corresponding period in 2006 .\\\\n\\\",\\\"    真實標籤：Positive\\\\n\\\",\\\"\\\\n\\\",\\\"[48] Operating profit rose to EUR 4.7 mn from EUR 4.6 mn .\\\\n\\\",\\\"    真實標籤：Positive\\\\n\\\",\\\"\\\\n\\\",\\\"[49] Operating profit totaled EUR 37,7 mn , up slightly from EUR 37.2 mn in the corresponding period in 2006 .\\\\n\\\",\\\"    真實標籤：Positive\\\\n\\\",\\\"\\\\n\\\"]}],\\\"source\\\":[\\\"# 先展示測試集中的句子，讓學生了解有哪些資料\\\\n\\\",\\\"print(\\\\\\\"\\\\\\\\n=== 測試集句子展示 ===\\\\\\\")\\\\n\\\",\\\"print(\\\\\\\"以下是測試集中的前 50 個句子：\\\\\\\\n\\\\\\\")\\\\n\\\",\\\"\\\\n\\\",\\\"label_map = {0: \\\\\\\"Negative\\\\\\\", 1: \\\\\\\"Neutral\\\\\\\", 2: \\\\\\\"Positive\\\\\\\"}\\\\n\\\",\\\"\\\\n\\\",\\\"for i in range(50):\\\\n\\\",\\\"    sentence = test_dataset[i][\\\\\\\"sentence\\\\\\\"]\\\\n\\\",\\\"    label = test_dataset[i][\\\\\\\"label\\\\\\\"]\\\\n\\\",\\\"    print(f\\\\\\\"[{i}] {sentence}\\\\\\\")\\\\n\\\",\\\"    print(f\\\\\\\"    真實標籤：{label_map[label]}\\\\\\\\n\\\\\\\")\\\"]},{\\\"cell_type\\\":\\\"code\\\",\\\"execution_count\\\":null,\\\"metadata\\\":{\\\"id\\\":\\\"ZmWdctbTwO_f\\\",\\\"colab\\\":{\\\"base_uri\\\":\\\"https://localhost:8080/\\\"},\\\"executionInfo\\\":{\\\"status\\\":\\\"ok\\\",\\\"timestamp\\\":1761790934283,\\\"user_tz\\\":-480,\\\"elapsed\\\":57,\\\"user\\\":{\\\"displayName\\\":\\\"張景陽\\\",\\\"userId\\\":\\\"17990199239061367823\\\"}},\\\"outputId\\\":\\\"3c709313-226d-479b-b55f-6bdcd3e25af2\\\"},\\\"outputs\\\":[{\\\"output_type\\\":\\\"stream\\\",\\\"name\\\":\\\"stdout\\\",\\\"text\\\":[\\\"\\\\n\\\",\\\"你選擇測試的句子索引：[0, 9, 11, 7, 8]\\\\n\\\",\\\"\\\\n\\\",\\\"=== 開始預測 ===\\\\n\\\",\\\"\\\\n\\\",\\\"你選擇的 5 個句子的預測結果：\\\\n\\\",\\\"\\\\n\\\",\\\"1. 測試集索引 [0]\\\\n\\\",\\\"   句子：TeliaSonera TLSN said the offer is in line with its strategy to increase its ownership in core business holdings and would strengthen Eesti Telekom 's offering to its customers .\\\\n\\\",\\\"   真實標籤：Positive\\\\n\\\",\\\"   預測標籤：Positive\\\\n\\\",\\\"   結果：✓ 正確\\\\n\\\",\\\"\\\\n\\\",\\\"2. 測試集索引 [9]\\\\n\\\",\\\"   句子：Nyrstar has also agreed to supply to Talvivaara up to 150,000 tonnes of sulphuric acid per annum for use in Talvivaara 's leaching process during the period of supply of the zinc in concentrate .\\\\n\\\",\\\"   真實標籤：Positive\\\\n\\\",\\\"   預測標籤：Positive\\\\n\\\",\\\"   結果：✓ 正確\\\\n\\\",\\\"\\\\n\\\",\\\"3. 測試集索引 [11]\\\\n\\\",\\\"   句子：KESKO CORPORATION STOCK EXCHANGE RELEASE 28.02.2008 AT 09.30 1 ( 1 ) Kesko Corporation and Aspo plc today signed an agreement by which Aspo acquires the share capital of Kauko-Telko Ltd , a subsidiary wholly owned by Kesko .\\\\n\\\",\\\"   真實標籤：Positive\\\\n\\\",\\\"   預測標籤：Positive\\\\n\\\",\\\"   結果：✓ 正確\\\\n\\\",\\\"\\\\n\\\",\\\"4. 測試集索引 [7]\\\\n\\\",\\\"   句子：In January-September 2010 , Fiskars ' net profit went up by 14 % year-on-year to EUR 65.4 million and net sales to EUR 525.3 million from EUR 487.7 million .\\\\n\\\",\\\"   真實標籤：Positive\\\\n\\\",\\\"   預測標籤：Positive\\\\n\\\",\\\"   結果：✓ 正確\\\\n\\\",\\\"\\\\n\\\",\\\"5. 測試集索引 [8]\\\\n\\\",\\\"   句子：Net income from life insurance rose to EUR 16.5 mn from EUR 14.0 mn , and net income from non-life insurance to EUR 22.6 mn from EUR 15.2 mn in 2009 .\\\\n\\\",\\\"   真實標籤：Positive\\\\n\\\",\\\"   預測標籤：Positive\\\\n\\\",\\\"   結果：✓ 正確\\\\n\\\",\\\"\\\\n\\\",\\\"準確率：5/5 = 100.00%\\\\n\\\"]}],\\\"source\\\":[\\\"# 請從上面顯示的測試集句子中，選擇你想要測試的句子索引\\\\n\\\",\\\"#\\\\n\\\",\\\"# 選擇特定的句子索引\\\\n\\\",\\\"# 例如：test_indices = [0, 5, 10, 15, 19]\\\\n\\\",\\\"#\\\\n\\\",\\\"# 提示：\\\\n\\\",\\\"# - 可以選擇不同情緒的句子來測試\\\\n\\\",\\\"# - 觀察模型在哪些句子上預測正確，哪些預測錯誤\\\\n\\\",\\\"# - 思考為什麼模型會預測錯誤\\\\n\\\",\\\"\\\\n\\\",\\\"test_indices = [0, 9, 11, 7, 8]  # 請修改這裡！選擇你想測試的句子索引\\\\n\\\",\\\"\\\\n\\\",\\\"print(f\\\\\\\"\\\\\\\\n你選擇測試的句子索引：{test_indices}\\\\\\\")\\\\n\\\",\\\"# ============================================================================\\\\n\\\",\\\"\\\\n\\\",\\\"# 根據選擇的索引，取得測試句子\\\\n\\\",\\\"test_texts = [test_dataset[i][\\\\\\\"sentence\\\\\\\"] for i in test_indices]\\\\n\\\",\\\"true_labels = [test_dataset[i][\\\\\\\"label\\\\\\\"] for i in test_indices]\\\\n\\\",\\\"\\\\n\\\",\\\"print(\\\\\\\"\\\\\\\\n=== 開始預測 ===\\\\\\\\n\\\\\\\")\\\\n\\\",\\\"\\\\n\\\",\\\"\\\\\\\"\\\\\\\"\\\\\\\"\\\\n\\\",\\\"預測流程說明：\\\\n\\\",\\\"\\\\n\\\",\\\"1. 取得測試句子和真實標籤\\\\n\\\",\\\"   - 根據選擇的索引提取句子\\\\n\\\",\\\"\\\\n\\\",\\\"2. Tokenization\\\\n\\\",\\\"   - 將句子轉換成模型輸入格式\\\\n\\\",\\\"   - return_tensors=\\\\\\\"pt\\\\\\\" 返回 PyTorch tensor\\\\n\\\",\\\"\\\\n\\\",\\\"3. 模型推理\\\\n\\\",\\\"   - 將 tokenized 資料輸入模型\\\\n\\\",\\\"   - 得到 logits（未標準化的分數）\\\\n\\\",\\\"\\\\n\\\",\\\"4. 預測類別\\\\n\\\",\\\"   - 使用 argmax 取得分數最高的類別\\\\n\\\",\\\"   - 轉換回 CPU 以便後續處理\\\\n\\\",\\\"\\\\n\\\",\\\"5. 結果展示\\\\n\\\",\\\"   - 顯示原始句子、真實標籤、預測標籤\\\\n\\\",\\\"   - 標記預測是否正確\\\\n\\\",\\\"   - 計算準確率\\\\n\\\",\\\"\\\\\\\"\\\\\\\"\\\\\\\"\\\\n\\\",\\\"\\\\n\\\",\\\"# Tokenize 測試句子\\\\n\\\",\\\"test_encodings = tokenizer(test_texts, truncation=True, padding=True, return_tensors=\\\\\\\"pt\\\\\\\").to(device)\\\\n\\\",\\\"outputs = model(**test_encodings)\\\\n\\\",\\\"\\\\n\\\",\\\"# 取得預測結果\\\\n\\\",\\\"preds = torch.argmax(outputs.logits, dim=1).cpu().numpy()  # 將結果轉回 CPU 以便處理\\\\n\\\",\\\"\\\\n\\\",\\\"# 顯示預測結果\\\\n\\\",\\\"predicted_labels = [label_map[pred] for pred in preds]\\\\n\\\",\\\"true_labels_text = [label_map[label] for label in true_labels]\\\\n\\\",\\\"\\\\n\\\",\\\"# 計算準確率\\\\n\\\",\\\"correct = sum([1 for true, pred in zip(true_labels_text, predicted_labels) if true == pred])\\\\n\\\",\\\"accuracy = correct / len(test_texts) * 100\\\\n\\\",\\\"\\\\n\\\",\\\"print(f\\\\\\\"你選擇的 {len(test_texts)} 個句子的預測結果：\\\\\\\\n\\\\\\\")\\\\n\\\",\\\"\\\\n\\\",\\\"for i, (idx, text, true_label, pred_label) in enumerate(zip(test_indices, test_texts, true_labels_text, predicted_labels)):\\\\n\\\",\\\"    correct_mark = \\\\\\\"✓ 正確\\\\\\\" if true_label == pred_label else \\\\\\\"✗ 錯誤\\\\\\\"\\\\n\\\",\\\"    print(f\\\\\\\"{i+1}. 測試集索引 [{idx}]\\\\\\\")\\\\n\\\",\\\"    print(f\\\\\\\"   句子：{text}\\\\\\\")\\\\n\\\",\\\"    print(f\\\\\\\"   真實標籤：{true_label}\\\\\\\")\\\\n\\\",\\\"    print(f\\\\\\\"   預測標籤：{pred_label}\\\\\\\")\\\\n\\\",\\\"    print(f\\\\\\\"   結果：{correct_mark}\\\\\\\\n\\\\\\\")\\\\n\\\",\\\"\\\\n\\\",\\\"print(f\\\\\\\"準確率：{correct}/{len(test_texts)} = {accuracy:.2f}%\\\\\\\")\\\"]},{\\\"cell_type\\\":\\\"code\\\",\\\"source\\\":[\\\"from google.colab import drive\\\\n\\\",\\\"drive.mount('/content/drive')\\\"],\\\"metadata\\\":{\\\"id\\\":\\\"WprKsN2qKHVA\\\",\\\"colab\\\":{\\\"base_uri\\\":\\\"https://localhost:8080/\\\"},\\\"executionInfo\\\":{\\\"status\\\":\\\"ok\\\",\\\"timestamp\\\":1761795499192,\\\"user_tz\\\":-480,\\\"elapsed\\\":60801,\\\"user\\\":{\\\"displayName\\\":\\\"張景陽\\\",\\\"userId\\\":\\\"17990199239061367823\\\"}},\\\"outputId\\\":\\\"1b33e181-d35f-4e94-cf5e-4dceb76a2b17\\\"},\\\"execution_count\\\":3,\\\"outputs\\\":[{\\\"output_type\\\":\\\"stream\\\",\\\"name\\\":\\\"stdout\\\",\\\"text\\\":[\\\"Mounted at /content/drive\\\\n\\\"]}]},{\\\"cell_type\\\":\\\"code\\\",\\\"source\\\":[\\\"import json, os, re\\\\n\\\",\\\"from google.colab import runtime\\\\n\\\",\\\"\\\\n\\\",\\\"# 🔹 1️⃣ 讓 Colab 強制儲存最新版本\\\\n\\\",\\\"runtime.command('save', '')\\\\n\\\",\\\"\\\\n\\\",\\\"# 🔹 2️⃣ 找到目前正在執行的 notebook 名稱\\\\n\\\",\\\"from IPython.display import Javascript\\\\n\\\",\\\"from google.colab import output\\\\n\\\",\\\"\\\\n\\\",\\\"notebook_name = None\\\\n\\\",\\\"def _notebook_name(name):\\\\n\\\",\\\"    global notebook_name\\\\n\\\",\\\"    notebook_name = name\\\\n\\\",\\\"\\\\n\\\",\\\"output.register_callback('get_ipynb_name', _notebook_name)\\\\n\\\",\\\"display(Javascript('google.colab.kernel.invokeFunction(\\\\\\\"get_ipynb_name\\\\\\\", [document.title], {});'))\\\\n\\\",\\\"\\\\n\\\",\\\"# 等待名稱被取得\\\\n\\\",\\\"import time\\\\n\\\",\\\"time.sleep(2)\\\\n\\\",\\\"\\\\n\\\",\\\"if notebook_name:\\\\n\\\",\\\"    # 去除「 - Colab」等多餘字樣\\\\n\\\",\\\"    notebook_name = re.sub(r' - Colab$', '', notebook_name).strip()\\\\n\\\",\\\"    print(f\\\\\\\"🔍 偵測到 notebook 檔名: {notebook_name}\\\\\\\")\\\\n\\\",\\\"else:\\\\n\\\",\\\"    raise ValueError(\\\\\\\"❌ 無法自動偵測 notebook 名稱，請手動輸入檔案名稱。\\\\\\\")\\\\n\\\",\\\"\\\\n\\\",\\\"# 🔹 3️⃣ 執行清理（假設 notebook 已儲存在 Google Drive/Colab Notebooks）\\\\n\\\",\\\"notebook_path = f\\\\\\\"/content/drive/MyDrive/Colab Notebooks/{notebook_name}.ipynb\\\\\\\"\\\\n\\\",\\\"\\\\n\\\",\\\"print(f\\\\\\\"🧹 準備清理：{notebook_path}\\\\\\\")\\\\n\\\",\\\"\\\\n\\\",\\\"# 開始清除 widgets metadata\\\\n\\\",\\\"with open(notebook_path, \\\\\\\"r\\\\\\\", encoding=\\\\\\\"utf-8\\\\\\\") as f:\\\\n\\\",\\\"    data = json.load(f)\\\\n\\\",\\\"\\\\n\\\",\\\"# 移除最外層 widgets\\\\n\\\",\\\"data.get(\\\\\\\"metadata\\\\\\\", {}).pop(\\\\\\\"widgets\\\\\\\", None)\\\\n\\\",\\\"\\\\n\\\",\\\"# 移除每個 cell 的 widgets 相關資料\\\\n\\\",\\\"for cell in data.get(\\\\\\\"cells\\\\\\\", []):\\\\n\\\",\\\"    cell.get(\\\\\\\"metadata\\\\\\\", {}).pop(\\\\\\\"widgets\\\\\\\", None)\\\\n\\\",\\\"    for output_data in cell.get(\\\\\\\"outputs\\\\\\\", []):\\\\n\\\",\\\"        if \\\\\\\"data\\\\\\\" in output_data and \\\\\\\"application/vnd.jupyter.widget-view+json\\\\\\\" in output_data[\\\\\\\"data\\\\\\\"]:\\\\n\\\",\\\"            del output_data[\\\\\\\"data\\\\\\\"][\\\\\\\"application/vnd.jupyter.widget-view+json\\\\\\\"]\\\\n\\\",\\\"\\\\n\\\",\\\"# 重新儲存\\\\n\\\",\\\"with open(notebook_path, \\\\\\\"w\\\\\\\", encoding=\\\\\\\"utf-8\\\\\\\") as f:\\\\n\\\",\\\"    json.dump(data, f, indent=2, ensure_ascii=False)\\\\n\\\",\\\"\\\\n\\\",\\\"print(f\\\\\\\"清理完成，可安全上傳至 GitHub！ → {notebook_path}\\\\\\\")\\\"],\\\"metadata\\\":{\\\"colab\\\":{\\\"base_uri\\\":\\\"https://localhost:8080/\\\",\\\"height\\\":211},\\\"id\\\":\\\"prJTPy9XLA82\\\",\\\"executionInfo\\\":{\\\"status\\\":\\\"error\\\",\\\"timestamp\\\":1761795144482,\\\"user_tz\\\":-480,\\\"elapsed\\\":40,\\\"user\\\":{\\\"displayName\\\":\\\"張景陽\\\",\\\"userId\\\":\\\"17990199239061367823\\\"}},\\\"outputId\\\":\\\"0ddec0bd-9c59-45be-a28b-6c1a553e41d4\\\"},\\\"execution_count\\\":7,\\\"outputs\\\":[{\\\"output_type\\\":\\\"error\\\",\\\"ename\\\":\\\"AttributeError\\\",\\\"evalue\\\":\\\"module 'google.colab.runtime' has no attribute 'command'\\\",\\\"traceback\\\":[\\\"\\\\u001b[0;31m---------------------------------------------------------------------------\\\\u001b[0m\\\",\\\"\\\\u001b[0;31mAttributeError\\\\u001b[0m                            Traceback (most recent call last)\\\",\\\"\\\\u001b[0;32m/tmp/ipython-input-1104936132.py\\\\u001b[0m in \\\\u001b[0;36m<cell line: 0>\\\\u001b[0;34m()\\\\u001b[0m\\\\n\\\\u001b[1;32m      3\\\\u001b[0m \\\\u001b[0;34m\\\\u001b[0m\\\\u001b[0m\\\\n\\\\u001b[1;32m      4\\\\u001b[0m \\\\u001b[0;31m# 🔹 1️⃣ 讓 Colab 強制儲存最新版本\\\\u001b[0m\\\\u001b[0;34m\\\\u001b[0m\\\\u001b[0;34m\\\\u001b[0m\\\\u001b[0m\\\\n\\\\u001b[0;32m----> 5\\\\u001b[0;31m \\\\u001b[0mruntime\\\\u001b[0m\\\\u001b[0;34m.\\\\u001b[0m\\\\u001b[0mcommand\\\\u001b[0m\\\\u001b[0;34m(\\\\u001b[0m\\\\u001b[0;34m'save'\\\\u001b[0m\\\\u001b[0;34m,\\\\u001b[0m \\\\u001b[0;34m''\\\\u001b[0m\\\\u001b[0;34m)\\\\u001b[0m\\\\u001b[0;34m\\\\u001b[0m\\\\u001b[0;34m\\\\u001b[0m\\\\u001b[0m\\\\n\\\\u001b[0m\\\\u001b[1;32m      6\\\\u001b[0m \\\\u001b[0;34m\\\\u001b[0m\\\\u001b[0m\\\\n\\\\u001b[1;32m      7\\\\u001b[0m \\\\u001b[0;31m# 🔹 2️⃣ 找到目前正在執行的 notebook 名稱\\\\u001b[0m\\\\u001b[0;34m\\\\u001b[0m\\\\u001b[0;34m\\\\u001b[0m\\\\u001b[0m\\\\n\\\",\\\"\\\\u001b[0;31mAttributeError\\\\u001b[0m: module 'google.colab.runtime' has no attribute 'command'\\\"]}]},{\\\"cell_type\\\":\\\"code\\\",\\\"source\\\":[\\\"import json\\\\n\\\",\\\"import sys\\\\n\\\",\\\"from pathlib import Path\\\\n\\\",\\\"\\\\n\\\",\\\"def remove_widgets(notebook_path):\\\\n\\\",\\\"    with open(notebook_path, \\\\\\\"r\\\\\\\", encoding=\\\\\\\"utf-8\\\\\\\") as f:\\\\n\\\",\\\"        data = json.load(f)\\\\n\\\",\\\"\\\\n\\\",\\\"    # 移除最外層 widgets\\\\n\\\",\\\"    if \\\\\\\"metadata\\\\\\\" in data and \\\\\\\"widgets\\\\\\\" in data[\\\\\\\"metadata\\\\\\\"]:\\\\n\\\",\\\"        del data[\\\\\\\"metadata\\\\\\\"][\\\\\\\"widgets\\\\\\\"]\\\\n\\\",\\\"\\\\n\\\",\\\"    # 清除每個 cell 裡的 widgets metadata 與輸出中的 widget JSON\\\\n\\\",\\\"    for cell in data.get(\\\\\\\"cells\\\\\\\", []):\\\\n\\\",\\\"        # 移除 cell metadata.widgets\\\\n\\\",\\\"        if \\\\\\\"metadata\\\\\\\" in cell and \\\\\\\"widgets\\\\\\\" in cell[\\\\\\\"metadata\\\\\\\"]:\\\\n\\\",\\\"            del cell[\\\\\\\"metadata\\\\\\\"][\\\\\\\"widgets\\\\\\\"]\\\\n\\\",\\\"        # 移除 cell outputs 中的 widget 類型輸出\\\\n\\\",\\\"        for output in cell.get(\\\\\\\"outputs\\\\\\\", []):\\\\n\\\",\\\"            if \\\\\\\"data\\\\\\\" in output and \\\\\\\"application/vnd.jupyter.widget-view+json\\\\\\\" in output[\\\\\\\"data\\\\\\\"]:\\\\n\\\",\\\"                del output[\\\\\\\"data\\\\\\\"][\\\\\\\"application/vnd.jupyter.widget-view+json\\\\\\\"]\\\\n\\\",\\\"\\\\n\\\",\\\"    with open(notebook_path, \\\\\\\"w\\\\\\\", encoding=\\\\\\\"utf-8\\\\\\\") as f:\\\\n\\\",\\\"        json.dump(data, f, indent=2, ensure_ascii=False)\\\\n\\\",\\\"    print(f\\\\\\\"Cleaned: {notebook_path}\\\\\\\")\\\\n\\\",\\\"\\\\n\\\",\\\"# 在這裡指定 notebook 路徑\\\\n\\\",\\\"# notebook_path = \\\\\\\"/content/drive/MyDrive/Colab Notebooks/week6_語言模型_HuggingFace.ipynb\\\\\\\"\\\\n\\\",\\\"notebook_path = \\\\\\\"/content/drive/MyDrive/Colab Notebooks/week6_語言模型_HuggingFace.ipynb\\\\\\\"\\\\n\\\",\\\"remove_widgets(notebook_path)\\\"],\\\"metadata\\\":{\\\"colab\\\":{\\\"base_uri\\\":\\\"https://localhost:8080/\\\",\\\"height\\\":297},\\\"id\\\":\\\"EiY0UNcSJhJ4\\\",\\\"executionInfo\\\":{\\\"status\\\":\\\"error\\\",\\\"timestamp\\\":1761794861341,\\\"user_tz\\\":-480,\\\"elapsed\\\":12,\\\"user\\\":{\\\"displayName\\\":\\\"張景陽\\\",\\\"userId\\\":\\\"17990199239061367823\\\"}},\\\"outputId\\\":\\\"bb2dfb23-936e-4a99-d555-3f7dc91984e6\\\"},\\\"execution_count\\\":null,\\\"outputs\\\":[{\\\"output_type\\\":\\\"error\\\",\\\"ename\\\":\\\"FileNotFoundError\\\",\\\"evalue\\\":\\\"[Errno 2] No such file or directory: 'week6_語言模型_HuggingFace'\\\",\\\"traceback\\\":[\\\"\\\\u001b[0;31m---------------------------------------------------------------------------\\\\u001b[0m\\\",\\\"\\\\u001b[0;31mFileNotFoundError\\\\u001b[0m                         Traceback (most recent call last)\\\",\\\"\\\\u001b[0;32m/tmp/ipython-input-2939726619.py\\\\u001b[0m in \\\\u001b[0;36m<cell line: 0>\\\\u001b[0;34m()\\\\u001b[0m\\\\n\\\\u001b[1;32m     28\\\\u001b[0m \\\\u001b[0;31m# notebook_path = \\\\\\\"/content/drive/MyDrive/Colab Notebooks/week6_語言模型_HuggingFace.ipynb\\\\\\\"\\\\u001b[0m\\\\u001b[0;34m\\\\u001b[0m\\\\u001b[0;34m\\\\u001b[0m\\\\u001b[0m\\\\n\\\\u001b[1;32m     29\\\\u001b[0m \\\\u001b[0mnotebook_path\\\\u001b[0m \\\\u001b[0;34m=\\\\u001b[0m \\\\u001b[0;34m\\\\\\\"week6_語言模型_HuggingFace\\\\\\\"\\\\u001b[0m\\\\u001b[0;34m\\\\u001b[0m\\\\u001b[0;34m\\\\u001b[0m\\\\u001b[0m\\\\n\\\\u001b[0;32m---> 30\\\\u001b[0;31m \\\\u001b[0mremove_widgets\\\\u001b[0m\\\\u001b[0;34m(\\\\u001b[0m\\\\u001b[0mnotebook_path\\\\u001b[0m\\\\u001b[0;34m)\\\\u001b[0m\\\\u001b[0;34m\\\\u001b[0m\\\\u001b[0;34m\\\\u001b[0m\\\\u001b[0m\\\\n\\\\u001b[0m\\\",\\\"\\\\u001b[0;32m/tmp/ipython-input-2939726619.py\\\\u001b[0m in \\\\u001b[0;36mremove_widgets\\\\u001b[0;34m(notebook_path)\\\\u001b[0m\\\\n\\\\u001b[1;32m      4\\\\u001b[0m \\\\u001b[0;34m\\\\u001b[0m\\\\u001b[0m\\\\n\\\\u001b[1;32m      5\\\\u001b[0m \\\\u001b[0;32mdef\\\\u001b[0m \\\\u001b[0mremove_widgets\\\\u001b[0m\\\\u001b[0;34m(\\\\u001b[0m\\\\u001b[0mnotebook_path\\\\u001b[0m\\\\u001b[0;34m)\\\\u001b[0m\\\\u001b[0;34m:\\\\u001b[0m\\\\u001b[0;34m\\\\u001b[0m\\\\u001b[0;34m\\\\u001b[0m\\\\u001b[0m\\\\n\\\\u001b[0;32m----> 6\\\\u001b[0;31m     \\\\u001b[0;32mwith\\\\u001b[0m \\\\u001b[0mopen\\\\u001b[0m\\\\u001b[0;34m(\\\\u001b[0m\\\\u001b[0mnotebook_path\\\\u001b[0m\\\\u001b[0;34m,\\\\u001b[0m \\\\u001b[0;34m\\\\\\\"r\\\\\\\"\\\\u001b[0m\\\\u001b[0;34m,\\\\u001b[0m \\\\u001b[0mencoding\\\\u001b[0m\\\\u001b[0;34m=\\\\u001b[0m\\\\u001b[0;34m\\\\\\\"utf-8\\\\\\\"\\\\u001b[0m\\\\u001b[0;34m)\\\\u001b[0m \\\\u001b[0;32mas\\\\u001b[0m \\\\u001b[0mf\\\\u001b[0m\\\\u001b[0;34m:\\\\u001b[0m\\\\u001b[0;34m\\\\u001b[0m\\\\u001b[0;34m\\\\u001b[0m\\\\u001b[0m\\\\n\\\\u001b[0m\\\\u001b[1;32m      7\\\\u001b[0m         \\\\u001b[0mdata\\\\u001b[0m \\\\u001b[0;34m=\\\\u001b[0m \\\\u001b[0mjson\\\\u001b[0m\\\\u001b[0;34m.\\\\u001b[0m\\\\u001b[0mload\\\\u001b[0m\\\\u001b[0;34m(\\\\u001b[0m\\\\u001b[0mf\\\\u001b[0m\\\\u001b[0;34m)\\\\u001b[0m\\\\u001b[0;34m\\\\u001b[0m\\\\u001b[0;34m\\\\u001b[0m\\\\u001b[0m\\\\n\\\\u001b[1;32m      8\\\\u001b[0m \\\\u001b[0;34m\\\\u001b[0m\\\\u001b[0m\\\\n\\\",\\\"\\\\u001b[0;31mFileNotFoundError\\\\u001b[0m: [Errno 2] No such file or directory: 'week6_語言模型_HuggingFace'\\\"]}]},{\\\"cell_type\\\":\\\"code\\\",\\\"source\\\":[\\\"!grep \\\\\\\"widgets\\\\\\\" \\\\\\\"/content/drive/MyDrive/Colab Notebooks/week6_語言模型_HuggingFace.ipynb\\\\\\\"\\\"],\\\"metadata\\\":{\\\"colab\\\":{\\\"base_uri\\\":\\\"https://localhost:8080/\\\"},\\\"id\\\":\\\"NJVVNk_SMF3e\\\",\\\"executionInfo\\\":{\\\"status\\\":\\\"ok\\\",\\\"timestamp\\\":1761795431375,\\\"user_tz\\\":-480,\\\"elapsed\\\":124,\\\"user\\\":{\\\"displayName\\\":\\\"張景陽\\\",\\\"userId\\\":\\\"17990199239061367823\\\"}},\\\"outputId\\\":\\\"0c38a4c4-5e3a-43c3-bdbb-9c17e492d623\\\"},\\\"execution_count\\\":2,\\\"outputs\\\":[{\\\"output_type\\\":\\\"stream\\\",\\\"name\\\":\\\"stdout\\\",\\\"text\\\":[\\\"grep: week6_語言模型_HuggingFace: No such file or directory\\\\n\\\"]}]}],\\\"metadata\\\":{\\\"colab\\\":{\\\"provenance\\\":[{\\\"file_id\\\":\\\"1rprR2pkD5Lh34JkHvV6BDRyDcFCgE7Ns\\\",\\\"timestamp\\\":1760372876145}],\\\"gpuType\\\":\\\"T4\\\"},\\\"kernelspec\\\":{\\\"display_name\\\":\\\"Python 3\\\",\\\"name\\\":\\\"python3\\\"},\\\"language_info\\\":{\\\"codemirror_mode\\\":{\\\"name\\\":\\\"ipython\\\",\\\"version\\\":3},\\\"file_extension\\\":\\\".py\\\",\\\"mimetype\\\":\\\"text/x-python\\\",\\\"name\\\":\\\"python\\\",\\\"nbconvert_exporter\\\":\\\"python\\\",\\\"pygments_lexer\\\":\\\"ipython3\\\",\\\"version\\\":\\\"3.9.17\\\"},\\\"accelerator\\\":\\\"GPU\\\"},\\\"nbformat\\\":4,\\\"nbformat_minor\\\":0}\\n\"]}]}],\"metadata\":{\"colab\":{\"provenance\":[{\"file_id\":\"1rprR2pkD5Lh34JkHvV6BDRyDcFCgE7Ns\",\"timestamp\":1760372876145}],\"gpuType\":\"T4\"},\"kernelspec\":{\"display_name\":\"Python 3\",\"name\":\"python3\"},\"language_info\":{\"codemirror_mode\":{\"name\":\"ipython\",\"version\":3},\"file_extension\":\".py\",\"mimetype\":\"text/x-python\",\"name\":\"python\",\"nbconvert_exporter\":\"python\",\"pygments_lexer\":\"ipython3\",\"version\":\"3.9.17\"},\"accelerator\":\"GPU\"},\"nbformat\":4,\"nbformat_minor\":0}\n"
          ]
        }
      ]
    }
  ],
  "metadata": {
    "colab": {
      "provenance": [],
      "gpuType": "T4",
      "include_colab_link": true
    },
    "kernelspec": {
      "display_name": "Python 3",
      "name": "python3"
    },
    "language_info": {
      "codemirror_mode": {
        "name": "ipython",
        "version": 3
      },
      "file_extension": ".py",
      "mimetype": "text/x-python",
      "name": "python",
      "nbconvert_exporter": "python",
      "pygments_lexer": "ipython3",
      "version": "3.9.17"
    },
    "accelerator": "GPU"
  },
  "nbformat": 4,
  "nbformat_minor": 0
}